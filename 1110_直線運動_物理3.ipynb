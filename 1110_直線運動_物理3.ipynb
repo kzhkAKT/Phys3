{
  "nbformat": 4,
  "nbformat_minor": 0,
  "metadata": {
    "colab": {
      "name": "1110_直線運動_物理3",
      "provenance": [],
      "toc_visible": true,
      "authorship_tag": "ABX9TyNQmCn4xSA2ao93hAaFoMit",
      "include_colab_link": true
    },
    "kernelspec": {
      "name": "python3",
      "display_name": "Python 3"
    }
  },
  "cells": [
    {
      "cell_type": "markdown",
      "metadata": {
        "id": "view-in-github",
        "colab_type": "text"
      },
      "source": [
        "<a href=\"https://colab.research.google.com/github/kzhkAKT/Physics3/blob/draft/1110_%E7%9B%B4%E7%B7%9A%E9%81%8B%E5%8B%95_%E7%89%A9%E7%90%863.ipynb\" target=\"_parent\"><img src=\"https://colab.research.google.com/assets/colab-badge.svg\" alt=\"Open In Colab\"/></a>"
      ]
    },
    {
      "cell_type": "markdown",
      "metadata": {
        "id": "wHXnfsia1k3-",
        "colab_type": "text"
      },
      "source": [
        "# 質点の力学"
      ]
    },
    {
      "cell_type": "markdown",
      "metadata": {
        "id": "yo2_ztaW1otL",
        "colab_type": "text"
      },
      "source": [
        "## 位置, 速度, 加速度, "
      ]
    },
    {
      "cell_type": "markdown",
      "metadata": {
        "id": "ENtZw9D81utY",
        "colab_type": "text"
      },
      "source": [
        "### 直線運動: linear motion\n"
      ]
    },
    {
      "cell_type": "markdown",
      "metadata": {
        "id": "wO3PvtAI16U2",
        "colab_type": "text"
      },
      "source": [
        "#### 微分"
      ]
    },
    {
      "cell_type": "markdown",
      "metadata": {
        "colab_type": "text",
        "id": "k4iNGexl2VkP"
      },
      "source": [
        "##### 変位"
      ]
    },
    {
      "cell_type": "markdown",
      "metadata": {
        "colab_type": "text",
        "id": "Bjxa4bIX1-ue"
      },
      "source": [
        "##### 速度"
      ]
    },
    {
      "cell_type": "markdown",
      "metadata": {
        "colab_type": "text",
        "id": "hsou9IL62ClI"
      },
      "source": [
        "##### 加速度"
      ]
    },
    {
      "cell_type": "markdown",
      "metadata": {
        "colab_type": "text",
        "id": "JN8AVxZ_2a_v"
      },
      "source": [
        "#### 積分"
      ]
    },
    {
      "cell_type": "markdown",
      "metadata": {
        "colab_type": "text",
        "id": "ofQ7BRIg2H2F"
      },
      "source": [
        "##### 加速度から速度を導出"
      ]
    },
    {
      "cell_type": "markdown",
      "metadata": {
        "colab_type": "text",
        "id": "n5d2dOU-2NG6"
      },
      "source": [
        "##### 速度から位置を導出"
      ]
    },
    {
      "cell_type": "code",
      "metadata": {
        "id": "styKk-E02fD9",
        "colab_type": "code",
        "colab": {}
      },
      "source": [
        ""
      ],
      "execution_count": null,
      "outputs": []
    }
  ]
}