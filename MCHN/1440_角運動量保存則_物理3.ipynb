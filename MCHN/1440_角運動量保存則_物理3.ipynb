{
  "nbformat": 4,
  "nbformat_minor": 0,
  "metadata": {
    "colab": {
      "name": "1440_角運動量保存則_物理3.ipynb",
      "provenance": [],
      "toc_visible": true,
      "authorship_tag": "ABX9TyOQkAmUdO8//mYfHGW1QXC0",
      "include_colab_link": true
    },
    "kernelspec": {
      "name": "python3",
      "display_name": "Python 3"
    }
  },
  "cells": [
    {
      "cell_type": "markdown",
      "metadata": {
        "id": "view-in-github",
        "colab_type": "text"
      },
      "source": [
        "<a href=\"https://colab.research.google.com/github/kzhkAKT/Physics3/blob/draft/MCHN/1440_%E8%A7%92%E9%81%8B%E5%8B%95%E9%87%8F%E4%BF%9D%E5%AD%98%E5%89%87_%E7%89%A9%E7%90%863.ipynb\" target=\"_parent\"><img src=\"https://colab.research.google.com/assets/colab-badge.svg\" alt=\"Open In Colab\"/></a>"
      ]
    },
    {
      "cell_type": "markdown",
      "metadata": {
        "id": "hmSQjynSCEKc"
      },
      "source": [
        "# 回転に関する運動方程式"
      ]
    },
    {
      "cell_type": "markdown",
      "metadata": {
        "id": "8nZcBANOJuGQ"
      },
      "source": [
        "## 角運動量保存則\n",
        "Law of conservation of angular momentum"
      ]
    },
    {
      "cell_type": "code",
      "metadata": {
        "id": "5IUj934jJ10L",
        "cellView": "form",
        "colab": {
          "base_uri": "https://localhost:8080/",
          "height": 336
        },
        "outputId": "da4515e7-52cc-4751-b5ba-be0cd4a7fb52"
      },
      "source": [
        "#@title 角運動量保存則の典型例\n",
        "%%html\n",
        "<iframe width=\"560\" height=\"315\" src=\"https://www.youtube-nocookie.com/embed/M6PuutIm5h4\" frameborder=\"0\" allow=\"accelerometer; autoplay; clipboard-write; encrypted-media; gyroscope; picture-in-picture\" allowfullscreen></iframe>"
      ],
      "execution_count": null,
      "outputs": [
        {
          "output_type": "display_data",
          "data": {
            "text/html": [
              "<iframe width=\"560\" height=\"315\" src=\"https://www.youtube-nocookie.com/embed/M6PuutIm5h4\" frameborder=\"0\" allow=\"accelerometer; autoplay; clipboard-write; encrypted-media; gyroscope; picture-in-picture\" allowfullscreen></iframe>"
            ],
            "text/plain": [
              "<IPython.core.display.HTML object>"
            ]
          },
          "metadata": {
            "tags": []
          }
        }
      ]
    },
    {
      "cell_type": "markdown",
      "metadata": {
        "id": "o3_tlNkQ18_r"
      },
      "source": [
        "この動画で, 腕(arm)の重さを無視し, 二つのハンマー(質量 $m$ )と回転軸にいる人の質量 $M$ のみを考慮し,   \n",
        "(合成された)角運動量を計算してみましょう.\n",
        "\n",
        "\\begin{align*}\n",
        "\\vec{L}_0 &= \\vec{r}_{\\rm arm:0}\\times \\left(m \\vec{v}_0\\right) +  \\vec{r}_{\\rm arm}\\times \\left(m \\vec{v}_0\\right) + 0 \\times M \\ \\vec{0}\\\\\n",
        "&= 2 \\vec{r}_{\\rm arm:0}\\times \\left(m \\vec{v}_0\\right) \n",
        "\\end{align*}\n",
        "\n",
        "- 0 は最初の状態(腕の長さ,ハンマーの速度)を表すために付けました.\n",
        "- また人は中心にいるため質点として扱い, 原点にいるとして大きさも速度もゼロとしました"
      ]
    },
    {
      "cell_type": "markdown",
      "metadata": {
        "id": "9-uoia9C64dY"
      },
      "source": [
        "腕の長さやハンマーの速度が任意の状態であっても, (合成された)角運動量は\n",
        "\n",
        "\\begin{align*}\n",
        "\\vec{L} &= \\vec{r}\\times \\left(m \\vec{v}\\right) +  \\vec{r}\\times \\left(m \\vec{v}\\right) + 0 \\times M \\ \\vec{0}\\\\\n",
        "&= 2 \\vec{r}\\times \\left(m \\vec{v}\\right) \n",
        "\\end{align*}\n",
        "\n",
        "と表せます.\n",
        "\n"
      ]
    },
    {
      "cell_type": "markdown",
      "metadata": {
        "id": "GJNPF97E7vSi"
      },
      "source": [
        "$\\require{cancel}$\n",
        "この角運動量の時間変化を調べ, 角運動量の運動方程式を導出します:\n",
        "\n",
        "\\begin{align*}\n",
        "\\dfrac{{\\rm d}\\vec{L}}{{\\rm d}t} \n",
        "&=\\dfrac{{\\rm d}}{{\\rm d}t}  \\left(2 \\vec{r}\\times \\left(m \\vec{v}\\right) \\right)\\\\\n",
        "&= 2\\cancelto{\\vec{v}}{\\dfrac{{\\rm d} \\vec{r}}{{\\rm d}t} }\n",
        "\\times \\left(m \\vec{v}\\right) \n",
        "+ 2 \\vec{r}\n",
        "\\times \\cancelto{\\vec{F}}{\\left(m \\dfrac{{\\rm d}\\vec{v}}{{\\rm d}t}\\right)} \\\\\n",
        "&= 0 + 2 \\vec{r} \\times \\vec{F}\n",
        "\\end{align*}"
      ]
    },
    {
      "cell_type": "markdown",
      "metadata": {
        "id": "s7Kg2CW_804M"
      },
      "source": [
        "ハンマーのが改定する平面上のみの運動を考えると(支えている力は最初の回転軸\n",
        "に依存しないので無視します),   \n",
        "\n",
        "腕を縮めるときの力は **常に中心方向を向いている** ので\n",
        "\\begin{align*}\n",
        "\\vec{F} = - F\\ \\vec{e}_r\n",
        "\\end{align*}\n",
        "とします.\n",
        "\n",
        "また $\\vec{r}$ も\n",
        "\\begin{align*}\n",
        "\\vec{r} = r\\ \\vec{e}_r\n",
        "\\end{align*}\n",
        "と記述しておきます."
      ]
    },
    {
      "cell_type": "markdown",
      "metadata": {
        "id": "SRklqSxg9glA"
      },
      "source": [
        "角運動量の運動方程式は\n",
        "\\begin{align*}\n",
        "\\dfrac{{\\rm d}\\vec{L}}{{\\rm d}t} \n",
        "&= 0 + 2 \\vec{r} \\times \\vec{F}\\\\\n",
        "&= -2  rF \\ \\vec{e}_r\\times \\vec{e}_r =0\n",
        "\\end{align*}\n",
        "\n",
        "つまり\n",
        "\\begin{align*}\n",
        "\\large\\dfrac{{\\rm d}\\vec{L}}{{\\rm d}t} &\\large= 0\n",
        "\\end{align*}\n",
        "となり\n",
        "> 中心向きの力を受けても, **(合成された)角運動量は時間に対して変化しない**\n",
        "\n",
        "ことがわかります. 積分を実行して整理すると\n",
        "\n",
        "> $\\quad \\vec{L} - \\vec{L}_0 = 一定$\n",
        "\n",
        "となり, 初期条件から\n",
        "\n",
        ">> $\\quad \\vec{L} = \\vec{L}_0 = 一定$\n",
        "\n",
        "がえられ\n",
        "\n",
        ">> 初めの角運動量と後の角運動量が変化しないという **角運動量保存則** 成り立ちます."
      ]
    },
    {
      "cell_type": "markdown",
      "metadata": {
        "id": "W07oT83eWVMk"
      },
      "source": [
        "> Q. この考え方を利用し, 教科書 p49 問題14に取り組んでください."
      ]
    },
    {
      "cell_type": "markdown",
      "metadata": {
        "id": "iNvXV9noBj03"
      },
      "source": [
        "## 一般的な角運動量保存則"
      ]
    },
    {
      "cell_type": "markdown",
      "metadata": {
        "id": "kkmHdNSnLJpy"
      },
      "source": [
        "$\\require{cancel}$\n",
        "位置ベクトル $\\vec{r}_i$ にある(一つ一つの)物体が, \n",
        "- 複数の力 $\\vec{F}_i(i=1,2,\\dots,N)$ を受け, \n",
        "- 運動量 $\\vec{p}_1 = m \\vec{v}_1, \\vec{p}_2, \\cdots, \\vec{p}_N,$ \n",
        "\n",
        "  - $\\vec{r}_i$ にいる物体が$\\vec{F}_i$ **のみ** を受け, $\\vec{p}_i$ が変化すると考えてください\n",
        "\n",
        "を生じているとします.\n",
        "\n",
        "このとき この物体の(合成された)角運動量は\n",
        "\\begin{align*}\n",
        "\\vec{L}\n",
        "&= \\vec{r}_1\\times \\vec{p}_1 \n",
        "+ \\vec{r}_2\\times \\vec{p}_2\n",
        "+ \\cdots + \\vec{r}_N \\times \\vec{p}_N \\\\\n",
        "&= \\sum_{i=1}^{N} \\vec{r}_i \\times  \\vec{p}_i \\\\\n",
        "&= \\sum_{i=1}^{N} \\vec{r}_i \\times m \\vec{v}_i \\\\\n",
        "\\end{align*}\n",
        "\n",
        "と書くことができます."
      ]
    },
    {
      "cell_type": "markdown",
      "metadata": {
        "id": "7tOcXqaBD1Fz"
      },
      "source": [
        "$\\require{cancel}$\n",
        "\n",
        "角運動量の運動方程式を導くために $\\vec{L}$ の時間変化を調べると\n",
        "\n",
        "\\begin{align*}\n",
        "\\dfrac{{\\rm d}\\vec{L}}{{\\rm d}t}\n",
        "&=\\dfrac{{\\rm d}}{{\\rm d}t}\n",
        "\\left( \\sum_{i=1}^{N} \\vec{r_i} \\times m \\vec{v_i} \\right)\\\\\n",
        "&\b=\n",
        "\\sum_{i=1}^{N} \\left(\n",
        "  \\cancelto{\\vec{v_i}}{\\dfrac{{\\rm d}\\vec{r_i}}{{\\rm d}t}}\n",
        "  \\times  m\\vec{v_i}\n",
        "  \\right)\n",
        "\b+\n",
        "\\sum_{i=1}^{N} \\left(\n",
        "  \\vec{r}_i \\times\\cancelto{\\vec{F_i}}{m\\dfrac{{\\rm d}\\vec{v_i}}{{\\rm d}t}}\n",
        "    \\right)\\\\\n",
        "&= 0 +\n",
        "\\sum_{i=1}^{N} \\left( \\vec{r_i} \\times{\\vec{F_i}} \\right)\n",
        "= \\sum_{i=1}^{N} \\vec{M_i}\\\\\n",
        "\\dfrac{{\\rm d}\\vec{L}}{{\\rm d}t}\n",
        "&=\\vec{M}_{\\rm tot}\n",
        "\\end{align*}"
      ]
    },
    {
      "cell_type": "markdown",
      "metadata": {
        "id": "adxHg9rMPPQA"
      },
      "source": [
        ">> これを利用すれば, $\\vec{M}_{\\rm tot}$ が**ゼロならば**, 角運動量保存則が成り立ちます\n",
        "\\begin{align*}\n",
        "\\large\\dfrac{{\\rm d}\\vec{L}}{{\\rm d}t} &\\large= 0\n",
        "\\end{align*}\n",
        "\n",
        "> \\begin{align*}\n",
        "\\large\\vec{L} &\\large= 一定\n",
        "\\end{align*}"
      ]
    },
    {
      "cell_type": "markdown",
      "metadata": {
        "id": "ECL3t3bvW-Wz"
      },
      "source": [
        "動画では\n",
        "\\begin{align}\n",
        "\\vec{F} = - F \\ \\vec{e_r}\n",
        "\\end{align}\n",
        "という **中心力** のみが働いているため $\\vec{M}_{\\rm tot}$ がゼロになっています."
      ]
    },
    {
      "cell_type": "markdown",
      "metadata": {
        "id": "EDzqpFe-NdKN"
      },
      "source": [
        "教科書では, この最後の関係式を $\\vec{r_i}$ を **一点に集約し**, $\\vec{r_i}=\\vec{r}$ とし\n",
        "\\begin{align*}\n",
        "\\dfrac{{\\rm d}\\vec{L}}{{\\rm d}t} \n",
        "&=\\vec{M}_{\\rm tot}\n",
        "=\\sum_{i=1}^{N} \\vec{M_i}\n",
        "= \\sum_{i=1}^{N} \\cancelto{\\vec{r}}{\\vec{r_i}} \\times{\\vec{F_i}} \n",
        "=\\sum_{i=1}^{N}  \\vec{r} \\times{\\vec{F_i}} \n",
        "\\end{align*}\n",
        "(1-120) 式を得ています."
      ]
    },
    {
      "cell_type": "markdown",
      "metadata": {
        "id": "H69Lns9eLkcY"
      },
      "source": [
        "### 教科書 p49 (1-119)の難点 \n"
      ]
    },
    {
      "cell_type": "markdown",
      "metadata": {
        "id": "s9j9v_07Lxoe"
      },
      "source": [
        "$\\require{cancel}$\n",
        "\n",
        "角運動量の運動方程式を導くために $\\vec{L}$ の時間変化を調べると\n",
        "\\begin{align*}\n",
        "\\dfrac{{\\rm d}\\vec{L}}{{\\rm d}t}\n",
        "&=\\dfrac{{\\rm d}}{{\\rm d}t}\\left( \\vec{r} \\times \\sum_{i=1}^{N} m\\vec{v}_i \\right)\\\\\n",
        "&\b=\n",
        "\\dfrac{{\\rm d}\\vec{r}}{{\\rm d}t}\\times \\sum_{i=1}^{N} m\\vec{v}_i \n",
        "\b+\n",
        "\\vec{r} \\times \\sum_{i=1}^{N} \\cancelto{\\vec{F}_i}{m\\dfrac{{\\rm d}\\vec{v}_i}{{\\rm d}t}}\n",
        "\\end{align*}\n",
        "\n",
        "$\\dfrac{{\\rm d}\\vec{r}}{{\\rm d}t}\\to 0$ としたいところですが\n",
        ", 問題14で破綻してしまいます."
      ]
    },
    {
      "cell_type": "code",
      "metadata": {
        "colab": {
          "base_uri": "https://localhost:8080/",
          "height": 336
        },
        "id": "na8bIp5yjUAX",
        "outputId": "ef9f662d-ff2a-4595-fb57-1c6751889725"
      },
      "source": [
        "%%html\n",
        "<iframe width=\"560\" height=\"315\" src=\"https://www.youtube-nocookie.com/embed/sbEAmtvgGMo\" frameborder=\"0\" allow=\"accelerometer; autoplay; clipboard-write; encrypted-media; gyroscope; picture-in-picture\" allowfullscreen></iframe>"
      ],
      "execution_count": 1,
      "outputs": [
        {
          "output_type": "display_data",
          "data": {
            "text/html": [
              "<iframe width=\"560\" height=\"315\" src=\"https://www.youtube-nocookie.com/embed/sbEAmtvgGMo\" frameborder=\"0\" allow=\"accelerometer; autoplay; clipboard-write; encrypted-media; gyroscope; picture-in-picture\" allowfullscreen></iframe>"
            ],
            "text/plain": [
              "<IPython.core.display.HTML object>"
            ]
          },
          "metadata": {
            "tags": []
          }
        }
      ]
    },
    {
      "cell_type": "code",
      "metadata": {
        "colab": {
          "base_uri": "https://localhost:8080/",
          "height": 336
        },
        "id": "fc7GehG_jVaN",
        "outputId": "e9dd4f02-4c40-47ba-eabb-d05768e3e1d8"
      },
      "source": [
        "%%html\n",
        "<iframe width=\"560\" height=\"315\" src=\"https://www.youtube-nocookie.com/embed/2Oc-Ucx_4Ug\" frameborder=\"0\" allow=\"accelerometer; autoplay; clipboard-write; encrypted-media; gyroscope; picture-in-picture\" allowfullscreen></iframe>"
      ],
      "execution_count": 2,
      "outputs": [
        {
          "output_type": "display_data",
          "data": {
            "text/html": [
              "<iframe width=\"560\" height=\"315\" src=\"https://www.youtube-nocookie.com/embed/2Oc-Ucx_4Ug\" frameborder=\"0\" allow=\"accelerometer; autoplay; clipboard-write; encrypted-media; gyroscope; picture-in-picture\" allowfullscreen></iframe>"
            ],
            "text/plain": [
              "<IPython.core.display.HTML object>"
            ]
          },
          "metadata": {
            "tags": []
          }
        }
      ]
    },
    {
      "cell_type": "code",
      "metadata": {
        "colab": {
          "base_uri": "https://localhost:8080/",
          "height": 336
        },
        "id": "U6qrtrEDj57Z",
        "outputId": "c44ab377-3611-4729-8534-51e55035ac86"
      },
      "source": [
        "%%html\n",
        "<iframe width=\"560\" height=\"315\" src=\"https://www.youtube-nocookie.com/embed/w2ObmWm8ktw\" frameborder=\"0\" allow=\"accelerometer; autoplay; clipboard-write; encrypted-media; gyroscope; picture-in-picture\" allowfullscreen></iframe>"
      ],
      "execution_count": 3,
      "outputs": [
        {
          "output_type": "display_data",
          "data": {
            "text/html": [
              "<iframe width=\"560\" height=\"315\" src=\"https://www.youtube-nocookie.com/embed/w2ObmWm8ktw\" frameborder=\"0\" allow=\"accelerometer; autoplay; clipboard-write; encrypted-media; gyroscope; picture-in-picture\" allowfullscreen></iframe>"
            ],
            "text/plain": [
              "<IPython.core.display.HTML object>"
            ]
          },
          "metadata": {
            "tags": []
          }
        }
      ]
    }
  ]
}