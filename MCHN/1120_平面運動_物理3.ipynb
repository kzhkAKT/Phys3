{
  "nbformat": 4,
  "nbformat_minor": 0,
  "metadata": {
    "colab": {
      "name": "1120_平面運動_物理3.ipynb",
      "provenance": [],
      "collapsed_sections": [],
      "toc_visible": true,
      "authorship_tag": "ABX9TyO+YYb7dU4BbBKX3ADlzCMP",
      "include_colab_link": true
    },
    "kernelspec": {
      "name": "python3",
      "display_name": "Python 3"
    }
  },
  "cells": [
    {
      "cell_type": "markdown",
      "metadata": {
        "id": "view-in-github",
        "colab_type": "text"
      },
      "source": [
        "<a href=\"https://colab.research.google.com/github/kzhkAKT/Physics3/blob/draft/MCHN/1120_%E5%B9%B3%E9%9D%A2%E9%81%8B%E5%8B%95_%E7%89%A9%E7%90%863.ipynb\" target=\"_parent\"><img src=\"https://colab.research.google.com/assets/colab-badge.svg\" alt=\"Open In Colab\"/></a>"
      ]
    },
    {
      "cell_type": "markdown",
      "metadata": {
        "id": "mGbKdtU8689Z"
      },
      "source": [
        "#質点系の力学"
      ]
    },
    {
      "cell_type": "markdown",
      "metadata": {
        "id": "_g53a65A6_qf"
      },
      "source": [
        "## 平面運動"
      ]
    },
    {
      "cell_type": "markdown",
      "metadata": {
        "id": "CwopPiP57iC-"
      },
      "source": [
        "**二次元平面を記述しようとするには**, 線形代数の知識を借りれば,  \n",
        "二つの基底具体的には**二つの単位ベクトル** が必要です\n",
        "\n",
        "先ずは\b最も簡単な, $x$軸と$y$軸が垂直に交わる **二次元直交座標系** で物体の  \n",
        "位置, 変位, 速度, 加速度 を調べます"
      ]
    },
    {
      "cell_type": "code",
      "metadata": {
        "id": "LDTC8i1w4NWQ",
        "cellView": "form",
        "colab": {
          "base_uri": "https://localhost:8080/",
          "height": 475
        },
        "outputId": "8d14dc3a-38a5-4948-d088-3e1af6cef44a"
      },
      "source": [
        "#@title 平面運動の典型的な例:斜め投げ上げ運動\n",
        "%%html\n",
        "<iframe src=\"https://phet.colorado.edu/sims/html/projectile-motion/latest/projectile-motion_en.html\" width=\"600\" height=\"450\" scrolling=\"no\" allowfullscreen></iframe>"
      ],
      "execution_count": null,
      "outputs": [
        {
          "output_type": "display_data",
          "data": {
            "text/html": [
              "<iframe src=\"https://phet.colorado.edu/sims/html/projectile-motion/latest/projectile-motion_en.html\" width=\"600\" height=\"450\" scrolling=\"no\" allowfullscreen></iframe>"
            ],
            "text/plain": [
              "<IPython.core.display.HTML object>"
            ]
          },
          "metadata": {
            "tags": []
          }
        }
      ]
    },
    {
      "cell_type": "code",
      "metadata": {
        "id": "hjAuTj32yY34",
        "colab": {
          "base_uri": "https://localhost:8080/",
          "height": 475
        },
        "cellView": "form",
        "outputId": "09e2f75b-abbf-4f53-f29b-5bfad47383e0"
      },
      "source": [
        "#@title 数学復習: ベクトルの加法と減法\n",
        "%%html\n",
        "<iframe src=\"https://phet.colorado.edu/sims/html/vector-addition/latest/vector-addition_en.html\" width=\"600\" height=\"450\" scrolling=\"no\" allowfullscreen></iframe>"
      ],
      "execution_count": null,
      "outputs": [
        {
          "output_type": "display_data",
          "data": {
            "text/html": [
              "<iframe src=\"https://phet.colorado.edu/sims/html/vector-addition/latest/vector-addition_en.html\" width=\"600\" height=\"450\" scrolling=\"no\" allowfullscreen></iframe>"
            ],
            "text/plain": [
              "<IPython.core.display.HTML object>"
            ]
          },
          "metadata": {
            "tags": []
          }
        }
      ]
    },
    {
      "cell_type": "markdown",
      "metadata": {
        "id": "0WrbzFbj3cN9"
      },
      "source": [
        "---\n",
        "\n",
        "\u0001この講義ノートでは, 見やすさを優先させ, \b教科書のような\b行ベクトル $(x,y)$はなく, できるだけ列ベクトル $\\left(\\begin{array}{c}x\\\\ y\\end{array} \\right)$ を利用します.\n",
        "\n",
        "\bこの講義の利用範囲では, \b行ベクトルと\b列ベクトルの入れ替えによる, 本質的な違いは起こりません.\n",
        "\n"
      ]
    },
    {
      "cell_type": "markdown",
      "metadata": {
        "id": "a1zPgwjw7_m_"
      },
      "source": [
        "### 位置ベクトル, $\\quad \\vec{r}$"
      ]
    },
    {
      "cell_type": "markdown",
      "metadata": {
        "id": "WqpNT0yv9gRH"
      },
      "source": [
        "教科書 p18 図1-13 を見て下さい.\n",
        "1. $x,y$ それぞれの単位ベクトルが次のように表せることを確認して下さい\n",
        "  - $\\vec{e}_x=\\left(\\begin{array}{c}1\\\\ 0\\end{array} \\right)$\n",
        "  - $\\vec{e}_y=\\left(\\begin{array}{c}0\\\\ 1\\end{array} \\right)$\n",
        "1. 原点を探して下さい\n",
        "1. 一般的な位置が, 原点を基準とした位置ベクトル $\\vec{r}$ で $\\left(\\begin{array}{c}x\\\\ y\\end{array} \\right)$  と表せることを確認して下さい.\n",
        "1. 上記の斜め投げ上げ運動を考慮すると, 一般的に $\\vec{r}=\\vec{r}(t)$ となります\n",
        "\n",
        "> Q. 単位ベクトルの大きさを教えてください."
      ]
    },
    {
      "cell_type": "markdown",
      "metadata": {
        "id": "mAnpE0wr_hzR"
      },
      "source": [
        "位置ベクトルは成分表示とベクトルの加法から, $\\vec{e}_{x,y}$ を用いて次のように表せます.\n",
        "\\begin{align*}\n",
        "\\vec{r}\n",
        "&= \\left(\\begin{array}{c}x\\\\ y\\end{array} \\right)\n",
        "= \\left(\\begin{array}{c}x\\\\ 0\\end{array} \\right)\n",
        "+\n",
        " \\left(\\begin{array}{c}0\\\\ y\\end{array} \\right)&\\\\\n",
        "&= x\\left(\\begin{array}{c}1\\\\ 0\\end{array} \\right)\n",
        "+\n",
        " y\\left(\\begin{array}{c}0\\\\ 1\\end{array} \\right)&\\\\ \n",
        "\\vec{r} &=x \\ \\vec{e}_{x} + y \\ \\vec{e}_{y}&\n",
        "\\end{align*}"
      ]
    },
    {
      "cell_type": "markdown",
      "metadata": {
        "id": "CsbRD-HNBMnE"
      },
      "source": [
        "位置ベクトルが時間に依存する場合は, 固定された二次元直交座標(系)では,   \n",
        "単位ベクトルは $\\vec{e}_{x,y}$ は時間変化せず\n",
        "\n",
        "\\begin{align*}\n",
        "\\vec{r}(t) &=x(t)\\ \\vec{e}_{x} + y(t)\\ \\vec{e}_{y}&\n",
        "\\end{align*}\n",
        "となります.\n",
        "\n",
        "> Q. 教科書 p19 図の1-14において　 $t_1, t_2$ の位置ベクトル $\\vec{r}_1, \\vec{r}_2$を確認して下さい.\n",
        "\n",
        "> Q. $\\Delta \\vec{r}$ の出発点を確認して下さい."
      ]
    },
    {
      "cell_type": "markdown",
      "metadata": {
        "id": "FhgyQnM5B6tj"
      },
      "source": [
        "#### 距離 $r$, $\\quad \\left| \\vec{r} \\right|$\n",
        "\n",
        "(原点からの)距離 $r$ は, 二次元直交座標(系)では, 三平方の定理を用いて\n",
        "\\begin{align*}\n",
        "r = \\left|\\vec{r}\\right| &=\\sqrt{x^2 + y^2},&\n",
        "\\end{align*}\n",
        "\n",
        "または, ベクトルの内積を用いて\n",
        "\\begin{align*}\n",
        "r = \\left|\\vec{r}\\right| =\\sqrt{ \\vec{r} \\cdot \\vec{r}}&=\\sqrt{x^2 + y^2},&\n",
        "\\end{align*}\n",
        "と表すことができます."
      ]
    },
    {
      "cell_type": "markdown",
      "metadata": {
        "id": "KqQOvhGb8pB4"
      },
      "source": [
        "### 変位ベクトル, $\\quad \\Delta\\vec{r}$\n",
        "\n",
        "時間 $t_1 < t_2$ を考慮すると, 変位ベクトル, $\\Delta\\vec{r}$ は, 直線運動の変位 $\\Delta x = x_2 - x_1$を拡張して\n",
        "\n",
        "\\begin{align*}\n",
        "\\Delta\\vec{r} &= \\vec{r}_2 - \\vec{r}_1 &\\\\\n",
        "&= \\left(\\begin{array}{c}x_2\\\\ y_2\\end{array} \\right)\n",
        "-\n",
        "\\left(\\begin{array}{c}x_1\\\\ y_1\\end{array} \\right) \n",
        "=\n",
        "\\left(\\begin{array}{c} \\Delta x\\\\ \\Delta y\\end{array} \\right)&\n",
        "\\end{align*}\n",
        "\n",
        "さらに, 時間変化しない単位ベクトル $\\vec{e}_{x,y}$を用いて表すと\n",
        "\n",
        "\\begin{align*}\n",
        "\\Delta \\vec{r} &=\\Delta x\\ \\vec{e}_{x} + \\Delta y\\ \\vec{e}_{y}&\n",
        "\\end{align*}\n",
        "\n",
        "> Q.　教科書 p20 図1-15 で, 変位ベクトルが位置ベクトルの減法で \b表されることを確認して下さい."
      ]
    },
    {
      "cell_type": "markdown",
      "metadata": {
        "id": "SX0vrqtO8pHp"
      },
      "source": [
        "### 速度ベクトル"
      ]
    },
    {
      "cell_type": "markdown",
      "metadata": {
        "id": "vjhT4TWqHvTW"
      },
      "source": [
        "#### 平均速度ベクトル, $\\quad \\vec{v}$\n",
        "\n",
        "直線運動の平均速度 $v=\\overline{v}=\\Delta x/ \\Delta t$を拡張すると\n",
        "\\begin{align*}\n",
        "\\vec{v}&= \\dfrac{\\vec{r}_2-\\vec{r}_1}{t_2 - t_1}\n",
        "=\\dfrac{\\Delta\\vec{r}}{\\Delta t} &\\\\\n",
        "&=\\left(\\begin{array}{c} \\Delta x / \\Delta t\\\\\n",
        " \\Delta y / \\Delta t\\end{array} \\right)\n",
        " =\n",
        " \\left(\\begin{array}{c} \\Delta x / \\Delta t\\\\\n",
        " 0\\end{array} \\right)\n",
        " +\\left(\\begin{array}{c} 0\\\\\n",
        " \\Delta y / \\Delta t\\end{array} \\right)\n",
        " &\n",
        "&\\\\\n",
        "&=\\dfrac{\\Delta x}{\\Delta t}\\ \\vec{e}_{x}\n",
        "+ \\dfrac{\\Delta y}{\\Delta t}\\ \\vec{e}_{y}\n",
        "= \\overline{v}_x \\  \\vec{e}_{x} + \\overline{v}_y \\ \\vec{e}_{y} &\n",
        "\\end{align*}\n",
        "\n",
        "> Q.　教科書 p20 図1-15 で, 平均\bの速度ベクトルが変位ベクトルと同じ向きになる事を確認して下さい.\n"
      ]
    },
    {
      "cell_type": "markdown",
      "metadata": {
        "id": "Vj_0ik2wKUI-"
      },
      "source": [
        "#### 瞬間の速度ベクトル, $\\quad \\vec{v}(t)$\n",
        "\n",
        "\\begin{align*}\n",
        "\\vec{v}(t_1)&= \\lim_{t_2 \\to t_1} \\dfrac{\\vec{r}_2-\\vec{r}_1}{t_2 - t_1}\n",
        "=\\lim_{\\Delta t \\to 0} \\dfrac{\\Delta\\vec{r}}{\\Delta t} \n",
        "= \\dfrac{{\\rm d} \\vec{r}}{{\\rm d} t}\\Big|_{t=t_1}&\\\\\n",
        "&=\\dfrac{{\\rm d} x}{{\\rm d} t}\\Big|_{t=t_1}\\ \\vec{e}_{x}\n",
        "+ \\dfrac{{\\rm d} y}{{\\rm d} t}\\Big|_{t=t_1}\\ \\vec{e}_{y}\n",
        "= v_x(t_1) \\  \\vec{e}_{x} + v_y(t_1) \\ \\vec{e}_{y} &\n",
        "\\end{align*}"
      ]
    },
    {
      "cell_type": "markdown",
      "metadata": {
        "id": "NzaQm-dkLj-z"
      },
      "source": [
        "単位ベクトルの成分を用いて表せば\n",
        "\\begin{align*}\n",
        "\\vec{v}(t_1)&= v_x(t_1) \\  \\vec{e}_{x} + v_y(t_1) \\ \\vec{e}_{y} &\\\\\n",
        "&=\\left(\\begin{array}{c} v_x(t_1)\\\\ 0\\end{array} \\right)\n",
        "+\\left(\\begin{array}{c} 0\\\\ v_y(t_1)\\end{array} \\right)\n",
        "=\\left(\\begin{array}{c} v_x(t_1)\\\\ v_y(t_1)\\end{array} \\right)&\\\\\n",
        "&= \\left(\\begin{array}{c} \\dfrac{{\\rm d} x(t)}{{\\rm d} t}\\\\\n",
        "\\dfrac{{\\rm d} y(t)}{{\\rm d} t} \\end{array} \\right)\\Big|_{t=t_1}\n",
        "= \\dfrac{{\\rm d} }{{\\rm d} t} \\left(\\begin{array}{c} x(t)\\\\ y(t)\\end{array} \\right)\\Big|_{t=t_1}\n",
        "\\end{align*}\n",
        "と表現できます.\n",
        "\n",
        "> Q. 教科書 p20 図1-15 で, $t_2 \\to t_1$ とする事で, \b$\b\\vec{r_1}$ における接線ベクトルが瞬間の速度ベクトルの方向に対応する事を確認して下さい."
      ]
    },
    {
      "cell_type": "markdown",
      "metadata": {
        "id": "2G8vTypF9GRp"
      },
      "source": [
        "#### 速さ $v= \\left|\\vec{v}\\right|$\n",
        "\n",
        "瞬間の速度 $\\vec{v}$ の大きさ $\\left|\\vec{v}\\right|$ は, 二次元直交座標(系)では, 三平方の定理を用いて\n",
        "\\begin{align*}\n",
        "v = \\left|\\vec{v}\\right| &=\\sqrt{v_x^2 + v_y^2},&\n",
        "\\end{align*}\n",
        "\n",
        "または, ベクトルの内積を用いて\n",
        "\\begin{align*}\n",
        "v = \\left|\\vec{v}\\right| =\\sqrt{ \\vec{v} \\cdot \\vec{v}}&=\\sqrt{v_x^2 + v_y^2},&\n",
        "\\end{align*}\n",
        "と表すことができます.\n",
        "\n",
        "---\n",
        "\n",
        "直線運動では正負を持つものを $v$ と表現していましたが, より一般的には $v= \\left|\\vec{v}\\right|$ です"
      ]
    },
    {
      "cell_type": "markdown",
      "metadata": {
        "id": "-RLZ2amL3R5_"
      },
      "source": [
        "> Q. 教科書 p21 の 例題4 に取り組んでください.\n",
        "\n",
        "> Q. 上の例題の $x,y$ 成分から, 媒介変数である時間 $t$ を消去してください."
      ]
    },
    {
      "cell_type": "markdown",
      "metadata": {
        "id": "404zeL-d8pMt"
      },
      "source": [
        "### 加速度ベクトル, $\\quad \\vec{a}$"
      ]
    },
    {
      "cell_type": "markdown",
      "metadata": {
        "id": "UxKeZH1_NuZl"
      },
      "source": [
        "#### 平均の加速度ベクトル, $\\quad \\vec{a}$\n",
        "\n",
        "直線運動の平均の加速度 $a=\\overline{a}=\\Delta v/ \\Delta t$を拡張すると\n",
        "\\begin{align*}\n",
        "\\vec{a}&= \\dfrac{\\vec{v}_2-\\vec{v}_1}{t_2 - t_1}\n",
        "=\\dfrac{\\Delta\\vec{v}}{\\Delta t} &\\\\\n",
        "&=\\dfrac{\\Delta v_x}{\\Delta t}\\ \\vec{e}_{x}\n",
        "+ \\dfrac{\\Delta v_y}{\\Delta t}\\ \\vec{e}_{y}\n",
        "= \\overline{a}_x \\  \\vec{e}_{x} + \\overline{a}_y \\ \\vec{e}_{a} &\n",
        "\\end{align*}\n",
        "\n",
        "\n"
      ]
    },
    {
      "cell_type": "markdown",
      "metadata": {
        "id": "p4QLvGT3OrQI"
      },
      "source": [
        "#### 瞬間の加速度ベクトル, $\\quad \\vec{a}(t)$\n",
        "\n",
        "\\begin{align*}\n",
        "\\vec{a}(t_1)&= \\lim_{t_2 \\to t_1} \\dfrac{\\vec{v}_2-\\vec{v}_1}{t_2 - t_1}\n",
        "=\\lim_{t_2 \\to t_1} \\dfrac{\\Delta\\vec{v}}{\\Delta t} \n",
        "= \\dfrac{{\\rm d} \\vec{v}}{{\\rm d} t}\\Big|_{t=t_1}&\\\\\n",
        "&=\\dfrac{{\\rm d} v_x}{{\\rm d} t}\\Big|_{t=t_1}\\ \\vec{e}_{x}\n",
        "+ \\dfrac{{\\rm d} v_y}{{\\rm d} t}\\Big|_{t=t_1}\\ \\vec{e}_{y}\n",
        "= a_x(t_1) \\  \\vec{e}_{x} + a_y(t_1) \\ \\vec{e}_{y} &\n",
        "\\end{align*}"
      ]
    },
    {
      "cell_type": "markdown",
      "metadata": {
        "id": "RJ718uzG6lW4"
      },
      "source": [
        "ここで瞬間の速度の定義を用いれば, 次のように位置ベクトル\bの成分 $x,y$ でも表現できます.\n",
        "\\begin{align*}\n",
        "\\vec{a}(t_1)&=\\dfrac{{\\rm d} v_x}{{\\rm d} t}\\Big|_{t=t_1}\\ \\vec{e}_{x}\n",
        "+ \\dfrac{{\\rm d} v_y}{{\\rm d} t}\\Big|_{t=t_1}\\ \\vec{e}_{y}\b\n",
        "\b= \\left(\\begin{array}{c} \\dfrac{{\\rm d} v_x(t)}{{\\rm d} t}\\\\\n",
        "\\dfrac{{\\rm d} v_y(t)}{{\\rm d} t} \\end{array} \\right)\\Big|_{t=t_1} &\\\\[1mm]\n",
        "&=\\dfrac{{\\rm d^2} x}{{\\rm d} t^2}\\Big|_{t=t_1}\\ \\vec{e}_{x}\n",
        "+ \\dfrac{{\\rm d^2} y}{{\\rm d} t^2}\\Big|_{t=t_1}\\ \\vec{e}_{y}\n",
        "\b= \\left(\\begin{array}{c} \\dfrac{{\\rm d^2} x(t)}{{\\rm d} t^2}\\\\\n",
        "\\dfrac{{\\rm d^2} y(t)}{{\\rm d} t^2} \\end{array} \\right)\\Big|_{t=t_1} \b&\\\\\n",
        "\\end{align*}\n"
      ]
    },
    {
      "cell_type": "markdown",
      "metadata": {
        "id": "mDi_U8YF6QP4"
      },
      "source": [
        "#### 加速度ベクトルの大きさ $a= \\left|\\vec{a}\\right|$\n",
        "\n",
        "瞬間の速度 $\\vec{a}$ の大きさ $\\left|\\vec{a}\\right|$ は, 二次元直交座標(系)では, 三平方の定理を用いて\n",
        "\\begin{align*}\n",
        "a = \\left|\\vec{a}\\right| &=\\sqrt{a_x^2 + a_y^2},&\n",
        "\\end{align*}\n",
        "\n",
        "または, ベクトルの内積を用いて\n",
        "\\begin{align*}\n",
        "a = \\left|\\vec{a}\\right| =\\sqrt{ \\vec{a} \\cdot \\vec{a}}&=\\sqrt{a_x^2 + a_y^2},&\n",
        "\\end{align*}\n",
        "と表すことができます.\n",
        "\n",
        "---\n",
        "\n",
        "直線運動では正負を持つものを $a$ と表現していましたが, より一般的には $v= \\left|\\vec{a}\\right|$ です"
      ]
    },
    {
      "cell_type": "markdown",
      "metadata": {
        "id": "NyawpqDG4d3H"
      },
      "source": [
        "> Q. 教科書 p21 図1-16 で, \b平均の速度変化ベクトル $\b\\Delta \\vec{v}$ が, $\b\\vec{v_2}$ から $\b\\vec{v_1}$  を\b引くことで, 作図できる事を確認して下さい.\n",
        "\n",
        "> \bQ. 教科書 p21 図1-16 で, $t_1$ における瞬間の加速度ベクトルの方向を考えて下さい."
      ]
    },
    {
      "cell_type": "code",
      "metadata": {
        "cellView": "form",
        "id": "sKRR_LNeQdzZ",
        "colab": {
          "base_uri": "https://localhost:8080/",
          "height": 475
        },
        "outputId": "fa5dc851-7813-453c-be63-4be36ddb82c9"
      },
      "source": [
        "#@title 平面運動の典型的な例:(瞬間の)速度ベクトルと(瞬間の)加速度ベクトルの確認\n",
        "%%html\n",
        "<iframe src=\"https://phet.colorado.edu/sims/html/projectile-motion/latest/projectile-motion_en.html\" width=\"600\" height=\"450\" scrolling=\"no\" allowfullscreen></iframe>"
      ],
      "execution_count": null,
      "outputs": [
        {
          "output_type": "display_data",
          "data": {
            "text/html": [
              "<iframe src=\"https://phet.colorado.edu/sims/html/projectile-motion/latest/projectile-motion_en.html\" width=\"600\" height=\"450\" scrolling=\"no\" allowfullscreen></iframe>"
            ],
            "text/plain": [
              "<IPython.core.display.HTML object>"
            ]
          },
          "metadata": {
            "tags": []
          }
        }
      ]
    },
    {
      "cell_type": "markdown",
      "metadata": {
        "id": "Bex0PkNLrUvj"
      },
      "source": [
        "#### 直交座標における単位ベクトルの図形的意味\n"
      ]
    },
    {
      "cell_type": "code",
      "metadata": {
        "id": "ebxoa5Xktb3u",
        "cellView": "form",
        "colab": {
          "base_uri": "https://localhost:8080/",
          "height": 277
        },
        "outputId": "e90f98e3-10b3-4b3e-ce8f-5e3118fa3821"
      },
      "source": [
        "#@title (x,y) [白丸]をすこし増やし (x+Δx,y+Δy) [黒丸]を観察\n",
        "%%svg\n",
        "<svg xmlns=\"http://www.w3.org/2000/svg\" xmlns:xlink=\"http://www.w3.org/1999/xlink\" version=\"1.1\" width=\"296px\" viewBox=\"-0.5 -0.5 296 256\" content=\"&lt;mxfile host=&quot;www.draw.io&quot; modified=&quot;2020-10-20T11:13:02.098Z&quot; agent=&quot;5.0 (Macintosh; Intel Mac OS X 10_15_7) AppleWebKit/537.36 (KHTML, like Gecko) Chrome/86.0.4240.75 Safari/537.36&quot; etag=&quot;A6n3vAPAj7bTGltToBVr&quot; version=&quot;13.6.0&quot; type=&quot;google&quot;&gt;&lt;diagram id=&quot;oQYt2ycmvr4tn9PrN_z2&quot; name=&quot;Page-1&quot;&gt;7VldT9swFP01eezkOE1LH2mhQ9OQ0JC2Zy9xEgsnzmyXtvv1sxPnw0lLW2hgCHiAcG3fa99zfK7jON4i3XzlKE9uWYipA0G4cbwrB8Ip8NVvbdiWBh/OSkPMSVia3MZwT/5iYwTGuiIhFlZHyRiVJLeNAcsyHEjLhjhna7tbxKgdNUcx7hnuA0T71l8klIlZxYXX2G8wiRMTeeyahhRVfc1CRIJCtm6ZvGvHW3DGZPmUbhaY6tRVaSnHLfe01vPiOJPHDJjm6xTc/rz5JmI8Rj/WN5GIR8bLI6Irs14zWbmtEoCz8FLnUf0XUCQECRxvnsiUKoOrHssBOOylsZmYWy9XsQSzFEu+VV3WrXyaJCWtVFY2jimS5NF2jwysce2ujnDHiAoMgWGgWwFgCAgvgO1CsBUPsBnVTmDH0RgccCQRj7HsOVIPrWU3pgKfE7CCHwCriZ1iDz4Tq66jV4bKOwmqjGXKOA+RSHBokGqBxtkqC4sG8A4hhOCZENaYnbjdVFbRttUt1x3E/gn34gBLR9VD6fGsBJnsIMiEKiTmxKLJ5M9K14d5xDI5ilBKqIp6qcsiZjwmqCAEKFpFUTp1Gxznm6KhGq2eYv13WwVRcyaVsc9Mxa3v6Lcq4xYNESVxpoVF8QxzZXjEXBJVKC9NQ0rCUPuYc6zmgn4X/jRlDQLKuT93/CuznAWjjDfspzriHAUPccH3TqtJl4qINxYxTdk30Zpq294P+7dof5MY7yPwZTI+y34YjScWvUZuh8YsigQeRIWmb0KyzSfJjiSZ4tjsZRyrztTua1Hq4uVnkB2wCMnZA66MDvSWS6B+3kG121c8Tq523qGyOfCJZbZXKzRexR6o0Gk2vBdFBU49DajGihxlA0qNs7h2ZuOW3pTx7Dm8gdbVtjJ3H1oCLw5IIIC+RXz3LIrYHTGcIlblfGhJBGC6XC4/kiR2Hbndl8GBJdHddTlyWBMVUFEU/SeaWIvSnqP/k8r5KWDNBn9Kwfyz7JtRl94DatYxV0mUklzolK4TIvF9jgLdsuYo78At8vLeNSIbfUtxAKAdiEaEUkvprMPfDiyP0LrqWOV3qotr3upaWuju0MLuS1obPguNk1N/zNXQ66X+DCmG006KZ/4bp3jXe++zb9+0/Q5JpWRZYYHAq8tz9UEAPpXc91OpewV26JeXU6/qunFc+5PHqVd16t/m80vZvfmE5V3/Aw==&lt;/diagram&gt;&lt;/mxfile&gt;\" onclick=\"(function(svg){var src=window.event.target||window.event.srcElement;while (src!=null&amp;&amp;src.nodeName.toLowerCase()!='a'){src=src.parentNode;}if(src==null){if(svg.wnd!=null&amp;&amp;!svg.wnd.closed){svg.wnd.focus();}else{var r=function(evt){if(evt.data=='ready'&amp;&amp;evt.source==svg.wnd){svg.wnd.postMessage(decodeURIComponent(svg.getAttribute('content')),'*');window.removeEventListener('message',r);}};window.addEventListener('message',r);svg.wnd=window.open('https://viewer.diagrams.net/?client=1&amp;edit=_blank');}}})(this);\" style=\"cursor:pointer;max-width:100%;max-height:256px;\"><defs/><g><path d=\"M 7 207 L 280.63 207\" fill=\"none\" stroke=\"#000000\" stroke-miterlimit=\"10\" pointer-events=\"stroke\"/><path d=\"M 285.88 207 L 278.88 210.5 L 280.63 207 L 278.88 203.5 Z\" fill=\"#000000\" stroke=\"#000000\" stroke-miterlimit=\"10\" pointer-events=\"all\"/><path d=\"M 47 247 L 47 13.37\" fill=\"none\" stroke=\"#000000\" stroke-miterlimit=\"10\" pointer-events=\"stroke\"/><path d=\"M 47 8.12 L 50.5 15.12 L 47 13.37 L 43.5 15.12 Z\" fill=\"#000000\" stroke=\"#000000\" stroke-miterlimit=\"10\" pointer-events=\"all\"/><path d=\"M 47 127 L 167 127 L 167 207\" fill=\"none\" stroke=\"#000000\" stroke-miterlimit=\"10\" stroke-dasharray=\"3 3\" pointer-events=\"stroke\"/><g transform=\"translate(-0.5 -0.5)\"><switch><foreignObject style=\"overflow: visible; text-align: left;\" pointer-events=\"none\" width=\"100%\" height=\"100%\" requiredFeatures=\"http://www.w3.org/TR/SVG11/feature#Extensibility\"><div xmlns=\"http://www.w3.org/1999/xhtml\" style=\"display: flex; align-items: unsafe center; justify-content: unsafe center; width: 1px; height: 1px; padding-top: 118px; margin-left: 38px;\"><div style=\"box-sizing: border-box; font-size: 0; text-align: center; \"><div style=\"display: inline-block; font-size: 11px; font-family: Helvetica; color: black; line-height: 1.2; pointer-events: all; white-space: nowrap; \"><i style=\"font-family: &quot;georgia&quot; ; font-size: 24px\">y</i></div></div></div></foreignObject><text x=\"38\" y=\"121\" fill=\"black\" font-family=\"Helvetica\" font-size=\"11px\" text-anchor=\"middle\">y</text></switch></g><g transform=\"translate(-0.5 -0.5)\"><switch><foreignObject style=\"overflow: visible; text-align: left;\" pointer-events=\"none\" width=\"100%\" height=\"100%\" requiredFeatures=\"http://www.w3.org/TR/SVG11/feature#Extensibility\"><div xmlns=\"http://www.w3.org/1999/xhtml\" style=\"display: flex; align-items: unsafe center; justify-content: unsafe center; width: 1px; height: 1px; padding-top: 228px; margin-left: 168px;\"><div style=\"box-sizing: border-box; font-size: 0; text-align: center; \"><div style=\"display: inline-block; font-size: 11px; font-family: Helvetica; color: black; line-height: 1.2; pointer-events: all; white-space: nowrap; \"><i style=\"font-family: &quot;georgia&quot; ; font-size: 24px\">x</i></div></div></div></foreignObject><text x=\"168\" y=\"231\" fill=\"black\" font-family=\"Helvetica\" font-size=\"11px\" text-anchor=\"middle\">x</text></switch></g><path d=\"M 167 127 L 240.63 127\" fill=\"none\" stroke=\"#ff0000\" stroke-miterlimit=\"10\" pointer-events=\"stroke\"/><path d=\"M 245.88 127 L 238.88 130.5 L 240.63 127 L 238.88 123.5 Z\" fill=\"#ff0000\" stroke=\"#ff0000\" stroke-miterlimit=\"10\" pointer-events=\"all\"/><g transform=\"translate(-0.5 -0.5)\"><switch><foreignObject style=\"overflow: visible; text-align: left;\" pointer-events=\"none\" width=\"100%\" height=\"100%\" requiredFeatures=\"http://www.w3.org/TR/SVG11/feature#Extensibility\"><div xmlns=\"http://www.w3.org/1999/xhtml\" style=\"display: flex; align-items: unsafe center; justify-content: unsafe center; width: 1px; height: 1px; padding-top: 148px; margin-left: 209px;\"><div style=\"box-sizing: border-box; font-size: 0; text-align: center; \"><div style=\"display: inline-block; font-size: 11px; font-family: Helvetica; color: black; line-height: 1.2; pointer-events: all; white-space: nowrap; \"><font color=\"#ff0000\"><span style=\"font-family: &quot;georgia&quot; ; font-size: 24px\">Δ</span><i style=\"font-family: &quot;georgia&quot; ; font-size: 24px\">x</i></font></div></div></div></foreignObject><text x=\"209\" y=\"151\" fill=\"black\" font-family=\"Helvetica\" font-size=\"11px\" text-anchor=\"middle\">Δx</text></switch></g><path d=\"M 167 127 L 167 53.37\" fill=\"none\" stroke=\"#007fff\" stroke-miterlimit=\"10\" pointer-events=\"stroke\"/><path d=\"M 167 48.12 L 170.5 55.12 L 167 53.37 L 163.5 55.12 Z\" fill=\"#007fff\" stroke=\"#007fff\" stroke-miterlimit=\"10\" pointer-events=\"all\"/><g transform=\"translate(-0.5 -0.5)\"><switch><foreignObject style=\"overflow: visible; text-align: left;\" pointer-events=\"none\" width=\"100%\" height=\"100%\" requiredFeatures=\"http://www.w3.org/TR/SVG11/feature#Extensibility\"><div xmlns=\"http://www.w3.org/1999/xhtml\" style=\"display: flex; align-items: unsafe center; justify-content: unsafe center; width: 1px; height: 1px; padding-top: 86px; margin-left: 148px;\"><div style=\"box-sizing: border-box; font-size: 0; text-align: center; \"><div style=\"display: inline-block; font-size: 11px; font-family: Helvetica; color: black; line-height: 1.2; pointer-events: all; white-space: nowrap; \"><font color=\"#007fff\"><span style=\"font-family: &quot;georgia&quot; ; font-size: 24px\">Δ<i>y</i></span></font></div></div></div></foreignObject><text x=\"148\" y=\"89\" fill=\"black\" font-family=\"Helvetica\" font-size=\"11px\" text-anchor=\"middle\">Δy</text></switch></g><ellipse cx=\"247\" cy=\"46\" rx=\"5\" ry=\"5\" fill=\"#000000\" stroke=\"#000000\" pointer-events=\"all\"/><ellipse cx=\"167\" cy=\"127\" rx=\"5\" ry=\"5\" fill=\"#ffffff\" stroke=\"#000000\" pointer-events=\"all\"/><path d=\"M 167 47 L 237 47 Q 247 47 247 57 L 247 127\" fill=\"none\" stroke=\"#000000\" stroke-width=\"2\" stroke-miterlimit=\"10\" stroke-dasharray=\"2 6\" pointer-events=\"stroke\"/></g><switch><g requiredFeatures=\"http://www.w3.org/TR/SVG11/feature#Extensibility\"/><a transform=\"translate(0,-5)\" xlink:href=\"https://desk.draw.io/support/solutions/articles/16000042487\" target=\"_blank\"><text text-anchor=\"middle\" font-size=\"10px\" x=\"50%\" y=\"100%\">Viewer does not support full SVG 1.1</text></a></switch></svg>"
      ],
      "execution_count": null,
      "outputs": [
        {
          "output_type": "display_data",
          "data": {
            "text/plain": [
              "<IPython.core.display.SVG object>"
            ],
            "image/svg+xml": "<svg content=\"&lt;mxfile host=&quot;www.draw.io&quot; modified=&quot;2020-10-20T11:13:02.098Z&quot; agent=&quot;5.0 (Macintosh; Intel Mac OS X 10_15_7) AppleWebKit/537.36 (KHTML, like Gecko) Chrome/86.0.4240.75 Safari/537.36&quot; etag=&quot;A6n3vAPAj7bTGltToBVr&quot; version=&quot;13.6.0&quot; type=&quot;google&quot;&gt;&lt;diagram id=&quot;oQYt2ycmvr4tn9PrN_z2&quot; name=&quot;Page-1&quot;&gt;7VldT9swFP01eezkOE1LH2mhQ9OQ0JC2Zy9xEgsnzmyXtvv1sxPnw0lLW2hgCHiAcG3fa99zfK7jON4i3XzlKE9uWYipA0G4cbwrB8Ip8NVvbdiWBh/OSkPMSVia3MZwT/5iYwTGuiIhFlZHyRiVJLeNAcsyHEjLhjhna7tbxKgdNUcx7hnuA0T71l8klIlZxYXX2G8wiRMTeeyahhRVfc1CRIJCtm6ZvGvHW3DGZPmUbhaY6tRVaSnHLfe01vPiOJPHDJjm6xTc/rz5JmI8Rj/WN5GIR8bLI6Irs14zWbmtEoCz8FLnUf0XUCQECRxvnsiUKoOrHssBOOylsZmYWy9XsQSzFEu+VV3WrXyaJCWtVFY2jimS5NF2jwysce2ujnDHiAoMgWGgWwFgCAgvgO1CsBUPsBnVTmDH0RgccCQRj7HsOVIPrWU3pgKfE7CCHwCriZ1iDz4Tq66jV4bKOwmqjGXKOA+RSHBokGqBxtkqC4sG8A4hhOCZENaYnbjdVFbRttUt1x3E/gn34gBLR9VD6fGsBJnsIMiEKiTmxKLJ5M9K14d5xDI5ilBKqIp6qcsiZjwmqCAEKFpFUTp1Gxznm6KhGq2eYv13WwVRcyaVsc9Mxa3v6Lcq4xYNESVxpoVF8QxzZXjEXBJVKC9NQ0rCUPuYc6zmgn4X/jRlDQLKuT93/CuznAWjjDfspzriHAUPccH3TqtJl4qINxYxTdk30Zpq294P+7dof5MY7yPwZTI+y34YjScWvUZuh8YsigQeRIWmb0KyzSfJjiSZ4tjsZRyrztTua1Hq4uVnkB2wCMnZA66MDvSWS6B+3kG121c8Tq523qGyOfCJZbZXKzRexR6o0Gk2vBdFBU49DajGihxlA0qNs7h2ZuOW3pTx7Dm8gdbVtjJ3H1oCLw5IIIC+RXz3LIrYHTGcIlblfGhJBGC6XC4/kiR2Hbndl8GBJdHddTlyWBMVUFEU/SeaWIvSnqP/k8r5KWDNBn9Kwfyz7JtRl94DatYxV0mUklzolK4TIvF9jgLdsuYo78At8vLeNSIbfUtxAKAdiEaEUkvprMPfDiyP0LrqWOV3qotr3upaWuju0MLuS1obPguNk1N/zNXQ66X+DCmG006KZ/4bp3jXe++zb9+0/Q5JpWRZYYHAq8tz9UEAPpXc91OpewV26JeXU6/qunFc+5PHqVd16t/m80vZvfmE5V3/Aw==&lt;/diagram&gt;&lt;/mxfile&gt;\" onclick=\"(function(svg){var src=window.event.target||window.event.srcElement;while (src!=null&amp;&amp;src.nodeName.toLowerCase()!='a'){src=src.parentNode;}if(src==null){if(svg.wnd!=null&amp;&amp;!svg.wnd.closed){svg.wnd.focus();}else{var r=function(evt){if(evt.data=='ready'&amp;&amp;evt.source==svg.wnd){svg.wnd.postMessage(decodeURIComponent(svg.getAttribute('content')),'*');window.removeEventListener('message',r);}};window.addEventListener('message',r);svg.wnd=window.open('https://viewer.diagrams.net/?client=1&amp;edit=_blank');}}})(this);\" style=\"cursor:pointer;max-width:100%;max-height:256px;\" version=\"1.1\" viewBox=\"-0.5 -0.5 296 256\" width=\"296px\" xmlns=\"http://www.w3.org/2000/svg\" xmlns:xlink=\"http://www.w3.org/1999/xlink\"><defs/><g><path d=\"M 7 207 L 280.63 207\" fill=\"none\" pointer-events=\"stroke\" stroke=\"#000000\" stroke-miterlimit=\"10\"/><path d=\"M 285.88 207 L 278.88 210.5 L 280.63 207 L 278.88 203.5 Z\" fill=\"#000000\" pointer-events=\"all\" stroke=\"#000000\" stroke-miterlimit=\"10\"/><path d=\"M 47 247 L 47 13.37\" fill=\"none\" pointer-events=\"stroke\" stroke=\"#000000\" stroke-miterlimit=\"10\"/><path d=\"M 47 8.12 L 50.5 15.12 L 47 13.37 L 43.5 15.12 Z\" fill=\"#000000\" pointer-events=\"all\" stroke=\"#000000\" stroke-miterlimit=\"10\"/><path d=\"M 47 127 L 167 127 L 167 207\" fill=\"none\" pointer-events=\"stroke\" stroke=\"#000000\" stroke-dasharray=\"3 3\" stroke-miterlimit=\"10\"/><g transform=\"translate(-0.5 -0.5)\"><switch><foreignObject height=\"100%\" pointer-events=\"none\" requiredFeatures=\"http://www.w3.org/TR/SVG11/feature#Extensibility\" style=\"overflow: visible; text-align: left;\" width=\"100%\"><div style=\"display: flex; align-items: unsafe center; justify-content: unsafe center; width: 1px; height: 1px; padding-top: 118px; margin-left: 38px;\" xmlns=\"http://www.w3.org/1999/xhtml\"><div style=\"box-sizing: border-box; font-size: 0; text-align: center; \"><div style=\"display: inline-block; font-size: 11px; font-family: Helvetica; color: black; line-height: 1.2; pointer-events: all; white-space: nowrap; \"><i style=\"font-family: &quot;georgia&quot; ; font-size: 24px\">y</i></div></div></div></foreignObject><text fill=\"black\" font-family=\"Helvetica\" font-size=\"11px\" text-anchor=\"middle\" x=\"38\" y=\"121\">y</text></switch></g><g transform=\"translate(-0.5 -0.5)\"><switch><foreignObject height=\"100%\" pointer-events=\"none\" requiredFeatures=\"http://www.w3.org/TR/SVG11/feature#Extensibility\" style=\"overflow: visible; text-align: left;\" width=\"100%\"><div style=\"display: flex; align-items: unsafe center; justify-content: unsafe center; width: 1px; height: 1px; padding-top: 228px; margin-left: 168px;\" xmlns=\"http://www.w3.org/1999/xhtml\"><div style=\"box-sizing: border-box; font-size: 0; text-align: center; \"><div style=\"display: inline-block; font-size: 11px; font-family: Helvetica; color: black; line-height: 1.2; pointer-events: all; white-space: nowrap; \"><i style=\"font-family: &quot;georgia&quot; ; font-size: 24px\">x</i></div></div></div></foreignObject><text fill=\"black\" font-family=\"Helvetica\" font-size=\"11px\" text-anchor=\"middle\" x=\"168\" y=\"231\">x</text></switch></g><path d=\"M 167 127 L 240.63 127\" fill=\"none\" pointer-events=\"stroke\" stroke=\"#ff0000\" stroke-miterlimit=\"10\"/><path d=\"M 245.88 127 L 238.88 130.5 L 240.63 127 L 238.88 123.5 Z\" fill=\"#ff0000\" pointer-events=\"all\" stroke=\"#ff0000\" stroke-miterlimit=\"10\"/><g transform=\"translate(-0.5 -0.5)\"><switch><foreignObject height=\"100%\" pointer-events=\"none\" requiredFeatures=\"http://www.w3.org/TR/SVG11/feature#Extensibility\" style=\"overflow: visible; text-align: left;\" width=\"100%\"><div style=\"display: flex; align-items: unsafe center; justify-content: unsafe center; width: 1px; height: 1px; padding-top: 148px; margin-left: 209px;\" xmlns=\"http://www.w3.org/1999/xhtml\"><div style=\"box-sizing: border-box; font-size: 0; text-align: center; \"><div style=\"display: inline-block; font-size: 11px; font-family: Helvetica; color: black; line-height: 1.2; pointer-events: all; white-space: nowrap; \"><font color=\"#ff0000\"><span style=\"font-family: &quot;georgia&quot; ; font-size: 24px\">Δ</span><i style=\"font-family: &quot;georgia&quot; ; font-size: 24px\">x</i></font></div></div></div></foreignObject><text fill=\"black\" font-family=\"Helvetica\" font-size=\"11px\" text-anchor=\"middle\" x=\"209\" y=\"151\">Δx</text></switch></g><path d=\"M 167 127 L 167 53.37\" fill=\"none\" pointer-events=\"stroke\" stroke=\"#007fff\" stroke-miterlimit=\"10\"/><path d=\"M 167 48.12 L 170.5 55.12 L 167 53.37 L 163.5 55.12 Z\" fill=\"#007fff\" pointer-events=\"all\" stroke=\"#007fff\" stroke-miterlimit=\"10\"/><g transform=\"translate(-0.5 -0.5)\"><switch><foreignObject height=\"100%\" pointer-events=\"none\" requiredFeatures=\"http://www.w3.org/TR/SVG11/feature#Extensibility\" style=\"overflow: visible; text-align: left;\" width=\"100%\"><div style=\"display: flex; align-items: unsafe center; justify-content: unsafe center; width: 1px; height: 1px; padding-top: 86px; margin-left: 148px;\" xmlns=\"http://www.w3.org/1999/xhtml\"><div style=\"box-sizing: border-box; font-size: 0; text-align: center; \"><div style=\"display: inline-block; font-size: 11px; font-family: Helvetica; color: black; line-height: 1.2; pointer-events: all; white-space: nowrap; \"><font color=\"#007fff\"><span style=\"font-family: &quot;georgia&quot; ; font-size: 24px\">Δ<i>y</i></span></font></div></div></div></foreignObject><text fill=\"black\" font-family=\"Helvetica\" font-size=\"11px\" text-anchor=\"middle\" x=\"148\" y=\"89\">Δy</text></switch></g><ellipse cx=\"247\" cy=\"46\" fill=\"#000000\" pointer-events=\"all\" rx=\"5\" ry=\"5\" stroke=\"#000000\"/><ellipse cx=\"167\" cy=\"127\" fill=\"#ffffff\" pointer-events=\"all\" rx=\"5\" ry=\"5\" stroke=\"#000000\"/><path d=\"M 167 47 L 237 47 Q 247 47 247 57 L 247 127\" fill=\"none\" pointer-events=\"stroke\" stroke=\"#000000\" stroke-dasharray=\"2 6\" stroke-miterlimit=\"10\" stroke-width=\"2\"/></g><switch><g requiredFeatures=\"http://www.w3.org/TR/SVG11/feature#Extensibility\"/><a target=\"_blank\" transform=\"translate(0,-5)\" xlink:href=\"https://desk.draw.io/support/solutions/articles/16000042487\"><text font-size=\"10px\" text-anchor=\"middle\" x=\"50%\" y=\"100%\">Viewer does not support full SVG 1.1</text></a></switch></svg>"
          },
          "metadata": {
            "tags": []
          }
        }
      ]
    },
    {
      "cell_type": "markdown",
      "metadata": {
        "id": "Bw5wGoq8uf14"
      },
      "source": [
        "$\\require{cancel}$\n",
        "\n",
        "複雑に変化するものを固定するために, まず$y$方向の変化を無視します\n",
        "\\begin{align*}\n",
        "\\lim_{\\Delta x \\to 0\\\\\\Delta y=0}\n",
        "\\dfrac{1}{\\Delta x}\n",
        "\\left(\\begin{array}{c} (x+ \\Delta x) - x\\\\\n",
        " (y+ \\cancelto{0}{\\Delta y}) - y\\end{array} \\right)\n",
        " &=\\lim_{\\Delta x \\to 0\\\\\\Delta y=0}\n",
        " \\left(\\begin{array}{c} \\Delta x/ \\Delta x\\\\\n",
        " 0\\end{array} \\right) \n",
        " =\\left(\\begin{array}{c} 1\\\\ 0\\end{array} \\right)\n",
        "\\end{align*}\n",
        "よって\n",
        "\\begin{align*}\n",
        " \\dfrac{\\partial}{\\partial x}\n",
        " \\left(\\begin{array}{c} x\\\\ y\\end{array} \\right)\n",
        " &=\n",
        " \\left(\\begin{array}{c} 1\\\\ 0\\end{array} \\right)\n",
        " ＝\\vec{e}_x\n",
        "\\end{align*}\n",
        "\n",
        "$\\vec{e}_y$についても同様で\n",
        "\\begin{align*}\n",
        " \\dfrac{\\partial}{\\partial y}\n",
        " \\left(\\begin{array}{c} x\\\\ y\\end{array} \\right)\n",
        " &=\n",
        " \\left(\\begin{array}{c} 0\\\\ 1\\end{array} \\right)\n",
        " ＝\\vec{e}_y\n",
        "\\end{align*}\n"
      ]
    },
    {
      "cell_type": "markdown",
      "metadata": {
        "id": "ZBCbFEXPxyvb"
      },
      "source": [
        "### 二次元の極座標による位置, 速度, 加速度"
      ]
    },
    {
      "cell_type": "code",
      "metadata": {
        "id": "JHhKnf7Gx8hT",
        "cellView": "form",
        "colab": {
          "base_uri": "https://localhost:8080/",
          "height": 475
        },
        "outputId": "ca613d93-c0e7-409e-93be-6de875155cb3"
      },
      "source": [
        "#@title 単位円と三角関数\n",
        "%%html\n",
        "<iframe src=\"https://phet.colorado.edu/sims/html/trig-tour/latest/trig-tour_en.html\" width=\"600\" height=\"450\" scrolling=\"no\" allowfullscreen></iframe>"
      ],
      "execution_count": null,
      "outputs": [
        {
          "output_type": "display_data",
          "data": {
            "text/html": [
              "<iframe src=\"https://phet.colorado.edu/sims/html/trig-tour/latest/trig-tour_en.html\" width=\"600\" height=\"450\" scrolling=\"no\" allowfullscreen></iframe>"
            ],
            "text/plain": [
              "<IPython.core.display.HTML object>"
            ]
          },
          "metadata": {
            "tags": []
          }
        }
      ]
    },
    {
      "cell_type": "markdown",
      "metadata": {
        "id": "yf84bjWHSwrf"
      },
      "source": [
        "極座標表示で用いられる $r,\\theta$ が時間依存する場合( $r(t),\\theta(t)$)を考える準備をします.\n",
        "\n",
        "- 固定された二次元直行座標 $x-y$ ではありません\n",
        "- 極座標 ( $r(t),\\theta(t)$) は, 物体から見た座標と考えることができます"
      ]
    },
    {
      "cell_type": "code",
      "metadata": {
        "cellView": "form",
        "id": "OeE6G7WaqAVU",
        "colab": {
          "base_uri": "https://localhost:8080/",
          "height": 286
        },
        "outputId": "fd640646-4e09-400b-9a9a-ae55316bfc78"
      },
      "source": [
        "#@title r,θ\b[白丸] を少し増やし r+Δr,θ+Δθ [黒丸]を観察\n",
        "%%svg\n",
        "<svg xmlns=\"http://www.w3.org/2000/svg\" xmlns:xlink=\"http://www.w3.org/1999/xlink\" version=\"1.1\" width=\"344px\" viewBox=\"-0.5 -0.5 344 265\" content=\"&lt;mxfile host=&quot;app.diagrams.net&quot; modified=&quot;2020-10-21T01:34:52.817Z&quot; agent=&quot;5.0 (Macintosh; Intel Mac OS X 10_15_7) AppleWebKit/537.36 (KHTML, like Gecko) Chrome/86.0.4240.80 Safari/537.36&quot; etag=&quot;RbF_3KMQi79Bzw5lF2BU&quot; version=&quot;13.7.9&quot; type=&quot;google&quot;&gt;&lt;diagram id=&quot;ucvjJEO1TBNguIxzToBL&quot; name=&quot;Page-1&quot;&gt;7VpLc6M4EP41HO0CCTA+xnacqa3dqtnKbu3MUQFhq4IRI3Biz69fCQRGPGzjwcRJJgcHWqLVdLe+fiANzje7B4ai9V/Uw4EGdG+nwYUGgKXb/FcQ9hkB2kZGWDHiZaQS4ZH8xJKoS+qWeDhWJiaUBgmJVKJLwxC7iUJDjNFXdZpPA3XVCK1wjfDooqBO/Y94yVq+lgMP9C+YrNZyZdOQAxuUz5UvEq+RR19LJHivwTmjNMmuNrs5DoTqcrVkzy1bRgu5GA6Tcx74d+P/pPdf/v7DeV7Mf3xz9/v5PyPJ5QUFW/m+UthknysAh96d0CO/cwMUx8TV4GydbAJOMPhlXQ7JFHuKZqVUD5hucML2fMJrSZ9SSeuSKnMawwFKyItqDyTNuirYFSt8pYRLAnTpgUZuAOmAwNFVFjHdMhfLp8oKrDAy9ROMEsRWOKkx4hel1z6QUvt0sBX4BLayVRVDcKGtqowGNhXsZKqQhpw481C8xp60VMlojG5DLx3Q5ayvKEkwC9NxoJvv0LBAv9CwhSU7bkKua7QvTYvEhLhd4No6uoKu/CLj2KvbmA1uYwfcEjOiOI/9YyuixsynYTLy0YYEfNU7TWwWG22i1B8gFH7BLcNWBNXoYm76m7KI06grGAAz2h3486uV+L/PxeBvRXJiTosjFL6pdNmiuXyZOKqIb6s9VjwfPsVRSayb1GZMQm1+r82cVp1WgYwjzJ/oiWd9CmqhgKwEQrkckTDjhBfMEsLzqjs5sCGeJ3jMGOYyoaeUn5BUbk3O3Jpp1kK++5wGlB3AMhArzpD7vErhsTJah8OjMM0lwzsF2WQ2KaVSMjYFPeVTI31sm70A5cixFdwZVSMg9f0YXyVoWTeKPrub3i+/0adPaV0a/0afrujDwWfaC/iYas5jGUNBT17sH02Yg4DX/EK/r2uS4McIuWLklaGoYvs4yhoBPtmJtPmEtRrM65MgyEncj/X071iWXbNhq63A1FJ0nIeNUhpuNKThht5uS8UYnTV/TgdgOM33oeGJqmEj1/ibqbhbNdhYuDeoimuI7b9J1EpvvsvJ6c1iVx5a7OVdnDD6XHSyYDruLUlwskOQ1VVneNKtVpyXtn0Kx8gZwYHbPk3ukwVH4RUismb78RBNH4pYXIRXPc47qznNaMhlTmcs56QbrekFp2Uif7xgbvQYzYFhmmoRYPSzJZxxha85Npxp+c8aLOI7nUDxRItMRbUWwGyFto+GWLDSqJ4MDFg9NKrPMmg2qZSoLZenErUbMXVbd7G7qScqI8Mc2NbtLctOwelUsDEcNdhwUM2tfiBC30/tX49rvKScmqXo9rljVbFB++h7GfYUXCNYAZUrj1RwqNgEJgMB2M3DVF+fTms5tHUeTHX+alMVeDLAVxvQlMooGNgd3s5BzQO2Ke2yD4ta+a7sA7WgUwGtnrr3AI4tpxEOrw9bsIfDHJflXbo+WS6X7wLQJio+wEpQORvQ9AqjavfoWoAGBgA02JTADwBozUkddy7f91uTus8Cf7CtEXph0ja9RtI2HYMK+jlj3RkMAE92yob0W8jLESHRkSbbsTKkuWSpuXv3uuVKEUDU3r8UAYr2l26aleCco/ZAQWKi7g2j2hU7O0iY6mYwrAqjvoKEXVnnWNZbe1o9b2APtlmbjhtc3ACsn4qDNV8G77MIO9XNu3arqKs3wspXZOPXTs7x28MZ6Wz64Zw5vP8f&lt;/diagram&gt;&lt;/mxfile&gt;\" onclick=\"(function(svg){var src=window.event.target||window.event.srcElement;while (src!=null&amp;&amp;src.nodeName.toLowerCase()!='a'){src=src.parentNode;}if(src==null){if(svg.wnd!=null&amp;&amp;!svg.wnd.closed){svg.wnd.focus();}else{var r=function(evt){if(evt.data=='ready'&amp;&amp;evt.source==svg.wnd){svg.wnd.postMessage(decodeURIComponent(svg.getAttribute('content')),'*');window.removeEventListener('message',r);}};window.addEventListener('message',r);svg.wnd=window.open('https://viewer.diagrams.net/?client=1&amp;edit=_blank');}}})(this);\" style=\"cursor:pointer;max-width:100%;max-height:265px;\"><defs/><g><path d=\"M 55 216 L 328.63 216\" fill=\"none\" stroke=\"#000000\" stroke-miterlimit=\"10\" pointer-events=\"stroke\"/><path d=\"M 333.88 216 L 326.88 219.5 L 328.63 216 L 326.88 212.5 Z\" fill=\"#000000\" stroke=\"#000000\" stroke-miterlimit=\"10\" pointer-events=\"all\"/><path d=\"M 95 256 L 95 22.37\" fill=\"none\" stroke=\"#000000\" stroke-miterlimit=\"10\" pointer-events=\"stroke\"/><path d=\"M 95 17.12 L 98.5 24.12 L 95 22.37 L 91.5 24.12 Z\" fill=\"#000000\" stroke=\"#000000\" stroke-miterlimit=\"10\" pointer-events=\"all\"/><path d=\"M 95 136 L 215 136 L 215 216\" fill=\"none\" stroke=\"#000000\" stroke-miterlimit=\"10\" stroke-dasharray=\"1 4\" pointer-events=\"stroke\"/><g transform=\"translate(-0.5 -0.5)\"><switch><foreignObject style=\"overflow: visible; text-align: left;\" pointer-events=\"none\" width=\"100%\" height=\"100%\" requiredFeatures=\"http://www.w3.org/TR/SVG11/feature#Extensibility\"><div xmlns=\"http://www.w3.org/1999/xhtml\" style=\"display: flex; align-items: unsafe center; justify-content: unsafe center; width: 1px; height: 1px; padding-top: 117px; margin-left: 46px;\"><div style=\"box-sizing: border-box; font-size: 0; text-align: center; \"><div style=\"display: inline-block; font-size: 11px; font-family: Helvetica; color: black; line-height: 1.2; pointer-events: all; white-space: nowrap; \"><i style=\"font-family: &quot;georgia&quot; ; font-size: 24px\">y</i><span style=\"font-family: &quot;georgia&quot; ; font-size: 24px\">=</span><i style=\"font-family: &quot;georgia&quot; ; font-size: 24px\">r </i><span style=\"font-family: &quot;georgia&quot; ; font-size: 24px\">sinθ</span></div></div></div></foreignObject><text x=\"46\" y=\"120\" fill=\"black\" font-family=\"Helvetica\" font-size=\"11px\" text-anchor=\"middle\">y=r sinθ</text></switch></g><g transform=\"translate(-0.5 -0.5)\"><switch><foreignObject style=\"overflow: visible; text-align: left;\" pointer-events=\"none\" width=\"100%\" height=\"100%\" requiredFeatures=\"http://www.w3.org/TR/SVG11/feature#Extensibility\"><div xmlns=\"http://www.w3.org/1999/xhtml\" style=\"display: flex; align-items: unsafe center; justify-content: unsafe center; width: 1px; height: 1px; padding-top: 237px; margin-left: 256px;\"><div style=\"box-sizing: border-box; font-size: 0; text-align: center; \"><div style=\"display: inline-block; font-size: 11px; font-family: Helvetica; color: black; line-height: 1.2; pointer-events: all; white-space: nowrap; \"><i style=\"font-family: &quot;georgia&quot; ; font-size: 24px\">x</i><span style=\"font-family: &quot;georgia&quot; ; font-size: 24px\">=</span><i style=\"font-family: &quot;georgia&quot; ; font-size: 24px\">r </i><span style=\"font-family: &quot;georgia&quot; ; font-size: 24px\">cosθ</span></div></div></div></foreignObject><text x=\"256\" y=\"240\" fill=\"black\" font-family=\"Helvetica\" font-size=\"11px\" text-anchor=\"middle\">x=r cosθ</text></switch></g><ellipse cx=\"235\" cy=\"5\" rx=\"5\" ry=\"5\" fill=\"#000000\" stroke=\"#000000\" pointer-events=\"all\"/><ellipse cx=\"215\" cy=\"136\" rx=\"5\" ry=\"5\" fill=\"#ffffff\" stroke=\"#000000\" pointer-events=\"all\"/><path d=\"M 95 216 L 203.02 145.08\" fill=\"none\" stroke=\"#000000\" stroke-width=\"3\" stroke-miterlimit=\"10\" pointer-events=\"stroke\"/><path d=\"M 208.66 141.38 L 203.61 150.08 L 203.02 145.08 L 198.67 142.55 Z\" fill=\"#000000\" stroke=\"#000000\" stroke-width=\"3\" stroke-miterlimit=\"10\" pointer-events=\"all\"/><g transform=\"translate(-0.5 -0.5)\"><switch><foreignObject style=\"overflow: visible; text-align: left;\" pointer-events=\"none\" width=\"100%\" height=\"100%\" requiredFeatures=\"http://www.w3.org/TR/SVG11/feature#Extensibility\"><div xmlns=\"http://www.w3.org/1999/xhtml\" style=\"display: flex; align-items: unsafe center; justify-content: unsafe center; width: 1px; height: 1px; padding-top: 166px; margin-left: 186px;\"><div style=\"box-sizing: border-box; font-size: 0; text-align: center; \"><div style=\"display: inline-block; font-size: 11px; font-family: Helvetica; color: black; line-height: 1.2; pointer-events: all; white-space: nowrap; \"><font face=\"Georgia\" size=\"1\"><i style=\"font-size: 24px\">r</i></font></div></div></div></foreignObject><text x=\"186\" y=\"170\" fill=\"black\" font-family=\"Helvetica\" font-size=\"11px\" text-anchor=\"middle\">r</text></switch></g><path d=\"M 95 216 L 235 6\" fill=\"none\" stroke=\"#000000\" stroke-miterlimit=\"10\" stroke-dasharray=\"3 3\" pointer-events=\"stroke\"/><path d=\"M 215 136 L 299.7 79.53\" fill=\"none\" stroke=\"#ff0000\" stroke-miterlimit=\"10\" pointer-events=\"stroke\"/><path d=\"M 304.07 76.62 L 300.19 83.42 L 299.7 79.53 L 296.3 77.59 Z\" fill=\"#ff0000\" stroke=\"#ff0000\" stroke-miterlimit=\"10\" pointer-events=\"all\"/><g transform=\"translate(-0.5 -0.5)\"><switch><foreignObject style=\"overflow: visible; text-align: left;\" pointer-events=\"none\" width=\"100%\" height=\"100%\" requiredFeatures=\"http://www.w3.org/TR/SVG11/feature#Extensibility\"><div xmlns=\"http://www.w3.org/1999/xhtml\" style=\"display: flex; align-items: unsafe center; justify-content: unsafe center; width: 1px; height: 1px; padding-top: 117px; margin-left: 275px;\"><div style=\"box-sizing: border-box; font-size: 0; text-align: center; \"><div style=\"display: inline-block; font-size: 11px; font-family: Helvetica; color: black; line-height: 1.2; pointer-events: all; white-space: nowrap; \"><font face=\"Georgia\" style=\"font-size: 18px\" color=\"#ff0000\">Δ<i>r</i></font></div></div></div></foreignObject><text x=\"275\" y=\"120\" fill=\"black\" font-family=\"Helvetica\" font-size=\"11px\" text-anchor=\"middle\">Δr</text></switch></g><path d=\"M 155 216 L 155 211 Q 155 206 151.42 198.85 L 147.85 191.7\" fill=\"none\" stroke=\"#000000\" stroke-miterlimit=\"10\" pointer-events=\"stroke\"/><path d=\"M 145.5 187 L 151.76 191.7 L 147.85 191.7 L 145.5 194.83 Z\" fill=\"#000000\" stroke=\"#000000\" stroke-miterlimit=\"10\" pointer-events=\"all\"/><g transform=\"translate(-0.5 -0.5)\"><switch><foreignObject style=\"overflow: visible; text-align: left;\" pointer-events=\"none\" width=\"100%\" height=\"100%\" requiredFeatures=\"http://www.w3.org/TR/SVG11/feature#Extensibility\"><div xmlns=\"http://www.w3.org/1999/xhtml\" style=\"display: flex; align-items: unsafe center; justify-content: unsafe center; width: 1px; height: 1px; padding-top: 204px; margin-left: 135px;\"><div style=\"box-sizing: border-box; font-size: 0; text-align: center; \"><div style=\"display: inline-block; font-size: 11px; font-family: Helvetica; color: black; line-height: 1.2; pointer-events: all; white-space: nowrap; \"><font style=\"font-size: 18px\" face=\"Georgia\">θ</font></div></div></div></foreignObject><text x=\"135\" y=\"207\" fill=\"black\" font-family=\"Helvetica\" font-size=\"11px\" text-anchor=\"middle\">θ</text></switch></g><path d=\"M 162 169 L 158.5 162.5 Q 155 156 151.02 152.94 L 147.05 149.88\" fill=\"none\" stroke=\"#007fff\" stroke-miterlimit=\"10\" pointer-events=\"stroke\"/><path d=\"M 142.89 146.68 L 150.57 148.18 L 147.05 149.88 L 146.3 153.72 Z\" fill=\"#007fff\" stroke=\"#007fff\" stroke-miterlimit=\"10\" pointer-events=\"all\"/><g transform=\"translate(-0.5 -0.5)\"><switch><foreignObject style=\"overflow: visible; text-align: left;\" pointer-events=\"none\" width=\"100%\" height=\"100%\" requiredFeatures=\"http://www.w3.org/TR/SVG11/feature#Extensibility\"><div xmlns=\"http://www.w3.org/1999/xhtml\" style=\"display: flex; align-items: unsafe center; justify-content: unsafe center; width: 1px; height: 1px; padding-top: 149px; margin-left: 166px;\"><div style=\"box-sizing: border-box; font-size: 0; text-align: center; \"><div style=\"display: inline-block; font-size: 11px; font-family: Helvetica; color: black; line-height: 1.2; pointer-events: all; white-space: nowrap; \"><font style=\"font-size: 18px\" face=\"Georgia\" color=\"#007fff\">Δθ</font></div></div></div></foreignObject><text x=\"166\" y=\"153\" fill=\"black\" font-family=\"Helvetica\" font-size=\"11px\" text-anchor=\"middle\">Δθ</text></switch></g><path d=\"M 214 131 L 207.03 115.15 Q 203 106 195.55 100.41 L 188.09 94.82\" fill=\"none\" stroke=\"#00ff00\" stroke-miterlimit=\"10\" pointer-events=\"stroke\"/><path d=\"M 183.89 91.67 L 191.59 93.07 L 188.09 94.82 L 187.39 98.67 Z\" fill=\"#00ff00\" stroke=\"#00ff00\" stroke-miterlimit=\"10\" pointer-events=\"all\"/><g transform=\"translate(-0.5 -0.5)\"><switch><foreignObject style=\"overflow: visible; text-align: left;\" pointer-events=\"none\" width=\"100%\" height=\"100%\" requiredFeatures=\"http://www.w3.org/TR/SVG11/feature#Extensibility\"><div xmlns=\"http://www.w3.org/1999/xhtml\" style=\"display: flex; align-items: unsafe center; justify-content: unsafe center; width: 1px; height: 1px; padding-top: 91px; margin-left: 225px;\"><div style=\"box-sizing: border-box; font-size: 0; text-align: center; \"><div style=\"display: inline-block; font-size: 11px; font-family: Helvetica; color: black; line-height: 1.2; pointer-events: all; background-color: #ffffff; white-space: nowrap; \"><font style=\"font-size: 18px\" face=\"Georgia\" color=\"#33ff33\"><i>r</i>Δ<i>θ</i></font></div></div></div></foreignObject><text x=\"225\" y=\"94\" fill=\"black\" font-family=\"Helvetica\" font-size=\"11px\" text-anchor=\"middle\">rΔθ</text></switch></g><path d=\"M 235 6 L 267 30 Q 275 36 281 44 L 305 76\" fill=\"none\" stroke=\"#000000\" stroke-width=\"2\" stroke-miterlimit=\"10\" stroke-dasharray=\"2 6\" pointer-events=\"stroke\"/></g><switch><g requiredFeatures=\"http://www.w3.org/TR/SVG11/feature#Extensibility\"/><a transform=\"translate(0,-5)\" xlink:href=\"https://desk.draw.io/support/solutions/articles/16000042487\" target=\"_blank\"><text text-anchor=\"middle\" font-size=\"10px\" x=\"50%\" y=\"100%\">Viewer does not support full SVG 1.1</text></a></switch></svg>"
      ],
      "execution_count": null,
      "outputs": [
        {
          "output_type": "display_data",
          "data": {
            "text/plain": [
              "<IPython.core.display.SVG object>"
            ],
            "image/svg+xml": "<svg content=\"&lt;mxfile host=&quot;app.diagrams.net&quot; modified=&quot;2020-10-21T01:34:52.817Z&quot; agent=&quot;5.0 (Macintosh; Intel Mac OS X 10_15_7) AppleWebKit/537.36 (KHTML, like Gecko) Chrome/86.0.4240.80 Safari/537.36&quot; etag=&quot;RbF_3KMQi79Bzw5lF2BU&quot; version=&quot;13.7.9&quot; type=&quot;google&quot;&gt;&lt;diagram id=&quot;ucvjJEO1TBNguIxzToBL&quot; name=&quot;Page-1&quot;&gt;7VpLc6M4EP41HO0CCTA+xnacqa3dqtnKbu3MUQFhq4IRI3Biz69fCQRGPGzjwcRJJgcHWqLVdLe+fiANzje7B4ai9V/Uw4EGdG+nwYUGgKXb/FcQ9hkB2kZGWDHiZaQS4ZH8xJKoS+qWeDhWJiaUBgmJVKJLwxC7iUJDjNFXdZpPA3XVCK1wjfDooqBO/Y94yVq+lgMP9C+YrNZyZdOQAxuUz5UvEq+RR19LJHivwTmjNMmuNrs5DoTqcrVkzy1bRgu5GA6Tcx74d+P/pPdf/v7DeV7Mf3xz9/v5PyPJ5QUFW/m+UthknysAh96d0CO/cwMUx8TV4GydbAJOMPhlXQ7JFHuKZqVUD5hucML2fMJrSZ9SSeuSKnMawwFKyItqDyTNuirYFSt8pYRLAnTpgUZuAOmAwNFVFjHdMhfLp8oKrDAy9ROMEsRWOKkx4hel1z6QUvt0sBX4BLayVRVDcKGtqowGNhXsZKqQhpw481C8xp60VMlojG5DLx3Q5ayvKEkwC9NxoJvv0LBAv9CwhSU7bkKua7QvTYvEhLhd4No6uoKu/CLj2KvbmA1uYwfcEjOiOI/9YyuixsynYTLy0YYEfNU7TWwWG22i1B8gFH7BLcNWBNXoYm76m7KI06grGAAz2h3486uV+L/PxeBvRXJiTosjFL6pdNmiuXyZOKqIb6s9VjwfPsVRSayb1GZMQm1+r82cVp1WgYwjzJ/oiWd9CmqhgKwEQrkckTDjhBfMEsLzqjs5sCGeJ3jMGOYyoaeUn5BUbk3O3Jpp1kK++5wGlB3AMhArzpD7vErhsTJah8OjMM0lwzsF2WQ2KaVSMjYFPeVTI31sm70A5cixFdwZVSMg9f0YXyVoWTeKPrub3i+/0adPaV0a/0afrujDwWfaC/iYas5jGUNBT17sH02Yg4DX/EK/r2uS4McIuWLklaGoYvs4yhoBPtmJtPmEtRrM65MgyEncj/X071iWXbNhq63A1FJ0nIeNUhpuNKThht5uS8UYnTV/TgdgOM33oeGJqmEj1/ibqbhbNdhYuDeoimuI7b9J1EpvvsvJ6c1iVx5a7OVdnDD6XHSyYDruLUlwskOQ1VVneNKtVpyXtn0Kx8gZwYHbPk3ukwVH4RUismb78RBNH4pYXIRXPc47qznNaMhlTmcs56QbrekFp2Uif7xgbvQYzYFhmmoRYPSzJZxxha85Npxp+c8aLOI7nUDxRItMRbUWwGyFto+GWLDSqJ4MDFg9NKrPMmg2qZSoLZenErUbMXVbd7G7qScqI8Mc2NbtLctOwelUsDEcNdhwUM2tfiBC30/tX49rvKScmqXo9rljVbFB++h7GfYUXCNYAZUrj1RwqNgEJgMB2M3DVF+fTms5tHUeTHX+alMVeDLAVxvQlMooGNgd3s5BzQO2Ke2yD4ta+a7sA7WgUwGtnrr3AI4tpxEOrw9bsIfDHJflXbo+WS6X7wLQJio+wEpQORvQ9AqjavfoWoAGBgA02JTADwBozUkddy7f91uTus8Cf7CtEXph0ja9RtI2HYMK+jlj3RkMAE92yob0W8jLESHRkSbbsTKkuWSpuXv3uuVKEUDU3r8UAYr2l26aleCco/ZAQWKi7g2j2hU7O0iY6mYwrAqjvoKEXVnnWNZbe1o9b2APtlmbjhtc3ACsn4qDNV8G77MIO9XNu3arqKs3wspXZOPXTs7x28MZ6Wz64Zw5vP8f&lt;/diagram&gt;&lt;/mxfile&gt;\" onclick=\"(function(svg){var src=window.event.target||window.event.srcElement;while (src!=null&amp;&amp;src.nodeName.toLowerCase()!='a'){src=src.parentNode;}if(src==null){if(svg.wnd!=null&amp;&amp;!svg.wnd.closed){svg.wnd.focus();}else{var r=function(evt){if(evt.data=='ready'&amp;&amp;evt.source==svg.wnd){svg.wnd.postMessage(decodeURIComponent(svg.getAttribute('content')),'*');window.removeEventListener('message',r);}};window.addEventListener('message',r);svg.wnd=window.open('https://viewer.diagrams.net/?client=1&amp;edit=_blank');}}})(this);\" style=\"cursor:pointer;max-width:100%;max-height:265px;\" version=\"1.1\" viewBox=\"-0.5 -0.5 344 265\" width=\"344px\" xmlns=\"http://www.w3.org/2000/svg\" xmlns:xlink=\"http://www.w3.org/1999/xlink\"><defs/><g><path d=\"M 55 216 L 328.63 216\" fill=\"none\" pointer-events=\"stroke\" stroke=\"#000000\" stroke-miterlimit=\"10\"/><path d=\"M 333.88 216 L 326.88 219.5 L 328.63 216 L 326.88 212.5 Z\" fill=\"#000000\" pointer-events=\"all\" stroke=\"#000000\" stroke-miterlimit=\"10\"/><path d=\"M 95 256 L 95 22.37\" fill=\"none\" pointer-events=\"stroke\" stroke=\"#000000\" stroke-miterlimit=\"10\"/><path d=\"M 95 17.12 L 98.5 24.12 L 95 22.37 L 91.5 24.12 Z\" fill=\"#000000\" pointer-events=\"all\" stroke=\"#000000\" stroke-miterlimit=\"10\"/><path d=\"M 95 136 L 215 136 L 215 216\" fill=\"none\" pointer-events=\"stroke\" stroke=\"#000000\" stroke-dasharray=\"1 4\" stroke-miterlimit=\"10\"/><g transform=\"translate(-0.5 -0.5)\"><switch><foreignObject height=\"100%\" pointer-events=\"none\" requiredFeatures=\"http://www.w3.org/TR/SVG11/feature#Extensibility\" style=\"overflow: visible; text-align: left;\" width=\"100%\"><div style=\"display: flex; align-items: unsafe center; justify-content: unsafe center; width: 1px; height: 1px; padding-top: 117px; margin-left: 46px;\" xmlns=\"http://www.w3.org/1999/xhtml\"><div style=\"box-sizing: border-box; font-size: 0; text-align: center; \"><div style=\"display: inline-block; font-size: 11px; font-family: Helvetica; color: black; line-height: 1.2; pointer-events: all; white-space: nowrap; \"><i style=\"font-family: &quot;georgia&quot; ; font-size: 24px\">y</i><span style=\"font-family: &quot;georgia&quot; ; font-size: 24px\">=</span><i style=\"font-family: &quot;georgia&quot; ; font-size: 24px\">r </i><span style=\"font-family: &quot;georgia&quot; ; font-size: 24px\">sinθ</span></div></div></div></foreignObject><text fill=\"black\" font-family=\"Helvetica\" font-size=\"11px\" text-anchor=\"middle\" x=\"46\" y=\"120\">y=r sinθ</text></switch></g><g transform=\"translate(-0.5 -0.5)\"><switch><foreignObject height=\"100%\" pointer-events=\"none\" requiredFeatures=\"http://www.w3.org/TR/SVG11/feature#Extensibility\" style=\"overflow: visible; text-align: left;\" width=\"100%\"><div style=\"display: flex; align-items: unsafe center; justify-content: unsafe center; width: 1px; height: 1px; padding-top: 237px; margin-left: 256px;\" xmlns=\"http://www.w3.org/1999/xhtml\"><div style=\"box-sizing: border-box; font-size: 0; text-align: center; \"><div style=\"display: inline-block; font-size: 11px; font-family: Helvetica; color: black; line-height: 1.2; pointer-events: all; white-space: nowrap; \"><i style=\"font-family: &quot;georgia&quot; ; font-size: 24px\">x</i><span style=\"font-family: &quot;georgia&quot; ; font-size: 24px\">=</span><i style=\"font-family: &quot;georgia&quot; ; font-size: 24px\">r </i><span style=\"font-family: &quot;georgia&quot; ; font-size: 24px\">cosθ</span></div></div></div></foreignObject><text fill=\"black\" font-family=\"Helvetica\" font-size=\"11px\" text-anchor=\"middle\" x=\"256\" y=\"240\">x=r cosθ</text></switch></g><ellipse cx=\"235\" cy=\"5\" fill=\"#000000\" pointer-events=\"all\" rx=\"5\" ry=\"5\" stroke=\"#000000\"/><ellipse cx=\"215\" cy=\"136\" fill=\"#ffffff\" pointer-events=\"all\" rx=\"5\" ry=\"5\" stroke=\"#000000\"/><path d=\"M 95 216 L 203.02 145.08\" fill=\"none\" pointer-events=\"stroke\" stroke=\"#000000\" stroke-miterlimit=\"10\" stroke-width=\"3\"/><path d=\"M 208.66 141.38 L 203.61 150.08 L 203.02 145.08 L 198.67 142.55 Z\" fill=\"#000000\" pointer-events=\"all\" stroke=\"#000000\" stroke-miterlimit=\"10\" stroke-width=\"3\"/><g transform=\"translate(-0.5 -0.5)\"><switch><foreignObject height=\"100%\" pointer-events=\"none\" requiredFeatures=\"http://www.w3.org/TR/SVG11/feature#Extensibility\" style=\"overflow: visible; text-align: left;\" width=\"100%\"><div style=\"display: flex; align-items: unsafe center; justify-content: unsafe center; width: 1px; height: 1px; padding-top: 166px; margin-left: 186px;\" xmlns=\"http://www.w3.org/1999/xhtml\"><div style=\"box-sizing: border-box; font-size: 0; text-align: center; \"><div style=\"display: inline-block; font-size: 11px; font-family: Helvetica; color: black; line-height: 1.2; pointer-events: all; white-space: nowrap; \"><font face=\"Georgia\" size=\"1\"><i style=\"font-size: 24px\">r</i></font></div></div></div></foreignObject><text fill=\"black\" font-family=\"Helvetica\" font-size=\"11px\" text-anchor=\"middle\" x=\"186\" y=\"170\">r</text></switch></g><path d=\"M 95 216 L 235 6\" fill=\"none\" pointer-events=\"stroke\" stroke=\"#000000\" stroke-dasharray=\"3 3\" stroke-miterlimit=\"10\"/><path d=\"M 215 136 L 299.7 79.53\" fill=\"none\" pointer-events=\"stroke\" stroke=\"#ff0000\" stroke-miterlimit=\"10\"/><path d=\"M 304.07 76.62 L 300.19 83.42 L 299.7 79.53 L 296.3 77.59 Z\" fill=\"#ff0000\" pointer-events=\"all\" stroke=\"#ff0000\" stroke-miterlimit=\"10\"/><g transform=\"translate(-0.5 -0.5)\"><switch><foreignObject height=\"100%\" pointer-events=\"none\" requiredFeatures=\"http://www.w3.org/TR/SVG11/feature#Extensibility\" style=\"overflow: visible; text-align: left;\" width=\"100%\"><div style=\"display: flex; align-items: unsafe center; justify-content: unsafe center; width: 1px; height: 1px; padding-top: 117px; margin-left: 275px;\" xmlns=\"http://www.w3.org/1999/xhtml\"><div style=\"box-sizing: border-box; font-size: 0; text-align: center; \"><div style=\"display: inline-block; font-size: 11px; font-family: Helvetica; color: black; line-height: 1.2; pointer-events: all; white-space: nowrap; \"><font color=\"#ff0000\" face=\"Georgia\" style=\"font-size: 18px\">Δ<i>r</i></font></div></div></div></foreignObject><text fill=\"black\" font-family=\"Helvetica\" font-size=\"11px\" text-anchor=\"middle\" x=\"275\" y=\"120\">Δr</text></switch></g><path d=\"M 155 216 L 155 211 Q 155 206 151.42 198.85 L 147.85 191.7\" fill=\"none\" pointer-events=\"stroke\" stroke=\"#000000\" stroke-miterlimit=\"10\"/><path d=\"M 145.5 187 L 151.76 191.7 L 147.85 191.7 L 145.5 194.83 Z\" fill=\"#000000\" pointer-events=\"all\" stroke=\"#000000\" stroke-miterlimit=\"10\"/><g transform=\"translate(-0.5 -0.5)\"><switch><foreignObject height=\"100%\" pointer-events=\"none\" requiredFeatures=\"http://www.w3.org/TR/SVG11/feature#Extensibility\" style=\"overflow: visible; text-align: left;\" width=\"100%\"><div style=\"display: flex; align-items: unsafe center; justify-content: unsafe center; width: 1px; height: 1px; padding-top: 204px; margin-left: 135px;\" xmlns=\"http://www.w3.org/1999/xhtml\"><div style=\"box-sizing: border-box; font-size: 0; text-align: center; \"><div style=\"display: inline-block; font-size: 11px; font-family: Helvetica; color: black; line-height: 1.2; pointer-events: all; white-space: nowrap; \"><font face=\"Georgia\" style=\"font-size: 18px\">θ</font></div></div></div></foreignObject><text fill=\"black\" font-family=\"Helvetica\" font-size=\"11px\" text-anchor=\"middle\" x=\"135\" y=\"207\">θ</text></switch></g><path d=\"M 162 169 L 158.5 162.5 Q 155 156 151.02 152.94 L 147.05 149.88\" fill=\"none\" pointer-events=\"stroke\" stroke=\"#007fff\" stroke-miterlimit=\"10\"/><path d=\"M 142.89 146.68 L 150.57 148.18 L 147.05 149.88 L 146.3 153.72 Z\" fill=\"#007fff\" pointer-events=\"all\" stroke=\"#007fff\" stroke-miterlimit=\"10\"/><g transform=\"translate(-0.5 -0.5)\"><switch><foreignObject height=\"100%\" pointer-events=\"none\" requiredFeatures=\"http://www.w3.org/TR/SVG11/feature#Extensibility\" style=\"overflow: visible; text-align: left;\" width=\"100%\"><div style=\"display: flex; align-items: unsafe center; justify-content: unsafe center; width: 1px; height: 1px; padding-top: 149px; margin-left: 166px;\" xmlns=\"http://www.w3.org/1999/xhtml\"><div style=\"box-sizing: border-box; font-size: 0; text-align: center; \"><div style=\"display: inline-block; font-size: 11px; font-family: Helvetica; color: black; line-height: 1.2; pointer-events: all; white-space: nowrap; \"><font color=\"#007fff\" face=\"Georgia\" style=\"font-size: 18px\">Δθ</font></div></div></div></foreignObject><text fill=\"black\" font-family=\"Helvetica\" font-size=\"11px\" text-anchor=\"middle\" x=\"166\" y=\"153\">Δθ</text></switch></g><path d=\"M 214 131 L 207.03 115.15 Q 203 106 195.55 100.41 L 188.09 94.82\" fill=\"none\" pointer-events=\"stroke\" stroke=\"#00ff00\" stroke-miterlimit=\"10\"/><path d=\"M 183.89 91.67 L 191.59 93.07 L 188.09 94.82 L 187.39 98.67 Z\" fill=\"#00ff00\" pointer-events=\"all\" stroke=\"#00ff00\" stroke-miterlimit=\"10\"/><g transform=\"translate(-0.5 -0.5)\"><switch><foreignObject height=\"100%\" pointer-events=\"none\" requiredFeatures=\"http://www.w3.org/TR/SVG11/feature#Extensibility\" style=\"overflow: visible; text-align: left;\" width=\"100%\"><div style=\"display: flex; align-items: unsafe center; justify-content: unsafe center; width: 1px; height: 1px; padding-top: 91px; margin-left: 225px;\" xmlns=\"http://www.w3.org/1999/xhtml\"><div style=\"box-sizing: border-box; font-size: 0; text-align: center; \"><div style=\"display: inline-block; font-size: 11px; font-family: Helvetica; color: black; line-height: 1.2; pointer-events: all; background-color: #ffffff; white-space: nowrap; \"><font color=\"#33ff33\" face=\"Georgia\" style=\"font-size: 18px\"><i>r</i>Δ<i>θ</i></font></div></div></div></foreignObject><text fill=\"black\" font-family=\"Helvetica\" font-size=\"11px\" text-anchor=\"middle\" x=\"225\" y=\"94\">rΔθ</text></switch></g><path d=\"M 235 6 L 267 30 Q 275 36 281 44 L 305 76\" fill=\"none\" pointer-events=\"stroke\" stroke=\"#000000\" stroke-dasharray=\"2 6\" stroke-miterlimit=\"10\" stroke-width=\"2\"/></g><switch><g requiredFeatures=\"http://www.w3.org/TR/SVG11/feature#Extensibility\"/><a target=\"_blank\" transform=\"translate(0,-5)\" xlink:href=\"https://desk.draw.io/support/solutions/articles/16000042487\"><text font-size=\"10px\" text-anchor=\"middle\" x=\"50%\" y=\"100%\">Viewer does not support full SVG 1.1</text></a></switch></svg>"
          },
          "metadata": {
            "tags": []
          }
        }
      ]
    },
    {
      "cell_type": "markdown",
      "metadata": {
        "id": "d2-Bgy7MiR53"
      },
      "source": [
        "#### 極座標表示の位置 ~ 基底ベクトル ~ 単位ベクトル"
      ]
    },
    {
      "cell_type": "markdown",
      "metadata": {
        "id": "OcAbaPEQQzrb"
      },
      "source": [
        "位置ベクトルを二次元極座標 $r,\\theta$を用いて表すと\n",
        "\\begin{align*}\n",
        "\\vec{r}\n",
        "&= \\left(\\begin{array}{c}x\\\\ y\\end{array} \\right)\n",
        "=\n",
        "\\left(\\begin{array}{c}x\\\\ 0\\end{array} \\right)\n",
        "+\n",
        "\\left(\\begin{array}{c}0\\\\ y\\end{array} \\right)&\\\\\n",
        "&=\n",
        "\\left(\\begin{array}{c} r\\cos\\theta\\\\ 0\\end{array} \\right)\n",
        "+\n",
        "\\left(\\begin{array}{c}0\\\\ r\\sin \\theta \\end{array} \\right)&\\\\\n",
        "\\vec{r} &= \\left(\\begin{array}{c} r\\cos\\theta\\\\ r\\sin \\theta \\end{array} \\right)&\n",
        "\\end{align*}"
      ]
    },
    {
      "cell_type": "markdown",
      "metadata": {
        "id": "w3vSLIspRph4"
      },
      "source": [
        "これを整理すると\n",
        "\\begin{align*}\n",
        "\\vec{r} \n",
        "&= \\left(\\begin{array}{c} r\\cos\\theta\\\\ r\\sin \\theta \\end{array} \\right)&\\\\\n",
        "&=\n",
        "r \\left(\\begin{array}{c} \\cos\\theta\\\\ 0\\end{array} \\right)\n",
        "+\n",
        "r \\left(\\begin{array}{c}0\\\\ \\sin \\theta \\end{array} \\right),&\\\\\n",
        "\\end{align*}\n",
        "となります.\n",
        "\n",
        "これから 原点から出発した $\\vec{r}$ の単位ベクトルとして\n",
        "\\begin{align*}\n",
        "\\vec{e}_{r} = \\dfrac{\\vec{r}}{r} \n",
        "= \\left(\\begin{array}{c} \\cos\\theta\\\\ \\sin \\theta \\end{array} \\right)&\n",
        "\\end{align*}\n",
        "が定義されます.\n",
        "\n",
        "> Q. このベクトルが単位円上に現れることを確認してください."
      ]
    },
    {
      "cell_type": "markdown",
      "metadata": {
        "id": "OHSs6kIYSjjk"
      },
      "source": [
        "平面を記述するには, もう一つの単位ベクトルが必要なので, $\\vec{e}_r$ に直交する単位ベクトルを次のように導入します."
      ]
    },
    {
      "cell_type": "markdown",
      "metadata": {
        "id": "3zt0LO2TTQ8i"
      },
      "source": [
        "$\\require{cancel}$\n",
        "\\begin{align*}\n",
        "\\vec{e}_{\\theta} = \\dfrac{{\\rm d}\\vec{e}_r}{{\\rm d}\\theta} = \\left(\\begin{array}{c} -\\sin\\theta\\\\ \\cos \\theta \\end{array} \\right)&\n",
        "\\end{align*}"
      ]
    },
    {
      "cell_type": "markdown",
      "metadata": {
        "id": "b2ESzzchbL8q"
      },
      "source": [
        "この $\\vec{e}_{\\theta}$ については, 次のように微分の定義に戻って考えると幾何学的な意味がはっきりします.\n",
        "\n",
        "\\begin{align*}\n",
        "\\vec{e}_{\\theta} \n",
        "= \\dfrac{{\\rm d}\\vec{e}_r}{{\\rm d}\\theta} \n",
        "= \\lim_{\\Delta \\theta \\to 0} \\dfrac{\\Delta \\vec{e}_{r}}{\\Delta \\theta}\n",
        "= \\lim_{\\Delta \\theta \\to 0} \\dfrac{\\vec{e}_{r'} - \\vec{e}_{r}}{\\Delta \\theta}\n",
        "\\end{align*}\n",
        "\n",
        "$\\vec{e}_{r}:\\theta$ , $\\vec{e}_{r'}:(\\theta+\\Delta \\theta)$, として単位円上に作図し, $\\Delta \\theta \\to 0$ をとれば 反時計回りに回る接線ベクトルが $\\vec{e}_{\\theta}$ に相当します."
      ]
    },
    {
      "cell_type": "markdown",
      "metadata": {
        "id": "qENoULbDdZEx"
      },
      "source": [
        "求め方は\n",
        "\\begin{align*}\n",
        "\\vec{e}_{\\theta}\n",
        "&= \\dfrac{{\\rm d}\\vec{e}_r}{{\\rm d}\\theta} \n",
        "=\\begin{cases}\n",
        "\\left(\\begin{array}{c} \n",
        "\\dfrac{{\\rm d}\\cos\\theta}{{\\rm d}\\theta} \\\\\n",
        "\\dfrac{{\\rm d}\\sin \\theta}{{\\rm d}\\theta} \\end{array} \\right)\\\\\n",
        "\\left(\\begin{array}{c} \\cos\\left(\\theta+\\pi/2\\right) \\\\\n",
        " \\sin \\left(\\theta +\\pi/2\\right)\\end{array} \\right)\n",
        "\\end{cases}\\\\\n",
        "&= \\left(\\begin{array}{c} -\\sin\\theta\\\\ \\cos \\theta \\end{array} \\right)&\n",
        "\\end{align*}"
      ]
    },
    {
      "cell_type": "markdown",
      "metadata": {
        "id": "X09YsCaQeyE2"
      },
      "source": [
        "> Q. $|\\vec{e}_{r}|, |\\vec{e}_{\\theta}|$ と $\\vec{e}_{r}\\cdot\\vec{e}_{\\theta}$ を求めてください.\n",
        "\n",
        "> Q. 教科書 p23 図の 1-18 で $\\vec{e}_{r}, \\vec{e}_{\\theta}$ の起点を確認してください.\n"
      ]
    },
    {
      "cell_type": "markdown",
      "metadata": {
        "id": "1rHdIjyB2woP"
      },
      "source": [
        "$\\require{color}$\n",
        "##### 極座表示における単位ベクトルの図形的意味\n",
        "\bより適切には, 下の図を参考に\n",
        "\\begin{align*}\n",
        "\\vec{e}_{r} \n",
        "\\textcolor{red}{=} \\dfrac{\\partial\\vec{r}}{\\partial r} \n",
        "=\\left(\\begin{array}{c} \\cos\\theta\\\\ \\sin \\theta \\end{array} \\right),&\n",
        "\\qquad\n",
        "\\vec{e}_{\\theta}\n",
        "\\textcolor{lightgreen}{=}  \\dfrac{\\partial \\vec{r}}{r\\ \\partial\\theta}\n",
        "= \\dfrac{\\partial({r} \\vec{e}_r)}{{r}\\partial\\theta}\n",
        "= \\dfrac{\\bcancel{r}\\partial( \\vec{e}_r)}{\\bcancel{r}\\partial\\theta}\n",
        "= \\dfrac{\\partial \\vec{e}_r}{\\partial\\theta} \n",
        "= \\dfrac{{\\rm d}\\vec{e}_r}{{\\rm d}\\theta} \n",
        "\\end{align*}"
      ]
    },
    {
      "cell_type": "code",
      "metadata": {
        "id": "ywNgTon13ET0",
        "cellView": "form",
        "colab": {
          "base_uri": "https://localhost:8080/",
          "height": 286
        },
        "outputId": "8fbe2fde-8bd1-46a2-ddcb-e362de7797e4"
      },
      "source": [
        "#@title r,θ\b[白丸] を少し増やし r+Δr,θ+Δθ [黒丸]を観察\n",
        "%%svg\n",
        "<svg xmlns=\"http://www.w3.org/2000/svg\" xmlns:xlink=\"http://www.w3.org/1999/xlink\" version=\"1.1\" width=\"344px\" viewBox=\"-0.5 -0.5 344 265\" content=\"&lt;mxfile host=&quot;app.diagrams.net&quot; modified=&quot;2020-10-21T01:34:52.817Z&quot; agent=&quot;5.0 (Macintosh; Intel Mac OS X 10_15_7) AppleWebKit/537.36 (KHTML, like Gecko) Chrome/86.0.4240.80 Safari/537.36&quot; etag=&quot;RbF_3KMQi79Bzw5lF2BU&quot; version=&quot;13.7.9&quot; type=&quot;google&quot;&gt;&lt;diagram id=&quot;ucvjJEO1TBNguIxzToBL&quot; name=&quot;Page-1&quot;&gt;7VpLc6M4EP41HO0CCTA+xnacqa3dqtnKbu3MUQFhq4IRI3Biz69fCQRGPGzjwcRJJgcHWqLVdLe+fiANzje7B4ai9V/Uw4EGdG+nwYUGgKXb/FcQ9hkB2kZGWDHiZaQS4ZH8xJKoS+qWeDhWJiaUBgmJVKJLwxC7iUJDjNFXdZpPA3XVCK1wjfDooqBO/Y94yVq+lgMP9C+YrNZyZdOQAxuUz5UvEq+RR19LJHivwTmjNMmuNrs5DoTqcrVkzy1bRgu5GA6Tcx74d+P/pPdf/v7DeV7Mf3xz9/v5PyPJ5QUFW/m+UthknysAh96d0CO/cwMUx8TV4GydbAJOMPhlXQ7JFHuKZqVUD5hucML2fMJrSZ9SSeuSKnMawwFKyItqDyTNuirYFSt8pYRLAnTpgUZuAOmAwNFVFjHdMhfLp8oKrDAy9ROMEsRWOKkx4hel1z6QUvt0sBX4BLayVRVDcKGtqowGNhXsZKqQhpw481C8xp60VMlojG5DLx3Q5ayvKEkwC9NxoJvv0LBAv9CwhSU7bkKua7QvTYvEhLhd4No6uoKu/CLj2KvbmA1uYwfcEjOiOI/9YyuixsynYTLy0YYEfNU7TWwWG22i1B8gFH7BLcNWBNXoYm76m7KI06grGAAz2h3486uV+L/PxeBvRXJiTosjFL6pdNmiuXyZOKqIb6s9VjwfPsVRSayb1GZMQm1+r82cVp1WgYwjzJ/oiWd9CmqhgKwEQrkckTDjhBfMEsLzqjs5sCGeJ3jMGOYyoaeUn5BUbk3O3Jpp1kK++5wGlB3AMhArzpD7vErhsTJah8OjMM0lwzsF2WQ2KaVSMjYFPeVTI31sm70A5cixFdwZVSMg9f0YXyVoWTeKPrub3i+/0adPaV0a/0afrujDwWfaC/iYas5jGUNBT17sH02Yg4DX/EK/r2uS4McIuWLklaGoYvs4yhoBPtmJtPmEtRrM65MgyEncj/X071iWXbNhq63A1FJ0nIeNUhpuNKThht5uS8UYnTV/TgdgOM33oeGJqmEj1/ibqbhbNdhYuDeoimuI7b9J1EpvvsvJ6c1iVx5a7OVdnDD6XHSyYDruLUlwskOQ1VVneNKtVpyXtn0Kx8gZwYHbPk3ukwVH4RUismb78RBNH4pYXIRXPc47qznNaMhlTmcs56QbrekFp2Uif7xgbvQYzYFhmmoRYPSzJZxxha85Npxp+c8aLOI7nUDxRItMRbUWwGyFto+GWLDSqJ4MDFg9NKrPMmg2qZSoLZenErUbMXVbd7G7qScqI8Mc2NbtLctOwelUsDEcNdhwUM2tfiBC30/tX49rvKScmqXo9rljVbFB++h7GfYUXCNYAZUrj1RwqNgEJgMB2M3DVF+fTms5tHUeTHX+alMVeDLAVxvQlMooGNgd3s5BzQO2Ke2yD4ta+a7sA7WgUwGtnrr3AI4tpxEOrw9bsIfDHJflXbo+WS6X7wLQJio+wEpQORvQ9AqjavfoWoAGBgA02JTADwBozUkddy7f91uTus8Cf7CtEXph0ja9RtI2HYMK+jlj3RkMAE92yob0W8jLESHRkSbbsTKkuWSpuXv3uuVKEUDU3r8UAYr2l26aleCco/ZAQWKi7g2j2hU7O0iY6mYwrAqjvoKEXVnnWNZbe1o9b2APtlmbjhtc3ACsn4qDNV8G77MIO9XNu3arqKs3wspXZOPXTs7x28MZ6Wz64Zw5vP8f&lt;/diagram&gt;&lt;/mxfile&gt;\" onclick=\"(function(svg){var src=window.event.target||window.event.srcElement;while (src!=null&amp;&amp;src.nodeName.toLowerCase()!='a'){src=src.parentNode;}if(src==null){if(svg.wnd!=null&amp;&amp;!svg.wnd.closed){svg.wnd.focus();}else{var r=function(evt){if(evt.data=='ready'&amp;&amp;evt.source==svg.wnd){svg.wnd.postMessage(decodeURIComponent(svg.getAttribute('content')),'*');window.removeEventListener('message',r);}};window.addEventListener('message',r);svg.wnd=window.open('https://viewer.diagrams.net/?client=1&amp;edit=_blank');}}})(this);\" style=\"cursor:pointer;max-width:100%;max-height:265px;\"><defs/><g><path d=\"M 55 216 L 328.63 216\" fill=\"none\" stroke=\"#000000\" stroke-miterlimit=\"10\" pointer-events=\"stroke\"/><path d=\"M 333.88 216 L 326.88 219.5 L 328.63 216 L 326.88 212.5 Z\" fill=\"#000000\" stroke=\"#000000\" stroke-miterlimit=\"10\" pointer-events=\"all\"/><path d=\"M 95 256 L 95 22.37\" fill=\"none\" stroke=\"#000000\" stroke-miterlimit=\"10\" pointer-events=\"stroke\"/><path d=\"M 95 17.12 L 98.5 24.12 L 95 22.37 L 91.5 24.12 Z\" fill=\"#000000\" stroke=\"#000000\" stroke-miterlimit=\"10\" pointer-events=\"all\"/><path d=\"M 95 136 L 215 136 L 215 216\" fill=\"none\" stroke=\"#000000\" stroke-miterlimit=\"10\" stroke-dasharray=\"1 4\" pointer-events=\"stroke\"/><g transform=\"translate(-0.5 -0.5)\"><switch><foreignObject style=\"overflow: visible; text-align: left;\" pointer-events=\"none\" width=\"100%\" height=\"100%\" requiredFeatures=\"http://www.w3.org/TR/SVG11/feature#Extensibility\"><div xmlns=\"http://www.w3.org/1999/xhtml\" style=\"display: flex; align-items: unsafe center; justify-content: unsafe center; width: 1px; height: 1px; padding-top: 117px; margin-left: 46px;\"><div style=\"box-sizing: border-box; font-size: 0; text-align: center; \"><div style=\"display: inline-block; font-size: 11px; font-family: Helvetica; color: black; line-height: 1.2; pointer-events: all; white-space: nowrap; \"><i style=\"font-family: &quot;georgia&quot; ; font-size: 24px\">y</i><span style=\"font-family: &quot;georgia&quot; ; font-size: 24px\">=</span><i style=\"font-family: &quot;georgia&quot; ; font-size: 24px\">r </i><span style=\"font-family: &quot;georgia&quot; ; font-size: 24px\">sinθ</span></div></div></div></foreignObject><text x=\"46\" y=\"120\" fill=\"black\" font-family=\"Helvetica\" font-size=\"11px\" text-anchor=\"middle\">y=r sinθ</text></switch></g><g transform=\"translate(-0.5 -0.5)\"><switch><foreignObject style=\"overflow: visible; text-align: left;\" pointer-events=\"none\" width=\"100%\" height=\"100%\" requiredFeatures=\"http://www.w3.org/TR/SVG11/feature#Extensibility\"><div xmlns=\"http://www.w3.org/1999/xhtml\" style=\"display: flex; align-items: unsafe center; justify-content: unsafe center; width: 1px; height: 1px; padding-top: 237px; margin-left: 256px;\"><div style=\"box-sizing: border-box; font-size: 0; text-align: center; \"><div style=\"display: inline-block; font-size: 11px; font-family: Helvetica; color: black; line-height: 1.2; pointer-events: all; white-space: nowrap; \"><i style=\"font-family: &quot;georgia&quot; ; font-size: 24px\">x</i><span style=\"font-family: &quot;georgia&quot; ; font-size: 24px\">=</span><i style=\"font-family: &quot;georgia&quot; ; font-size: 24px\">r </i><span style=\"font-family: &quot;georgia&quot; ; font-size: 24px\">cosθ</span></div></div></div></foreignObject><text x=\"256\" y=\"240\" fill=\"black\" font-family=\"Helvetica\" font-size=\"11px\" text-anchor=\"middle\">x=r cosθ</text></switch></g><ellipse cx=\"235\" cy=\"5\" rx=\"5\" ry=\"5\" fill=\"#000000\" stroke=\"#000000\" pointer-events=\"all\"/><ellipse cx=\"215\" cy=\"136\" rx=\"5\" ry=\"5\" fill=\"#ffffff\" stroke=\"#000000\" pointer-events=\"all\"/><path d=\"M 95 216 L 203.02 145.08\" fill=\"none\" stroke=\"#000000\" stroke-width=\"3\" stroke-miterlimit=\"10\" pointer-events=\"stroke\"/><path d=\"M 208.66 141.38 L 203.61 150.08 L 203.02 145.08 L 198.67 142.55 Z\" fill=\"#000000\" stroke=\"#000000\" stroke-width=\"3\" stroke-miterlimit=\"10\" pointer-events=\"all\"/><g transform=\"translate(-0.5 -0.5)\"><switch><foreignObject style=\"overflow: visible; text-align: left;\" pointer-events=\"none\" width=\"100%\" height=\"100%\" requiredFeatures=\"http://www.w3.org/TR/SVG11/feature#Extensibility\"><div xmlns=\"http://www.w3.org/1999/xhtml\" style=\"display: flex; align-items: unsafe center; justify-content: unsafe center; width: 1px; height: 1px; padding-top: 166px; margin-left: 186px;\"><div style=\"box-sizing: border-box; font-size: 0; text-align: center; \"><div style=\"display: inline-block; font-size: 11px; font-family: Helvetica; color: black; line-height: 1.2; pointer-events: all; white-space: nowrap; \"><font face=\"Georgia\" size=\"1\"><i style=\"font-size: 24px\">r</i></font></div></div></div></foreignObject><text x=\"186\" y=\"170\" fill=\"black\" font-family=\"Helvetica\" font-size=\"11px\" text-anchor=\"middle\">r</text></switch></g><path d=\"M 95 216 L 235 6\" fill=\"none\" stroke=\"#000000\" stroke-miterlimit=\"10\" stroke-dasharray=\"3 3\" pointer-events=\"stroke\"/><path d=\"M 215 136 L 299.7 79.53\" fill=\"none\" stroke=\"#ff0000\" stroke-miterlimit=\"10\" pointer-events=\"stroke\"/><path d=\"M 304.07 76.62 L 300.19 83.42 L 299.7 79.53 L 296.3 77.59 Z\" fill=\"#ff0000\" stroke=\"#ff0000\" stroke-miterlimit=\"10\" pointer-events=\"all\"/><g transform=\"translate(-0.5 -0.5)\"><switch><foreignObject style=\"overflow: visible; text-align: left;\" pointer-events=\"none\" width=\"100%\" height=\"100%\" requiredFeatures=\"http://www.w3.org/TR/SVG11/feature#Extensibility\"><div xmlns=\"http://www.w3.org/1999/xhtml\" style=\"display: flex; align-items: unsafe center; justify-content: unsafe center; width: 1px; height: 1px; padding-top: 117px; margin-left: 275px;\"><div style=\"box-sizing: border-box; font-size: 0; text-align: center; \"><div style=\"display: inline-block; font-size: 11px; font-family: Helvetica; color: black; line-height: 1.2; pointer-events: all; white-space: nowrap; \"><font face=\"Georgia\" style=\"font-size: 18px\" color=\"#ff0000\">Δ<i>r</i></font></div></div></div></foreignObject><text x=\"275\" y=\"120\" fill=\"black\" font-family=\"Helvetica\" font-size=\"11px\" text-anchor=\"middle\">Δr</text></switch></g><path d=\"M 155 216 L 155 211 Q 155 206 151.42 198.85 L 147.85 191.7\" fill=\"none\" stroke=\"#000000\" stroke-miterlimit=\"10\" pointer-events=\"stroke\"/><path d=\"M 145.5 187 L 151.76 191.7 L 147.85 191.7 L 145.5 194.83 Z\" fill=\"#000000\" stroke=\"#000000\" stroke-miterlimit=\"10\" pointer-events=\"all\"/><g transform=\"translate(-0.5 -0.5)\"><switch><foreignObject style=\"overflow: visible; text-align: left;\" pointer-events=\"none\" width=\"100%\" height=\"100%\" requiredFeatures=\"http://www.w3.org/TR/SVG11/feature#Extensibility\"><div xmlns=\"http://www.w3.org/1999/xhtml\" style=\"display: flex; align-items: unsafe center; justify-content: unsafe center; width: 1px; height: 1px; padding-top: 204px; margin-left: 135px;\"><div style=\"box-sizing: border-box; font-size: 0; text-align: center; \"><div style=\"display: inline-block; font-size: 11px; font-family: Helvetica; color: black; line-height: 1.2; pointer-events: all; white-space: nowrap; \"><font style=\"font-size: 18px\" face=\"Georgia\">θ</font></div></div></div></foreignObject><text x=\"135\" y=\"207\" fill=\"black\" font-family=\"Helvetica\" font-size=\"11px\" text-anchor=\"middle\">θ</text></switch></g><path d=\"M 162 169 L 158.5 162.5 Q 155 156 151.02 152.94 L 147.05 149.88\" fill=\"none\" stroke=\"#007fff\" stroke-miterlimit=\"10\" pointer-events=\"stroke\"/><path d=\"M 142.89 146.68 L 150.57 148.18 L 147.05 149.88 L 146.3 153.72 Z\" fill=\"#007fff\" stroke=\"#007fff\" stroke-miterlimit=\"10\" pointer-events=\"all\"/><g transform=\"translate(-0.5 -0.5)\"><switch><foreignObject style=\"overflow: visible; text-align: left;\" pointer-events=\"none\" width=\"100%\" height=\"100%\" requiredFeatures=\"http://www.w3.org/TR/SVG11/feature#Extensibility\"><div xmlns=\"http://www.w3.org/1999/xhtml\" style=\"display: flex; align-items: unsafe center; justify-content: unsafe center; width: 1px; height: 1px; padding-top: 149px; margin-left: 166px;\"><div style=\"box-sizing: border-box; font-size: 0; text-align: center; \"><div style=\"display: inline-block; font-size: 11px; font-family: Helvetica; color: black; line-height: 1.2; pointer-events: all; white-space: nowrap; \"><font style=\"font-size: 18px\" face=\"Georgia\" color=\"#007fff\">Δθ</font></div></div></div></foreignObject><text x=\"166\" y=\"153\" fill=\"black\" font-family=\"Helvetica\" font-size=\"11px\" text-anchor=\"middle\">Δθ</text></switch></g><path d=\"M 214 131 L 207.03 115.15 Q 203 106 195.55 100.41 L 188.09 94.82\" fill=\"none\" stroke=\"#00ff00\" stroke-miterlimit=\"10\" pointer-events=\"stroke\"/><path d=\"M 183.89 91.67 L 191.59 93.07 L 188.09 94.82 L 187.39 98.67 Z\" fill=\"#00ff00\" stroke=\"#00ff00\" stroke-miterlimit=\"10\" pointer-events=\"all\"/><g transform=\"translate(-0.5 -0.5)\"><switch><foreignObject style=\"overflow: visible; text-align: left;\" pointer-events=\"none\" width=\"100%\" height=\"100%\" requiredFeatures=\"http://www.w3.org/TR/SVG11/feature#Extensibility\"><div xmlns=\"http://www.w3.org/1999/xhtml\" style=\"display: flex; align-items: unsafe center; justify-content: unsafe center; width: 1px; height: 1px; padding-top: 91px; margin-left: 225px;\"><div style=\"box-sizing: border-box; font-size: 0; text-align: center; \"><div style=\"display: inline-block; font-size: 11px; font-family: Helvetica; color: black; line-height: 1.2; pointer-events: all; background-color: #ffffff; white-space: nowrap; \"><font style=\"font-size: 18px\" face=\"Georgia\" color=\"#33ff33\"><i>r</i>Δ<i>θ</i></font></div></div></div></foreignObject><text x=\"225\" y=\"94\" fill=\"black\" font-family=\"Helvetica\" font-size=\"11px\" text-anchor=\"middle\">rΔθ</text></switch></g><path d=\"M 235 6 L 267 30 Q 275 36 281 44 L 305 76\" fill=\"none\" stroke=\"#000000\" stroke-width=\"2\" stroke-miterlimit=\"10\" stroke-dasharray=\"2 6\" pointer-events=\"stroke\"/></g><switch><g requiredFeatures=\"http://www.w3.org/TR/SVG11/feature#Extensibility\"/><a transform=\"translate(0,-5)\" xlink:href=\"https://desk.draw.io/support/solutions/articles/16000042487\" target=\"_blank\"><text text-anchor=\"middle\" font-size=\"10px\" x=\"50%\" y=\"100%\">Viewer does not support full SVG 1.1</text></a></switch></svg>"
      ],
      "execution_count": null,
      "outputs": [
        {
          "output_type": "display_data",
          "data": {
            "text/plain": [
              "<IPython.core.display.SVG object>"
            ],
            "image/svg+xml": "<svg content=\"&lt;mxfile host=&quot;app.diagrams.net&quot; modified=&quot;2020-10-21T01:34:52.817Z&quot; agent=&quot;5.0 (Macintosh; Intel Mac OS X 10_15_7) AppleWebKit/537.36 (KHTML, like Gecko) Chrome/86.0.4240.80 Safari/537.36&quot; etag=&quot;RbF_3KMQi79Bzw5lF2BU&quot; version=&quot;13.7.9&quot; type=&quot;google&quot;&gt;&lt;diagram id=&quot;ucvjJEO1TBNguIxzToBL&quot; name=&quot;Page-1&quot;&gt;7VpLc6M4EP41HO0CCTA+xnacqa3dqtnKbu3MUQFhq4IRI3Biz69fCQRGPGzjwcRJJgcHWqLVdLe+fiANzje7B4ai9V/Uw4EGdG+nwYUGgKXb/FcQ9hkB2kZGWDHiZaQS4ZH8xJKoS+qWeDhWJiaUBgmJVKJLwxC7iUJDjNFXdZpPA3XVCK1wjfDooqBO/Y94yVq+lgMP9C+YrNZyZdOQAxuUz5UvEq+RR19LJHivwTmjNMmuNrs5DoTqcrVkzy1bRgu5GA6Tcx74d+P/pPdf/v7DeV7Mf3xz9/v5PyPJ5QUFW/m+UthknysAh96d0CO/cwMUx8TV4GydbAJOMPhlXQ7JFHuKZqVUD5hucML2fMJrSZ9SSeuSKnMawwFKyItqDyTNuirYFSt8pYRLAnTpgUZuAOmAwNFVFjHdMhfLp8oKrDAy9ROMEsRWOKkx4hel1z6QUvt0sBX4BLayVRVDcKGtqowGNhXsZKqQhpw481C8xp60VMlojG5DLx3Q5ayvKEkwC9NxoJvv0LBAv9CwhSU7bkKua7QvTYvEhLhd4No6uoKu/CLj2KvbmA1uYwfcEjOiOI/9YyuixsynYTLy0YYEfNU7TWwWG22i1B8gFH7BLcNWBNXoYm76m7KI06grGAAz2h3486uV+L/PxeBvRXJiTosjFL6pdNmiuXyZOKqIb6s9VjwfPsVRSayb1GZMQm1+r82cVp1WgYwjzJ/oiWd9CmqhgKwEQrkckTDjhBfMEsLzqjs5sCGeJ3jMGOYyoaeUn5BUbk3O3Jpp1kK++5wGlB3AMhArzpD7vErhsTJah8OjMM0lwzsF2WQ2KaVSMjYFPeVTI31sm70A5cixFdwZVSMg9f0YXyVoWTeKPrub3i+/0adPaV0a/0afrujDwWfaC/iYas5jGUNBT17sH02Yg4DX/EK/r2uS4McIuWLklaGoYvs4yhoBPtmJtPmEtRrM65MgyEncj/X071iWXbNhq63A1FJ0nIeNUhpuNKThht5uS8UYnTV/TgdgOM33oeGJqmEj1/ibqbhbNdhYuDeoimuI7b9J1EpvvsvJ6c1iVx5a7OVdnDD6XHSyYDruLUlwskOQ1VVneNKtVpyXtn0Kx8gZwYHbPk3ukwVH4RUismb78RBNH4pYXIRXPc47qznNaMhlTmcs56QbrekFp2Uif7xgbvQYzYFhmmoRYPSzJZxxha85Npxp+c8aLOI7nUDxRItMRbUWwGyFto+GWLDSqJ4MDFg9NKrPMmg2qZSoLZenErUbMXVbd7G7qScqI8Mc2NbtLctOwelUsDEcNdhwUM2tfiBC30/tX49rvKScmqXo9rljVbFB++h7GfYUXCNYAZUrj1RwqNgEJgMB2M3DVF+fTms5tHUeTHX+alMVeDLAVxvQlMooGNgd3s5BzQO2Ke2yD4ta+a7sA7WgUwGtnrr3AI4tpxEOrw9bsIfDHJflXbo+WS6X7wLQJio+wEpQORvQ9AqjavfoWoAGBgA02JTADwBozUkddy7f91uTus8Cf7CtEXph0ja9RtI2HYMK+jlj3RkMAE92yob0W8jLESHRkSbbsTKkuWSpuXv3uuVKEUDU3r8UAYr2l26aleCco/ZAQWKi7g2j2hU7O0iY6mYwrAqjvoKEXVnnWNZbe1o9b2APtlmbjhtc3ACsn4qDNV8G77MIO9XNu3arqKs3wspXZOPXTs7x28MZ6Wz64Zw5vP8f&lt;/diagram&gt;&lt;/mxfile&gt;\" onclick=\"(function(svg){var src=window.event.target||window.event.srcElement;while (src!=null&amp;&amp;src.nodeName.toLowerCase()!='a'){src=src.parentNode;}if(src==null){if(svg.wnd!=null&amp;&amp;!svg.wnd.closed){svg.wnd.focus();}else{var r=function(evt){if(evt.data=='ready'&amp;&amp;evt.source==svg.wnd){svg.wnd.postMessage(decodeURIComponent(svg.getAttribute('content')),'*');window.removeEventListener('message',r);}};window.addEventListener('message',r);svg.wnd=window.open('https://viewer.diagrams.net/?client=1&amp;edit=_blank');}}})(this);\" style=\"cursor:pointer;max-width:100%;max-height:265px;\" version=\"1.1\" viewBox=\"-0.5 -0.5 344 265\" width=\"344px\" xmlns=\"http://www.w3.org/2000/svg\" xmlns:xlink=\"http://www.w3.org/1999/xlink\"><defs/><g><path d=\"M 55 216 L 328.63 216\" fill=\"none\" pointer-events=\"stroke\" stroke=\"#000000\" stroke-miterlimit=\"10\"/><path d=\"M 333.88 216 L 326.88 219.5 L 328.63 216 L 326.88 212.5 Z\" fill=\"#000000\" pointer-events=\"all\" stroke=\"#000000\" stroke-miterlimit=\"10\"/><path d=\"M 95 256 L 95 22.37\" fill=\"none\" pointer-events=\"stroke\" stroke=\"#000000\" stroke-miterlimit=\"10\"/><path d=\"M 95 17.12 L 98.5 24.12 L 95 22.37 L 91.5 24.12 Z\" fill=\"#000000\" pointer-events=\"all\" stroke=\"#000000\" stroke-miterlimit=\"10\"/><path d=\"M 95 136 L 215 136 L 215 216\" fill=\"none\" pointer-events=\"stroke\" stroke=\"#000000\" stroke-dasharray=\"1 4\" stroke-miterlimit=\"10\"/><g transform=\"translate(-0.5 -0.5)\"><switch><foreignObject height=\"100%\" pointer-events=\"none\" requiredFeatures=\"http://www.w3.org/TR/SVG11/feature#Extensibility\" style=\"overflow: visible; text-align: left;\" width=\"100%\"><div style=\"display: flex; align-items: unsafe center; justify-content: unsafe center; width: 1px; height: 1px; padding-top: 117px; margin-left: 46px;\" xmlns=\"http://www.w3.org/1999/xhtml\"><div style=\"box-sizing: border-box; font-size: 0; text-align: center; \"><div style=\"display: inline-block; font-size: 11px; font-family: Helvetica; color: black; line-height: 1.2; pointer-events: all; white-space: nowrap; \"><i style=\"font-family: &quot;georgia&quot; ; font-size: 24px\">y</i><span style=\"font-family: &quot;georgia&quot; ; font-size: 24px\">=</span><i style=\"font-family: &quot;georgia&quot; ; font-size: 24px\">r </i><span style=\"font-family: &quot;georgia&quot; ; font-size: 24px\">sinθ</span></div></div></div></foreignObject><text fill=\"black\" font-family=\"Helvetica\" font-size=\"11px\" text-anchor=\"middle\" x=\"46\" y=\"120\">y=r sinθ</text></switch></g><g transform=\"translate(-0.5 -0.5)\"><switch><foreignObject height=\"100%\" pointer-events=\"none\" requiredFeatures=\"http://www.w3.org/TR/SVG11/feature#Extensibility\" style=\"overflow: visible; text-align: left;\" width=\"100%\"><div style=\"display: flex; align-items: unsafe center; justify-content: unsafe center; width: 1px; height: 1px; padding-top: 237px; margin-left: 256px;\" xmlns=\"http://www.w3.org/1999/xhtml\"><div style=\"box-sizing: border-box; font-size: 0; text-align: center; \"><div style=\"display: inline-block; font-size: 11px; font-family: Helvetica; color: black; line-height: 1.2; pointer-events: all; white-space: nowrap; \"><i style=\"font-family: &quot;georgia&quot; ; font-size: 24px\">x</i><span style=\"font-family: &quot;georgia&quot; ; font-size: 24px\">=</span><i style=\"font-family: &quot;georgia&quot; ; font-size: 24px\">r </i><span style=\"font-family: &quot;georgia&quot; ; font-size: 24px\">cosθ</span></div></div></div></foreignObject><text fill=\"black\" font-family=\"Helvetica\" font-size=\"11px\" text-anchor=\"middle\" x=\"256\" y=\"240\">x=r cosθ</text></switch></g><ellipse cx=\"235\" cy=\"5\" fill=\"#000000\" pointer-events=\"all\" rx=\"5\" ry=\"5\" stroke=\"#000000\"/><ellipse cx=\"215\" cy=\"136\" fill=\"#ffffff\" pointer-events=\"all\" rx=\"5\" ry=\"5\" stroke=\"#000000\"/><path d=\"M 95 216 L 203.02 145.08\" fill=\"none\" pointer-events=\"stroke\" stroke=\"#000000\" stroke-miterlimit=\"10\" stroke-width=\"3\"/><path d=\"M 208.66 141.38 L 203.61 150.08 L 203.02 145.08 L 198.67 142.55 Z\" fill=\"#000000\" pointer-events=\"all\" stroke=\"#000000\" stroke-miterlimit=\"10\" stroke-width=\"3\"/><g transform=\"translate(-0.5 -0.5)\"><switch><foreignObject height=\"100%\" pointer-events=\"none\" requiredFeatures=\"http://www.w3.org/TR/SVG11/feature#Extensibility\" style=\"overflow: visible; text-align: left;\" width=\"100%\"><div style=\"display: flex; align-items: unsafe center; justify-content: unsafe center; width: 1px; height: 1px; padding-top: 166px; margin-left: 186px;\" xmlns=\"http://www.w3.org/1999/xhtml\"><div style=\"box-sizing: border-box; font-size: 0; text-align: center; \"><div style=\"display: inline-block; font-size: 11px; font-family: Helvetica; color: black; line-height: 1.2; pointer-events: all; white-space: nowrap; \"><font face=\"Georgia\" size=\"1\"><i style=\"font-size: 24px\">r</i></font></div></div></div></foreignObject><text fill=\"black\" font-family=\"Helvetica\" font-size=\"11px\" text-anchor=\"middle\" x=\"186\" y=\"170\">r</text></switch></g><path d=\"M 95 216 L 235 6\" fill=\"none\" pointer-events=\"stroke\" stroke=\"#000000\" stroke-dasharray=\"3 3\" stroke-miterlimit=\"10\"/><path d=\"M 215 136 L 299.7 79.53\" fill=\"none\" pointer-events=\"stroke\" stroke=\"#ff0000\" stroke-miterlimit=\"10\"/><path d=\"M 304.07 76.62 L 300.19 83.42 L 299.7 79.53 L 296.3 77.59 Z\" fill=\"#ff0000\" pointer-events=\"all\" stroke=\"#ff0000\" stroke-miterlimit=\"10\"/><g transform=\"translate(-0.5 -0.5)\"><switch><foreignObject height=\"100%\" pointer-events=\"none\" requiredFeatures=\"http://www.w3.org/TR/SVG11/feature#Extensibility\" style=\"overflow: visible; text-align: left;\" width=\"100%\"><div style=\"display: flex; align-items: unsafe center; justify-content: unsafe center; width: 1px; height: 1px; padding-top: 117px; margin-left: 275px;\" xmlns=\"http://www.w3.org/1999/xhtml\"><div style=\"box-sizing: border-box; font-size: 0; text-align: center; \"><div style=\"display: inline-block; font-size: 11px; font-family: Helvetica; color: black; line-height: 1.2; pointer-events: all; white-space: nowrap; \"><font color=\"#ff0000\" face=\"Georgia\" style=\"font-size: 18px\">Δ<i>r</i></font></div></div></div></foreignObject><text fill=\"black\" font-family=\"Helvetica\" font-size=\"11px\" text-anchor=\"middle\" x=\"275\" y=\"120\">Δr</text></switch></g><path d=\"M 155 216 L 155 211 Q 155 206 151.42 198.85 L 147.85 191.7\" fill=\"none\" pointer-events=\"stroke\" stroke=\"#000000\" stroke-miterlimit=\"10\"/><path d=\"M 145.5 187 L 151.76 191.7 L 147.85 191.7 L 145.5 194.83 Z\" fill=\"#000000\" pointer-events=\"all\" stroke=\"#000000\" stroke-miterlimit=\"10\"/><g transform=\"translate(-0.5 -0.5)\"><switch><foreignObject height=\"100%\" pointer-events=\"none\" requiredFeatures=\"http://www.w3.org/TR/SVG11/feature#Extensibility\" style=\"overflow: visible; text-align: left;\" width=\"100%\"><div style=\"display: flex; align-items: unsafe center; justify-content: unsafe center; width: 1px; height: 1px; padding-top: 204px; margin-left: 135px;\" xmlns=\"http://www.w3.org/1999/xhtml\"><div style=\"box-sizing: border-box; font-size: 0; text-align: center; \"><div style=\"display: inline-block; font-size: 11px; font-family: Helvetica; color: black; line-height: 1.2; pointer-events: all; white-space: nowrap; \"><font face=\"Georgia\" style=\"font-size: 18px\">θ</font></div></div></div></foreignObject><text fill=\"black\" font-family=\"Helvetica\" font-size=\"11px\" text-anchor=\"middle\" x=\"135\" y=\"207\">θ</text></switch></g><path d=\"M 162 169 L 158.5 162.5 Q 155 156 151.02 152.94 L 147.05 149.88\" fill=\"none\" pointer-events=\"stroke\" stroke=\"#007fff\" stroke-miterlimit=\"10\"/><path d=\"M 142.89 146.68 L 150.57 148.18 L 147.05 149.88 L 146.3 153.72 Z\" fill=\"#007fff\" pointer-events=\"all\" stroke=\"#007fff\" stroke-miterlimit=\"10\"/><g transform=\"translate(-0.5 -0.5)\"><switch><foreignObject height=\"100%\" pointer-events=\"none\" requiredFeatures=\"http://www.w3.org/TR/SVG11/feature#Extensibility\" style=\"overflow: visible; text-align: left;\" width=\"100%\"><div style=\"display: flex; align-items: unsafe center; justify-content: unsafe center; width: 1px; height: 1px; padding-top: 149px; margin-left: 166px;\" xmlns=\"http://www.w3.org/1999/xhtml\"><div style=\"box-sizing: border-box; font-size: 0; text-align: center; \"><div style=\"display: inline-block; font-size: 11px; font-family: Helvetica; color: black; line-height: 1.2; pointer-events: all; white-space: nowrap; \"><font color=\"#007fff\" face=\"Georgia\" style=\"font-size: 18px\">Δθ</font></div></div></div></foreignObject><text fill=\"black\" font-family=\"Helvetica\" font-size=\"11px\" text-anchor=\"middle\" x=\"166\" y=\"153\">Δθ</text></switch></g><path d=\"M 214 131 L 207.03 115.15 Q 203 106 195.55 100.41 L 188.09 94.82\" fill=\"none\" pointer-events=\"stroke\" stroke=\"#00ff00\" stroke-miterlimit=\"10\"/><path d=\"M 183.89 91.67 L 191.59 93.07 L 188.09 94.82 L 187.39 98.67 Z\" fill=\"#00ff00\" pointer-events=\"all\" stroke=\"#00ff00\" stroke-miterlimit=\"10\"/><g transform=\"translate(-0.5 -0.5)\"><switch><foreignObject height=\"100%\" pointer-events=\"none\" requiredFeatures=\"http://www.w3.org/TR/SVG11/feature#Extensibility\" style=\"overflow: visible; text-align: left;\" width=\"100%\"><div style=\"display: flex; align-items: unsafe center; justify-content: unsafe center; width: 1px; height: 1px; padding-top: 91px; margin-left: 225px;\" xmlns=\"http://www.w3.org/1999/xhtml\"><div style=\"box-sizing: border-box; font-size: 0; text-align: center; \"><div style=\"display: inline-block; font-size: 11px; font-family: Helvetica; color: black; line-height: 1.2; pointer-events: all; background-color: #ffffff; white-space: nowrap; \"><font color=\"#33ff33\" face=\"Georgia\" style=\"font-size: 18px\"><i>r</i>Δ<i>θ</i></font></div></div></div></foreignObject><text fill=\"black\" font-family=\"Helvetica\" font-size=\"11px\" text-anchor=\"middle\" x=\"225\" y=\"94\">rΔθ</text></switch></g><path d=\"M 235 6 L 267 30 Q 275 36 281 44 L 305 76\" fill=\"none\" pointer-events=\"stroke\" stroke=\"#000000\" stroke-dasharray=\"2 6\" stroke-miterlimit=\"10\" stroke-width=\"2\"/></g><switch><g requiredFeatures=\"http://www.w3.org/TR/SVG11/feature#Extensibility\"/><a target=\"_blank\" transform=\"translate(0,-5)\" xlink:href=\"https://desk.draw.io/support/solutions/articles/16000042487\"><text font-size=\"10px\" text-anchor=\"middle\" x=\"50%\" y=\"100%\">Viewer does not support full SVG 1.1</text></a></switch></svg>"
          },
          "metadata": {
            "tags": []
          }
        }
      ]
    },
    {
      "cell_type": "markdown",
      "metadata": {
        "id": "qff7zhlffSfy"
      },
      "source": [
        "#### 極座標表示における速度\n",
        "$r=r(t), \\theta=\\theta(t)$ に注意して"
      ]
    },
    {
      "cell_type": "markdown",
      "metadata": {
        "id": "vfe1pOLvis4_"
      },
      "source": [
        "\\begin{align*}\n",
        "\\vec{v} \n",
        "&= \\dfrac{{\\rm d}\\vec{r}}{{\\rm d}t} \n",
        "= \\dfrac{{\\rm d} \\left(r \\vec{e}_{r}\\right)}{{\\rm d}t} \\\\\n",
        "&=\n",
        "\\dfrac{{\\rm d} \\ r }{{\\rm d}t}\\ \\vec{e}_{r}\n",
        "+\n",
        "r\\ \\dfrac{{\\rm d}  \\vec{e}_{r}}{{\\rm d}t}\\\\\n",
        "&=\n",
        "\\dfrac{{\\rm d} \\ r }{{\\rm d}t}\\ \\vec{e}_{r}\n",
        "+\n",
        "r\\ \n",
        "\\dfrac{{\\rm d}\\theta}{{\\rm d}t}\n",
        "\\dfrac{{\\rm d} \\vec{e}_{r}}{{\\rm d}\\theta}\n",
        "\\\\\n",
        "&= \n",
        "\\dfrac{{\\rm d} \\ r }{{\\rm d}t}\\ \\vec{e}_{r}\n",
        "+\n",
        "r\\ \n",
        "\\dfrac{{\\rm d}\\theta}{{\\rm d}t}\\ \\vec{e}_{\\theta}\n",
        "\\end{align*}"
      ]
    },
    {
      "cell_type": "markdown",
      "metadata": {
        "id": "ImPilTU5lDy_"
      },
      "source": [
        "#### 極座標表示における加速度"
      ]
    },
    {
      "cell_type": "markdown",
      "metadata": {
        "id": "xJOJAfvAldWT"
      },
      "source": [
        "> Q. $\\dfrac{{\\rm d} \\vec{e}_{\\theta}}{{\\rm d} \\theta} = - \\vec{e}_{r}$ となることを, 微分を利用した方法で確認してください. [幾何学的な方法でも導入を検討して下さい]"
      ]
    },
    {
      "cell_type": "markdown",
      "metadata": {
        "id": "0pdK7K7QEQNB"
      },
      "source": [
        ">> \\begin{align*}\n",
        "\\vec{e}_{\\theta} = \\dfrac{{\\rm d}\\vec{e}_r}{{\\rm d}\\theta}\n",
        "= \\left(\\begin{array}{c} -\\sin\\theta\\\\ \\cos \\theta \\end{array} \\right),\n",
        "%\n",
        "\\qquad \n",
        "\\dfrac{{\\rm d}\\ \\vec{e}_{\\theta}}{{\\rm d}t}\n",
        "= \\dfrac{{\\rm d}}{{\\rm d}t}\n",
        "\\left(\\begin{array}{c} -\\sin\\theta\\\\ \\cos \\theta \\end{array} \\right)\n",
        "= \\left(\\begin{array}{c} -\\cos\\theta\\\\ -\\sin \\theta \\end{array} \\right)\n",
        "= - \\vec{e}_{\\theta}\n",
        "\\end{align*}"
      ]
    },
    {
      "cell_type": "markdown",
      "metadata": {
        "id": "GpeCCag3l2ZZ"
      },
      "source": [
        "極座標表示における加速度の導出\n",
        "\n",
        "$\\require{cancel}$\n",
        "\\begin{align*}\n",
        "\\vec{a} =& \\dfrac{{\\rm d}\\vec{v}}{{\\rm d}t} \\\\\n",
        "=&\\dfrac{{\\rm d}}{{\\rm d}t}\n",
        "\\left( \\dfrac{{\\rm d} \\ r }{{\\rm d}t}\\ \\vec{e}_{r}\n",
        "+\n",
        "r\\ \n",
        "\\dfrac{{\\rm d}\\theta}{{\\rm d}t}\\ \\vec{e}_{\\theta}\\right)\\\\\n",
        "=&\n",
        "\\dfrac{{\\rm d}}{{\\rm d}t}\n",
        "\\left(\n",
        "  \\dfrac{{\\rm d}  r }{{\\rm d}t}\\cdot \\vec{e}_{r}\n",
        "\\right)\n",
        "+\n",
        "\\dfrac{{\\rm d}}{{\\rm d}t}\n",
        "\\left(\n",
        "r\\cdot \\dfrac{{\\rm d}\\theta}{{\\rm d}t}\\cdot \\vec{e}_{\\theta}\n",
        "\\right)\\\\\n",
        "=&\n",
        "\\dfrac{{\\rm d^2}  r }{{\\rm d}t^2}\\cdot \\vec{e}_{r}\n",
        "+\n",
        "\\dfrac{{\\rm d}  r }{{\\rm d}t}\\cdot {\\dfrac{{\\rm d}\\vec{e}_{r}}{{\\rm d}t}}\\\\\n",
        "%\n",
        "&+ \n",
        "\\dfrac{{\\rm d}  r }{{\\rm d}t}\\cdot \\dfrac{{\\rm d}\\theta}{{\\rm d}t}\n",
        "\\cdot \\vec{e}_{\\theta}\n",
        "+\n",
        " r \\cdot \\dfrac{{\\rm d^2}\\theta}{{\\rm d}t^2}\n",
        "\\cdot \\vec{e}_{\\theta}\n",
        "+\n",
        " r\\cdot \\dfrac{{\\rm d}\\theta}{{\\rm d}t}\n",
        "\\cdot {\\dfrac{{\\rm d}\\vec{e}_{\\theta}}{{\\rm d}t}}\\\\\n",
        "=&\n",
        "\\dfrac{{\\rm d^2}  r }{{\\rm d}t^2}\\vec{e}_{r}\n",
        "+\n",
        "\\dfrac{{\\rm d}  r }{{\\rm d}t}\n",
        "\\dfrac{{\\rm d}\\theta}{{\\rm d}t}\n",
        "\\cancelto{\\vec{e}_{\\theta}}{\\dfrac{{\\rm d}\\vec{e}_{r}}{{\\rm d}\\theta}}\\\\\n",
        "%\n",
        "&+ \n",
        "\\dfrac{{\\rm d}  r }{{\\rm d}t} \\dfrac{{\\rm d}\\theta}{{\\rm d}t}\n",
        "\\vec{e}_{\\theta}\n",
        "+\n",
        " r \\dfrac{{\\rm d^2}\\theta}{{\\rm d}t^2}\n",
        "\\vec{e}_{\\theta}\n",
        "+\n",
        " r \\dfrac{{\\rm d}\\theta}{{\\rm d}t}\n",
        "\\dfrac{{\\rm d}\\theta}{{\\rm d}t}\n",
        "\\cancelto{(-\\vec{e}_r)}{\\dfrac{{\\rm d}\\vec{e}_{\\theta}}{{\\rm d}\\theta}}\\\\\n",
        "=&\n",
        "\\left\\{\n",
        "  \\dfrac{{\\rm d^2}  r }{{\\rm d}t^2} - r \\left(\\dfrac{{\\rm d}\\theta}{{\\rm d}t}\\right)^2\n",
        "\\right\\}\\vec{e}_{r}\n",
        "+\n",
        "\\left\\{\n",
        "  2 \\dfrac{{\\rm d}  r }{{\\rm d}t} \\dfrac{{\\rm d}\\theta}{{\\rm d}t}\n",
        "  +\n",
        "  r \\dfrac{{\\rm d^2}\\theta}{{\\rm d}t^2}\n",
        "\\right\\}\\vec{e}_{\\theta}\n",
        "\\end{align*}"
      ]
    },
    {
      "cell_type": "markdown",
      "metadata": {
        "id": "YaJ4cxcQsN-C"
      },
      "source": [
        "> Q. 角速度$\\omega=\\frac{{\\rm d}\\theta}{{\\rm d}t}$ と 原点からの距離 $r$ が一定の等速円運動における, (二次元)極座標表示における $\\vec{v}, \\vec{a}$ を求めてください.\n",
        "\n",
        "> Q. 等速直線運動における $\\vec{a}$ の方向を確認してください."
      ]
    },
    {
      "cell_type": "markdown",
      "metadata": {
        "id": "DxILUcPcw0lo"
      },
      "source": [
        "### 3次元極座標の基底ベクトル~単位ベクトル"
      ]
    },
    {
      "cell_type": "code",
      "metadata": {
        "id": "Rk9guOqpw88F",
        "cellView": "form",
        "colab": {
          "base_uri": "https://localhost:8080/",
          "height": 537
        },
        "outputId": "9fef6b68-b5d1-474f-bb9f-b25bac859dc0"
      },
      "source": [
        "#@title 三次元極座標表示と3次元直交座標$xyz$の関係\n",
        "%%svg\n",
        "https://upload.wikimedia.org/wikipedia/commons/4/4f/3D_Spherical.svg"
      ],
      "execution_count": null,
      "outputs": [
        {
          "output_type": "display_data",
          "data": {
            "text/plain": [
              "<IPython.core.display.SVG object>"
            ],
            "image/svg+xml": "<svg height=\"516.36877\" id=\"svg6267\" inkscape:output_extension=\"org.inkscape.output.svg.inkscape\" inkscape:version=\"0.45.1\" sodipodi:docbase=\"C:\\Documents and Settings\\Francis\\Desktop\" sodipodi:docname=\"3D Spherical.svg\" sodipodi:version=\"0.32\" version=\"1.0\" width=\"557.61511\" xmlns=\"http://www.w3.org/2000/svg\" xmlns:cc=\"http://web.resource.org/cc/\" xmlns:dc=\"http://purl.org/dc/elements/1.1/\" xmlns:inkscape=\"http://www.inkscape.org/namespaces/inkscape\" xmlns:rdf=\"http://www.w3.org/1999/02/22-rdf-syntax-ns#\" xmlns:sodipodi=\"http://sodipodi.sourceforge.net/DTD/sodipodi-0.dtd\" xmlns:svg=\"http://www.w3.org/2000/svg\">\n  <defs id=\"defs6269\">\n    <pattern height=\"327.78942\" id=\"pattern13283\" patternTransform=\"matrix(1.0074673,-1.7286202e-8,0,1.0180441,229.69217,251.69622)\" patternUnits=\"userSpaceOnUse\" width=\"331.71499\">\n      <g id=\"g12272\" transform=\"translate(-417.07363,-229.87425)\">\n        <path d=\"M 417.32512,272.79291 L 748.53712,272.79291\" id=\"path12274\" style=\"fill:none;fill-rule:evenodd;stroke:#898989;stroke-width:0.50298733;stroke-linecap:butt;stroke-linejoin:miter;stroke-miterlimit:4;stroke-dasharray:none;stroke-opacity:1\"/>\n        <g id=\"g12276\">\n          <path d=\"M 450.3816,557.41367 L 450.3816,230.12425\" id=\"path12278\" style=\"fill:none;fill-rule:evenodd;stroke:#898989;stroke-width:0.5;stroke-linecap:butt;stroke-linejoin:miter;stroke-miterlimit:4;stroke-dasharray:none;stroke-opacity:1\"/>\n          <path d=\"M 486.8816,557.41367 L 486.8816,230.12425\" id=\"path12280\" style=\"fill:none;fill-rule:evenodd;stroke:#898989;stroke-width:0.5;stroke-linecap:butt;stroke-linejoin:miter;stroke-miterlimit:4;stroke-dasharray:none;stroke-opacity:1\"/>\n          <path d=\"M 523.3816,557.41367 L 523.3816,230.12425\" id=\"path12282\" style=\"fill:none;fill-rule:evenodd;stroke:#898989;stroke-width:0.5;stroke-linecap:butt;stroke-linejoin:miter;stroke-miterlimit:4;stroke-dasharray:none;stroke-opacity:1\"/>\n          <path d=\"M 559.8816,557.41367 L 559.8816,230.12425\" id=\"path12284\" style=\"fill:none;fill-rule:evenodd;stroke:#898989;stroke-width:0.5;stroke-linecap:butt;stroke-linejoin:miter;stroke-miterlimit:4;stroke-dasharray:none;stroke-opacity:1\"/>\n          <path d=\"M 596.3816,557.41367 L 596.3816,230.12425\" id=\"path12286\" style=\"fill:none;fill-rule:evenodd;stroke:#898989;stroke-width:0.5;stroke-linecap:butt;stroke-linejoin:miter;stroke-miterlimit:4;stroke-dasharray:none;stroke-opacity:1\"/>\n          <path d=\"M 632.8816,557.41367 L 632.8816,230.12425\" id=\"path12288\" style=\"fill:none;fill-rule:evenodd;stroke:#898989;stroke-width:0.5;stroke-linecap:butt;stroke-linejoin:miter;stroke-miterlimit:4;stroke-dasharray:none;stroke-opacity:1\"/>\n          <path d=\"M 669.3816,557.41367 L 669.3816,230.12425\" id=\"path12290\" style=\"fill:none;fill-rule:evenodd;stroke:#898989;stroke-width:0.5;stroke-linecap:butt;stroke-linejoin:miter;stroke-miterlimit:4;stroke-dasharray:none;stroke-opacity:1\"/>\n          <path d=\"M 705.8816,557.41367 L 705.8816,230.12425\" id=\"path12292\" style=\"fill:none;fill-rule:evenodd;stroke:#898989;stroke-width:0.5;stroke-linecap:butt;stroke-linejoin:miter;stroke-miterlimit:4;stroke-dasharray:none;stroke-opacity:1\"/>\n          <path d=\"M 742.3816,557.41367 L 742.3816,230.12425\" id=\"path12294\" style=\"fill:none;fill-rule:evenodd;stroke:#898989;stroke-width:0.5;stroke-linecap:butt;stroke-linejoin:miter;stroke-miterlimit:4;stroke-dasharray:none;stroke-opacity:1\"/>\n          <path d=\"M 417.32512,524.79293 L 748.53712,524.79293\" id=\"path12296\" style=\"fill:none;fill-rule:evenodd;stroke:#898989;stroke-width:0.50298733;stroke-linecap:butt;stroke-linejoin:miter;stroke-miterlimit:4;stroke-dasharray:none;stroke-opacity:1\"/>\n          <path d=\"M 417.32512,488.79293 L 748.53712,488.79293\" id=\"path12298\" style=\"fill:none;fill-rule:evenodd;stroke:#898989;stroke-width:0.50298733;stroke-linecap:butt;stroke-linejoin:miter;stroke-miterlimit:4;stroke-dasharray:none;stroke-opacity:1\"/>\n          <path d=\"M 417.32512,452.79291 L 748.53712,452.79291\" id=\"path12300\" style=\"fill:none;fill-rule:evenodd;stroke:#898989;stroke-width:0.50298733;stroke-linecap:butt;stroke-linejoin:miter;stroke-miterlimit:4;stroke-dasharray:none;stroke-opacity:1\"/>\n          <path d=\"M 417.32512,416.79291 L 748.53712,416.79291\" id=\"path12302\" style=\"fill:none;fill-rule:evenodd;stroke:#898989;stroke-width:0.50298733;stroke-linecap:butt;stroke-linejoin:miter;stroke-miterlimit:4;stroke-dasharray:none;stroke-opacity:1\"/>\n          <path d=\"M 417.32512,380.79291 L 748.53712,380.79291\" id=\"path12304\" style=\"fill:none;fill-rule:evenodd;stroke:#898989;stroke-width:0.50298733;stroke-linecap:butt;stroke-linejoin:miter;stroke-miterlimit:4;stroke-dasharray:none;stroke-opacity:1\"/>\n          <path d=\"M 417.32512,344.79291 L 748.53712,344.79291\" id=\"path12306\" style=\"fill:none;fill-rule:evenodd;stroke:#898989;stroke-width:0.50298733;stroke-linecap:butt;stroke-linejoin:miter;stroke-miterlimit:4;stroke-dasharray:none;stroke-opacity:1\"/>\n          <path d=\"M 417.32512,308.79291 L 748.53712,308.79291\" id=\"path12308\" style=\"fill:none;fill-rule:evenodd;stroke:#898989;stroke-width:0.50298733;stroke-linecap:butt;stroke-linejoin:miter;stroke-miterlimit:4;stroke-dasharray:none;stroke-opacity:1\"/>\n          <path d=\"M 417.32512,236.79293 L 748.53712,236.79293\" id=\"path12310\" style=\"fill:none;fill-rule:evenodd;stroke:#898989;stroke-width:0.50298733;stroke-linecap:butt;stroke-linejoin:miter;stroke-miterlimit:4;stroke-dasharray:none;stroke-opacity:1\"/>\n          <path d=\"M 417.32512,236.79291 L 748.53712,236.79291\" id=\"path12312\" style=\"fill:none;fill-rule:evenodd;stroke:#898989;stroke-width:0.50298733;stroke-linecap:butt;stroke-linejoin:miter;stroke-miterlimit:4;stroke-dasharray:none;stroke-opacity:1\"/>\n        </g>\n      </g>\n    </pattern>\n    <pattern height=\"327.78942\" id=\"pattern2352\" patternTransform=\"matrix(1.0074673,-1.7286202e-8,0,1.0180441,229.69217,251.69622)\" patternUnits=\"userSpaceOnUse\" width=\"331.71499\">\n      <g id=\"g2354\" transform=\"translate(-417.07363,-229.87425)\">\n        <path d=\"M 417.32512,272.79291 L 748.53712,272.79291\" id=\"path2356\" style=\"fill:none;fill-rule:evenodd;stroke:#898989;stroke-width:0.50298733;stroke-linecap:butt;stroke-linejoin:miter;stroke-miterlimit:4;stroke-dasharray:none;stroke-opacity:1\"/>\n        <g id=\"g2358\">\n          <path d=\"M 450.3816,557.41367 L 450.3816,230.12425\" id=\"path2360\" style=\"fill:none;fill-rule:evenodd;stroke:#898989;stroke-width:0.5;stroke-linecap:butt;stroke-linejoin:miter;stroke-miterlimit:4;stroke-dasharray:none;stroke-opacity:1\"/>\n          <path d=\"M 486.8816,557.41367 L 486.8816,230.12425\" id=\"path2362\" style=\"fill:none;fill-rule:evenodd;stroke:#898989;stroke-width:0.5;stroke-linecap:butt;stroke-linejoin:miter;stroke-miterlimit:4;stroke-dasharray:none;stroke-opacity:1\"/>\n          <path d=\"M 523.3816,557.41367 L 523.3816,230.12425\" id=\"path2364\" style=\"fill:none;fill-rule:evenodd;stroke:#898989;stroke-width:0.5;stroke-linecap:butt;stroke-linejoin:miter;stroke-miterlimit:4;stroke-dasharray:none;stroke-opacity:1\"/>\n          <path d=\"M 559.8816,557.41367 L 559.8816,230.12425\" id=\"path2366\" style=\"fill:none;fill-rule:evenodd;stroke:#898989;stroke-width:0.5;stroke-linecap:butt;stroke-linejoin:miter;stroke-miterlimit:4;stroke-dasharray:none;stroke-opacity:1\"/>\n          <path d=\"M 596.3816,557.41367 L 596.3816,230.12425\" id=\"path2368\" style=\"fill:none;fill-rule:evenodd;stroke:#898989;stroke-width:0.5;stroke-linecap:butt;stroke-linejoin:miter;stroke-miterlimit:4;stroke-dasharray:none;stroke-opacity:1\"/>\n          <path d=\"M 632.8816,557.41367 L 632.8816,230.12425\" id=\"path2370\" style=\"fill:none;fill-rule:evenodd;stroke:#898989;stroke-width:0.5;stroke-linecap:butt;stroke-linejoin:miter;stroke-miterlimit:4;stroke-dasharray:none;stroke-opacity:1\"/>\n          <path d=\"M 669.3816,557.41367 L 669.3816,230.12425\" id=\"path2372\" style=\"fill:none;fill-rule:evenodd;stroke:#898989;stroke-width:0.5;stroke-linecap:butt;stroke-linejoin:miter;stroke-miterlimit:4;stroke-dasharray:none;stroke-opacity:1\"/>\n          <path d=\"M 705.8816,557.41367 L 705.8816,230.12425\" id=\"path2374\" style=\"fill:none;fill-rule:evenodd;stroke:#898989;stroke-width:0.5;stroke-linecap:butt;stroke-linejoin:miter;stroke-miterlimit:4;stroke-dasharray:none;stroke-opacity:1\"/>\n          <path d=\"M 742.3816,557.41367 L 742.3816,230.12425\" id=\"path2376\" style=\"fill:none;fill-rule:evenodd;stroke:#898989;stroke-width:0.5;stroke-linecap:butt;stroke-linejoin:miter;stroke-miterlimit:4;stroke-dasharray:none;stroke-opacity:1\"/>\n          <path d=\"M 417.32512,524.79293 L 748.53712,524.79293\" id=\"path2378\" style=\"fill:none;fill-rule:evenodd;stroke:#898989;stroke-width:0.50298733;stroke-linecap:butt;stroke-linejoin:miter;stroke-miterlimit:4;stroke-dasharray:none;stroke-opacity:1\"/>\n          <path d=\"M 417.32512,488.79293 L 748.53712,488.79293\" id=\"path2380\" style=\"fill:none;fill-rule:evenodd;stroke:#898989;stroke-width:0.50298733;stroke-linecap:butt;stroke-linejoin:miter;stroke-miterlimit:4;stroke-dasharray:none;stroke-opacity:1\"/>\n          <path d=\"M 417.32512,452.79291 L 748.53712,452.79291\" id=\"path2382\" style=\"fill:none;fill-rule:evenodd;stroke:#898989;stroke-width:0.50298733;stroke-linecap:butt;stroke-linejoin:miter;stroke-miterlimit:4;stroke-dasharray:none;stroke-opacity:1\"/>\n          <path d=\"M 417.32512,416.79291 L 748.53712,416.79291\" id=\"path2384\" style=\"fill:none;fill-rule:evenodd;stroke:#898989;stroke-width:0.50298733;stroke-linecap:butt;stroke-linejoin:miter;stroke-miterlimit:4;stroke-dasharray:none;stroke-opacity:1\"/>\n          <path d=\"M 417.32512,380.79291 L 748.53712,380.79291\" id=\"path2386\" style=\"fill:none;fill-rule:evenodd;stroke:#898989;stroke-width:0.50298733;stroke-linecap:butt;stroke-linejoin:miter;stroke-miterlimit:4;stroke-dasharray:none;stroke-opacity:1\"/>\n          <path d=\"M 417.32512,344.79291 L 748.53712,344.79291\" id=\"path2388\" style=\"fill:none;fill-rule:evenodd;stroke:#898989;stroke-width:0.50298733;stroke-linecap:butt;stroke-linejoin:miter;stroke-miterlimit:4;stroke-dasharray:none;stroke-opacity:1\"/>\n          <path d=\"M 417.32512,308.79291 L 748.53712,308.79291\" id=\"path2390\" style=\"fill:none;fill-rule:evenodd;stroke:#898989;stroke-width:0.50298733;stroke-linecap:butt;stroke-linejoin:miter;stroke-miterlimit:4;stroke-dasharray:none;stroke-opacity:1\"/>\n          <path d=\"M 417.32512,236.79293 L 748.53712,236.79293\" id=\"path2392\" style=\"fill:none;fill-rule:evenodd;stroke:#898989;stroke-width:0.50298733;stroke-linecap:butt;stroke-linejoin:miter;stroke-miterlimit:4;stroke-dasharray:none;stroke-opacity:1\"/>\n          <path d=\"M 417.32512,236.79291 L 748.53712,236.79291\" id=\"path2394\" style=\"fill:none;fill-rule:evenodd;stroke:#898989;stroke-width:0.50298733;stroke-linecap:butt;stroke-linejoin:miter;stroke-miterlimit:4;stroke-dasharray:none;stroke-opacity:1\"/>\n        </g>\n      </g>\n    </pattern>\n  </defs>\n  <sodipodi:namedview bordercolor=\"#666666\" borderopacity=\"1.0\" gridtolerance=\"10000\" guidetolerance=\"10\" height=\"535px\" id=\"base\" inkscape:current-layer=\"layer1\" inkscape:cx=\"361.46771\" inkscape:cy=\"275.21257\" inkscape:document-units=\"px\" inkscape:pageopacity=\"0.0\" inkscape:pageshadow=\"2\" inkscape:window-height=\"740\" inkscape:window-width=\"1024\" inkscape:window-x=\"110\" inkscape:window-y=\"26\" inkscape:zoom=\"0.98994949\" objecttolerance=\"10\" pagecolor=\"#ffffff\" width=\"600px\"/>\n  <metadata id=\"metadata6272\">\n    <rdf:RDF>\n      <cc:Work rdf:about=\"\">\n        <dc:format>image/svg+xml</dc:format>\n        <dc:type rdf:resource=\"http://purl.org/dc/dcmitype/StillImage\"/>\n      </cc:Work>\n    </rdf:RDF>\n  </metadata>\n  <g id=\"layer1\" inkscape:groupmode=\"layer\" inkscape:label=\"Layer 1\" transform=\"translate(-15.730186,-5.2433224)\">\n    <g id=\"g2702\" style=\"font-size:48px\" transform=\"translate(-48.186268,-234.32683)\">\n      <path d=\"M 384.08894,732.15838 L 547.00787,595.17487\" id=\"path2419\" sodipodi:nodetypes=\"cc\" style=\"font-size:48px;fill:none;fill-rule:evenodd;stroke:#898989;stroke-width:0.50298733;stroke-linecap:butt;stroke-linejoin:miter;stroke-miterlimit:4;stroke-dasharray:none;stroke-opacity:1\"/>\n      <path d=\"M 258.35221,309.24772 L 589.56421,309.24772\" id=\"path2421\" style=\"font-size:48px;fill:none;fill-rule:evenodd;stroke:#898989;stroke-width:0.50298733;stroke-linecap:butt;stroke-linejoin:miter;stroke-miterlimit:4;stroke-dasharray:none;stroke-opacity:1\"/>\n      <path d=\"M 291.40869,593.86848 L 291.40869,266.57906\" id=\"path2423\" style=\"font-size:48px;fill:none;fill-rule:evenodd;stroke:#898989;stroke-width:0.5;stroke-linecap:butt;stroke-linejoin:miter;stroke-miterlimit:4;stroke-dasharray:none;stroke-opacity:1\"/>\n      <path d=\"M 327.90869,593.86848 L 327.90869,266.57906\" id=\"path2425\" style=\"font-size:48px;fill:none;fill-rule:evenodd;stroke:#898989;stroke-width:0.5;stroke-linecap:butt;stroke-linejoin:miter;stroke-miterlimit:4;stroke-dasharray:none;stroke-opacity:1\"/>\n      <path d=\"M 364.40869,593.86848 L 364.40869,266.57906\" id=\"path2427\" style=\"font-size:48px;fill:none;fill-rule:evenodd;stroke:#898989;stroke-width:0.5;stroke-linecap:butt;stroke-linejoin:miter;stroke-miterlimit:4;stroke-dasharray:none;stroke-opacity:1\"/>\n      <path d=\"M 400.90869,593.86848 L 400.90869,266.57906\" id=\"path2429\" style=\"font-size:48px;fill:none;fill-rule:evenodd;stroke:#898989;stroke-width:0.5;stroke-linecap:butt;stroke-linejoin:miter;stroke-miterlimit:4;stroke-dasharray:none;stroke-opacity:1\"/>\n      <path d=\"M 437.40869,593.86848 L 437.40869,266.57906\" id=\"path2431\" style=\"font-size:48px;fill:none;fill-rule:evenodd;stroke:#898989;stroke-width:0.5;stroke-linecap:butt;stroke-linejoin:miter;stroke-miterlimit:4;stroke-dasharray:none;stroke-opacity:1\"/>\n      <path d=\"M 473.90869,593.86848 L 473.90869,266.57906\" id=\"path2433\" style=\"font-size:48px;fill:none;fill-rule:evenodd;stroke:#898989;stroke-width:0.5;stroke-linecap:butt;stroke-linejoin:miter;stroke-miterlimit:4;stroke-dasharray:none;stroke-opacity:1\"/>\n      <path d=\"M 510.40869,593.86848 L 510.40869,266.57906\" id=\"path2435\" style=\"font-size:48px;fill:none;fill-rule:evenodd;stroke:#898989;stroke-width:0.5;stroke-linecap:butt;stroke-linejoin:miter;stroke-miterlimit:4;stroke-dasharray:none;stroke-opacity:1\"/>\n      <path d=\"M 546.90869,593.86848 L 546.90869,266.57906\" id=\"path2437\" style=\"font-size:48px;fill:none;fill-rule:evenodd;stroke:#898989;stroke-width:0.5;stroke-linecap:butt;stroke-linejoin:miter;stroke-miterlimit:4;stroke-dasharray:none;stroke-opacity:1\"/>\n      <path d=\"M 583.40869,593.86848 L 583.40869,266.57906\" id=\"path2439\" style=\"font-size:48px;fill:none;fill-rule:evenodd;stroke:#898989;stroke-width:0.5;stroke-linecap:butt;stroke-linejoin:miter;stroke-miterlimit:4;stroke-dasharray:none;stroke-opacity:1\"/>\n      <path d=\"M 258.35221,561.24774 L 589.56421,561.24774\" id=\"path2441\" style=\"font-size:48px;fill:none;fill-rule:evenodd;stroke:#898989;stroke-width:0.50298733;stroke-linecap:butt;stroke-linejoin:miter;stroke-miterlimit:4;stroke-dasharray:none;stroke-opacity:1\"/>\n      <path d=\"M 258.35221,525.24774 L 589.56421,525.24774\" id=\"path2443\" style=\"font-size:48px;fill:none;fill-rule:evenodd;stroke:#898989;stroke-width:0.50298733;stroke-linecap:butt;stroke-linejoin:miter;stroke-miterlimit:4;stroke-dasharray:none;stroke-opacity:1\"/>\n      <path d=\"M 258.35221,489.24772 L 589.56421,489.24772\" id=\"path2445\" style=\"font-size:48px;fill:none;fill-rule:evenodd;stroke:#898989;stroke-width:0.50298733;stroke-linecap:butt;stroke-linejoin:miter;stroke-miterlimit:4;stroke-dasharray:none;stroke-opacity:1\"/>\n      <path d=\"M 258.35221,453.24772 L 589.56421,453.24772\" id=\"path2447\" style=\"font-size:48px;fill:none;fill-rule:evenodd;stroke:#898989;stroke-width:0.50298733;stroke-linecap:butt;stroke-linejoin:miter;stroke-miterlimit:4;stroke-dasharray:none;stroke-opacity:1\"/>\n      <path d=\"M 258.35221,417.24772 L 589.56421,417.24772\" id=\"path2449\" style=\"font-size:48px;fill:none;fill-rule:evenodd;stroke:#898989;stroke-width:0.50298733;stroke-linecap:butt;stroke-linejoin:miter;stroke-miterlimit:4;stroke-dasharray:none;stroke-opacity:1\"/>\n      <path d=\"M 258.35221,381.24772 L 589.56421,381.24772\" id=\"path2451\" style=\"font-size:48px;fill:none;fill-rule:evenodd;stroke:#898989;stroke-width:0.50298733;stroke-linecap:butt;stroke-linejoin:miter;stroke-miterlimit:4;stroke-dasharray:none;stroke-opacity:1\"/>\n      <path d=\"M 258.35221,345.24772 L 589.56421,345.24772\" id=\"path2453\" style=\"font-size:48px;fill:none;fill-rule:evenodd;stroke:#898989;stroke-width:0.50298733;stroke-linecap:butt;stroke-linejoin:miter;stroke-miterlimit:4;stroke-dasharray:none;stroke-opacity:1\"/>\n      <path d=\"M 258.35221,273.24774 L 589.56421,273.24774\" id=\"path2455\" style=\"font-size:48px;fill:none;fill-rule:evenodd;stroke:#898989;stroke-width:0.50298733;stroke-linecap:butt;stroke-linejoin:miter;stroke-miterlimit:4;stroke-dasharray:none;stroke-opacity:1\"/>\n      <path d=\"M 258.35221,273.24772 L 589.56421,273.24772\" id=\"path2457\" style=\"font-size:48px;fill:none;fill-rule:evenodd;stroke:#898989;stroke-width:0.50298733;stroke-linecap:butt;stroke-linejoin:miter;stroke-miterlimit:4;stroke-dasharray:none;stroke-opacity:1\"/>\n      <path d=\"M 94.00859,698.40629 L 256.92752,561.42278\" id=\"path2459\" sodipodi:nodetypes=\"cc\" style=\"font-size:48px;fill:none;fill-rule:evenodd;stroke:#898989;stroke-width:0.50298733;stroke-linecap:butt;stroke-linejoin:miter;stroke-miterlimit:4;stroke-dasharray:none;stroke-opacity:1\"/>\n      <path d=\"M 94.00859,662.40629 L 256.92752,525.42278\" id=\"path2461\" sodipodi:nodetypes=\"cc\" style=\"font-size:48px;fill:none;fill-rule:evenodd;stroke:#898989;stroke-width:0.50298733;stroke-linecap:butt;stroke-linejoin:miter;stroke-miterlimit:4;stroke-dasharray:none;stroke-opacity:1\"/>\n      <path d=\"M 94.00859,626.40629 L 256.92752,489.42278\" id=\"path2463\" sodipodi:nodetypes=\"cc\" style=\"font-size:48px;fill:none;fill-rule:evenodd;stroke:#898989;stroke-width:0.50298733;stroke-linecap:butt;stroke-linejoin:miter;stroke-miterlimit:4;stroke-dasharray:none;stroke-opacity:1\"/>\n      <path d=\"M 94.00859,590.40629 L 256.92752,453.42278\" id=\"path2465\" sodipodi:nodetypes=\"cc\" style=\"font-size:48px;fill:none;fill-rule:evenodd;stroke:#898989;stroke-width:0.50298733;stroke-linecap:butt;stroke-linejoin:miter;stroke-miterlimit:4;stroke-dasharray:none;stroke-opacity:1\"/>\n      <path d=\"M 94.00859,554.40629 L 256.92752,417.42278\" id=\"path2467\" sodipodi:nodetypes=\"cc\" style=\"font-size:48px;fill:none;fill-rule:evenodd;stroke:#898989;stroke-width:0.50298733;stroke-linecap:butt;stroke-linejoin:miter;stroke-miterlimit:4;stroke-dasharray:none;stroke-opacity:1\"/>\n      <path d=\"M 94.00859,518.40629 L 256.92752,381.42278\" id=\"path2469\" sodipodi:nodetypes=\"cc\" style=\"font-size:48px;fill:none;fill-rule:evenodd;stroke:#898989;stroke-width:0.50298733;stroke-linecap:butt;stroke-linejoin:miter;stroke-miterlimit:4;stroke-dasharray:none;stroke-opacity:1\"/>\n      <path d=\"M 94.00859,482.40629 L 256.92752,345.42278\" id=\"path2471\" sodipodi:nodetypes=\"cc\" style=\"font-size:48px;fill:none;fill-rule:evenodd;stroke:#898989;stroke-width:0.50298733;stroke-linecap:butt;stroke-linejoin:miter;stroke-miterlimit:4;stroke-dasharray:none;stroke-opacity:1\"/>\n      <path d=\"M 94.00859,446.40629 L 256.92752,309.42278\" id=\"path2473\" sodipodi:nodetypes=\"cc\" style=\"font-size:48px;fill:none;fill-rule:evenodd;stroke:#898989;stroke-width:0.50298733;stroke-linecap:butt;stroke-linejoin:miter;stroke-miterlimit:4;stroke-dasharray:none;stroke-opacity:1\"/>\n      <path d=\"M 94.00859,410.40629 L 256.92752,273.42278\" id=\"path2475\" sodipodi:nodetypes=\"cc\" style=\"font-size:48px;fill:none;fill-rule:evenodd;stroke:#898989;stroke-width:0.50298733;stroke-linecap:butt;stroke-linejoin:miter;stroke-miterlimit:4;stroke-dasharray:none;stroke-opacity:1\"/>\n      <path d=\"M 97.07633,728.32984 L 97.07633,401.04042\" id=\"path2477\" style=\"font-size:48px;fill:none;fill-rule:evenodd;stroke:#898989;stroke-width:0.5;stroke-linecap:butt;stroke-linejoin:miter;stroke-miterlimit:4;stroke-dasharray:none;stroke-opacity:1\"/>\n      <path d=\"M 120.44538,708.69684 L 120.44538,381.40742\" id=\"path2479\" style=\"font-size:48px;fill:none;fill-rule:evenodd;stroke:#898989;stroke-width:0.5;stroke-linecap:butt;stroke-linejoin:miter;stroke-miterlimit:4;stroke-dasharray:none;stroke-opacity:1\"/>\n      <path d=\"M 143.81443,689.09469 L 143.81443,361.80527\" id=\"path2483\" style=\"font-size:48px;fill:none;fill-rule:evenodd;stroke:#898989;stroke-width:0.5;stroke-linecap:butt;stroke-linejoin:miter;stroke-miterlimit:4;stroke-dasharray:none;stroke-opacity:1\"/>\n      <path d=\"M 167.18348,669.41555 L 167.18348,342.12613\" id=\"path2485\" style=\"font-size:48px;fill:none;fill-rule:evenodd;stroke:#898989;stroke-width:0.5;stroke-linecap:butt;stroke-linejoin:miter;stroke-miterlimit:4;stroke-dasharray:none;stroke-opacity:1\"/>\n      <path d=\"M 190.55252,649.91132 L 190.55252,322.6219\" id=\"path2487\" style=\"font-size:48px;fill:none;fill-rule:evenodd;stroke:#898989;stroke-width:0.5;stroke-linecap:butt;stroke-linejoin:miter;stroke-miterlimit:4;stroke-dasharray:none;stroke-opacity:1\"/>\n      <path d=\"M 213.92157,630.22534 L 213.92157,302.93592\" id=\"path2489\" style=\"font-size:48px;fill:none;fill-rule:evenodd;stroke:#898989;stroke-width:0.5;stroke-linecap:butt;stroke-linejoin:miter;stroke-miterlimit:4;stroke-dasharray:none;stroke-opacity:1\"/>\n      <path d=\"M 237.29062,610.60426 L 237.29062,283.31484\" id=\"path2491\" style=\"font-size:48px;fill:none;fill-rule:evenodd;stroke:#898989;stroke-width:0.5;stroke-linecap:butt;stroke-linejoin:miter;stroke-miterlimit:4;stroke-dasharray:none;stroke-opacity:1\"/>\n      <path d=\"M 238.54917,611.25 L 569.76117,611.25\" id=\"path2493\" style=\"font-size:48px;fill:none;fill-rule:evenodd;stroke:#898989;stroke-width:0.50298733;stroke-linecap:butt;stroke-linejoin:miter;stroke-miterlimit:4;stroke-dasharray:none;stroke-opacity:1\"/>\n      <path d=\"M 215.17316,630.83107 L 546.38516,630.83107\" id=\"path2495\" style=\"font-size:48px;fill:none;fill-rule:evenodd;stroke:#898989;stroke-width:0.50298733;stroke-linecap:butt;stroke-linejoin:miter;stroke-miterlimit:4;stroke-dasharray:none;stroke-opacity:1\"/>\n      <path d=\"M 191.38755,650.81886 L 522.59955,650.81886\" id=\"path2497\" style=\"font-size:48px;fill:none;fill-rule:evenodd;stroke:#898989;stroke-width:0.50298733;stroke-linecap:butt;stroke-linejoin:miter;stroke-miterlimit:4;stroke-dasharray:none;stroke-opacity:1\"/>\n      <path d=\"M 168.15308,670.31886 L 499.36508,670.31886\" id=\"path2499\" style=\"font-size:48px;fill:none;fill-rule:evenodd;stroke:#898989;stroke-width:0.50298733;stroke-linecap:butt;stroke-linejoin:miter;stroke-miterlimit:4;stroke-dasharray:none;stroke-opacity:1\"/>\n      <path d=\"M 145.01301,689.68812 L 476.22501,689.68812\" id=\"path2501\" style=\"font-size:48px;fill:none;fill-rule:evenodd;stroke:#898989;stroke-width:0.50298733;stroke-linecap:butt;stroke-linejoin:miter;stroke-miterlimit:4;stroke-dasharray:none;stroke-opacity:1\"/>\n      <path d=\"M 121.69766,709.30545 L 452.90966,709.30545\" id=\"path2503\" style=\"font-size:48px;fill:none;fill-rule:evenodd;stroke:#898989;stroke-width:0.50298733;stroke-linecap:butt;stroke-linejoin:miter;stroke-miterlimit:4;stroke-dasharray:none;stroke-opacity:1\"/>\n      <path d=\"M 98.00499,729.17349 L 429.21699,729.17349\" id=\"path2505\" style=\"font-size:48px;fill:none;fill-rule:evenodd;stroke:#898989;stroke-width:0.50298733;stroke-linecap:butt;stroke-linejoin:miter;stroke-miterlimit:4;stroke-dasharray:none;stroke-opacity:1\"/>\n      <path d=\"M 128.62991,732.16776 L 291.54884,595.18425\" id=\"path2507\" sodipodi:nodetypes=\"cc\" style=\"font-size:48px;fill:none;fill-rule:evenodd;stroke:#898989;stroke-width:0.50298733;stroke-linecap:butt;stroke-linejoin:miter;stroke-miterlimit:4;stroke-dasharray:none;stroke-opacity:1\"/>\n      <path d=\"M 165.08672,732.1807 L 328.00565,595.19719\" id=\"path2509\" sodipodi:nodetypes=\"cc\" style=\"font-size:48px;fill:none;fill-rule:evenodd;stroke:#898989;stroke-width:0.50298733;stroke-linecap:butt;stroke-linejoin:miter;stroke-miterlimit:4;stroke-dasharray:none;stroke-opacity:1\"/>\n      <path d=\"M 201.55848,732.17604 L 364.47741,595.19253\" id=\"path2511\" sodipodi:nodetypes=\"cc\" style=\"font-size:48px;fill:none;fill-rule:evenodd;stroke:#898989;stroke-width:0.50298733;stroke-linecap:butt;stroke-linejoin:miter;stroke-miterlimit:4;stroke-dasharray:none;stroke-opacity:1\"/>\n      <path d=\"M 238.16563,732.17223 L 401.08456,595.18872\" id=\"path2513\" sodipodi:nodetypes=\"cc\" style=\"font-size:48px;fill:none;fill-rule:evenodd;stroke:#898989;stroke-width:0.50298733;stroke-linecap:butt;stroke-linejoin:miter;stroke-miterlimit:4;stroke-dasharray:none;stroke-opacity:1\"/>\n      <path d=\"M 274.59803,732.14878 L 437.51696,595.16527\" id=\"path2515\" sodipodi:nodetypes=\"cc\" style=\"font-size:48px;fill:none;fill-rule:evenodd;stroke:#898989;stroke-width:0.50298733;stroke-linecap:butt;stroke-linejoin:miter;stroke-miterlimit:4;stroke-dasharray:none;stroke-opacity:1\"/>\n      <path d=\"M 311.10757,732.17605 L 474.0265,595.19254\" id=\"path2517\" sodipodi:nodetypes=\"cc\" style=\"font-size:48px;fill:none;fill-rule:evenodd;stroke:#898989;stroke-width:0.50298733;stroke-linecap:butt;stroke-linejoin:miter;stroke-miterlimit:4;stroke-dasharray:none;stroke-opacity:1\"/>\n      <path d=\"M 347.5812,732.12204 L 510.50013,595.13853\" id=\"path2519\" sodipodi:nodetypes=\"cc\" style=\"font-size:48px;fill:none;fill-rule:evenodd;stroke:#898989;stroke-width:0.50298733;stroke-linecap:butt;stroke-linejoin:miter;stroke-miterlimit:4;stroke-dasharray:none;stroke-opacity:1\"/>\n      <path d=\"M 420.68795,732.16329 L 583.60688,595.17978\" id=\"path2521\" sodipodi:nodetypes=\"cc\" style=\"font-size:48px;fill:none;fill-rule:evenodd;stroke:#898989;stroke-width:0.50298733;stroke-linecap:butt;stroke-linejoin:miter;stroke-miterlimit:4;stroke-dasharray:none;stroke-opacity:1\"/>\n    </g>\n    <path d=\"M 209.45031,33.678615 L 209.45031,360.89047\" id=\"path6275\" style=\"fill:none;fill-rule:evenodd;stroke:#000000;stroke-width:1.5;stroke-linecap:butt;stroke-linejoin:miter;stroke-miterlimit:4;stroke-dasharray:none;stroke-opacity:1\"/>\n    <path d=\"M 543.45623,360.2722 L 209.20508,360.2722\" id=\"path7246\" style=\"fill:none;fill-rule:evenodd;stroke:#000000;stroke-width:1.5;stroke-linecap:butt;stroke-linejoin:miter;stroke-miterlimit:4;stroke-dasharray:none;stroke-opacity:1\"/>\n    <path d=\"M 44.661485,498.53646 L 209.88806,359.89489\" id=\"path7248\" style=\"fill:none;fill-rule:evenodd;stroke:#000000;stroke-width:1.5;stroke-linecap:butt;stroke-linejoin:miter;stroke-miterlimit:4;stroke-dasharray:none;stroke-opacity:1\"/>\n    <text id=\"text11150\" sodipodi:linespacing=\"100%\" style=\"font-size:8px;font-style:normal;font-variant:normal;font-weight:normal;font-stretch:normal;text-align:start;line-height:100%;writing-mode:lr-tb;text-anchor:start;fill:#000000;fill-opacity:1;stroke:none;stroke-width:1px;stroke-linecap:butt;stroke-linejoin:miter;stroke-opacity:1;font-family:Tahoma\" x=\"17.417686\" xml:space=\"preserve\" y=\"521.04962\"><tspan id=\"tspan11152\" sodipodi:role=\"line\" style=\"font-size:48px;font-style:italic;font-variant:normal;font-weight:normal;font-stretch:normal;text-align:start;line-height:100%;writing-mode:lr-tb;text-anchor:start;font-family:Times New Roman\" x=\"17.417686\" y=\"521.04962\">x</tspan></text>\n    <text id=\"text11154\" sodipodi:linespacing=\"100%\" style=\"font-size:48px;font-style:normal;font-variant:normal;font-weight:normal;font-stretch:normal;text-align:start;line-height:100%;writing-mode:lr-tb;text-anchor:start;fill:#000000;fill-opacity:1;stroke:none;stroke-width:1px;stroke-linecap:butt;stroke-linejoin:miter;stroke-opacity:1;font-family:Tahoma\" x=\"552.2984\" xml:space=\"preserve\" y=\"363.27591\"><tspan id=\"tspan11156\" sodipodi:role=\"line\" style=\"font-size:48px;font-style:italic;font-variant:normal;font-weight:normal;font-stretch:normal;text-align:start;line-height:100%;writing-mode:lr-tb;text-anchor:start;font-family:Times New Roman\" x=\"552.2984\" y=\"363.27591\">y</tspan></text>\n    <text id=\"text11158\" sodipodi:linespacing=\"100%\" style=\"font-size:48px;font-style:normal;font-variant:normal;font-weight:normal;font-stretch:normal;text-align:start;line-height:100%;writing-mode:lr-tb;text-anchor:start;fill:#000000;fill-opacity:1;stroke:none;stroke-width:1px;stroke-linecap:butt;stroke-linejoin:miter;stroke-opacity:1;font-family:Tahoma\" x=\"204.49277\" xml:space=\"preserve\" y=\"25.89176\"><tspan id=\"tspan11160\" sodipodi:role=\"line\" style=\"font-size:48px;font-style:italic;font-variant:normal;font-weight:normal;font-stretch:normal;text-align:start;line-height:100%;writing-mode:lr-tb;text-anchor:start;font-family:Times New Roman\" x=\"204.49277\" y=\"25.89176\">z</tspan></text>\n    <path d=\"M 361.05746,80.502215 L 361.05746,477.54218\" id=\"path12151\" style=\"fill:none;fill-rule:evenodd;stroke:#000000;stroke-width:1.5;stroke-linecap:butt;stroke-linejoin:miter;stroke-miterlimit:4;stroke-dasharray:9, 9;stroke-dashoffset:0;stroke-opacity:1\"/>\n    <text id=\"text21851\" sodipodi:linespacing=\"100%\" style=\"font-size:20px;font-style:italic;font-variant:normal;font-weight:normal;font-stretch:normal;text-align:start;line-height:100%;writing-mode:lr-tb;text-anchor:start;fill:#000000;fill-opacity:1;stroke:none;stroke-width:1px;stroke-linecap:butt;stroke-linejoin:miter;stroke-opacity:1;font-family:Times New Roman\" x=\"378.22742\" xml:space=\"preserve\" y=\"89.945992\"><tspan id=\"tspan25764\" sodipodi:role=\"line\" style=\"font-size:48px\" x=\"378.22742\" y=\"89.945992\">(r, θ, φ)</tspan></text>\n    <path d=\"M 209.48551,360.27628 L 361.8559,78.223751\" id=\"path21855\" style=\"fill:none;fill-rule:evenodd;stroke:#000000;stroke-width:1.51025152;stroke-linecap:butt;stroke-linejoin:miter;stroke-miterlimit:4;stroke-dasharray:9.0615088, 9.0615088;stroke-dashoffset:0;stroke-opacity:1\"/>\n    <path d=\"M 209.49496,360.36148 L 361.03483,477.06452\" id=\"path22826\" style=\"fill:none;fill-rule:evenodd;stroke:#000000;stroke-width:1.5;stroke-linecap:butt;stroke-linejoin:miter;stroke-miterlimit:4;stroke-dasharray:9, 9;stroke-dashoffset:0;stroke-opacity:1\"/>\n    <path d=\"M 183.41787,382.10602 C 198.86334,385.95925 219.31055,386.47576 237.15805,381.66522\" id=\"path24773\" style=\"fill:none;fill-opacity:0.70196078;stroke:#000000;stroke-width:1.5;stroke-miterlimit:4;stroke-dasharray:none;stroke-dashoffset:0;stroke-opacity:1\"/>\n    <path d=\"M 209.45031,265.50006 C 221.95625,274.94061 231.30867,293.13724 237.29334,308.80126\" id=\"path25744\" style=\"fill:none;fill-opacity:0.70196078;stroke:#000000;stroke-width:1.5;stroke-miterlimit:4;stroke-dasharray:none;stroke-dashoffset:0;stroke-opacity:1\"/>\n    <text id=\"text25746\" sodipodi:linespacing=\"100%\" style=\"font-size:48px;font-style:italic;font-variant:normal;font-weight:normal;font-stretch:normal;text-align:start;line-height:100%;writing-mode:lr-tb;text-anchor:start;fill:#000000;fill-opacity:1;stroke:none;stroke-width:1px;stroke-linecap:butt;stroke-linejoin:miter;stroke-opacity:1;font-family:Times New Roman\" x=\"193.60002\" xml:space=\"preserve\" y=\"414.93906\"><tspan id=\"tspan25750\" sodipodi:role=\"line\" x=\"193.60002\" y=\"414.93906\">φ</tspan></text>\n    <text id=\"text25752\" sodipodi:linespacing=\"100%\" style=\"font-size:48px;font-style:italic;font-variant:normal;font-weight:normal;font-stretch:normal;text-align:start;line-height:100%;writing-mode:lr-tb;text-anchor:start;fill:#000000;fill-opacity:1;stroke:none;stroke-width:1px;stroke-linecap:butt;stroke-linejoin:miter;stroke-opacity:1;font-family:Times New Roman\" x=\"221.21791\" xml:space=\"preserve\" y=\"268.69263\"><tspan id=\"tspan25756\" sodipodi:role=\"line\" x=\"221.21791\" y=\"268.69263\">θ</tspan></text>\n    <text id=\"text25758\" sodipodi:linespacing=\"100%\" style=\"font-size:30px;font-style:italic;font-variant:normal;font-weight:normal;font-stretch:normal;text-align:start;line-height:100%;writing-mode:lr-tb;text-anchor:start;fill:#000000;fill-opacity:1;stroke:none;stroke-width:1px;stroke-linecap:butt;stroke-linejoin:miter;stroke-opacity:1;font-family:Times New Roman\" x=\"271.49817\" xml:space=\"preserve\" y=\"198.5419\"><tspan id=\"tspan25762\" sodipodi:role=\"line\" style=\"font-size:48px\" x=\"271.49817\" y=\"198.5419\">r</tspan></text>\n    <path d=\"M 355.33835,74.12255 L 366.85621,85.640409\" id=\"path2249\" style=\"fill:none;fill-rule:evenodd;stroke:#000000;stroke-width:2;stroke-linecap:butt;stroke-linejoin:miter;stroke-miterlimit:4;stroke-dasharray:none;stroke-opacity:1\"/>\n    <path d=\"M 366.85621,74.122547 L 355.33835,85.640411\" id=\"path2251\" style=\"fill:none;fill-rule:evenodd;stroke:#000000;stroke-width:2;stroke-linecap:butt;stroke-linejoin:miter;stroke-miterlimit:4;stroke-dasharray:none;stroke-opacity:1\"/>\n  </g>\n</svg>"
          },
          "metadata": {
            "tags": []
          }
        }
      ]
    },
    {
      "cell_type": "markdown",
      "metadata": {
        "id": "5oU3MZDbxP-d"
      },
      "source": [
        "$\\varphi = \\phi$ と読んでください"
      ]
    },
    {
      "cell_type": "markdown",
      "metadata": {
        "id": "b1S2L_l2xXmw"
      },
      "source": [
        "\\begin{align*}\n",
        "\\vec{r} = \n",
        "\\left(\\begin{array}{c} \n",
        "r\\cos\\varphi\\sin\\theta\\\\ \n",
        "r\\sin \\varphi \\sin \\theta \\\\\n",
        "r\\cos \\theta\n",
        "\\end{array}\n",
        " \\right)\n",
        "\\end{align*}"
      ]
    },
    {
      "cell_type": "markdown",
      "metadata": {
        "id": "qVo9fHN_0thJ"
      },
      "source": [
        "$\\vec{r} \\to \\vec{r'}$ の変化を考えれば, 次の関係式が成り立ちます."
      ]
    },
    {
      "cell_type": "markdown",
      "metadata": {
        "id": "zwk5w_0QzNr3"
      },
      "source": [
        "\\begin{align*}\n",
        "\\vec{e}_r \n",
        "&= \\dfrac{\\partial \\vec{r}}{\\partial r}\n",
        "=\n",
        "\\left(\\begin{array}{c} \n",
        "\\cos\\varphi\\sin\\theta\\\\ \n",
        "\\sin \\varphi \\sin \\theta \\\\\n",
        "\\cos \\theta\n",
        "\\end{array}\n",
        " \\right)\n",
        "\\end{align*}"
      ]
    },
    {
      "cell_type": "markdown",
      "metadata": {
        "id": "_vPr8ULRznR8"
      },
      "source": [
        "\\begin{align*}\n",
        "\\vec{e}_\\theta \n",
        "&= \\dfrac{\\partial \\vec{r}}{r \\partial\\theta }\n",
        "=\n",
        "\\left(\\begin{array}{c} \n",
        "\\cos\\varphi\\cos\\theta\\\\ \n",
        "\\sin \\varphi \\cos \\theta \\\\\n",
        "-\\sin \\theta\n",
        "\\end{array}\n",
        " \\right)\n",
        "\\end{align*}"
      ]
    },
    {
      "cell_type": "markdown",
      "metadata": {
        "id": "C2zEXQKp0TIU"
      },
      "source": [
        "\\begin{align*}\n",
        "\\vec{e}_{\\varphi} \n",
        "&= \\dfrac{\\partial \\vec{r}}{r \\sin\\theta \\partial \\varphi}\n",
        "=\n",
        "\\left(\\begin{array}{c} \n",
        "-\\sin\\varphi\\\\ \n",
        "\\cos \\varphi\\\\\n",
        "0\n",
        "\\end{array}\n",
        " \\right)\n",
        "\\end{align*}"
      ]
    },
    {
      "cell_type": "markdown",
      "metadata": {
        "id": "u_dYHF-P1ALN"
      },
      "source": [
        "> Q. $\\varphi \\to \\theta$, $\\theta \\to \\pi/2 $ とおくことで, 二次元極座標の関係式が得られることを確認してください."
      ]
    }
  ]
}