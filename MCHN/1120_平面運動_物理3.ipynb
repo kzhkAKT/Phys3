{
  "nbformat": 4,
  "nbformat_minor": 0,
  "metadata": {
    "colab": {
      "name": "1120_平面運動_物理3.ipynb",
      "provenance": [],
      "collapsed_sections": [],
      "toc_visible": true,
      "authorship_tag": "ABX9TyNyKZT876pwLnScVjyjOd5i",
      "include_colab_link": true
    },
    "kernelspec": {
      "name": "python3",
      "display_name": "Python 3"
    }
  },
  "cells": [
    {
      "cell_type": "markdown",
      "metadata": {
        "id": "view-in-github",
        "colab_type": "text"
      },
      "source": [
        "<a href=\"https://colab.research.google.com/github/kzhkAKT/Physics3/blob/draft/MCHN/1120_%E5%B9%B3%E9%9D%A2%E9%81%8B%E5%8B%95_%E7%89%A9%E7%90%863.ipynb\" target=\"_parent\"><img src=\"https://colab.research.google.com/assets/colab-badge.svg\" alt=\"Open In Colab\"/></a>"
      ]
    },
    {
      "cell_type": "markdown",
      "metadata": {
        "id": "mGbKdtU8689Z"
      },
      "source": [
        "#質点系の力学"
      ]
    },
    {
      "cell_type": "markdown",
      "metadata": {
        "id": "_g53a65A6_qf"
      },
      "source": [
        "## 平面運動"
      ]
    },
    {
      "cell_type": "markdown",
      "metadata": {
        "id": "CwopPiP57iC-"
      },
      "source": [
        "**二次元平面を記述しようとするには**, 線形代数の知識を借りれば,  \n",
        "二つの基底具体的には**二つの単位ベクトル** が必要です\n",
        "\n",
        "先ずは\b最も簡単な, $x$軸と$y$軸が垂直に交わる **二次元直交座標系** で物体の  \n",
        "位置, 変位, 速度, 加速度 を調べます"
      ]
    },
    {
      "cell_type": "code",
      "metadata": {
        "id": "LDTC8i1w4NWQ",
        "cellView": "form",
        "outputId": "8d14dc3a-38a5-4948-d088-3e1af6cef44a",
        "colab": {
          "base_uri": "https://localhost:8080/",
          "height": 475
        }
      },
      "source": [
        "#@title 平面運動の典型的な例:斜め投げ上げ運動\n",
        "%%html\n",
        "<iframe src=\"https://phet.colorado.edu/sims/html/projectile-motion/latest/projectile-motion_en.html\" width=\"600\" height=\"450\" scrolling=\"no\" allowfullscreen></iframe>"
      ],
      "execution_count": null,
      "outputs": [
        {
          "output_type": "display_data",
          "data": {
            "text/html": [
              "<iframe src=\"https://phet.colorado.edu/sims/html/projectile-motion/latest/projectile-motion_en.html\" width=\"600\" height=\"450\" scrolling=\"no\" allowfullscreen></iframe>"
            ],
            "text/plain": [
              "<IPython.core.display.HTML object>"
            ]
          },
          "metadata": {
            "tags": []
          }
        }
      ]
    },
    {
      "cell_type": "code",
      "metadata": {
        "id": "hjAuTj32yY34",
        "cellView": "form",
        "outputId": "2672d80b-6e79-4bac-9543-13a87248c8bb",
        "colab": {
          "base_uri": "https://localhost:8080/",
          "height": 525
        }
      },
      "source": [
        "#@title 数学復習: ベクトルの加法と減法\n",
        "%%html\n",
        "<iframe src=\"https://phet.colorado.edu/sims/html/vector-addition/latest/vector-addition_en.html\" width=\"700\" height=\"500\" scrolling=\"no\" allowfullscreen></iframe>"
      ],
      "execution_count": null,
      "outputs": [
        {
          "output_type": "display_data",
          "data": {
            "text/html": [
              "<iframe src=\"https://phet.colorado.edu/sims/html/vector-addition/latest/vector-addition_en.html\" width=\"700\" height=\"500\" scrolling=\"no\" allowfullscreen></iframe>"
            ],
            "text/plain": [
              "<IPython.core.display.HTML object>"
            ]
          },
          "metadata": {
            "tags": []
          }
        }
      ]
    },
    {
      "cell_type": "markdown",
      "metadata": {
        "id": "0WrbzFbj3cN9"
      },
      "source": [
        "---\n",
        "\n",
        "\u0001この講義ノートでは, 見やすさを優先させ, \b教科書のような\b行ベクトル $(x,y)$はなく, できるだけ列ベクトル $\\left(\\begin{array}{c}x\\\\ y\\end{array} \\right)$ を利用します.\n",
        "\n",
        "\bこの講義の利用範囲では, \b行ベクトルと\b列ベクトルの入れ替えによる, 本質的な違いは起こりません.\n",
        "\n"
      ]
    },
    {
      "cell_type": "markdown",
      "metadata": {
        "id": "a1zPgwjw7_m_"
      },
      "source": [
        "### 位置ベクトル, $\\quad \\vec{r}$"
      ]
    },
    {
      "cell_type": "markdown",
      "metadata": {
        "id": "WqpNT0yv9gRH"
      },
      "source": [
        "教科書 p18 図1-13 を見て下さい.\n",
        "1. $x,y$ それぞれの単位ベクトルが次のように表せることを確認して下さい\n",
        "  - $\\vec{e}_x=\\left(\\begin{array}{c}1\\\\ 0\\end{array} \\right)$\n",
        "  - $\\vec{e}_y=\\left(\\begin{array}{c}0\\\\ 1\\end{array} \\right)$\n",
        "1. 原点を探して下さい\n",
        "1. 一般的な位置が, 原点を基準とした位置ベクトル $\\vec{r}$ で $\\left(\\begin{array}{c}x\\\\ y\\end{array} \\right)$  と表せることを確認して下さい.\n",
        "1. 上記の斜め投げ上げ運動を考慮すると, 一般的に $\\vec{r}=\\vec{r}(t)$ となります\n",
        "\n",
        "> Q. 単位ベクトルの大きさを教えてください."
      ]
    },
    {
      "cell_type": "markdown",
      "metadata": {
        "id": "mAnpE0wr_hzR"
      },
      "source": [
        "位置ベクトルは成分表示とベクトルの加法から, $\\vec{e}_{x,y}$ を用いて次のように表せます.\n",
        "\\begin{align*}\n",
        "\\vec{r}\n",
        "&= \\left(\\begin{array}{c}x\\\\ y\\end{array} \\right)\n",
        "= \\left(\\begin{array}{c}x\\\\ 0\\end{array} \\right)\n",
        "+\n",
        " \\left(\\begin{array}{c}0\\\\ y\\end{array} \\right)&\\\\\n",
        "&= x\\left(\\begin{array}{c}1\\\\ 0\\end{array} \\right)\n",
        "+\n",
        " y\\left(\\begin{array}{c}0\\\\ 1\\end{array} \\right)&\\\\ \n",
        "\\vec{r} &=x \\ \\vec{e}_{x} + y \\ \\vec{e}_{y}&\n",
        "\\end{align*}"
      ]
    },
    {
      "cell_type": "markdown",
      "metadata": {
        "id": "CsbRD-HNBMnE"
      },
      "source": [
        "位置ベクトルが時間に依存する場合は, 固定された二次元直交座標(系)では,   \n",
        "単位ベクトルは $\\vec{e}_{x,y}$ は時間変化せず\n",
        "\n",
        "\\begin{align*}\n",
        "\\vec{r}(t) &=x(t)\\ \\vec{e}_{x} + y(t)\\ \\vec{e}_{y}&\n",
        "\\end{align*}\n",
        "となります.\n",
        "\n",
        "> Q. 教科書 p19 図の1-14において　 $t_1, t_2$ の位置ベクトル $\\vec{r}_1, \\vec{r}_2$を確認して下さい."
      ]
    },
    {
      "cell_type": "markdown",
      "metadata": {
        "id": "FhgyQnM5B6tj"
      },
      "source": [
        "#### 距離 $r$, $\\quad \\left| \\vec{r} \\right|$\n",
        "\n",
        "(原点からの)距離 $r$ は, 二次元直交座標(系)では, 三平方の定理を用いて\n",
        "\\begin{align*}\n",
        "r = \\left|\\vec{r}\\right| &=\\sqrt{x^2 + y^2},&\n",
        "\\end{align*}\n",
        "\n",
        "または, ベクトルの内積を用いて\n",
        "\\begin{align*}\n",
        "r = \\left|\\vec{r}\\right| =\\sqrt{ \\vec{r} \\cdot \\vec{r}}&=\\sqrt{x^2 + y^2},&\n",
        "\\end{align*}\n",
        "と表すことができます."
      ]
    },
    {
      "cell_type": "markdown",
      "metadata": {
        "id": "KqQOvhGb8pB4"
      },
      "source": [
        "### 変位ベクトル, $\\quad \\Delta\\vec{r}$\n",
        "\n",
        "時間 $t_1 < t_2$ を考慮すると, 変位ベクトル, $\\Delta\\vec{r}$ は, 直線運動の変位 $\\Delta x = x_2 - x_1$を拡張して\n",
        "\n",
        "\\begin{align*}\n",
        "\\Delta\\vec{r} &= \\vec{r}_2 - \\vec{r}_2&\\\\\n",
        "&= \\left(\\begin{array}{c}x_2\\\\ y_2\\end{array} \\right)\n",
        "-\n",
        "\\left(\\begin{array}{c}x_1\\\\ y_1\\end{array} \\right) \n",
        "=\n",
        "\\left(\\begin{array}{c} \\Delta x\\\\ \\Delta y\\end{array} \\right)&\n",
        "\\end{align*}\n",
        "\n",
        "さらに, 時間変化しない単位ベクトル $\\vec{e}_{x,y}$を用いて表すと\n",
        "\n",
        "\\begin{align*}\n",
        "\\Delta \\vec{r} &=\\Delta x\\ \\vec{e}_{x} + \\Delta y\\ \\vec{e}_{y}&\n",
        "\\end{align*}\n",
        "\n",
        "> Q.　教科書 p20 図1-15 で, 変位ベクトルが位置ベクトルの減法で \b表されることを確認して下さい."
      ]
    },
    {
      "cell_type": "markdown",
      "metadata": {
        "id": "SX0vrqtO8pHp"
      },
      "source": [
        "### 速度ベクトル"
      ]
    },
    {
      "cell_type": "markdown",
      "metadata": {
        "id": "vjhT4TWqHvTW"
      },
      "source": [
        "#### 平均速度ベクトル, $\\quad \\vec{v}$\n",
        "\n",
        "直線運動の平均速度 $v=\\overline{v}=\\Delta x/ \\Delta t$を拡張すると\n",
        "\\begin{align*}\n",
        "\\vec{v}&= \\dfrac{\\vec{r}_2-\\vec{r}_1}{t_2 - t_1}\n",
        "=\\dfrac{\\Delta\\vec{r}}{\\Delta t} &\\\\\n",
        "&=\\left(\\begin{array}{c} \\Delta x / \\Delta t\\\\\n",
        " \\Delta y / \\Delta t\\end{array} \\right)\n",
        " =\n",
        " \\left(\\begin{array}{c} \\Delta x / \\Delta t\\\\\n",
        " 0\\end{array} \\right)\n",
        " +\\left(\\begin{array}{c} 0\\\\\n",
        " \\Delta y / \\Delta t\\end{array} \\right)\n",
        " &\n",
        "&\\\\\n",
        "&=\\dfrac{\\Delta x}{\\Delta t}\\ \\vec{e}_{x}\n",
        "+ \\dfrac{\\Delta y}{\\Delta t}\\ \\vec{e}_{y}\n",
        "= \\overline{v}_x \\  \\vec{e}_{x} + \\overline{v}_y \\ \\vec{e}_{y} &\n",
        "\\end{align*}\n",
        "\n",
        "> Q.　教科書 p20 図1-15 で, 平均\bの速度ベクトルが変位ベクトルと同じ向きになる事を確認して下さい.\n"
      ]
    },
    {
      "cell_type": "markdown",
      "metadata": {
        "id": "Vj_0ik2wKUI-"
      },
      "source": [
        "#### 瞬間の速度ベクトル, $\\quad \\vec{v}(t)$\n",
        "\n",
        "\\begin{align*}\n",
        "\\vec{v}(t_1)&= \\lim_{t_2 \\to t_1} \\dfrac{\\vec{r}_2-\\vec{r}_1}{t_2 - t_1}\n",
        "=\\lim_{t_2 \\to t_1} \\dfrac{\\Delta\\vec{r}}{\\Delta t} \n",
        "= \\dfrac{{\\rm d} \\vec{r}}{{\\rm d} t}\\Big|_{t=t_1}&\\\\\n",
        "&=\\dfrac{{\\rm d} x}{{\\rm d} t}\\Big|_{t=t_1}\\ \\vec{e}_{x}\n",
        "+ \\dfrac{{\\rm d} y}{{\\rm d} t}\\Big|_{t=t_1}\\ \\vec{e}_{y}\n",
        "= v_x(t_1) \\  \\vec{e}_{x} + v_y(t_1) \\ \\vec{e}_{y} &\n",
        "\\end{align*}"
      ]
    },
    {
      "cell_type": "markdown",
      "metadata": {
        "id": "NzaQm-dkLj-z"
      },
      "source": [
        "単位ベクトルの成分を用いて表せば\n",
        "\\begin{align*}\n",
        "\\vec{v}(t_1)&= v_x(t_1) \\  \\vec{e}_{x} + v_y(t_1) \\ \\vec{e}_{y} &\\\\\n",
        "&=\\left(\\begin{array}{c} v_x(t_1)\\\\ 0\\end{array} \\right)\n",
        "+\\left(\\begin{array}{c} 0\\\\ v_y(t_1)\\end{array} \\right)\n",
        "=\\left(\\begin{array}{c} v_x(t_1)\\\\ v_y(t_1)\\end{array} \\right)&\\\\\n",
        "&= \\left(\\begin{array}{c} \\dfrac{{\\rm d} x(t)}{{\\rm d} t}\\\\\n",
        "\\dfrac{{\\rm d} y(t)}{{\\rm d} t} \\end{array} \\right)\\Big|_{t=t_1}\n",
        "= \\dfrac{{\\rm d} }{{\\rm d} t} \\left(\\begin{array}{c} x(t)\\\\ v(t)\\end{array} \\right)\\Big|_{t=t_1}\n",
        "\\end{align*}\n",
        "と表現できます.\n",
        "\n",
        "> Q. 教科書 p20 図1-15 で, $t_2 \\to t_1$ とする事で, \b$\b\\vec{r_1}$ における接線ベクトルが瞬間の速度ベクトルの方向に対応する事を確認して下さい."
      ]
    },
    {
      "cell_type": "markdown",
      "metadata": {
        "id": "2G8vTypF9GRp"
      },
      "source": [
        "#### 速さ $v= \\left|\\vec{v}\\right|$\n",
        "\n",
        "瞬間の速度 $\\vec{v}$ の大きさ $\\left|\\vec{v}\\right|$ は, 二次元直交座標(系)では, 三平方の定理を用いて\n",
        "\\begin{align*}\n",
        "v = \\left|\\vec{v}\\right| &=\\sqrt{v_x^2 + v_y^2},&\n",
        "\\end{align*}\n",
        "\n",
        "または, ベクトルの内積を用いて\n",
        "\\begin{align*}\n",
        "v = \\left|\\vec{v}\\right| =\\sqrt{ \\vec{v} \\cdot \\vec{v}}&=\\sqrt{v_x^2 + v_y^2},&\n",
        "\\end{align*}\n",
        "と表すことができます.\n",
        "\n",
        "---\n",
        "\n",
        "直線運動では正負を持つものを $v$ と表現していましたが, より一般的には $v= \\left|\\vec{v}\\right|$ です"
      ]
    },
    {
      "cell_type": "markdown",
      "metadata": {
        "id": "-RLZ2amL3R5_"
      },
      "source": [
        "> Q. 教科書 p21 の 例題4 に取り組んでください.\n",
        "\n",
        "> Q. 際の例題の $x,y$ 成分から, 媒介変数である時間 $t$ を消去してください."
      ]
    },
    {
      "cell_type": "markdown",
      "metadata": {
        "id": "404zeL-d8pMt"
      },
      "source": [
        "### 加速度ベクトル, $\\quad \\vec{a}$"
      ]
    },
    {
      "cell_type": "markdown",
      "metadata": {
        "id": "UxKeZH1_NuZl"
      },
      "source": [
        "#### 平均の加速度ベクトル, $\\quad \\vec{a}$\n",
        "\n",
        "直線運動の平均の加速度 $a=\\overline{a}=\\Delta v/ \\Delta t$を拡張すると\n",
        "\\begin{align*}\n",
        "\\vec{a}&= \\dfrac{\\vec{v}_2-\\vec{v}_1}{t_2 - t_1}\n",
        "=\\dfrac{\\Delta\\vec{v}}{\\Delta t} &\\\\\n",
        "&=\\dfrac{\\Delta v_x}{\\Delta t}\\ \\vec{e}_{x}\n",
        "+ \\dfrac{\\Delta v_y}{\\Delta t}\\ \\vec{e}_{y}\n",
        "= \\overline{a}_x \\  \\vec{e}_{x} + \\overline{a}_y \\ \\vec{e}_{a} &\n",
        "\\end{align*}\n",
        "\n",
        "\n"
      ]
    },
    {
      "cell_type": "markdown",
      "metadata": {
        "id": "p4QLvGT3OrQI"
      },
      "source": [
        "#### 瞬間の加速度ベクトル, $\\quad \\vec{a}(t)$\n",
        "\n",
        "\\begin{align*}\n",
        "\\vec{a}(t_1)&= \\lim_{t_2 \\to t_1} \\dfrac{\\vec{v}_2-\\vec{v}_1}{t_2 - t_1}\n",
        "=\\lim_{t_2 \\to t_1} \\dfrac{\\Delta\\vec{v}}{\\Delta t} \n",
        "= \\dfrac{{\\rm d} \\vec{v}}{{\\rm d} t}\\Big|_{t=t_1}&\\\\\n",
        "&=\\dfrac{{\\rm d} v_x}{{\\rm d} t}\\Big|_{t=t_1}\\ \\vec{e}_{x}\n",
        "+ \\dfrac{{\\rm d} v_y}{{\\rm d} t}\\Big|_{t=t_1}\\ \\vec{e}_{y}\n",
        "= a_x(t_1) \\  \\vec{e}_{x} + a_y(t_1) \\ \\vec{e}_{y} &\n",
        "\\end{align*}"
      ]
    },
    {
      "cell_type": "markdown",
      "metadata": {
        "id": "RJ718uzG6lW4"
      },
      "source": [
        "ここで瞬間の速度の定義を用いれば, 次のように位置ベクトル\bの成分 $x,y$ でも表現できます.\n",
        "\\begin{align*}\n",
        "\\vec{a}(t_1)&=\\dfrac{{\\rm d} v_x}{{\\rm d} t}\\Big|_{t=t_1}\\ \\vec{e}_{x}\n",
        "+ \\dfrac{{\\rm d} v_y}{{\\rm d} t}\\Big|_{t=t_1}\\ \\vec{e}_{y}\b\n",
        "\b= \\left(\\begin{array}{c} \\dfrac{{\\rm d} v_x(t)}{{\\rm d} t}\\\\\n",
        "\\dfrac{{\\rm d} v_y(t)}{{\\rm d} t} \\end{array} \\right)\\Big|_{t=t_1} &\\\\[1mm]\n",
        "&=\\dfrac{{\\rm d^2} x}{{\\rm d} t^2}\\Big|_{t=t_1}\\ \\vec{e}_{x}\n",
        "+ \\dfrac{{\\rm d^2} y}{{\\rm d} t^2}\\Big|_{t=t_1}\\ \\vec{e}_{y}\n",
        "\b= \\left(\\begin{array}{c} \\dfrac{{\\rm d^2} x(t)}{{\\rm d} t^2}\\\\\n",
        "\\dfrac{{\\rm d^2} y(t)}{{\\rm d} t^2} \\end{array} \\right)\\Big|_{t=t_1} \b&\\\\\n",
        "\\end{align*}\n"
      ]
    },
    {
      "cell_type": "markdown",
      "metadata": {
        "id": "mDi_U8YF6QP4"
      },
      "source": [
        "#### 加速度ベクトルの大きさ $a= \\left|\\vec{a}\\right|$\n",
        "\n",
        "瞬間の速度 $\\vec{a}$ の大きさ $\\left|\\vec{a}\\right|$ は, 二次元直交座標(系)では, 三平方の定理を用いて\n",
        "\\begin{align*}\n",
        "a = \\left|\\vec{a}\\right| &=\\sqrt{a_x^2 + v_a^2},&\n",
        "\\end{align*}\n",
        "\n",
        "または, ベクトルの内積を用いて\n",
        "\\begin{align*}\n",
        "a = \\left|\\vec{a}\\right| =\\sqrt{ \\vec{a} \\cdot \\vec{a}}&=\\sqrt{a_x^2 + a_y^2},&\n",
        "\\end{align*}\n",
        "と表すことができます.\n",
        "\n",
        "---\n",
        "\n",
        "直線運動では正負を持つものを $a$ と表現していましたが, より一般的には $v= \\left|\\vec{a}\\right|$ です"
      ]
    },
    {
      "cell_type": "markdown",
      "metadata": {
        "id": "NyawpqDG4d3H"
      },
      "source": [
        "> Q. 教科書 p21 図1-16 で, \b平均の速度変化ベクトル $\b\\Delta \\vec{v}$ が, $\b\\vec{v_2}$ から $\b\\vec{v_1}$  を\b引くことで, 作図られる事を確認して下さい.\n",
        "\n",
        "> \bQ. 教科書 p21 図1-16 で, $t_1$ における瞬間の加速度ベクトルの方向を考えて下さい."
      ]
    },
    {
      "cell_type": "code",
      "metadata": {
        "cellView": "form",
        "id": "sKRR_LNeQdzZ",
        "outputId": "fa5dc851-7813-453c-be63-4be36ddb82c9",
        "colab": {
          "base_uri": "https://localhost:8080/",
          "height": 475
        }
      },
      "source": [
        "#@title 平面運動の典型的な例:(瞬間の)速度ベクトルと(瞬間の)加速度ベクトルの確認\n",
        "%%html\n",
        "<iframe src=\"https://phet.colorado.edu/sims/html/projectile-motion/latest/projectile-motion_en.html\" width=\"600\" height=\"450\" scrolling=\"no\" allowfullscreen></iframe>"
      ],
      "execution_count": null,
      "outputs": [
        {
          "output_type": "display_data",
          "data": {
            "text/html": [
              "<iframe src=\"https://phet.colorado.edu/sims/html/projectile-motion/latest/projectile-motion_en.html\" width=\"600\" height=\"450\" scrolling=\"no\" allowfullscreen></iframe>"
            ],
            "text/plain": [
              "<IPython.core.display.HTML object>"
            ]
          },
          "metadata": {
            "tags": []
          }
        }
      ]
    },
    {
      "cell_type": "markdown",
      "metadata": {
        "id": "ZBCbFEXPxyvb"
      },
      "source": [
        "### 二次元の極座標による位置, 速度, 加速度"
      ]
    },
    {
      "cell_type": "code",
      "metadata": {
        "id": "JHhKnf7Gx8hT",
        "cellView": "form",
        "outputId": "ca613d93-c0e7-409e-93be-6de875155cb3",
        "colab": {
          "base_uri": "https://localhost:8080/",
          "height": 475
        }
      },
      "source": [
        "#@title 単位円と三角関数\n",
        "%%html\n",
        "<iframe src=\"https://phet.colorado.edu/sims/html/trig-tour/latest/trig-tour_en.html\" width=\"600\" height=\"450\" scrolling=\"no\" allowfullscreen></iframe>"
      ],
      "execution_count": null,
      "outputs": [
        {
          "output_type": "display_data",
          "data": {
            "text/html": [
              "<iframe src=\"https://phet.colorado.edu/sims/html/trig-tour/latest/trig-tour_en.html\" width=\"600\" height=\"450\" scrolling=\"no\" allowfullscreen></iframe>"
            ],
            "text/plain": [
              "<IPython.core.display.HTML object>"
            ]
          },
          "metadata": {
            "tags": []
          }
        }
      ]
    },
    {
      "cell_type": "markdown",
      "metadata": {
        "id": "yf84bjWHSwrf"
      },
      "source": [
        "極座標表示で用いられる $r,\\theta$ が時間依存する場合( $r(t),\\theta(t)$)を考える準備をします"
      ]
    },
    {
      "cell_type": "markdown",
      "metadata": {
        "id": "d2-Bgy7MiR53"
      },
      "source": [
        "#### 極座標表示の位置 ~ 基底ベクトル ~ 単位ベクトル"
      ]
    },
    {
      "cell_type": "markdown",
      "metadata": {
        "id": "OcAbaPEQQzrb"
      },
      "source": [
        "位置ベクトルを二次元極座標 $r,\\theta$を用いて表すと\n",
        "\\begin{align*}\n",
        "\\vec{r}\n",
        "&= \\left(\\begin{array}{c}x\\\\ y\\end{array} \\right)\n",
        "=\n",
        "\\left(\\begin{array}{c}x\\\\ 0\\end{array} \\right)\n",
        "+\n",
        "\\left(\\begin{array}{c}0\\\\ y\\end{array} \\right)&\\\\\n",
        "&=\n",
        "\\left(\\begin{array}{c} r\\cos\\theta\\\\ 0\\end{array} \\right)\n",
        "+\n",
        "\\left(\\begin{array}{c}0\\\\ r\\sin \\theta \\end{array} \\right)&\\\\\n",
        "\\vec{r} &= \\left(\\begin{array}{c} r\\cos\\theta\\\\ r\\sin \\theta \\end{array} \\right)&\n",
        "\\end{align*}"
      ]
    },
    {
      "cell_type": "markdown",
      "metadata": {
        "id": "w3vSLIspRph4"
      },
      "source": [
        "これを整理すると\n",
        "\\begin{align*}\n",
        "\\vec{r} \n",
        "&= \\left(\\begin{array}{c} r\\cos\\theta\\\\ r\\sin \\theta \\end{array} \\right)&\\\\\n",
        "&=\n",
        "r \\left(\\begin{array}{c} \\cos\\theta\\\\ 0\\end{array} \\right)\n",
        "+\n",
        "r \\left(\\begin{array}{c}0\\\\ \\sin \\theta \\end{array} \\right),&\\\\\n",
        "\\end{align*}\n",
        "となります.\n",
        "\n",
        "これから 原点から出発した $\\vec{r}$ の単位ベクトルとして\n",
        "\\begin{align*}\n",
        "\\vec{e}_{r} = \\dfrac{\\vec{r}}{r} \n",
        "= \\left(\\begin{array}{c} \\cos\\theta\\\\ \\sin \\theta \\end{array} \\right)&\n",
        "\\end{align*}\n",
        "が定義されます.\n",
        "\n",
        "> Q. このベクトルが単位円上に現れることを確認してください.\n"
      ]
    },
    {
      "cell_type": "markdown",
      "metadata": {
        "id": "OHSs6kIYSjjk"
      },
      "source": [
        "平面を記述するには, もう一つの単位ベクトルが必要なので, $\\vec{e}_r$ に直交する単位ベクトルを次のように導入します."
      ]
    },
    {
      "cell_type": "markdown",
      "metadata": {
        "id": "3zt0LO2TTQ8i"
      },
      "source": [
        "\\begin{align*}\n",
        "\\vec{e}_{\\theta} = \\dfrac{{\\rm d}\\vec{e}_r}{{\\rm d}\\theta} = \\left(\\begin{array}{c} -\\sin\\theta\\\\ \\cos \\theta \\end{array} \\right)&\n",
        "\\end{align*}"
      ]
    },
    {
      "cell_type": "markdown",
      "metadata": {
        "id": "b2ESzzchbL8q"
      },
      "source": [
        "この $\\vec{e}_{\\theta}$ については, 次のように微分の定義に戻って考えると幾何学的な意味がはっきりします.\n",
        "\n",
        "\\begin{align*}\n",
        "\\vec{e}_{\\theta} \n",
        "= \\dfrac{{\\rm d}\\vec{e}_r}{{\\rm d}\\theta} \n",
        "= \\lim_{\\Delta \\theta \\to 0} \\dfrac{\\Delta \\vec{e}_{r}}{\\Delta \\theta}\n",
        "= \\lim_{\\Delta \\theta \\to 0} \\dfrac{\\vec{e}_{r'} - \\vec{e}_{r}}{\\Delta \\theta}\n",
        "\\end{align*}\n",
        "\n",
        "$\\vec{e}_{r}:\\theta$ , $\\vec{e}_{r'}:(\\theta+\\Delta \\theta)$, として単位円上に作図し, $\\Delta \\theta \\to 0$ をとれば 反時計回りに回る接線ベクトルが $\\vec{e}_{\\theta}$ に相当します."
      ]
    },
    {
      "cell_type": "markdown",
      "metadata": {
        "id": "qENoULbDdZEx"
      },
      "source": [
        "求め方は\n",
        "\\begin{align*}\n",
        "\\vec{e}_{\\theta}\n",
        "&= \\dfrac{{\\rm d}\\vec{e}_r}{{\\rm d}\\theta} \n",
        "=\\begin{cases}\n",
        "\\left(\\begin{array}{c} \n",
        "\\dfrac{{\\rm d}\\cos\\theta}{{\\rm d}\\theta} \\\\\n",
        "\\dfrac{{\\rm d}\\sin \\theta}{{\\rm d}\\theta} \\end{array} \\right)\\\\\n",
        "\\left(\\begin{array}{c} \\cos\\left(\\theta+\\pi/2\\right) \\\\\n",
        " \\sin \\left(\\theta +\\pi/2\\right)\\end{array} \\right)\n",
        "\\end{cases}\\\\\n",
        "&= \\left(\\begin{array}{c} -\\sin\\theta\\\\ \\cos \\theta \\end{array} \\right)&\n",
        "\\end{align*}"
      ]
    },
    {
      "cell_type": "markdown",
      "metadata": {
        "id": "X09YsCaQeyE2"
      },
      "source": [
        "> Q. $|\\vec{e}_{r}|, |\\vec{e}_{\\theta}|$ と $\\vec{e}_{r}\\cdot\\vec{e}_{\\theta}$ を求めてください.\n",
        "\n",
        "> Q. 教科書 p23 図の 1-18 で $\\vec{e}_{r}, \\vec{e}_{\\theta}$ の起点を確認してください.\n"
      ]
    },
    {
      "cell_type": "markdown",
      "metadata": {
        "id": "qff7zhlffSfy"
      },
      "source": [
        "#### 極座標表示における速度"
      ]
    },
    {
      "cell_type": "markdown",
      "metadata": {
        "id": "vfe1pOLvis4_"
      },
      "source": [
        "\\begin{align*}\n",
        "\\vec{v} \n",
        "&= \\dfrac{{\\rm d}\\vec{r}}{{\\rm d}t} \n",
        "= \\dfrac{{\\rm d} \\left(r \\vec{e}_{r}\\right)}{{\\rm d}t} \\\\\n",
        "&=\n",
        "\\dfrac{{\\rm d} \\ r }{{\\rm d}t}\\ \\vec{e}_{r}\n",
        "+\n",
        "r\\ \\dfrac{{\\rm d}  \\vec{e}_{r}}{{\\rm d}t}\\\\\n",
        "&=\n",
        "\\dfrac{{\\rm d} \\ r }{{\\rm d}t}\\ \\vec{e}_{r}\n",
        "+\n",
        "r\\ \n",
        "\\dfrac{{\\rm d}\\theta}{{\\rm d}t}\n",
        "\\dfrac{{\\rm d} \\vec{e}_{r}}{{\\rm d}\\theta}\n",
        "\\\\\n",
        "&= \n",
        "\\dfrac{{\\rm d} \\ r }{{\\rm d}t}\\ \\vec{e}_{r}\n",
        "+\n",
        "r\\ \n",
        "\\dfrac{{\\rm d}\\theta}{{\\rm d}t}\\ \\vec{e}_{\\theta}\n",
        "\\end{align*}"
      ]
    },
    {
      "cell_type": "markdown",
      "metadata": {
        "id": "ImPilTU5lDy_"
      },
      "source": [
        "#### 極座標表示における加速度"
      ]
    },
    {
      "cell_type": "markdown",
      "metadata": {
        "id": "xJOJAfvAldWT"
      },
      "source": [
        "> Q. $\\dfrac{{\\rm d} \\vec{e}_{\\theta}}{{\\rm d} \\theta} = - \\vec{e}_{r}$ となることを, 幾何学的な方法または微分を利用した方法で確認してください."
      ]
    },
    {
      "cell_type": "markdown",
      "metadata": {
        "id": "GpeCCag3l2ZZ"
      },
      "source": [
        "極座標表示における加速度の導出\n",
        "\n",
        "$\\require{cancel}$\n",
        "\\begin{align*}\n",
        "\\vec{a} =& \\dfrac{{\\rm d}\\vec{v}}{{\\rm d}t} \\\\\n",
        "=&\\dfrac{{\\rm d}}{{\\rm d}t}\n",
        "\\left( \\dfrac{{\\rm d} \\ r }{{\\rm d}t}\\ \\vec{e}_{r}\n",
        "+\n",
        "r\\ \n",
        "\\dfrac{{\\rm d}\\theta}{{\\rm d}t}\\ \\vec{e}_{\\theta}\\right)\\\\\n",
        "=&\n",
        "\\dfrac{{\\rm d}}{{\\rm d}t}\n",
        "\\left(\n",
        "  \\dfrac{{\\rm d}  r }{{\\rm d}t}\\cdot \\vec{e}_{r}\n",
        "\\right)\n",
        "+\n",
        "\\dfrac{{\\rm d}}{{\\rm d}t}\n",
        "\\left(\n",
        "r\\cdot \\dfrac{{\\rm d}\\theta}{{\\rm d}t}\\cdot \\vec{e}_{\\theta}\n",
        "\\right)\\\\\n",
        "=&\n",
        "\\dfrac{{\\rm d^2}  r }{{\\rm d}t^2}\\cdot \\vec{e}_{r}\n",
        "+\n",
        "\\dfrac{{\\rm d}  r }{{\\rm d}t}\\cdot {\\dfrac{{\\rm d}\\vec{e}_{r}}{{\\rm d}t}}\\\\\n",
        "%\n",
        "&+ \n",
        "\\dfrac{{\\rm d}  r }{{\\rm d}t}\\cdot \\dfrac{{\\rm d}\\theta}{{\\rm d}t}\n",
        "\\cdot \\vec{e}_{\\theta}\n",
        "+\n",
        " r \\cdot \\dfrac{{\\rm d^2}\\theta}{{\\rm d}t^2}\n",
        "\\cdot \\vec{e}_{\\theta}\n",
        "+\n",
        " r\\cdot \\dfrac{{\\rm d}\\theta}{{\\rm d}t}\n",
        "\\cdot {\\dfrac{{\\rm d}\\vec{e}_{\\theta}}{{\\rm d}t}}\\\\\n",
        "=&\n",
        "\\dfrac{{\\rm d^2}  r }{{\\rm d}t^2}\\vec{e}_{r}\n",
        "+\n",
        "\\dfrac{{\\rm d}  r }{{\\rm d}t}\n",
        "\\dfrac{{\\rm d}\\theta}{{\\rm d}t}\n",
        "\\cancelto{\\vec{e}_{\\theta}}{\\dfrac{{\\rm d}\\vec{e}_{r}}{{\\rm d}\\theta}}\\\\\n",
        "%\n",
        "&+ \n",
        "\\dfrac{{\\rm d}  r }{{\\rm d}t} \\dfrac{{\\rm d}\\theta}{{\\rm d}t}\n",
        "\\vec{e}_{\\theta}\n",
        "+\n",
        " r \\dfrac{{\\rm d^2}\\theta}{{\\rm d}t^2}\n",
        "\\vec{e}_{\\theta}\n",
        "+\n",
        " r \\dfrac{{\\rm d}\\theta}{{\\rm d}t}\n",
        "\\dfrac{{\\rm d}\\theta}{{\\rm d}t}\n",
        "\\cancelto{(-\\vec{e}_r)}{\\dfrac{{\\rm d}\\vec{e}_{\\theta}}{{\\rm d}\\theta}}\\\\\n",
        "=&\n",
        "\\left\\{\n",
        "  \\dfrac{{\\rm d^2}  r }{{\\rm d}t^2} - r \\left(\\dfrac{{\\rm d}\\theta}{{\\rm d}t}\\right)^2\n",
        "\\right\\}\\vec{e}_{r}\n",
        "+\n",
        "\\left\\{\n",
        "  2 \\dfrac{{\\rm d}  r }{{\\rm d}t} \\dfrac{{\\rm d}\\theta}{{\\rm d}t}\n",
        "  +\n",
        "  r \\dfrac{{\\rm d^2}\\theta}{{\\rm d}t^2}\n",
        "\\right\\}\\vec{e}_{\\theta}\n",
        "\\end{align*}"
      ]
    },
    {
      "cell_type": "markdown",
      "metadata": {
        "id": "YaJ4cxcQsN-C"
      },
      "source": [
        "> Q. 角速度$\\omega=\\frac{{\\rm d}\\theta}{{\\rm d}t}$ と 原点からの距離 $r$ が一定の等速円運動における, (二次元)極座標表示における $\\vec{v}, \\vec{a}$ を求めてください.\n",
        "\n",
        "> Q. 等速直線運動における $\\vec{a}$ の方向を確認してください."
      ]
    }
  ]
}