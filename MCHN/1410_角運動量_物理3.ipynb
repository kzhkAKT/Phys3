{
  "nbformat": 4,
  "nbformat_minor": 0,
  "metadata": {
    "colab": {
      "name": "1410_角運動量_物理3.ipynb",
      "provenance": [],
      "authorship_tag": "ABX9TyMUbYPMHVXjp9C4bqu0WUiP",
      "include_colab_link": true
    },
    "kernelspec": {
      "name": "python3",
      "display_name": "Python 3"
    }
  },
  "cells": [
    {
      "cell_type": "markdown",
      "metadata": {
        "id": "view-in-github",
        "colab_type": "text"
      },
      "source": [
        "<a href=\"https://colab.research.google.com/github/kzhkAKT/Physics3/blob/draft/MCHN/1410_%E8%A7%92%E9%81%8B%E5%8B%95%E9%87%8F_%E7%89%A9%E7%90%863.ipynb\" target=\"_parent\"><img src=\"https://colab.research.google.com/assets/colab-badge.svg\" alt=\"Open In Colab\"/></a>"
      ]
    },
    {
      "cell_type": "markdown",
      "metadata": {
        "id": "hmSQjynSCEKc"
      },
      "source": [
        "# 回転に関する運動方程式"
      ]
    },
    {
      "cell_type": "markdown",
      "metadata": {
        "id": "95RM75SqCQIb"
      },
      "source": [
        "## 数学復習: 外積\n",
        "\n",
        "- [外積, KIT](http://w3e.kanazawa-it.ac.jp/math/category/vector/henkan-tex.cgi?target=/math/category/vector/gaiseki.html)\n",
        "  - 外積 / ベクトル積 の性質を確認して下さい\n"
      ]
    },
    {
      "cell_type": "markdown",
      "metadata": {
        "id": "Don7nk6BCHns"
      },
      "source": [
        "## 角運動量 $L$\n",
        "angular momentum\n",
        "\n",
        "[Why did angular momentum get the letter L](https://hsm.stackexchange.com/q/728)"
      ]
    },
    {
      "cell_type": "code",
      "metadata": {
        "id": "5IUj934jJ10L",
        "cellView": "form",
        "outputId": "812b0df1-9836-4b66-b357-6de338f39b86",
        "colab": {
          "base_uri": "https://localhost:8080/",
          "height": 336
        }
      },
      "source": [
        "#@title 角運動量(保存則)を学ぶことで理解できる現象\n",
        "%%html\n",
        "<iframe width=\"560\" height=\"315\" src=\"https://www.youtube-nocookie.com/embed/M6PuutIm5h4\" frameborder=\"0\" allow=\"accelerometer; autoplay; clipboard-write; encrypted-media; gyroscope; picture-in-picture\" allowfullscreen></iframe>"
      ],
      "execution_count": null,
      "outputs": [
        {
          "output_type": "display_data",
          "data": {
            "text/html": [
              "<iframe width=\"560\" height=\"315\" src=\"https://www.youtube-nocookie.com/embed/M6PuutIm5h4\" frameborder=\"0\" allow=\"accelerometer; autoplay; clipboard-write; encrypted-media; gyroscope; picture-in-picture\" allowfullscreen></iframe>"
            ],
            "text/plain": [
              "<IPython.core.display.HTML object>"
            ]
          },
          "metadata": {
            "tags": []
          }
        }
      ]
    },
    {
      "cell_type": "code",
      "metadata": {
        "id": "Cl3-YcAJTrhy",
        "cellView": "form",
        "outputId": "c999702b-1d24-44ed-d7f5-220656b98b7a",
        "colab": {
          "base_uri": "https://localhost:8080/",
          "height": 336
        }
      },
      "source": [
        "#@title 角運動量(保存則)を利用した競技\n",
        "%%html\n",
        "<iframe width=\"560\" height=\"315\" src=\"https://www.youtube-nocookie.com/embed/FmnkQ2ytlO8\" frameborder=\"0\" allow=\"accelerometer; autoplay; clipboard-write; encrypted-media; gyroscope; picture-in-picture\" allowfullscreen></iframe>"
      ],
      "execution_count": null,
      "outputs": [
        {
          "output_type": "display_data",
          "data": {
            "text/html": [
              "<iframe width=\"560\" height=\"315\" src=\"https://www.youtube-nocookie.com/embed/FmnkQ2ytlO8\" frameborder=\"0\" allow=\"accelerometer; autoplay; clipboard-write; encrypted-media; gyroscope; picture-in-picture\" allowfullscreen></iframe>"
            ],
            "text/plain": [
              "<IPython.core.display.HTML object>"
            ]
          },
          "metadata": {
            "tags": []
          }
        }
      ]
    },
    {
      "cell_type": "code",
      "metadata": {
        "id": "PkgeXw3TByg4",
        "cellView": "form",
        "outputId": "ac0584cd-5ca6-4648-c5ee-f701fc3ed936",
        "colab": {
          "base_uri": "https://localhost:8080/",
          "height": 625
        }
      },
      "source": [
        "#@title 簡易化した惑星/衛星の運動\n",
        "%%html\n",
        "<iframe src=\"https://phet.colorado.edu/sims/html/gravity-and-orbits/latest/gravity-and-orbits_en.html\" width=\"800\" height=\"600\" scrolling=\"no\" allowfullscreen></iframe>"
      ],
      "execution_count": null,
      "outputs": [
        {
          "output_type": "display_data",
          "data": {
            "text/html": [
              "<iframe src=\"https://phet.colorado.edu/sims/html/gravity-and-orbits/latest/gravity-and-orbits_en.html\" width=\"800\" height=\"600\" scrolling=\"no\" allowfullscreen></iframe>"
            ],
            "text/plain": [
              "<IPython.core.display.HTML object>"
            ]
          },
          "metadata": {
            "tags": []
          }
        }
      ]
    },
    {
      "cell_type": "markdown",
      "metadata": {
        "id": "29-ZNSVbdwTe"
      },
      "source": [
        "https://mgvez.github.io/jsorrery/"
      ]
    },
    {
      "cell_type": "code",
      "metadata": {
        "id": "U2lu_wyMPfC6",
        "cellView": "form",
        "outputId": "966feceb-bc24-44cc-c6a8-341b0a03a036",
        "colab": {
          "base_uri": "https://localhost:8080/",
          "height": 721
        }
      },
      "source": [
        "#@title Uni Circular Motion\n",
        "import IPython\n",
        "\n",
        "iframe = '<iframe \\\n",
        "  scrolling=\"no\" \\\n",
        "  src=\"https://www.geogebra.org/m/xa6tkrtr\" \\\n",
        "  width=\"800px\" \\\n",
        "  height=\"700px\" \\\n",
        "  style=\"border:0px;\"> \\\n",
        "  </iframe>'\n",
        "\n",
        "IPython.display.HTML(iframe)"
      ],
      "execution_count": null,
      "outputs": [
        {
          "output_type": "execute_result",
          "data": {
            "text/html": [
              "<iframe   scrolling=\"no\"   src=\"https://www.geogebra.org/m/xa6tkrtr\"   width=\"800px\"   height=\"700px\"   style=\"border:0px;\">   </iframe>"
            ],
            "text/plain": [
              "<IPython.core.display.HTML object>"
            ]
          },
          "metadata": {
            "tags": []
          },
          "execution_count": 18
        }
      ]
    },
    {
      "cell_type": "markdown",
      "metadata": {
        "id": "YKlhgRFiQ6Fh"
      },
      "source": [
        "> Q. $x,y$ 軸の取り方に注意し, 教科書 p44 図 1-32 (b) で、次のベクトルとスカラーを確認して下さい.\n",
        "1. $\\vec{r}$\n",
        "2. $\\vec{p} = m \\vec{v}$\n",
        "3. $\\theta$\n",
        "4. $\\Theta$"
      ]
    },
    {
      "cell_type": "markdown",
      "metadata": {
        "id": "rJdmZlN8RniC"
      },
      "source": [
        "### 角運動量の定義\n",
        "\n",
        "> 回転する物体の運動量\n",
        "\n",
        "\\begin{align*}\n",
        "\\vec{L} &= \\vec{r} \\times \\vec{p} = \\vec{r} \\times (m \\vec{v})\\\\\n",
        "&=\\begin{cases}\n",
        "\\text{大きさ:}\n",
        "&=\\left| \\vec{L} \\right| = r p \\sin \\Theta = m r v \\sin \\Theta\\\\[2mm]\n",
        "&\\sim \\text{$\\vec{r},\\vec{p}$ が作る平行四辺形の面積}\\\\\n",
        "\\text{向き:}\n",
        "&=\\vec{e}_{L}= \\frac{\\vec{L}}{\\left| \\vec{L} \\right|} \\sim \\vec{r} \\to \\vec{p}\\\\[2mm]\n",
        "&\\sim \\text{ベクトル $\\vec{r},\\vec{p}$ の始点を併せ,  $\\vec{r}$ が $\\vec{p}$ に重なるように右ねじが進む方向を正}\n",
        "\\end{cases}\n",
        "\\end{align*}\n",
        "\n",
        "$\\times$ は **外積**/ベクトル積 を表しています.\n",
        "\n"
      ]
    },
    {
      "cell_type": "markdown",
      "metadata": {
        "id": "6uAqj3aaVCge"
      },
      "source": [
        "#### 等速円運動での角運動量"
      ]
    },
    {
      "cell_type": "markdown",
      "metadata": {
        "id": "33ndMX9aWERk"
      },
      "source": [
        "$r:const, r\\frac{{\\rm d}\\theta}{{\\rm d}t}:const$ \n",
        "\\begin{align*}\n",
        "\\vec{r}\n",
        "&= \\left(\\begin{array}{c} r\\cos\\theta\\\\ r\\sin \\theta \\end{array} \\right)\\\\\n",
        "\\vec{v}\n",
        "&= \\dot{\\vec{r}}\\\\\n",
        "&= \n",
        "\\left(\\begin{array}{c}\n",
        "-r\\dot{\\theta}\\sin\\theta\\\\\n",
        " r\\dot{\\theta}\\cos\\theta \\end{array}\n",
        " \\right)\\\\[3mm]\n",
        "&\\left| \\vec{r}\\right| = r, \n",
        "\\quad \\left| \\vec{v}\\right| = r\\dot{\\theta} \n",
        "= r\\frac{{\\rm d}\\theta}{{\\rm d}t} =  r\\omega, \\\\[2mm]\n",
        "&\\vec{r}\\cdot \\vec{v} =0 \\to \\vec{r} \\bot \\vec{v} \\to \\Theta = \\frac{\\pi}{2}\n",
        "\\end{align*}"
      ]
    },
    {
      "cell_type": "markdown",
      "metadata": {
        "id": "X6r6iIwLSZeO"
      },
      "source": [
        "##### 等速円運動における角運動量 $\\vec{L}$\n",
        "\n",
        "- 方向:\n",
        "  \\begin{align*}\n",
        "  \\vec{L}&= \\vec{r} \\times \\vec{p}\n",
        "  = \\vec{r} \\times ( m \\vec{v} ) \\\\\n",
        "  &= m\\ \\vec{r} \\times \\vec{v}\n",
        "  \\end{align*}\n",
        "- 大きさ: \n",
        "  \\begin{align*}\n",
        "  L &= \\left| \\vec{L} \\right| = r (mv) \\sin \\frac{\\pi}{2 } = m r v\\\\ &= m r (r \\omega)=  m r^2 \\omega\n",
        "  \\end{align*}\n",
        "\n"
      ]
    },
    {
      "cell_type": "markdown",
      "metadata": {
        "id": "ecrHXLMVVIQW"
      },
      "source": [
        "#### $\\vec{r} \\propto \\pm \\vec{v}$ を持つ物体の角運動量"
      ]
    },
    {
      "cell_type": "markdown",
      "metadata": {
        "id": "fp9WcNPEVRK2"
      },
      "source": [
        "$\\vec{r}$ の方向に速度を持つ運動は\n",
        "- $\\vec{v} = \\pm k \\vec{r}$ \n",
        "\n",
        "と表されます."
      ]
    },
    {
      "cell_type": "markdown",
      "metadata": {
        "id": "PsmPaB_WVkZs"
      },
      "source": [
        "\\begin{align*}\n",
        "\\vec{L}&= \\vec{r} \\times \\vec{p}\n",
        "  = \\vec{r} \\times ( m \\vec{v} ) \n",
        "  = m\\ \\vec{r} \\times \\vec{v} \\\\\n",
        "  &=m\\ \\vec{r} \\times (\\pm k \\vec{r}) = \\pm k\\ m\\ (\\vec{r} \\times \\vec{r})\\\\\n",
        "  &=0\n",
        "\\end{align*}"
      ]
    },
    {
      "cell_type": "markdown",
      "metadata": {
        "id": "Oax62xwm_gB-"
      },
      "source": [
        "$\\vec{r}\\times\\vec{r}$ では平行四辺形の面積が作れないため, ゼロと考えて構いません."
      ]
    },
    {
      "cell_type": "markdown",
      "metadata": {
        "id": "ZCgrdiRrWgj8"
      },
      "source": [
        "- $L=\\left| \\vec{L} \\right| =0$\n",
        "- $\\vec{L}=0: \\quad \\text{右向きでも左向でもない}$\n",
        "\n",
        ">  $\\vec{r} \\propto \\pm \\vec{v}$ を持つ運動は, $\\vec{r}$ の起点である原点の周りでは回転しない\n",
        "\n",
        "ことがわかります"
      ]
    }
  ]
}