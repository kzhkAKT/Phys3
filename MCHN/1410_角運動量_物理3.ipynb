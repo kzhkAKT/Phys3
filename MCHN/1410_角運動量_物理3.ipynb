{
  "nbformat": 4,
  "nbformat_minor": 0,
  "metadata": {
    "colab": {
      "name": "1410_角運動量_物理3.ipynb",
      "provenance": [],
      "authorship_tag": "ABX9TyOTorVCtGjurnYOXj514QyO",
      "include_colab_link": true
    },
    "kernelspec": {
      "name": "python3",
      "display_name": "Python 3"
    }
  },
  "cells": [
    {
      "cell_type": "markdown",
      "metadata": {
        "id": "view-in-github",
        "colab_type": "text"
      },
      "source": [
        "<a href=\"https://colab.research.google.com/github/kzhkAKT/Physics3/blob/draft/MCHN/1410_%E8%A7%92%E9%81%8B%E5%8B%95%E9%87%8F_%E7%89%A9%E7%90%863.ipynb\" target=\"_parent\"><img src=\"https://colab.research.google.com/assets/colab-badge.svg\" alt=\"Open In Colab\"/></a>"
      ]
    },
    {
      "cell_type": "markdown",
      "metadata": {
        "id": "xnyXynZI5sZ1"
      },
      "source": [
        "# 質点系の力学"
      ]
    },
    {
      "cell_type": "markdown",
      "metadata": {
        "id": "WbkntUWETKoQ"
      },
      "source": [
        "## 回転に関する運動方程式"
      ]
    },
    {
      "cell_type": "markdown",
      "metadata": {
        "id": "RhYG_niJTQt-"
      },
      "source": [
        "### 角運動量\n",
        "angular momentum"
      ]
    },
    {
      "cell_type": "code",
      "metadata": {
        "id": "Cl3-YcAJTrhy",
        "outputId": "14a58b6e-b4b3-4599-df3f-2603c6a18f91",
        "colab": {
          "base_uri": "https://localhost:8080/",
          "height": 336
        }
      },
      "source": [
        "%%html\n",
        "<iframe width=\"560\" height=\"315\" src=\"https://www.youtube-nocookie.com/embed/FmnkQ2ytlO8\" frameborder=\"0\" allow=\"accelerometer; autoplay; clipboard-write; encrypted-media; gyroscope; picture-in-picture\" allowfullscreen></iframe>"
      ],
      "execution_count": 1,
      "outputs": [
        {
          "output_type": "display_data",
          "data": {
            "text/html": [
              "<iframe width=\"560\" height=\"315\" src=\"https://www.youtube-nocookie.com/embed/FmnkQ2ytlO8\" frameborder=\"0\" allow=\"accelerometer; autoplay; clipboard-write; encrypted-media; gyroscope; picture-in-picture\" allowfullscreen></iframe>"
            ],
            "text/plain": [
              "<IPython.core.display.HTML object>"
            ]
          },
          "metadata": {
            "tags": []
          }
        }
      ]
    },
    {
      "cell_type": "code",
      "metadata": {
        "id": "74i9mBVQTsY1"
      },
      "source": [
        ""
      ],
      "execution_count": null,
      "outputs": []
    }
  ]
}
