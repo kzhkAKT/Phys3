{
  "nbformat": 4,
  "nbformat_minor": 0,
  "metadata": {
    "colab": {
      "name": "1510_座標系_物理3.ipynb",
      "provenance": [],
      "authorship_tag": "ABX9TyM+bp+QQhg8OSfAyg/qd3eG",
      "include_colab_link": true
    },
    "kernelspec": {
      "name": "python3",
      "display_name": "Python 3"
    }
  },
  "cells": [
    {
      "cell_type": "markdown",
      "metadata": {
        "id": "view-in-github",
        "colab_type": "text"
      },
      "source": [
        "<a href=\"https://colab.research.google.com/github/kzhkAKT/Physics3/blob/draft/MCHN/1510_%E5%BA%A7%E6%A8%99%E7%B3%BB_%E7%89%A9%E7%90%863.ipynb\" target=\"_parent\"><img src=\"https://colab.research.google.com/assets/colab-badge.svg\" alt=\"Open In Colab\"/></a>"
      ]
    },
    {
      "cell_type": "markdown",
      "metadata": {
        "id": "f7pTFkDMxp7P"
      },
      "source": [
        "# 座標変換と慣性力"
      ]
    },
    {
      "cell_type": "markdown",
      "metadata": {
        "id": "Vi8XwkmTxvEH"
      },
      "source": [
        "## 座標系\n",
        "coordinate system\n",
        "\n",
        "> 絶対静止している座標が存在することは証明ができない\n",
        "\n",
        "- 地球上の実験室では静止していることを限定することができる\n",
        "  - 月から見れば, 地球の自転や, 月の周期運動の影響を受けます\n",
        "\n",
        "\n"
      ]
    },
    {
      "cell_type": "markdown",
      "metadata": {
        "id": "0fR9fDv30IrA"
      },
      "source": [
        "#### 座標系から物体の運動を整理\n",
        "\n",
        "これまでは, **仮想的に** *静止した座標系* で考えてきましたが,  \n",
        "以下の様な運動を行う **動いている座標系** での運動を調べていきます\n",
        "\n",
        "1. 等速度運動している座標系\n",
        "2. 加速度運動している座標系\n",
        "3. 回転運動している座標系"
      ]
    }
  ]
}