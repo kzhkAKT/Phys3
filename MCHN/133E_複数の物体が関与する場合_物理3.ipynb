{
  "nbformat": 4,
  "nbformat_minor": 0,
  "metadata": {
    "colab": {
      "name": "133E_複数の物体が関与する場合_物理3.ipynb",
      "provenance": [],
      "collapsed_sections": [],
      "toc_visible": true,
      "authorship_tag": "ABX9TyPKIupSHaprCY19fY4u2YJh",
      "include_colab_link": true
    },
    "kernelspec": {
      "name": "python3",
      "display_name": "Python 3"
    }
  },
  "cells": [
    {
      "cell_type": "markdown",
      "metadata": {
        "id": "view-in-github",
        "colab_type": "text"
      },
      "source": [
        "<a href=\"https://colab.research.google.com/github/kzhkAKT/Physics3/blob/draft/MCHN/133E_%E8%A4%87%E6%95%B0%E3%81%AE%E7%89%A9%E4%BD%93%E3%81%8C%E9%96%A2%E4%B8%8E%E3%81%99%E3%82%8B%E5%A0%B4%E5%90%88_%E7%89%A9%E7%90%863.ipynb\" target=\"_parent\"><img src=\"https://colab.research.google.com/assets/colab-badge.svg\" alt=\"Open In Colab\"/></a>"
      ]
    },
    {
      "cell_type": "markdown",
      "metadata": {
        "id": "xnyXynZI5sZ1"
      },
      "source": [
        "# 質点系の力学"
      ]
    },
    {
      "cell_type": "markdown",
      "metadata": {
        "id": "8uMukF_O8Bym"
      },
      "source": [
        "## 運動方程式の具体的な適用例"
      ]
    },
    {
      "cell_type": "markdown",
      "metadata": {
        "id": "v24WgkFjRlrw"
      },
      "source": [
        "### 複数の物体が関与する場合\n",
        "作用反作用の適用例\n",
        "\n",
        "\n"
      ]
    },
    {
      "cell_type": "markdown",
      "metadata": {
        "id": "fsJ8R1KrXQ-z"
      },
      "source": [
        "### ベクトルと座標\n",
        "\n",
        "![](https://upload.wikimedia.org/wikipedia/commons/thumb/9/95/Vector_from_A_to_B.svg/512px-Vector_from_A_to_B.svg.png)\n",
        "![](https://upload.wikimedia.org/wikipedia/commons/thumb/0/0e/Cartesian-coordinate-system.svg/354px-Cartesian-coordinate-system.svg.png)\n",
        "\n",
        "- ベクトルはベクトル単独で存在し得る\n",
        "- ベクトルを読むために, 座標が必要になることがある"
      ]
    },
    {
      "cell_type": "code",
      "metadata": {
        "id": "oYu0Giq4XSkL",
        "cellView": "form",
        "outputId": "f8a159e2-03d4-4dfc-a88a-5f7ae55c9a4a",
        "colab": {
          "base_uri": "https://localhost:8080/",
          "height": 541
        }
      },
      "source": [
        "#@title ベクトルの成分表示\n",
        "%%svg\n",
        "https://upload.wikimedia.org/wikipedia/commons/5/5d/Position_vector.svg"
      ],
      "execution_count": null,
      "outputs": [
        {
          "output_type": "display_data",
          "data": {
            "text/plain": [
              "<IPython.core.display.SVG object>"
            ],
            "image/svg+xml": "<svg enable-background=\"new -49.543 -42.75 619 520\" height=\"520px\" version=\"1.1\" viewBox=\"-49.543 -42.75 619 520\" width=\"619px\" x=\"0px\" xml:space=\"preserve\" xmlns=\"http://www.w3.org/2000/svg\" xmlns:a=\"http://ns.adobe.com/AdobeSVGViewerExtensions/3.0/\" xmlns:xlink=\"http://www.w3.org/1999/xlink\" y=\"0px\">\n<defs>\n</defs>\n<line fill=\"none\" stroke=\"#2828FF\" stroke-width=\"8.5\" x1=\"17.457\" x2=\"195.686\" y1=\"401.25\" y2=\"133.906\"/>\n<polyline fill=\"none\" points=\"517.457,401.25 17.457,401.25 17.457,1.25 \" stroke=\"#000000\" stroke-width=\"4\"/>\n<polygon points=\"268.652,44.247 273.976,38.091 268.652,31.935 284.625,38.091 \"/>\n<polygon fill=\"#2828FF\" points=\"204.358,165.287 195.686,133.906 163.383,137.971 219.314,98.463 \"/>\n<line fill=\"none\" stroke=\"#000000\" stroke-width=\"2.5\" x1=\"4.332\" x2=\"30.582\" y1=\"1.25\" y2=\"1.25\"/>\n<line fill=\"none\" stroke=\"#000000\" stroke-width=\"2.5\" x1=\"4.332\" x2=\"30.582\" y1=\"101.25\" y2=\"101.25\"/>\n<line fill=\"none\" stroke=\"#000000\" stroke-width=\"2.5\" x1=\"4.332\" x2=\"30.582\" y1=\"201.25\" y2=\"201.25\"/>\n<line fill=\"none\" stroke=\"#000000\" stroke-width=\"2.5\" x1=\"4.332\" x2=\"30.582\" y1=\"301.25\" y2=\"301.25\"/>\n<line fill=\"none\" stroke=\"#000000\" stroke-width=\"2.5\" x1=\"117.457\" x2=\"117.457\" y1=\"414.375\" y2=\"388.125\"/>\n<line fill=\"none\" stroke=\"#000000\" stroke-width=\"2.5\" x1=\"217.457\" x2=\"217.457\" y1=\"414.375\" y2=\"388.125\"/>\n<line fill=\"none\" stroke=\"#000000\" stroke-width=\"2.5\" x1=\"317.457\" x2=\"317.457\" y1=\"414.375\" y2=\"388.125\"/>\n<line fill=\"none\" stroke=\"#000000\" stroke-width=\"2.5\" x1=\"417.457\" x2=\"417.457\" y1=\"414.375\" y2=\"388.125\"/>\n<line fill=\"none\" stroke=\"#000000\" stroke-width=\"2.5\" x1=\"517.457\" x2=\"517.457\" y1=\"414.375\" y2=\"388.125\"/>\n<g>\n\t<path d=\"M20.703,425.104c3.141,0,5.562,0.912,7.263,2.734c1.701,1.823,2.551,4.46,2.551,7.91c0,2.523-0.432,5.358-1.294,8.509   c-0.863,3.148-2.112,5.875-3.748,8.178c-1.636,2.304-3.503,4.013-5.603,5.127c-2.1,1.115-4.297,1.673-6.592,1.673   c-3.271,0-5.754-0.911-7.446-2.734c-1.693-1.822-2.539-4.427-2.539-7.813c0-2.441,0.411-5.2,1.233-8.276   c0.822-3.076,2.01-5.79,3.564-8.143c1.554-2.352,3.41-4.134,5.566-5.346C15.816,425.711,18.164,425.104,20.703,425.104z    M25.879,434.724c0-4.98-1.815-7.471-5.444-7.471c-1.758,0-3.398,0.627-4.919,1.88c-1.522,1.254-2.856,3.044-4.004,5.371   c-1.147,2.328-2.039,4.883-2.673,7.666s-0.952,5.241-0.952,7.373c0,5.029,1.831,7.544,5.493,7.544c2.229,0,4.276-1.025,6.14-3.076   c1.863-2.051,3.389-4.928,4.578-8.63C25.285,441.678,25.879,438.126,25.879,434.724z\"/>\n</g>\n<g>\n\t<path d=\"M235.35,178.307l0.269-1.196c0.96-0.081,1.676-0.455,2.148-1.123c0.472-0.667,0.708-1.839,0.708-3.516   c0-0.635-0.024-1.326-0.073-2.075l-0.171-3.149h-10.742l-1.343,2.393c-0.635,1.123-1.099,2.087-1.392,2.894   c-0.293,0.805-0.439,1.518-0.439,2.136c0,1.367,0.822,2.182,2.466,2.441l-0.269,1.196h-9.985l0.269-1.196   c0.504-0.064,0.98-0.265,1.428-0.599c0.447-0.333,0.923-0.838,1.428-1.514c0.504-0.675,1.212-1.794,2.124-3.356l15.649-27.051   h3.687l1.758,27.222c0.081,1.286,0.228,2.291,0.439,3.016c0.211,0.724,0.5,1.261,0.867,1.611c0.366,0.35,0.899,0.573,1.599,0.671   l-0.269,1.196H235.35z M228.587,165.123h9.546l-0.415-7.861c-0.049-1.074-0.09-2.417-0.122-4.028   c-0.033-1.611-0.049-2.774-0.049-3.491h-0.269L228.587,165.123z\"/>\n</g>\n<g>\n\t<path d=\"M242.547,48.097c3.141,0,5.562,0.912,7.263,2.734c1.701,1.823,2.551,4.46,2.551,7.91c0,2.523-0.432,5.358-1.294,8.509   c-0.863,3.148-2.112,5.875-3.748,8.178c-1.636,2.304-3.503,4.013-5.603,5.127c-2.1,1.115-4.297,1.673-6.592,1.673   c-3.271,0-5.754-0.911-7.446-2.734c-1.693-1.822-2.539-4.427-2.539-7.813c0-2.441,0.411-5.2,1.233-8.276   c0.822-3.076,2.01-5.79,3.564-8.143c1.554-2.352,3.41-4.134,5.566-5.346C237.66,48.703,240.008,48.097,242.547,48.097z    M247.723,57.716c0-4.98-1.815-7.471-5.444-7.471c-1.758,0-3.398,0.627-4.919,1.88c-1.522,1.254-2.856,3.044-4.004,5.371   c-1.147,2.328-2.039,4.883-2.673,7.666s-0.952,5.241-0.952,7.373c0,5.029,1.831,7.544,5.493,7.544c2.229,0,4.276-1.025,6.14-3.076   c1.863-2.051,3.389-4.928,4.578-8.63C247.129,64.67,247.723,61.118,247.723,57.716z\"/>\n\t<path d=\"M270.188,81.813l0.269-1.196c0.96-0.081,1.676-0.455,2.148-1.123c0.472-0.667,0.708-1.839,0.708-3.516   c0-0.635-0.024-1.326-0.073-2.075l-0.171-3.149h-10.742l-1.343,2.393c-0.635,1.123-1.099,2.087-1.392,2.894   c-0.293,0.805-0.439,1.518-0.439,2.136c0,1.367,0.822,2.182,2.466,2.441l-0.269,1.196h-9.985l0.269-1.196   c0.504-0.064,0.98-0.265,1.428-0.599c0.447-0.333,0.923-0.838,1.428-1.514c0.504-0.675,1.212-1.794,2.124-3.356l15.649-27.051   h3.687l1.758,27.222c0.081,1.286,0.228,2.291,0.439,3.016c0.211,0.724,0.5,1.261,0.867,1.611c0.366,0.35,0.899,0.573,1.599,0.671   l-0.269,1.196H270.188z M263.426,68.629h9.546l-0.415-7.861c-0.049-1.074-0.09-2.417-0.122-4.028   c-0.033-1.611-0.049-2.774-0.049-3.491h-0.269L263.426,68.629z\"/>\n\t<path d=\"M297.996,64.088v-3.247h30.078v3.247H297.996z M297.996,74.22v-3.247h30.078v3.247H297.996z\"/>\n\t<path d=\"M351.341,66.459c0,5.697,0.916,10.393,2.747,14.087s4.626,6.168,8.387,7.422l-0.586,1.88   c-4.77-1.254-8.423-3.951-10.962-8.094c-2.539-4.142-3.809-9.158-3.809-15.051c0-5.875,1.273-10.893,3.821-15.051   c2.547-4.159,6.197-6.864,10.95-8.118l0.658,1.88c-3.808,1.254-6.628,3.699-8.459,7.336   C352.256,56.389,351.341,60.958,351.341,66.459z\"/>\n\t<path d=\"M380.613,77.906c0.798,0,1.441-0.049,1.93-0.146s0.879-0.26,1.172-0.488c0.293-0.228,0.524-0.525,0.695-0.891   c0.171-0.367,0.387-0.932,0.646-1.697h2.076l-0.416,7.129h-20.092v-1.172c0.699-1.709,1.643-3.458,2.832-5.249   c1.188-1.79,2.872-3.897,5.053-6.323c1.889-2.083,3.248-3.662,4.078-4.736c0.91-1.172,1.59-2.186,2.038-3.039   c0.447-0.855,0.769-1.66,0.964-2.418c0.195-0.756,0.293-1.517,0.293-2.282c0-1.221-0.195-2.299-0.586-3.235   c-0.391-0.936-0.988-1.672-1.794-2.209s-1.819-0.806-3.04-0.806c-3.043,0-5.094,1.693-6.152,5.078h-2.953v-4.688   c1.969-0.928,3.813-1.599,5.529-2.015c1.717-0.414,3.26-0.622,4.627-0.622c3.027,0,5.313,0.663,6.859,1.989   c1.547,1.327,2.32,3.252,2.32,5.774c0,0.863-0.086,1.656-0.257,2.38c-0.171,0.725-0.439,1.441-0.806,2.148   c-0.366,0.709-0.859,1.47-1.477,2.283c-0.619,0.814-1.303,1.64-2.051,2.479c-0.75,0.838-2.043,2.233-3.883,4.187   c-3.092,3.271-5.363,6.128-6.811,8.569H380.613z\"/>\n\t<path d=\"M398.705,76.148c0.227,1.14,0.342,2.263,0.342,3.369c0,1.14-0.195,2.182-0.586,3.125s-1.014,1.884-1.868,2.82   c-0.854,0.936-2.03,1.965-3.528,3.088l-1.318-1.489c0.83-0.781,1.433-1.485,1.807-2.112c0.375-0.626,0.643-1.339,0.807-2.136   c0.162-0.798,0.244-1.798,0.244-3.003c0-1.236-0.058-2.457-0.172-3.662H398.705z\"/>\n\t<path d=\"M405.296,55.396v-4.639c1.887-0.895,3.653-1.563,5.297-2.002c1.645-0.439,3.23-0.659,4.762-0.659   c1.838,0,3.449,0.285,4.834,0.854c1.383,0.57,2.441,1.388,3.174,2.453c0.732,1.066,1.098,2.341,1.098,3.821   c0,1.384-0.276,2.601-0.83,3.649c-0.553,1.051-1.33,1.966-2.331,2.747s-2.3,1.547-3.894,2.295v0.22   c0.992,0.18,1.948,0.484,2.868,0.916c0.919,0.431,1.737,0.988,2.454,1.672c0.715,0.684,1.289,1.502,1.721,2.453   c0.432,0.953,0.646,2.039,0.646,3.26c0,1.889-0.41,3.564-1.232,5.029s-2.08,2.621-3.771,3.467c-1.693,0.847-3.752,1.27-6.178,1.27   c-1.399,0-2.909-0.158-4.528-0.477c-1.62-0.316-3.104-0.735-4.456-1.257v-5.176h2.93c0.57,1.693,1.322,2.922,2.259,3.687   c0.936,0.766,2.21,1.147,3.821,1.147c2.115,0,3.715-0.577,4.797-1.733c1.082-1.155,1.623-2.864,1.623-5.127   c0-2.376-0.716-4.19-2.148-5.444c-1.432-1.253-3.531-1.88-6.299-1.88h-2.197v-2.148c2.197-0.13,4.049-0.553,5.555-1.27   c1.506-0.716,2.625-1.636,3.357-2.759s1.098-2.384,1.098-3.784c0-1.807-0.48-3.198-1.439-4.175   c-0.961-0.977-2.361-1.465-4.199-1.465c-1.531,0-2.775,0.415-3.736,1.245c-0.96,0.83-1.668,2.1-2.123,3.809H405.296z\"/>\n\t<path d=\"M441.234,66.459c0-5.501-0.912-10.07-2.734-13.709c-1.824-3.637-4.647-6.082-8.473-7.336l0.66-1.88   c4.752,1.254,8.402,3.959,10.949,8.118c2.547,4.158,3.82,9.176,3.82,15.051c0,5.893-1.27,10.909-3.809,15.051   c-2.539,4.143-6.193,6.84-10.961,8.094l-0.586-1.88c3.76-1.254,6.555-3.728,8.386-7.422S441.234,72.156,441.234,66.459z\"/>\n</g>\n<line fill=\"none\" stroke=\"#000000\" stroke-width=\"3\" x1=\"274.864\" x2=\"225.957\" y1=\"38.091\" y2=\"38.091\"/>\n</svg>"
          },
          "metadata": {
            "tags": []
          }
        }
      ]
    },
    {
      "cell_type": "markdown",
      "metadata": {
        "id": "pydLZ8a0Z6B_"
      },
      "source": [
        "### 運動方程式のベクトル表示"
      ]
    },
    {
      "cell_type": "markdown",
      "metadata": {
        "id": "8EXd2S1GZ_sq"
      },
      "source": [
        "\\begin{align}\n",
        "m \\vec{a} &= \\vec{F} = \\sum_i \\vec{F}_i\n",
        "\\end{align}\n",
        "ベクトル表示された場合は, 一つの運動方程式で済むが  \n",
        "座標を持ち込み成分表示すれば, 座標の成分だけ運動方程式が必要になる"
      ]
    },
    {
      "cell_type": "markdown",
      "metadata": {
        "id": "mXvZATgmapLk"
      },
      "source": [
        "$\\require{color}$\n",
        "### 教科書 p40 の 図1−30 のそれぞれの物体の運動方程式\n",
        "\n",
        "物体に直接働く力に注目し, \n",
        "物体A,Bの加速度ベクトルを $\\vec{a}_{\\rm A}, \\vec{a}_{\\rm B}$ とし,   \n",
        "それぞれの(ベクトル表現の)運動方程式を組み立てると\n",
        "\\begin{align*}\n",
        "m \\vec{a}_{\\rm A} &= \\textcolor{blue}{m \\vec{g}} + \\textcolor{blue}{\\vec{T}_{\\rm A}} + \\vec{N}_{A}\\\\[4mm]\n",
        "M \\vec{a}_{\\rm B} &= \\textcolor{red}{M \\vec{g}} + \\textcolor{red}{\\vec{T}_{\\rm B}}\n",
        "\\end{align*}\n"
      ]
    },
    {
      "cell_type": "code",
      "metadata": {
        "id": "DFB1ThjCbLHW",
        "cellView": "form",
        "outputId": "96303d07-fb05-4b00-a940-09dc702cb0b9",
        "colab": {
          "base_uri": "https://localhost:8080/",
          "height": 426
        }
      },
      "source": [
        "#@title 少し強引な座標の折り曲げ\n",
        "%%svg\n",
        "<svg xmlns=\"http://www.w3.org/2000/svg\" xmlns:xlink=\"http://www.w3.org/1999/xlink\" version=\"1.1\" width=\"525px\" viewBox=\"-0.5 -0.5 525 405\" content=\"&lt;mxfile host=&quot;www.draw.io&quot; modified=&quot;2020-10-28T04:15:58.959Z&quot; agent=&quot;5.0 (Macintosh; Intel Mac OS X 10_10_5) AppleWebKit/537.36 (KHTML, like Gecko) Chrome/86.0.4240.111 Safari/537.36&quot; etag=&quot;fk5PM0mw7zbwvAhmm8PJ&quot; version=&quot;13.6.6&quot; type=&quot;google&quot;&gt;&lt;diagram id=&quot;e9GpytjvSVn0hx8AzsKS&quot; name=&quot;Page-1&quot;&gt;7VtRd6MoFP41eYxHBIk+Np1m9pzp7M45fZhnqpi4NSGrdprur1+IaARNokZtMtv0oeYCF7zf5eNyIRN4v959jcl29Z35NJpYpr+bwC8TywLAxvyfkLxnEuQ4mWAZh76sdBA8hf9SKTSl9DX0aaJUTBmL0nCrCj222VAvVWQkjtmbWi1gkdrrlixpRfDkkagq/Rn66SqT2g48yP+g4XIle0ZAFqxJXle+SLIiPnsrieDDBN7HjKXZ03p3TyNhu9wsWbvFkdJiXDHdpE0a/D21PfTt5TH+6X4PvB9//hU8fpuKBkLNLxK9yheWo03fcwvE7HXjU6HFnMD52ypM6dOWeKL0jWPOZat0HfFvgD/GLCVpyDaydhBG0T2LWMy/b9iGt5n7YcxxyqpQkvCxz+UYaJzS3dG3A4XNuK9RtqZp/M6r5A1My8DSs6SnYVe63tsBN0eCsSpBhqWMSE9ZFsoP1uQP0qAtjAvO25Zu/DvhpAfzlGyZ1aZ+xUHPGqX0xnbNG+eymEYcrF+q+jozyB5+sJB3XNg8N2Zub0szZMJeY4/KRmXP1PTY1hlFKYmXNK0o2oNSvHV3nOCFOKkT5NpRA+es3RQ2ZHaDjRuSvJeqbUWF5PiA9X4QVoiOP2Qae/UJNBwvTuERZuyDBp0KDSLX/FgatHs2ZdlyEws+YPHXj/mQaSu2s0HVdnBM2+HeqOkWFpTCjrn5za7UpHFcgWPf1KT1g6wRqGl2oU9cuxcc4/v2XgDU2YzguHGFcx4ovinYiscgojuJ2LwEnheRJAm9k/znE+oEokqSxuyFlkqw59Dn4AYQt2yoAuV0RBwCzXXscRHPux8Y8sDxqFcL+bNji3e+fsgRxBrVOx0nuaYIIWdcyNvt8mrhTfgY07wG45py2SKMDnUE1HkKwqoDf7Ew+ecWwAeuoQVaqDPH66qwHjQM7QDW1TiAgH+xuAEH4EytO0ButbYOwF1Ahb9hqNcb/O2yB0fg16G9egBtLcBGdkf4zgV7Q8PXYKPfDr5bCLGBnrrputECM80PRoYP1s0+HImkcqiAiP95FYn2ecA26TQg6zDi3d7xKtxY8TIke9DMfWmyP4MQZcDZ7vYFeWv+tBT/d3knfNBhLqz6Dcf/kTzTSHUXEoVLkQfyuC9QztxzkbIIPRLdyYJ16PtCxzymfCzkea9PrOtyO8qV2/OJ/UW+jrYA7COASHQ7J97Lcp8B0BJNopU8aQHOqcyJPFSRQ5gUZxllRz4xrY7mWUwDA0uN+UE/kYVhYrP8UVeZKcCGo8WHLAgSOgy3NMh8/YbcoueXu3KLqy8xI1NL3crQmVp0Bnm/JgYpc0E3RhmAQewzDGKpae48Y3+h906BgWeqYss1Zlp0MyBntMv41nIGL5f7hlvYDGqR5Cy/MND6FPGcooH5wqpL92VzXMyp45RxiDcstN2VqcIMsjOQg+yrpJQKn5So6WSIUsiyMX0c74zOJ/gMn7j51LvQn6HWYkCuaHAS8HlI2dCW7nlbfibrj6A3s2yj6/4fNdE2NHU3SNt/pvA0N0C2gYAGXMelG2jHNk6elRkL/15y+LeWwwN4Vpl6XYMvoN+9m4FxEWyXxqseit/gPruGh2FH+PR7DBVFQ8M31h2hcoTjmv2EMwiqSaaZWb13OuqlIauHPeT/7kgS6eeInSeTDT54MjXYFnxeQpC0ZyjZYvUqwQVhLcRtNQ/tFA32N9UF0ifJqrg9eNOrpYUrq6XtdkxM809F19hX1tvtWH47OAHSJ1TXwFVT5JjjkjXsfetxgxlgMZ1KXKntKjHoBq12qRCPnA+GVg2yrc6PeBFZi8BWVlgWyV9FLGrWnV7r2eQrO3gaOwEMT0fxpoFnKhXAXpybxwHILX1mQO1lCrHhulXvvyR9zL8efleYVT/8OBM+/Ac=&lt;/diagram&gt;&lt;/mxfile&gt;\" onclick=\"(function(svg){var src=window.event.target||window.event.srcElement;while (src!=null&amp;&amp;src.nodeName.toLowerCase()!='a'){src=src.parentNode;}if(src==null){if(svg.wnd!=null&amp;&amp;!svg.wnd.closed){svg.wnd.focus();}else{var r=function(evt){if(evt.data=='ready'&amp;&amp;evt.source==svg.wnd){svg.wnd.postMessage(decodeURIComponent(svg.getAttribute('content')),'*');window.removeEventListener('message',r);}};window.addEventListener('message',r);svg.wnd=window.open('https://viewer.diagrams.net/?client=1&amp;edit=_blank');}}})(this);\" style=\"cursor:pointer;max-width:100%;max-height:405px;\"><defs/><g><rect x=\"59.68\" y=\"276\" width=\"80\" height=\"60\" fill=\"none\" stroke=\"#000000\" pointer-events=\"all\"/><path d=\"M 37 200 L 477 200\" fill=\"none\" stroke=\"#000000\" stroke-miterlimit=\"10\" pointer-events=\"stroke\"/><path d=\"M 77 200 L 357 40 L 357 200\" fill=\"none\" stroke=\"#000000\" stroke-miterlimit=\"10\" pointer-events=\"stroke\"/><rect x=\"139.68\" y=\"70\" width=\"80\" height=\"60\" fill=\"none\" stroke=\"#000000\" transform=\"rotate(-30,179.68,100)\" pointer-events=\"all\"/><rect x=\"362\" y=\"90\" width=\"30\" height=\"60\" fill=\"#e6e6e6\" stroke=\"#000000\" pointer-events=\"all\"/><path d=\"M 217 80 L 368.06 4.47 Q 377 0 377 10 L 377 90\" fill=\"none\" stroke=\"#000000\" stroke-miterlimit=\"10\" pointer-events=\"stroke\"/><path d=\"M 357 40 L 372 10\" fill=\"none\" stroke=\"#000000\" stroke-miterlimit=\"10\" pointer-events=\"stroke\"/><path d=\"M 212.77 64.19 L 208.11 55.34 L 247.42 34.66 L 242.53 25.37 L 266.56 30.23 L 256.96 52.8 L 252.07 43.51 Z\" fill=\"#dae8fc\" stroke=\"#6c8ebf\" stroke-linejoin=\"round\" stroke-miterlimit=\"10\" pointer-events=\"all\"/><path d=\"M 398 87.5 L 388 87.5 L 388 47.5 L 377.5 47.5 L 393 28.5 L 408.5 47.5 L 398 47.5 Z\" fill=\"#f8cecc\" stroke=\"#b85450\" stroke-linejoin=\"round\" stroke-miterlimit=\"10\" pointer-events=\"all\"/><path d=\"M 376.5 123 L 376.5 171.76\" fill=\"none\" stroke=\"#ff0000\" stroke-width=\"2\" stroke-miterlimit=\"10\" pointer-events=\"stroke\"/><ellipse cx=\"376.5\" cy=\"120\" rx=\"3\" ry=\"3\" fill=\"#ff0000\" stroke=\"#ff0000\" stroke-width=\"2\" pointer-events=\"all\"/><path d=\"M 376.5 177.76 L 372.5 169.76 L 376.5 171.76 L 380.5 169.76 Z\" fill=\"#ff0000\" stroke=\"#ff0000\" stroke-width=\"2\" stroke-miterlimit=\"10\" pointer-events=\"all\"/><path d=\"M 180.52 105 L 180.95 181.76\" fill=\"none\" stroke=\"#0000ff\" stroke-width=\"2\" stroke-miterlimit=\"10\" pointer-events=\"stroke\"/><ellipse cx=\"180.5\" cy=\"102\" rx=\"3\" ry=\"3\" fill=\"#0000ff\" stroke=\"#0000ff\" stroke-width=\"2\" pointer-events=\"all\"/><path d=\"M 180.99 187.76 L 176.94 179.79 L 180.95 181.76 L 184.94 179.74 Z\" fill=\"#0000ff\" stroke=\"#0000ff\" stroke-width=\"2\" stroke-miterlimit=\"10\" pointer-events=\"all\"/><path d=\"M 207 125 L 161.18 47.1\" fill=\"none\" stroke=\"#000000\" stroke-width=\"2\" stroke-miterlimit=\"10\" pointer-events=\"stroke\"/><path d=\"M 158.13 41.93 L 165.64 46.79 L 161.18 47.1 L 158.74 50.85 Z\" fill=\"#000000\" stroke=\"#000000\" stroke-width=\"2\" stroke-miterlimit=\"10\" pointer-events=\"all\"/><path d=\"M 57 180 L 121.47 143.16\" fill=\"none\" stroke=\"#000000\" stroke-miterlimit=\"10\" pointer-events=\"stroke\"/><path d=\"M 126.03 140.55 L 121.69 147.07 L 121.47 143.16 L 118.22 140.99 Z\" fill=\"#000000\" stroke=\"#000000\" stroke-miterlimit=\"10\" pointer-events=\"all\"/><g transform=\"translate(-0.5 -0.5)\"><switch><foreignObject style=\"overflow: visible; text-align: left;\" pointer-events=\"none\" width=\"100%\" height=\"100%\" requiredFeatures=\"http://www.w3.org/TR/SVG11/feature#Extensibility\"><div xmlns=\"http://www.w3.org/1999/xhtml\" style=\"display: flex; align-items: unsafe center; justify-content: unsafe center; width: 1px; height: 1px; padding-top: 131px; margin-left: 117px;\"><div style=\"box-sizing: border-box; font-size: 0; text-align: center; \"><div style=\"display: inline-block; font-size: 18px; font-family: Helvetica; color: #000000; line-height: 1.2; pointer-events: all; white-space: nowrap; \"><i style=\"font-family: &quot;georgia&quot; ; font-size: 18px\">x</i></div></div></div></foreignObject><text x=\"117\" y=\"136\" fill=\"#000000\" font-family=\"Helvetica\" font-size=\"18px\" text-anchor=\"middle\">x</text></switch></g><path d=\"M 77 180 L 49.85 125.7\" fill=\"none\" stroke=\"#000000\" stroke-miterlimit=\"10\" pointer-events=\"stroke\"/><path d=\"M 47.5 121 L 53.76 125.7 L 49.85 125.7 L 47.5 128.83 Z\" fill=\"#000000\" stroke=\"#000000\" stroke-miterlimit=\"10\" pointer-events=\"all\"/><g transform=\"translate(-0.5 -0.5)\"><switch><foreignObject style=\"overflow: visible; text-align: left;\" pointer-events=\"none\" width=\"100%\" height=\"100%\" requiredFeatures=\"http://www.w3.org/TR/SVG11/feature#Extensibility\"><div xmlns=\"http://www.w3.org/1999/xhtml\" style=\"display: flex; align-items: unsafe center; justify-content: unsafe center; width: 1px; height: 1px; padding-top: 111px; margin-left: 60px;\"><div style=\"box-sizing: border-box; font-size: 0; text-align: center; \"><div style=\"display: inline-block; font-size: 18px; font-family: Helvetica; color: #000000; line-height: 1.2; pointer-events: all; white-space: nowrap; \"><i style=\"font-family: &quot;georgia&quot;\">y</i></div></div></div></foreignObject><text x=\"60\" y=\"116\" fill=\"#000000\" font-family=\"Helvetica\" font-size=\"18px\" text-anchor=\"middle\">y</text></switch></g><path d=\"M 7 336 L 500.63 336\" fill=\"none\" stroke=\"#000000\" stroke-miterlimit=\"10\" pointer-events=\"stroke\"/><path d=\"M 505.88 336 L 498.88 339.5 L 500.63 336 L 498.88 332.5 Z\" fill=\"none\" stroke=\"#000000\" stroke-miterlimit=\"10\" pointer-events=\"all\"/><g transform=\"translate(-0.5 -0.5)\"><switch><foreignObject style=\"overflow: visible; text-align: left;\" pointer-events=\"none\" width=\"100%\" height=\"100%\" requiredFeatures=\"http://www.w3.org/TR/SVG11/feature#Extensibility\"><div xmlns=\"http://www.w3.org/1999/xhtml\" style=\"display: flex; align-items: unsafe center; justify-content: unsafe center; width: 1px; height: 1px; padding-top: 337px; margin-left: 518px;\"><div style=\"box-sizing: border-box; font-size: 0; text-align: center; \"><div style=\"display: inline-block; font-size: 11px; font-family: Helvetica; color: #000000; line-height: 1.2; pointer-events: all; white-space: nowrap; \"><font style=\"font-size: 24px\" face=\"Georgia\"><i>x</i></font></div></div></div></foreignObject><text x=\"518\" y=\"340\" fill=\"#000000\" font-family=\"Helvetica\" font-size=\"11px\" text-anchor=\"middle\">x</text></switch></g><rect x=\"139.68\" y=\"70\" width=\"80\" height=\"60\" fill=\"none\" stroke=\"#000000\" transform=\"rotate(-30,179.68,100)\" pointer-events=\"all\"/><path d=\"M 140.18 310.5 L 140.18 300.5 L 180.18 300.5 L 180.18 290 L 199.18 305.5 L 180.18 321 L 180.18 310.5 Z\" fill=\"#dae8fc\" stroke=\"#6c8ebf\" stroke-linejoin=\"round\" stroke-miterlimit=\"10\" pointer-events=\"all\"/><path d=\"M 101.29 308.78 L 70.07 386.36\" fill=\"none\" stroke=\"#0000ff\" stroke-width=\"2\" stroke-miterlimit=\"10\" pointer-events=\"stroke\"/><ellipse cx=\"102.41\" cy=\"306\" rx=\"3\" ry=\"3\" fill=\"#0000ff\" stroke=\"#0000ff\" stroke-width=\"2\" pointer-events=\"all\"/><path d=\"M 67.83 391.93 L 67.11 383.01 L 70.07 386.36 L 74.53 386 Z\" fill=\"#0000ff\" stroke=\"#0000ff\" stroke-width=\"2\" stroke-miterlimit=\"10\" pointer-events=\"all\"/><path d=\"M 124.68 336 L 124.97 259.24\" fill=\"none\" stroke=\"#000000\" stroke-width=\"2\" stroke-miterlimit=\"10\" pointer-events=\"stroke\"/><path d=\"M 124.99 253.24 L 128.96 261.25 L 124.97 259.24 L 120.96 261.22 Z\" fill=\"#000000\" stroke=\"#000000\" stroke-width=\"2\" stroke-miterlimit=\"10\" pointer-events=\"all\"/><path d=\"M 139.68 316 L 377 316\" fill=\"none\" stroke=\"#000000\" stroke-miterlimit=\"10\" pointer-events=\"stroke\"/><rect x=\"392\" y=\"286\" width=\"30\" height=\"60\" fill=\"#e6e6e6\" stroke=\"#000000\" transform=\"rotate(-90,407,316)\" pointer-events=\"all\"/><path d=\"M 409.5 316 L 458.76 316\" fill=\"none\" stroke=\"#ff0000\" stroke-width=\"2\" stroke-miterlimit=\"10\" pointer-events=\"stroke\"/><ellipse cx=\"406.5\" cy=\"316\" rx=\"3\" ry=\"3\" fill=\"#ff0000\" stroke=\"#ff0000\" stroke-width=\"2\" pointer-events=\"all\"/><path d=\"M 464.76 316 L 456.76 320 L 458.76 316 L 456.76 312 Z\" fill=\"#ff0000\" stroke=\"#ff0000\" stroke-width=\"2\" stroke-miterlimit=\"10\" pointer-events=\"all\"/><path d=\"M 376.5 300.5 L 376.5 310.5 L 336.5 310.5 L 336.5 321 L 317.5 305.5 L 336.5 290 L 336.5 300.5 Z\" fill=\"#f8cecc\" stroke=\"#b85450\" stroke-linejoin=\"round\" stroke-miterlimit=\"10\" pointer-events=\"all\"/><path d=\"M 219.68 170 L 179.68 100\" fill=\"none\" stroke=\"#000000\" stroke-miterlimit=\"10\" stroke-dasharray=\"3 3\" pointer-events=\"stroke\"/><path d=\"M 103 306 L 103 386\" fill=\"none\" stroke=\"#000000\" stroke-miterlimit=\"10\" stroke-dasharray=\"3 3\" pointer-events=\"stroke\"/><path d=\"M 9.68 341 L 9.98 242.37\" fill=\"none\" stroke=\"#000000\" stroke-miterlimit=\"10\" pointer-events=\"stroke\"/><path d=\"M 10 237.12 L 13.48 244.13 L 9.98 242.37 L 6.48 244.11 Z\" fill=\"none\" stroke=\"#000000\" stroke-miterlimit=\"10\" pointer-events=\"all\"/><g transform=\"translate(-0.5 -0.5)\"><switch><foreignObject style=\"overflow: visible; text-align: left;\" pointer-events=\"none\" width=\"100%\" height=\"100%\" requiredFeatures=\"http://www.w3.org/TR/SVG11/feature#Extensibility\"><div xmlns=\"http://www.w3.org/1999/xhtml\" style=\"display: flex; align-items: unsafe center; justify-content: unsafe center; width: 1px; height: 1px; padding-top: 217px; margin-left: 7px;\"><div style=\"box-sizing: border-box; font-size: 0; text-align: center; \"><div style=\"display: inline-block; font-size: 11px; font-family: Helvetica; color: #000000; line-height: 1.2; pointer-events: all; white-space: nowrap; \"><i style=\"font-family: &quot;georgia&quot; ; font-size: 24px\">y</i></div></div></div></foreignObject><text x=\"7\" y=\"220\" fill=\"#000000\" font-family=\"Helvetica\" font-size=\"11px\" text-anchor=\"middle\">y</text></switch></g></g><switch><g requiredFeatures=\"http://www.w3.org/TR/SVG11/feature#Extensibility\"/><a transform=\"translate(0,-5)\" xlink:href=\"https://desk.draw.io/support/solutions/articles/16000042487\" target=\"_blank\"><text text-anchor=\"middle\" font-size=\"10px\" x=\"50%\" y=\"100%\">Viewer does not support full SVG 1.1</text></a></switch></svg>"
      ],
      "execution_count": null,
      "outputs": [
        {
          "output_type": "display_data",
          "data": {
            "text/plain": [
              "<IPython.core.display.SVG object>"
            ],
            "image/svg+xml": "<svg content=\"&lt;mxfile host=&quot;www.draw.io&quot; modified=&quot;2020-10-28T04:15:58.959Z&quot; agent=&quot;5.0 (Macintosh; Intel Mac OS X 10_10_5) AppleWebKit/537.36 (KHTML, like Gecko) Chrome/86.0.4240.111 Safari/537.36&quot; etag=&quot;fk5PM0mw7zbwvAhmm8PJ&quot; version=&quot;13.6.6&quot; type=&quot;google&quot;&gt;&lt;diagram id=&quot;e9GpytjvSVn0hx8AzsKS&quot; name=&quot;Page-1&quot;&gt;7VtRd6MoFP41eYxHBIk+Np1m9pzp7M45fZhnqpi4NSGrdprur1+IaARNokZtMtv0oeYCF7zf5eNyIRN4v959jcl29Z35NJpYpr+bwC8TywLAxvyfkLxnEuQ4mWAZh76sdBA8hf9SKTSl9DX0aaJUTBmL0nCrCj222VAvVWQkjtmbWi1gkdrrlixpRfDkkagq/Rn66SqT2g48yP+g4XIle0ZAFqxJXle+SLIiPnsrieDDBN7HjKXZ03p3TyNhu9wsWbvFkdJiXDHdpE0a/D21PfTt5TH+6X4PvB9//hU8fpuKBkLNLxK9yheWo03fcwvE7HXjU6HFnMD52ypM6dOWeKL0jWPOZat0HfFvgD/GLCVpyDaydhBG0T2LWMy/b9iGt5n7YcxxyqpQkvCxz+UYaJzS3dG3A4XNuK9RtqZp/M6r5A1My8DSs6SnYVe63tsBN0eCsSpBhqWMSE9ZFsoP1uQP0qAtjAvO25Zu/DvhpAfzlGyZ1aZ+xUHPGqX0xnbNG+eymEYcrF+q+jozyB5+sJB3XNg8N2Zub0szZMJeY4/KRmXP1PTY1hlFKYmXNK0o2oNSvHV3nOCFOKkT5NpRA+es3RQ2ZHaDjRuSvJeqbUWF5PiA9X4QVoiOP2Qae/UJNBwvTuERZuyDBp0KDSLX/FgatHs2ZdlyEws+YPHXj/mQaSu2s0HVdnBM2+HeqOkWFpTCjrn5za7UpHFcgWPf1KT1g6wRqGl2oU9cuxcc4/v2XgDU2YzguHGFcx4ovinYiscgojuJ2LwEnheRJAm9k/znE+oEokqSxuyFlkqw59Dn4AYQt2yoAuV0RBwCzXXscRHPux8Y8sDxqFcL+bNji3e+fsgRxBrVOx0nuaYIIWdcyNvt8mrhTfgY07wG45py2SKMDnUE1HkKwqoDf7Ew+ecWwAeuoQVaqDPH66qwHjQM7QDW1TiAgH+xuAEH4EytO0ButbYOwF1Ahb9hqNcb/O2yB0fg16G9egBtLcBGdkf4zgV7Q8PXYKPfDr5bCLGBnrrputECM80PRoYP1s0+HImkcqiAiP95FYn2ecA26TQg6zDi3d7xKtxY8TIke9DMfWmyP4MQZcDZ7vYFeWv+tBT/d3knfNBhLqz6Dcf/kTzTSHUXEoVLkQfyuC9QztxzkbIIPRLdyYJ16PtCxzymfCzkea9PrOtyO8qV2/OJ/UW+jrYA7COASHQ7J97Lcp8B0BJNopU8aQHOqcyJPFSRQ5gUZxllRz4xrY7mWUwDA0uN+UE/kYVhYrP8UVeZKcCGo8WHLAgSOgy3NMh8/YbcoueXu3KLqy8xI1NL3crQmVp0Bnm/JgYpc0E3RhmAQewzDGKpae48Y3+h906BgWeqYss1Zlp0MyBntMv41nIGL5f7hlvYDGqR5Cy/MND6FPGcooH5wqpL92VzXMyp45RxiDcstN2VqcIMsjOQg+yrpJQKn5So6WSIUsiyMX0c74zOJ/gMn7j51LvQn6HWYkCuaHAS8HlI2dCW7nlbfibrj6A3s2yj6/4fNdE2NHU3SNt/pvA0N0C2gYAGXMelG2jHNk6elRkL/15y+LeWwwN4Vpl6XYMvoN+9m4FxEWyXxqseit/gPruGh2FH+PR7DBVFQ8M31h2hcoTjmv2EMwiqSaaZWb13OuqlIauHPeT/7kgS6eeInSeTDT54MjXYFnxeQpC0ZyjZYvUqwQVhLcRtNQ/tFA32N9UF0ifJqrg9eNOrpYUrq6XtdkxM809F19hX1tvtWH47OAHSJ1TXwFVT5JjjkjXsfetxgxlgMZ1KXKntKjHoBq12qRCPnA+GVg2yrc6PeBFZi8BWVlgWyV9FLGrWnV7r2eQrO3gaOwEMT0fxpoFnKhXAXpybxwHILX1mQO1lCrHhulXvvyR9zL8efleYVT/8OBM+/Ac=&lt;/diagram&gt;&lt;/mxfile&gt;\" onclick=\"(function(svg){var src=window.event.target||window.event.srcElement;while (src!=null&amp;&amp;src.nodeName.toLowerCase()!='a'){src=src.parentNode;}if(src==null){if(svg.wnd!=null&amp;&amp;!svg.wnd.closed){svg.wnd.focus();}else{var r=function(evt){if(evt.data=='ready'&amp;&amp;evt.source==svg.wnd){svg.wnd.postMessage(decodeURIComponent(svg.getAttribute('content')),'*');window.removeEventListener('message',r);}};window.addEventListener('message',r);svg.wnd=window.open('https://viewer.diagrams.net/?client=1&amp;edit=_blank');}}})(this);\" style=\"cursor:pointer;max-width:100%;max-height:405px;\" version=\"1.1\" viewBox=\"-0.5 -0.5 525 405\" width=\"525px\" xmlns=\"http://www.w3.org/2000/svg\" xmlns:xlink=\"http://www.w3.org/1999/xlink\"><defs/><g><rect fill=\"none\" height=\"60\" pointer-events=\"all\" stroke=\"#000000\" width=\"80\" x=\"59.68\" y=\"276\"/><path d=\"M 37 200 L 477 200\" fill=\"none\" pointer-events=\"stroke\" stroke=\"#000000\" stroke-miterlimit=\"10\"/><path d=\"M 77 200 L 357 40 L 357 200\" fill=\"none\" pointer-events=\"stroke\" stroke=\"#000000\" stroke-miterlimit=\"10\"/><rect fill=\"none\" height=\"60\" pointer-events=\"all\" stroke=\"#000000\" transform=\"rotate(-30,179.68,100)\" width=\"80\" x=\"139.68\" y=\"70\"/><rect fill=\"#e6e6e6\" height=\"60\" pointer-events=\"all\" stroke=\"#000000\" width=\"30\" x=\"362\" y=\"90\"/><path d=\"M 217 80 L 368.06 4.47 Q 377 0 377 10 L 377 90\" fill=\"none\" pointer-events=\"stroke\" stroke=\"#000000\" stroke-miterlimit=\"10\"/><path d=\"M 357 40 L 372 10\" fill=\"none\" pointer-events=\"stroke\" stroke=\"#000000\" stroke-miterlimit=\"10\"/><path d=\"M 212.77 64.19 L 208.11 55.34 L 247.42 34.66 L 242.53 25.37 L 266.56 30.23 L 256.96 52.8 L 252.07 43.51 Z\" fill=\"#dae8fc\" pointer-events=\"all\" stroke=\"#6c8ebf\" stroke-linejoin=\"round\" stroke-miterlimit=\"10\"/><path d=\"M 398 87.5 L 388 87.5 L 388 47.5 L 377.5 47.5 L 393 28.5 L 408.5 47.5 L 398 47.5 Z\" fill=\"#f8cecc\" pointer-events=\"all\" stroke=\"#b85450\" stroke-linejoin=\"round\" stroke-miterlimit=\"10\"/><path d=\"M 376.5 123 L 376.5 171.76\" fill=\"none\" pointer-events=\"stroke\" stroke=\"#ff0000\" stroke-miterlimit=\"10\" stroke-width=\"2\"/><ellipse cx=\"376.5\" cy=\"120\" fill=\"#ff0000\" pointer-events=\"all\" rx=\"3\" ry=\"3\" stroke=\"#ff0000\" stroke-width=\"2\"/><path d=\"M 376.5 177.76 L 372.5 169.76 L 376.5 171.76 L 380.5 169.76 Z\" fill=\"#ff0000\" pointer-events=\"all\" stroke=\"#ff0000\" stroke-miterlimit=\"10\" stroke-width=\"2\"/><path d=\"M 180.52 105 L 180.95 181.76\" fill=\"none\" pointer-events=\"stroke\" stroke=\"#0000ff\" stroke-miterlimit=\"10\" stroke-width=\"2\"/><ellipse cx=\"180.5\" cy=\"102\" fill=\"#0000ff\" pointer-events=\"all\" rx=\"3\" ry=\"3\" stroke=\"#0000ff\" stroke-width=\"2\"/><path d=\"M 180.99 187.76 L 176.94 179.79 L 180.95 181.76 L 184.94 179.74 Z\" fill=\"#0000ff\" pointer-events=\"all\" stroke=\"#0000ff\" stroke-miterlimit=\"10\" stroke-width=\"2\"/><path d=\"M 207 125 L 161.18 47.1\" fill=\"none\" pointer-events=\"stroke\" stroke=\"#000000\" stroke-miterlimit=\"10\" stroke-width=\"2\"/><path d=\"M 158.13 41.93 L 165.64 46.79 L 161.18 47.1 L 158.74 50.85 Z\" fill=\"#000000\" pointer-events=\"all\" stroke=\"#000000\" stroke-miterlimit=\"10\" stroke-width=\"2\"/><path d=\"M 57 180 L 121.47 143.16\" fill=\"none\" pointer-events=\"stroke\" stroke=\"#000000\" stroke-miterlimit=\"10\"/><path d=\"M 126.03 140.55 L 121.69 147.07 L 121.47 143.16 L 118.22 140.99 Z\" fill=\"#000000\" pointer-events=\"all\" stroke=\"#000000\" stroke-miterlimit=\"10\"/><g transform=\"translate(-0.5 -0.5)\"><switch><foreignObject height=\"100%\" pointer-events=\"none\" requiredFeatures=\"http://www.w3.org/TR/SVG11/feature#Extensibility\" style=\"overflow: visible; text-align: left;\" width=\"100%\"><div style=\"display: flex; align-items: unsafe center; justify-content: unsafe center; width: 1px; height: 1px; padding-top: 131px; margin-left: 117px;\" xmlns=\"http://www.w3.org/1999/xhtml\"><div style=\"box-sizing: border-box; font-size: 0; text-align: center; \"><div style=\"display: inline-block; font-size: 18px; font-family: Helvetica; color: #000000; line-height: 1.2; pointer-events: all; white-space: nowrap; \"><i style=\"font-family: &quot;georgia&quot; ; font-size: 18px\">x</i></div></div></div></foreignObject><text fill=\"#000000\" font-family=\"Helvetica\" font-size=\"18px\" text-anchor=\"middle\" x=\"117\" y=\"136\">x</text></switch></g><path d=\"M 77 180 L 49.85 125.7\" fill=\"none\" pointer-events=\"stroke\" stroke=\"#000000\" stroke-miterlimit=\"10\"/><path d=\"M 47.5 121 L 53.76 125.7 L 49.85 125.7 L 47.5 128.83 Z\" fill=\"#000000\" pointer-events=\"all\" stroke=\"#000000\" stroke-miterlimit=\"10\"/><g transform=\"translate(-0.5 -0.5)\"><switch><foreignObject height=\"100%\" pointer-events=\"none\" requiredFeatures=\"http://www.w3.org/TR/SVG11/feature#Extensibility\" style=\"overflow: visible; text-align: left;\" width=\"100%\"><div style=\"display: flex; align-items: unsafe center; justify-content: unsafe center; width: 1px; height: 1px; padding-top: 111px; margin-left: 60px;\" xmlns=\"http://www.w3.org/1999/xhtml\"><div style=\"box-sizing: border-box; font-size: 0; text-align: center; \"><div style=\"display: inline-block; font-size: 18px; font-family: Helvetica; color: #000000; line-height: 1.2; pointer-events: all; white-space: nowrap; \"><i style=\"font-family: &quot;georgia&quot;\">y</i></div></div></div></foreignObject><text fill=\"#000000\" font-family=\"Helvetica\" font-size=\"18px\" text-anchor=\"middle\" x=\"60\" y=\"116\">y</text></switch></g><path d=\"M 7 336 L 500.63 336\" fill=\"none\" pointer-events=\"stroke\" stroke=\"#000000\" stroke-miterlimit=\"10\"/><path d=\"M 505.88 336 L 498.88 339.5 L 500.63 336 L 498.88 332.5 Z\" fill=\"none\" pointer-events=\"all\" stroke=\"#000000\" stroke-miterlimit=\"10\"/><g transform=\"translate(-0.5 -0.5)\"><switch><foreignObject height=\"100%\" pointer-events=\"none\" requiredFeatures=\"http://www.w3.org/TR/SVG11/feature#Extensibility\" style=\"overflow: visible; text-align: left;\" width=\"100%\"><div style=\"display: flex; align-items: unsafe center; justify-content: unsafe center; width: 1px; height: 1px; padding-top: 337px; margin-left: 518px;\" xmlns=\"http://www.w3.org/1999/xhtml\"><div style=\"box-sizing: border-box; font-size: 0; text-align: center; \"><div style=\"display: inline-block; font-size: 11px; font-family: Helvetica; color: #000000; line-height: 1.2; pointer-events: all; white-space: nowrap; \"><font face=\"Georgia\" style=\"font-size: 24px\"><i>x</i></font></div></div></div></foreignObject><text fill=\"#000000\" font-family=\"Helvetica\" font-size=\"11px\" text-anchor=\"middle\" x=\"518\" y=\"340\">x</text></switch></g><rect fill=\"none\" height=\"60\" pointer-events=\"all\" stroke=\"#000000\" transform=\"rotate(-30,179.68,100)\" width=\"80\" x=\"139.68\" y=\"70\"/><path d=\"M 140.18 310.5 L 140.18 300.5 L 180.18 300.5 L 180.18 290 L 199.18 305.5 L 180.18 321 L 180.18 310.5 Z\" fill=\"#dae8fc\" pointer-events=\"all\" stroke=\"#6c8ebf\" stroke-linejoin=\"round\" stroke-miterlimit=\"10\"/><path d=\"M 101.29 308.78 L 70.07 386.36\" fill=\"none\" pointer-events=\"stroke\" stroke=\"#0000ff\" stroke-miterlimit=\"10\" stroke-width=\"2\"/><ellipse cx=\"102.41\" cy=\"306\" fill=\"#0000ff\" pointer-events=\"all\" rx=\"3\" ry=\"3\" stroke=\"#0000ff\" stroke-width=\"2\"/><path d=\"M 67.83 391.93 L 67.11 383.01 L 70.07 386.36 L 74.53 386 Z\" fill=\"#0000ff\" pointer-events=\"all\" stroke=\"#0000ff\" stroke-miterlimit=\"10\" stroke-width=\"2\"/><path d=\"M 124.68 336 L 124.97 259.24\" fill=\"none\" pointer-events=\"stroke\" stroke=\"#000000\" stroke-miterlimit=\"10\" stroke-width=\"2\"/><path d=\"M 124.99 253.24 L 128.96 261.25 L 124.97 259.24 L 120.96 261.22 Z\" fill=\"#000000\" pointer-events=\"all\" stroke=\"#000000\" stroke-miterlimit=\"10\" stroke-width=\"2\"/><path d=\"M 139.68 316 L 377 316\" fill=\"none\" pointer-events=\"stroke\" stroke=\"#000000\" stroke-miterlimit=\"10\"/><rect fill=\"#e6e6e6\" height=\"60\" pointer-events=\"all\" stroke=\"#000000\" transform=\"rotate(-90,407,316)\" width=\"30\" x=\"392\" y=\"286\"/><path d=\"M 409.5 316 L 458.76 316\" fill=\"none\" pointer-events=\"stroke\" stroke=\"#ff0000\" stroke-miterlimit=\"10\" stroke-width=\"2\"/><ellipse cx=\"406.5\" cy=\"316\" fill=\"#ff0000\" pointer-events=\"all\" rx=\"3\" ry=\"3\" stroke=\"#ff0000\" stroke-width=\"2\"/><path d=\"M 464.76 316 L 456.76 320 L 458.76 316 L 456.76 312 Z\" fill=\"#ff0000\" pointer-events=\"all\" stroke=\"#ff0000\" stroke-miterlimit=\"10\" stroke-width=\"2\"/><path d=\"M 376.5 300.5 L 376.5 310.5 L 336.5 310.5 L 336.5 321 L 317.5 305.5 L 336.5 290 L 336.5 300.5 Z\" fill=\"#f8cecc\" pointer-events=\"all\" stroke=\"#b85450\" stroke-linejoin=\"round\" stroke-miterlimit=\"10\"/><path d=\"M 219.68 170 L 179.68 100\" fill=\"none\" pointer-events=\"stroke\" stroke=\"#000000\" stroke-dasharray=\"3 3\" stroke-miterlimit=\"10\"/><path d=\"M 103 306 L 103 386\" fill=\"none\" pointer-events=\"stroke\" stroke=\"#000000\" stroke-dasharray=\"3 3\" stroke-miterlimit=\"10\"/><path d=\"M 9.68 341 L 9.98 242.37\" fill=\"none\" pointer-events=\"stroke\" stroke=\"#000000\" stroke-miterlimit=\"10\"/><path d=\"M 10 237.12 L 13.48 244.13 L 9.98 242.37 L 6.48 244.11 Z\" fill=\"none\" pointer-events=\"all\" stroke=\"#000000\" stroke-miterlimit=\"10\"/><g transform=\"translate(-0.5 -0.5)\"><switch><foreignObject height=\"100%\" pointer-events=\"none\" requiredFeatures=\"http://www.w3.org/TR/SVG11/feature#Extensibility\" style=\"overflow: visible; text-align: left;\" width=\"100%\"><div style=\"display: flex; align-items: unsafe center; justify-content: unsafe center; width: 1px; height: 1px; padding-top: 217px; margin-left: 7px;\" xmlns=\"http://www.w3.org/1999/xhtml\"><div style=\"box-sizing: border-box; font-size: 0; text-align: center; \"><div style=\"display: inline-block; font-size: 11px; font-family: Helvetica; color: #000000; line-height: 1.2; pointer-events: all; white-space: nowrap; \"><i style=\"font-family: &quot;georgia&quot; ; font-size: 24px\">y</i></div></div></div></foreignObject><text fill=\"#000000\" font-family=\"Helvetica\" font-size=\"11px\" text-anchor=\"middle\" x=\"7\" y=\"220\">y</text></switch></g></g><switch><g requiredFeatures=\"http://www.w3.org/TR/SVG11/feature#Extensibility\"/><a target=\"_blank\" transform=\"translate(0,-5)\" xlink:href=\"https://desk.draw.io/support/solutions/articles/16000042487\"><text font-size=\"10px\" text-anchor=\"middle\" x=\"50%\" y=\"100%\">Viewer does not support full SVG 1.1</text></a></switch></svg>"
          },
          "metadata": {
            "tags": []
          }
        }
      ]
    },
    {
      "cell_type": "markdown",
      "metadata": {
        "id": "o7NQs1VQcE3A"
      },
      "source": [
        "#### 力ベクトルの成分表示"
      ]
    },
    {
      "cell_type": "markdown",
      "metadata": {
        "id": "ForjEisecR5O"
      },
      "source": [
        "##### 物体 A\n",
        "\n",
        "\\begin{align}\n",
        "\\textcolor{blue}\n",
        "{m \\vec{g}}\n",
        "&= \\left(\n",
        "  \\begin{array}{c} -mg \\sin \\theta\\\\ -mg \\cos \\theta\\end{array}\n",
        "  \\right)\\\\[1mm]\n",
        "%\n",
        "\\textcolor{}\n",
        "{\\vec{N}_{\\rm A}}\n",
        "&= \\left(\n",
        "  \\begin{array}{c} 0 \\\\ N_{\\rm A} \\end{array}\n",
        "  \\right)\\\\[1mm]\n",
        "%\n",
        "\\textcolor{blue}\n",
        "{\\vec{T}_{\\rm A}}\n",
        "&= \\left(\n",
        "  \\begin{array}{c} T_{\\rm A} \\\\ 0 \\end{array}\n",
        "  \\right)\n",
        "\\end{align}\n"
      ]
    },
    {
      "cell_type": "markdown",
      "metadata": {
        "id": "us17CGLNdfjA"
      },
      "source": [
        "##### 物体 B\n",
        "\\begin{align}\n",
        "\\textcolor{red}\n",
        "{M\\vec{g}}\n",
        "&= \\left(\n",
        "  \\begin{array}{c} M g\\\\ 0 \\end{array}\n",
        "  \\right)\\\\[1mm]\n",
        "%\n",
        "\\textcolor{red}\n",
        "{\\vec{T}_{\\rm B}}\n",
        "&= \\left(\n",
        "  \\begin{array}{c} T_{\\rm B} \\\\ 0 \\end{array}\n",
        "  \\right)\n",
        "  =\\left(\n",
        "  \\begin{array}{c} - T_{\\rm A} \\\\ 0 \\end{array}\n",
        "  \\right)\n",
        "\\end{align}"
      ]
    },
    {
      "cell_type": "markdown",
      "metadata": {
        "id": "40WX3MF3eRrw"
      },
      "source": [
        "###### 作用反作用の確認\n",
        "\\begin{align}\n",
        "\\textcolor{blue}\n",
        "{\\vec{T}_{\\rm A}}\n",
        "&= \\left(\n",
        "  \\begin{array}{c} T_{\\rm A} \\\\ 0 \\end{array}\n",
        "  \\right) \n",
        "= - \n",
        "\\left(\n",
        "  \\begin{array}{c} - T_{\\rm A} \\\\ 0 \\end{array}\n",
        "  \\right) \n",
        "= - \n",
        "\\left(\n",
        "  \\begin{array}{c} T_{\\rm B} \\\\ 0 \\end{array}\n",
        "  \\right)   \n",
        "= - \\textcolor{red}\n",
        "{\\vec{T}_{\\rm B}}\\\\\n",
        "&\\textcolor{blue}\n",
        "{\\vec{T}_{\\rm A}} +\n",
        "\\textcolor{red}\n",
        "{\\vec{T}_{\\rm B}} =0\\\\\n",
        "& T_{\\rm A} + (- T_{\\rm B}) =0 \\quad [\\text{$x$のみの成分表示}]\n",
        "\\end{align}\n"
      ]
    },
    {
      "cell_type": "markdown",
      "metadata": {
        "id": "lqHlI8hnfC1E"
      },
      "source": [
        "### 運動の解析\n",
        "\n",
        "\\begin{cases}\n",
        "m \\vec{a}_{\\rm A} &= \\textcolor{blue}{m \\vec{g}} + \\textcolor{blue}{\\vec{T}_{\\rm A}} + \\vec{N}_{A}\\\\[4mm]\n",
        "M \\vec{a}_{\\rm B} &= \\textcolor{red}{M \\vec{g}} + \\textcolor{red}{\\vec{T}_{\\rm B}}\n",
        "\\end{cases}\n",
        "\n",
        "糸が伸縮しなければ, \n",
        "1. 物体 A,B の変位は等しい:  \n",
        "    $\\quad \\Delta x_{\\rm A} = \\Delta x_{\\rm B}$\n",
        "2. 変位が等しければ, 速度も等しい:  \n",
        "    $\\quad \\Delta v_{\\rm A} = \\Delta v_{\\rm B}$\n",
        "3. 速度も等しければ, 加速度も等しい:  \n",
        "    $\\quad a_{\\rm A} = a_{\\rm B}$\n",
        "\n",
        "これより, 物体のそれぞれの加速度を $\\vec{a}_{\\rm A}, \\vec{a}_{\\rm B}$ とすると\n",
        "\\begin{align}\n",
        "\\vec{a}_{\\rm A} = \\vec{a}_{\\rm B} \n",
        "= \\left(\n",
        "  \\begin{array}{c} a \\\\ 0 \\end{array}\n",
        "  \\right) , \\quad a>0\n",
        "\\end{align}"
      ]
    },
    {
      "cell_type": "markdown",
      "metadata": {
        "id": "lY1MLO4pg2YF"
      },
      "source": [
        "#### 加速度"
      ]
    },
    {
      "cell_type": "markdown",
      "metadata": {
        "id": "PH7j0Pf0g7dj"
      },
      "source": [
        "$\\require{cancel}$\n",
        "$\\vec{a}_{\\rm A}, \\vec{a}_{\\rm B}$ は $x$ 成分のみを持つので, 物体A,B の(ベクトル表現の)運動方程式の $x$ 方向を調べると\n",
        "\n",
        "\\begin{align}\n",
        "\bm a &= - mg \\sin \\theta + T_{\\rm A}\\\\[2mm]\n",
        "M a &= Mg - T_{\\rm \\cancel{B}A}\n",
        "\\end{align}"
      ]
    },
    {
      "cell_type": "markdown",
      "metadata": {
        "id": "m37u1Hyoi5M6"
      },
      "source": [
        "作用反作用を考慮し, 二つの式の和を取ると\n",
        "\n",
        "\\begin{align}\n",
        "(\bm + M)  a &= M g - mg \\sin \\theta =  (M  - m \\sin \\theta) g\\\\[2mm]\n",
        "a &= \\dfrac{M  - m \\sin \\theta}{m+M} g\n",
        "\\end{align}"
      ]
    },
    {
      "cell_type": "markdown",
      "metadata": {
        "id": "RuAgvhQwjW96"
      },
      "source": [
        "これらを用いると $T_{\\rm A}$ を求めることができます.\n",
        "\n",
        "また, 物体 A,B の運動方程式の $y$ 成分を利用することで, $N_{\\rm A}$ を求めることができます."
      ]
    }
  ]
}