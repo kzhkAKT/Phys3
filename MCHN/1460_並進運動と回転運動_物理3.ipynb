{
  "nbformat": 4,
  "nbformat_minor": 0,
  "metadata": {
    "colab": {
      "name": "1460_並進運動と回転運動_物理3.ipynb",
      "provenance": [],
      "toc_visible": true,
      "authorship_tag": "ABX9TyMNuc919hto11Km9sXHqRtf",
      "include_colab_link": true
    },
    "kernelspec": {
      "name": "python3",
      "display_name": "Python 3"
    }
  },
  "cells": [
    {
      "cell_type": "markdown",
      "metadata": {
        "id": "view-in-github",
        "colab_type": "text"
      },
      "source": [
        "<a href=\"https://colab.research.google.com/github/kzhkAKT/Physics3/blob/draft/MCHN/1460_%E4%B8%A6%E9%80%B2%E9%81%8B%E5%8B%95%E3%81%A8%E5%9B%9E%E8%BB%A2%E9%81%8B%E5%8B%95_%E7%89%A9%E7%90%863.ipynb\" target=\"_parent\"><img src=\"https://colab.research.google.com/assets/colab-badge.svg\" alt=\"Open In Colab\"/></a>"
      ]
    },
    {
      "cell_type": "markdown",
      "metadata": {
        "id": "hmSQjynSCEKc"
      },
      "source": [
        "# 回転に関する運動方程式"
      ]
    },
    {
      "cell_type": "markdown",
      "metadata": {
        "id": "DGp2uMKmur_f"
      },
      "source": [
        "## 並進運動と回転運動"
      ]
    },
    {
      "cell_type": "markdown",
      "metadata": {
        "id": "cshLYaCxuw84"
      },
      "source": [
        "### 並進運動\n",
        "時間変化に対し$t \\to t + \\Delta t$\n",
        "- $\\vec{r} \\to \\vec{r} + \\Delta \\vec{r}$\n",
        "  - $\\vec{p} = m \\vec{v}$\n",
        "    - $\\dfrac{{\\rm d}\\vec{p}}{{\\rm d}t} = \\vec{F}$"
      ]
    },
    {
      "cell_type": "markdown",
      "metadata": {
        "id": "sxfLHD2Ouwx1"
      },
      "source": [
        "### 回転運動"
      ]
    },
    {
      "cell_type": "markdown",
      "metadata": {
        "id": "n_yJp-WMvIGX"
      },
      "source": [
        "時間変化に対し$t \\to t + \\Delta t$\n",
        "- $\\left| \\vec{r} \\right| \\to \\left| \\vec{r} \\right| \\Delta \\theta$\n",
        "  - $\\vec{L} = I \\vec{\\omega}$\n",
        "    - $\\dfrac{{\\rm d}\\vec{L}}{{\\rm d}t} = \\vec{M}$"
      ]
    },
    {
      "cell_type": "markdown",
      "metadata": {
        "id": "19QERfAowbsc"
      },
      "source": [
        "## 類似性/ analogy"
      ]
    },
    {
      "cell_type": "markdown",
      "metadata": {
        "id": "WqZvIlOiwjCe"
      },
      "source": [
        "> Q. 教科書 p51 の表1-2で, 並進運動と回転運動の類似性を確認してください.\n",
        "\n",
        "> Q. この類似性を踏まえ, 角速度 $\\vec{\\omega}$ で回転運動する  \n",
        "慣性モーメント $I$ (球)の運動エネルギーを予測してください."
      ]
    }
  ]
}