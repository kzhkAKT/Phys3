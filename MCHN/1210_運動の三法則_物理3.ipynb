{
  "nbformat": 4,
  "nbformat_minor": 0,
  "metadata": {
    "colab": {
      "name": "1210_運動の三法則_物理3.ipynb",
      "provenance": [],
      "authorship_tag": "ABX9TyP3MIWozVuxLOsLnfecudUZ",
      "include_colab_link": true
    },
    "kernelspec": {
      "name": "python3",
      "display_name": "Python 3"
    }
  },
  "cells": [
    {
      "cell_type": "markdown",
      "metadata": {
        "id": "view-in-github",
        "colab_type": "text"
      },
      "source": [
        "<a href=\"https://colab.research.google.com/github/kzhkAKT/Physics3/blob/draft/MCHN/1210_%E9%81%8B%E5%8B%95%E3%81%AE%E4%B8%89%E6%B3%95%E5%89%87_%E7%89%A9%E7%90%863.ipynb\" target=\"_parent\"><img src=\"https://colab.research.google.com/assets/colab-badge.svg\" alt=\"Open In Colab\"/></a>"
      ]
    },
    {
      "cell_type": "markdown",
      "metadata": {
        "id": "iv44-p0w171x"
      },
      "source": [
        "# 質点系の力学"
      ]
    },
    {
      "cell_type": "markdown",
      "metadata": {
        "id": "Wq9xn_Xm2AOw"
      },
      "source": [
        "## ニュートンの運動の三法則"
      ]
    },
    {
      "cell_type": "markdown",
      "metadata": {
        "id": "m0FA48yh2DSX"
      },
      "source": [
        "### 運動の3法則\n",
        "law of mation"
      ]
    },
    {
      "cell_type": "markdown",
      "metadata": {
        "id": "PNIKhath2Jrx"
      },
      "source": [
        "#### 慣性の法則\n",
        "第一法則\n",
        "\n",
        "**慣性**: 外力が働かなければ(合力ゼロも含む), 等速直線運動(静止も含んだ)を運動を続ける"
      ]
    },
    {
      "cell_type": "markdown",
      "metadata": {
        "id": "vBd3pIvs2Phe"
      },
      "source": [
        "#### 運動の法則\n",
        "第二法則\n",
        "\n",
        "外力が働くと物体の運動が変わる.\n",
        "\n",
        "その変化は下記の式で表現される:\n",
        "\\begin{align*}\n",
        "m \\vec{a} = \\vec{F}.\n",
        "\\end{align*}\n",
        "この定義によって, 力が表現されると考えて良い.\n",
        "\n",
        "> ${\\rm 1 \\ N \\ =  1\\ kg \\cdot 1\\ m/s^2}$\n"
      ]
    },
    {
      "cell_type": "markdown",
      "metadata": {
        "id": "52KXzi_32ObW"
      },
      "source": [
        "#### 作用反作用の法則\n",
        "第三法則\n",
        "\n",
        "\\begin{align*}\n",
        "\\vec{F}_{\\rm actin} = - \\vec{F}_{\\rm reaction}\\\\\n",
        "\\vec{F}_{\\rm reactin} = - \\vec{F}_{\\rm action}\\\\\n",
        "\\vec{F}_{\\rm actin} + \\vec{F}_{\\rm reaction} =0\n",
        "\\end{align*}"
      ]
    },
    {
      "cell_type": "markdown",
      "metadata": {
        "id": "t6EjBD168ghF"
      },
      "source": [
        "\n",
        "---\n",
        "\n",
        "[科学の歴史参考資料: 力学教科書のルーツ : 「トムソン=テイト」以前](https://www.jstage.jst.go.jp/article/pesj/56/1/56_KJ00005898501/_article/-char/ja/)\n"
      ]
    }
  ]
}