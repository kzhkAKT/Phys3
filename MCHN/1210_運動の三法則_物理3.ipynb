{
  "nbformat": 4,
  "nbformat_minor": 0,
  "metadata": {
    "colab": {
      "name": "1210_運動の三法則_物理3.ipynb",
      "provenance": [],
      "toc_visible": true,
      "authorship_tag": "ABX9TyN4HNtxJT6pOSAVXN5v3vn9",
      "include_colab_link": true
    },
    "kernelspec": {
      "name": "python3",
      "display_name": "Python 3"
    }
  },
  "cells": [
    {
      "cell_type": "markdown",
      "metadata": {
        "id": "view-in-github",
        "colab_type": "text"
      },
      "source": [
        "<a href=\"https://colab.research.google.com/github/kzhkAKT/Physics3/blob/draft/MCHN/1210_%E9%81%8B%E5%8B%95%E3%81%AE%E4%B8%89%E6%B3%95%E5%89%87_%E7%89%A9%E7%90%863.ipynb\" target=\"_parent\"><img src=\"https://colab.research.google.com/assets/colab-badge.svg\" alt=\"Open In Colab\"/></a>"
      ]
    },
    {
      "cell_type": "markdown",
      "metadata": {
        "id": "iv44-p0w171x"
      },
      "source": [
        "# 質点系の力学"
      ]
    },
    {
      "cell_type": "markdown",
      "metadata": {
        "id": "Wq9xn_Xm2AOw"
      },
      "source": [
        "## ニュートンの運動の三法則"
      ]
    },
    {
      "cell_type": "markdown",
      "metadata": {
        "id": "m0FA48yh2DSX"
      },
      "source": [
        "### 運動の3法則\n",
        "law of mation"
      ]
    },
    {
      "cell_type": "code",
      "metadata": {
        "id": "KheMdE-Ci7oS",
        "cellView": "form",
        "outputId": "89f4c03c-7d00-4fdf-ebe1-d5ffbbe0a61d",
        "colab": {
          "base_uri": "https://localhost:8080/",
          "height": 336
        }
      },
      "source": [
        "#@title ISS での運動の第一法則の実験\n",
        "%%html\n",
        "<iframe width=\"560\" height=\"315\" src=\"https://www.youtube-nocookie.com/embed/Q0Wz5P0JdeU?start=109\" frameborder=\"0\" allow=\"accelerometer; autoplay; clipboard-write; encrypted-media; gyroscope; picture-in-picture\" allowfullscreen></iframe>"
      ],
      "execution_count": 5,
      "outputs": [
        {
          "output_type": "display_data",
          "data": {
            "text/html": [
              "<iframe width=\"560\" height=\"315\" src=\"https://www.youtube-nocookie.com/embed/Q0Wz5P0JdeU?start=109\" frameborder=\"0\" allow=\"accelerometer; autoplay; clipboard-write; encrypted-media; gyroscope; picture-in-picture\" allowfullscreen></iframe>"
            ],
            "text/plain": [
              "<IPython.core.display.HTML object>"
            ]
          },
          "metadata": {
            "tags": []
          }
        }
      ]
    },
    {
      "cell_type": "code",
      "metadata": {
        "id": "3Rgp81_hivQB",
        "cellView": "form",
        "outputId": "f3cfb156-55c9-4765-eb92-74cd4211f398",
        "colab": {
          "base_uri": "https://localhost:8080/",
          "height": 336
        }
      },
      "source": [
        "#@title 等速直線運度をする物体から投げ出された球の行方\n",
        "%%html\n",
        "<iframe width=\"560\" height=\"315\" src=\"https://www.youtube-nocookie.com/embed/MjAJU3eeXzQ\" frameborder=\"0\" allow=\"accelerometer; autoplay; encrypted-media; gyroscope; picture-in-picture\" allowfullscreen></iframe>"
      ],
      "execution_count": null,
      "outputs": [
        {
          "output_type": "display_data",
          "data": {
            "text/html": [
              "<iframe width=\"560\" height=\"315\" src=\"https://www.youtube-nocookie.com/embed/MjAJU3eeXzQ\" frameborder=\"0\" allow=\"accelerometer; autoplay; encrypted-media; gyroscope; picture-in-picture\" allowfullscreen></iframe>"
            ],
            "text/plain": [
              "<IPython.core.display.HTML object>"
            ]
          },
          "metadata": {
            "tags": []
          }
        }
      ]
    },
    {
      "cell_type": "markdown",
      "metadata": {
        "id": "PNIKhath2Jrx"
      },
      "source": [
        "#### 慣性の法則\n",
        "第一法則\n",
        "\n",
        "**慣性**: 外力が働かなければ[合力ゼロ $\\sum_i \\vec{F}_i =0$も含む], 等速直線運動(静止も含んだ)を運動を続ける"
      ]
    },
    {
      "cell_type": "code",
      "metadata": {
        "id": "X8tlRcSNjIrD",
        "cellView": "form",
        "outputId": "36cf1669-bcf3-47a2-cf82-591a6e98f4fe",
        "colab": {
          "base_uri": "https://localhost:8080/",
          "height": 475
        }
      },
      "source": [
        "#@title Net Force\n",
        "%%html\n",
        "<iframe src=\"https://phet.colorado.edu/sims/html/forces-and-motion-basics/latest/forces-and-motion-basics_en.html\" width=\"600\" height=\"450\" scrolling=\"no\" allowfullscreen></iframe>"
      ],
      "execution_count": 8,
      "outputs": [
        {
          "output_type": "display_data",
          "data": {
            "text/html": [
              "<iframe src=\"https://phet.colorado.edu/sims/html/forces-and-motion-basics/latest/forces-and-motion-basics_en.html\" width=\"600\" height=\"450\" scrolling=\"no\" allowfullscreen></iframe>"
            ],
            "text/plain": [
              "<IPython.core.display.HTML object>"
            ]
          },
          "metadata": {
            "tags": []
          }
        }
      ]
    },
    {
      "cell_type": "markdown",
      "metadata": {
        "id": "vBd3pIvs2Phe"
      },
      "source": [
        "#### 運動の法則\n",
        "第二法則\n",
        "\n",
        "外力が働く($\\vec{F} = \\sum_i \\vec{F}_i \\neq 0$)と物体の運動が変わる.\n",
        "\n",
        "その変化は下記の式で表現される:\n",
        "\\begin{align*}\n",
        "m \\vec{a} = \\vec{F}.\n",
        "\\end{align*}\n",
        "この定義によって, 力が表現されると考えて良い.\n",
        "\n",
        "> ${\\rm 1 \\ N \\ =  1\\ kg \\cdot 1\\ m/s^2}$\n"
      ]
    },
    {
      "cell_type": "code",
      "metadata": {
        "cellView": "form",
        "id": "fJ2ZQ5btzGt6",
        "outputId": "36cf1669-bcf3-47a2-cf82-591a6e98f4fe",
        "colab": {
          "base_uri": "https://localhost:8080/",
          "height": 475
        }
      },
      "source": [
        "#@title Motion\n",
        "%%html\n",
        "<iframe src=\"https://phet.colorado.edu/sims/html/forces-and-motion-basics/latest/forces-and-motion-basics_en.html\" width=\"600\" height=\"450\" scrolling=\"no\" allowfullscreen></iframe>"
      ],
      "execution_count": null,
      "outputs": [
        {
          "output_type": "display_data",
          "data": {
            "text/html": [
              "<iframe src=\"https://phet.colorado.edu/sims/html/forces-and-motion-basics/latest/forces-and-motion-basics_en.html\" width=\"600\" height=\"450\" scrolling=\"no\" allowfullscreen></iframe>"
            ],
            "text/plain": [
              "<IPython.core.display.HTML object>"
            ]
          },
          "metadata": {
            "tags": []
          }
        }
      ]
    },
    {
      "cell_type": "markdown",
      "metadata": {
        "id": "52KXzi_32ObW"
      },
      "source": [
        "#### 作用反作用の法則\n",
        "第三法則\n",
        "\n",
        "\\begin{align*}\n",
        "\\vec{F}_{\\rm actin} = - \\vec{F}_{\\rm reaction}\\\\\n",
        "\\vec{F}_{\\rm reactin} = - \\vec{F}_{\\rm action}\\\\\n",
        "\\vec{F}_{\\rm actin} + \\vec{F}_{\\rm reaction} =0\n",
        "\\end{align*}"
      ]
    },
    {
      "cell_type": "markdown",
      "metadata": {
        "id": "rsbH5nNxzmaC"
      },
      "source": [
        "![](https://upload.wikimedia.org/wikipedia/commons/5/5d/Animacionfinal.gif)\n",
        "![](https://upload.wikimedia.org/wikipedia/commons/b/b9/Tierra-luna.jpg)\n",
        "\n",
        "![](https://upload.wikimedia.org/wikipedia/commons/3/36/Bolas.gif)"
      ]
    },
    {
      "cell_type": "markdown",
      "metadata": {
        "id": "MlcXDQpvxOw4"
      },
      "source": [
        "教科書では, A からB\b, BからAに及ぶ力として,\n",
        "下記のように示している\n",
        "\n",
        "\\begin{align*}\n",
        "\\vec{F}_{\\rm B \\to A} &= - \\vec{F}_{\\rm A \\to B}\\\\\n",
        "&\\vec{F}_{\\rm B \\to A} + \\vec{F}_{\\rm A \\to B} =0\n",
        "\\end{align*}\n",
        "\n",
        "これを単に\n",
        "\n",
        "\\begin{align*}\n",
        "\\vec{F}_{\\rm BA} &= - \\vec{F}_{\\rm AB}\\\\\n",
        "&\\vec{F}_{\\rm BA} + \\vec{F}_{\\rm AB} =0\n",
        "\\end{align*}\n",
        "\n",
        "と書くこともある\n"
      ]
    },
    {
      "cell_type": "markdown",
      "metadata": {
        "id": "EXTqZXOlyBwh"
      },
      "source": [
        "> 参考に対応する問題 DG p122 no.2 を(宿題として)取り組んでください."
      ]
    },
    {
      "cell_type": "markdown",
      "metadata": {
        "id": "t6EjBD168ghF"
      },
      "source": [
        "\n",
        "---\n",
        "\n",
        "[科学の歴史参考資料: 力学教科書のルーツ : 「トムソン=テイト」以前](https://www.jstage.jst.go.jp/article/pesj/56/1/56_KJ00005898501/_article/-char/ja/)\n"
      ]
    }
  ]
}