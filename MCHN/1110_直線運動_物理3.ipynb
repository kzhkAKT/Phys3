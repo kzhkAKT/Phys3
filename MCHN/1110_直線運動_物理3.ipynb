{
  "nbformat": 4,
  "nbformat_minor": 0,
  "metadata": {
    "colab": {
      "name": "1110_直線運動_物理3.ipynb",
      "provenance": [],
      "include_colab_link": true
    },
    "kernelspec": {
      "display_name": "Python 3",
      "language": "python",
      "name": "python3"
    },
    "language_info": {
      "codemirror_mode": {
        "name": "ipython",
        "version": 3
      },
      "file_extension": ".py",
      "mimetype": "text/x-python",
      "name": "python",
      "nbconvert_exporter": "python",
      "pygments_lexer": "ipython3",
      "version": "3.8.5"
    }
  },
  "cells": [
    {
      "cell_type": "markdown",
      "metadata": {
        "id": "view-in-github",
        "colab_type": "text"
      },
      "source": [
        "<a href=\"https://colab.research.google.com/github/kzhkAKT/Physics3/blob/draft/MCHN/1110_%E7%9B%B4%E7%B7%9A%E9%81%8B%E5%8B%95_%E7%89%A9%E7%90%863.ipynb\" target=\"_parent\"><img src=\"https://colab.research.google.com/assets/colab-badge.svg\" alt=\"Open In Colab\"/></a>"
      ]
    },
    {
      "cell_type": "markdown",
      "metadata": {
        "colab_type": "text",
        "id": "wHXnfsia1k3-"
      },
      "source": [
        "# 質点の力学"
      ]
    },
    {
      "cell_type": "code",
      "metadata": {
        "id": "y9Gsqwadw-5j",
        "colab_type": "code",
        "colab": {
          "base_uri": "https://localhost:8080/",
          "height": 190
        },
        "outputId": "03565755-62e7-4f20-9dc0-79f0c258df9a"
      },
      "source": [
        "!pip3 install ColabTurtle"
      ],
      "execution_count": null,
      "outputs": [
        {
          "output_type": "stream",
          "text": [
            "Collecting ColabTurtle\n",
            "  Downloading https://files.pythonhosted.org/packages/49/01/6da7091c2c6c917cce99c000b89acb6aa27b66ef6eafc0c0ccf59b98694f/ColabTurtle-2.0.0.tar.gz\n",
            "Building wheels for collected packages: ColabTurtle\n",
            "  Building wheel for ColabTurtle (setup.py) ... \u001b[?25l\u001b[?25hdone\n",
            "  Created wheel for ColabTurtle: filename=ColabTurtle-2.0.0-cp36-none-any.whl size=4032 sha256=9d29b9d06ccfcb044e15873d4f7bce8ba38c176c2d84b5479802590913d94734\n",
            "  Stored in directory: /root/.cache/pip/wheels/a8/29/ec/ad346f0042ae467cc74f4378916348faf975b07890651dcae7\n",
            "Successfully built ColabTurtle\n",
            "Installing collected packages: ColabTurtle\n",
            "Successfully installed ColabTurtle-2.0.0\n"
          ],
          "name": "stdout"
        }
      ]
    },
    {
      "cell_type": "code",
      "metadata": {
        "id": "p3zB9a2CxB-X",
        "colab_type": "code",
        "colab": {
          "base_uri": "https://localhost:8080/",
          "height": 521
        },
        "outputId": "ac4547a0-5997-4ab4-9ceb-2142b0681dc9"
      },
      "source": [
        "# ref https://lecture.ecc.u-tokyo.ac.jp/johzu/joho-kagaku/exercises/turtle.html\n",
        "import ColabTurtle.Turtle as turtle\n",
        "turtle.initializeTurtle()"
      ],
      "execution_count": null,
      "outputs": [
        {
          "output_type": "display_data",
          "data": {
            "text/html": [
              "\n",
              "      <svg width=\"800\" height=\"500\">\n",
              "        <rect width=\"100%\" height=\"100%\" fill=\"black\"/>\n",
              "        \n",
              "        \n",
              "      <g visibility=visible transform=\"rotate(180,400,250) translate(400, 250)\">\n",
              "        <circle stroke=\"white\" stroke-width=\"3\" fill=\"transparent\" r=\"12\" cx=\"0\" cy=\"0\"/>\n",
              "        <polygon points=\"0,19 3,16 -3,16\" style=\"fill:white;stroke:white;stroke-width:2\"/>\n",
              "      </g>\n",
              "    \n",
              "      </svg>\n",
              "    "
            ],
            "text/plain": [
              "<IPython.core.display.HTML object>"
            ]
          },
          "metadata": {
            "tags": []
          }
        }
      ]
    },
    {
      "cell_type": "markdown",
      "metadata": {
        "colab_type": "text",
        "id": "yo2_ztaW1otL"
      },
      "source": [
        "## 位置, 速度, 加速度, "
      ]
    },
    {
      "cell_type": "markdown",
      "metadata": {
        "colab_type": "text",
        "id": "ENtZw9D81utY"
      },
      "source": [
        "### 直線運動: linear motion\n"
      ]
    },
    {
      "cell_type": "markdown",
      "metadata": {
        "id": "wAZeWHBW-Hhs",
        "colab_type": "text"
      },
      "source": [
        "物理で扱うもの\n",
        "> 変化の基本 = 後の状態 - 初めの状態\n",
        "\n",
        "- 注目する物理量の変化を調べ, 法則性を見出す.\n",
        "- 「差」が基準. \b**d**ifference ~ $d$ ~ $\\Delta$\n",
        "\n",
        "この講義で扱う物理量は\n",
        "- 滑らかに変化する\n",
        "- 発散しない: 突然無限大やゼロにならない\n",
        "- 小さな範囲で激しく振動しない: 例 $y(x) \\neq \\frac{\\sin(x)}{x}$\n",
        "\n",
        "ものに限ります.\n"
      ]
    },
    {
      "cell_type": "markdown",
      "metadata": {
        "colab_type": "text",
        "id": "wO3PvtAI16U2"
      },
      "source": [
        "#### 微分"
      ]
    },
    {
      "cell_type": "markdown",
      "metadata": {
        "id": "NxxRX-gk-88Y",
        "colab_type": "text"
      },
      "source": [
        "\b\\begin{align*}\n",
        "\\dfrac{{\\rm d} y}{{\\rm d}x}\n",
        "= \\lim_{\\Delta x \\to 0} \\dfrac{\\Delta y}{\\Delta x}\n",
        "= \\lim_{\\Delta x \\to 0} \\dfrac{y(x+\\Delta x) - y(x)}{\\Delta x}\n",
        "\\end{align*}\n",
        "\n",
        "- 極限操作 $\\Delta x \\to 0$ を取る前は,\n",
        "$y-x$グラフの傾き: $\\quad \\dfrac{\\Delta y}{\\Delta x}$\n",
        "- 極限操作 $\\Delta x \\to 0$ を行えば,\n",
        "$y(x)$グラフの接線: $\\quad \\dfrac{{\\rm d} y}{{\\rm d}x}$\n",
        "- 極限操作 $\\Delta x \\to 0$ を行ってしまえば,  **機械的に微分の計算が利用できる.**"
      ]
    },
    {
      "cell_type": "markdown",
      "metadata": {
        "colab_type": "text",
        "id": "k4iNGexl2VkP"
      },
      "source": [
        "#### 変位"
      ]
    },
    {
      "cell_type": "markdown",
      "metadata": {
        "id": "AzIReXAsBwUZ",
        "colab_type": "text"
      },
      "source": [
        "時刻 $t_1 < t_2$ とし, それぞれの時刻での位置(座標)を $x(t_1)=x_1$ 及び $x(t_2)=x_2$ とすると\n",
        "- *時間変化*: $\\quad \\Delta t = t_2 - t_1$\n",
        "- 位置の変化 ~ **変位**: $\\quad \\Delta x = x_2 - x_1$\n",
        "\n",
        "後の状態と初めの状態\n",
        "- $\\quad \\Delta t = t_2 - t_1 > 0$\n",
        "- $\\quad \\Delta x = x_2 - x_1 \\{>,<,=\\} 0$"
      ]
    },
    {
      "cell_type": "markdown",
      "metadata": {
        "colab_type": "text",
        "id": "Bjxa4bIX1-ue"
      },
      "source": [
        "#### 速度"
      ]
    },
    {
      "cell_type": "markdown",
      "metadata": {
        "id": "9m80KdihD5Je",
        "colab_type": "text"
      },
      "source": [
        "##### 平均の速度\n",
        "変位を時間変化で割ったもの\n",
        "\\begin{align*}\n",
        "\\overline{v} = v \n",
        "&= \\dfrac{x_2 - x_1}{t_2 - t_1}&\\\\\n",
        "&= \\dfrac{\\Delta x}{\\Delta t}&\n",
        "\\end{align*}\n",
        "\n",
        "$x-t$ グラフで考えれば  \n",
        "> $(x_1, t_1)$ $(x_1, t_1)$ と $(x_2, t_2)$ を結ぶ直線の傾き"
      ]
    },
    {
      "cell_type": "markdown",
      "metadata": {
        "colab_type": "text",
        "id": "hsou9IL62ClI"
      },
      "source": [
        "#### 加速度"
      ]
    },
    {
      "cell_type": "markdown",
      "metadata": {
        "id": "qKgW3kIpFch8",
        "colab_type": "text"
      },
      "source": [
        "##### 平均の速度から瞬間の速度へ\n",
        "\n",
        "- $t_2$ を $t_1$ に限りなく近づける\n",
        "- $t_2 = t_1 + \\Delta t$ と置き直す\n",
        "- $x_2 = x_1 + \\Delta x$ と置き直す\n",
        "\n",
        "\\begin{align*}\n",
        "v \n",
        "&= \\dfrac{x_2 - x_1}{t_2 - t_1} |_{t_2 \\to t_1}\n",
        "\\dfrac{(x_1 + \\Delta x) - x_1}{(t_1 + \\Delta t)- t_1} |_{\\bcancel{t_1} + \\Delta t\\to \\bcancel{t_1}}&\\\\\n",
        "&= \\dfrac{\\Delta x}{\\Delta t} |_{\\Delta t \\to 0}&\n",
        "\\end{align*}\n",
        "\n",
        "<!--\n",
        "https://math.meta.stackexchange.com/questions/5020/mathjax-basic-tutorial-and-quick-reference\n",
        "\n",
        "http://memopad.bitter.jp/web/mathjax/TeXSyntax.html\n",
        "-->\n",
        "$\\require{cancel}$"
      ]
    },
    {
      "cell_type": "markdown",
      "metadata": {
        "id": "EXLXe1FfJGX7",
        "colab_type": "text"
      },
      "source": [
        "時刻 $t$ での瞬間の速度 $v(t)$ は, 上の考え方を拡張して\n",
        "\\begin{align*}\n",
        "v(t) \n",
        "&= \\lim_{t+\\Delta t \\to t} \n",
        "\\dfrac{x\\left(t+\\Delta t\\right) - x\\left(t\\right)}\n",
        "{(t+\\Delta t) - t}\n",
        "=\\lim_{\\Delta t \\to 0} \n",
        "\\dfrac{\\left( \\bcancel{x\\left(t\\right)} + \\Delta x\\right)- \\bcancel{x\\left(t\\right)}}\n",
        "{(\\cancel{t}+\\Delta t) - \\cancel{t}}&\\\\\n",
        "&=\n",
        "\\lim_{\\Delta t \\to 0} \\dfrac{\\Delta x(t)}{\\Delta t}&\\\\\n",
        "v(t)&=\\dfrac{{\\rm d} x(t)}{{\\rm d}t}\n",
        "\\end{align*}"
      ]
    },
    {
      "cell_type": "markdown",
      "metadata": {
        "colab_type": "text",
        "id": "JN8AVxZ_2a_v"
      },
      "source": [
        "#### 積分"
      ]
    },
    {
      "cell_type": "markdown",
      "metadata": {
        "colab_type": "text",
        "id": "ofQ7BRIg2H2F"
      },
      "source": [
        "##### 加速度から速度を導出"
      ]
    },
    {
      "cell_type": "markdown",
      "metadata": {
        "colab_type": "text",
        "id": "n5d2dOU-2NG6"
      },
      "source": [
        "##### 速度から位置を導出"
      ]
    }
  ]
}