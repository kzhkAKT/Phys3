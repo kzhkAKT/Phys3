{
  "nbformat": 4,
  "nbformat_minor": 0,
  "metadata": {
    "colab": {
      "name": "1110_直線運動_物理3.ipynb",
      "provenance": [],
      "toc_visible": true,
      "include_colab_link": true
    },
    "kernelspec": {
      "display_name": "Python 3",
      "language": "python",
      "name": "python3"
    },
    "language_info": {
      "codemirror_mode": {
        "name": "ipython",
        "version": 3
      },
      "file_extension": ".py",
      "mimetype": "text/x-python",
      "name": "python",
      "nbconvert_exporter": "python",
      "pygments_lexer": "ipython3",
      "version": "3.8.5"
    }
  },
  "cells": [
    {
      "cell_type": "markdown",
      "metadata": {
        "id": "view-in-github",
        "colab_type": "text"
      },
      "source": [
        "<a href=\"https://colab.research.google.com/github/kzhkAKT/Physics3/blob/draft/MCHN/1110_%E7%9B%B4%E7%B7%9A%E9%81%8B%E5%8B%95_%E7%89%A9%E7%90%863.ipynb\" target=\"_parent\"><img src=\"https://colab.research.google.com/assets/colab-badge.svg\" alt=\"Open In Colab\"/></a>"
      ]
    },
    {
      "cell_type": "markdown",
      "metadata": {
        "id": "IpTh8Sow0uIh"
      },
      "source": [
        "# 数学の復習"
      ]
    },
    {
      "cell_type": "markdown",
      "metadata": {
        "id": "wO3PvtAI16U2"
      },
      "source": [
        "## 微分"
      ]
    },
    {
      "cell_type": "markdown",
      "metadata": {
        "id": "NxxRX-gk-88Y"
      },
      "source": [
        "$\\require{cancel}$\n",
        "\b\\begin{align*}\n",
        "y'=\\dfrac{{\\rm d} y}{{\\rm d}x}\n",
        "= \\lim_{\\Delta x \\to 0} \\dfrac{\\Delta y}{\\Delta x}\n",
        "= \\lim_{\\Delta x \\to 0} \\dfrac{y(x+\\Delta x) - y(x)}{\\Delta x}\n",
        "\\end{align*}\n",
        "\n",
        "- $\\Delta$ \b\b~ $d$ ~ **d**ifference:\n",
        "  - $\\Delta x = (\\cancel{x}+\\Delta x) - \\cancel{x} = x' - x = (x+ \\Delta x) - x$\n",
        "  - $\\Delta y = y' -y = y(x') - y(x) =  y(x+ \\Delta x) - y(x) $\n",
        "\n",
        "- 極限操作 $\\Delta x \\to 0$ を取る前は,\n",
        "$y-x$グラフの傾き: $\\quad \\dfrac{\\Delta y}{\\Delta x}$\n",
        "- 極限操作 $\\Delta x \\to 0$ を行えば,\n",
        "$y(x)$グラフの接線: $\\quad \\dfrac{{\\rm d} y}{{\\rm d}x}$\n",
        "- 極限操作 $\\Delta x \\to 0$ を行ってしまえば,  **機械的に微分の計算が利用できる.**\n",
        "\n",
        "> 微分は瞬間の傾きと考えて構いません\n",
        "\n",
        "---\n",
        "\n",
        "[微分に関する基本式](http://w3e.kanazawa-it.ac.jp/math/category/bibun/henkan-tex.cgi?target=/math/category/bibun/bibun-ni-kansuru-kihonsiki.html)"
      ]
    },
    {
      "cell_type": "markdown",
      "metadata": {
        "id": "OPF64_WLy8OE"
      },
      "source": [
        "### 一階微分 $y'$, 二階微分 $y''$\n",
        "\\begin{align*}\n",
        "y'&= \\dfrac{{\\rm d} y}{{\\rm d}x}&\\\\\n",
        "y''&= \\dfrac{{\\rm d} y'}{{\\rm d}x} \n",
        "= \\dfrac{{\\rm d}}{{\\rm d}x}  \\dfrac{{\\rm d} y}{{\\rm d}x}\n",
        "= \\dfrac{{\\rm d^2} y}{{\\rm d}x^2} \n",
        "\\end{align*}"
      ]
    },
    {
      "cell_type": "markdown",
      "metadata": {
        "id": "AMnBeb-wzojm"
      },
      "source": [
        "### 時間による一階微分 $\\dot{y}$, 二階微分 $\\ddot{y}$\n",
        "\n",
        "\\begin{align*}\n",
        "\\dot{y}  &= \\dfrac{{\\rm d} y}{{\\rm d}t}&\\\\\n",
        "\\ddot{y} &= \\dfrac{{\\rm d} \\dot{y}}{{\\rm d}t} \n",
        "= \\dfrac{{\\rm d}}{{\\rm d}t}  \\dfrac{{\\rm d} y}{{\\rm d}t}\n",
        "= \\dfrac{{\\rm d^2} y}{{\\rm d}t^2} \n",
        "\\end{align*}"
      ]
    },
    {
      "cell_type": "markdown",
      "metadata": {
        "id": "JN8AVxZ_2a_v"
      },
      "source": [
        "## 定積分"
      ]
    },
    {
      "cell_type": "markdown",
      "metadata": {
        "id": "ddlklKXR8ayo"
      },
      "source": [
        "### 傾きから面積へ"
      ]
    },
    {
      "cell_type": "markdown",
      "metadata": {
        "id": "9uAdVBGg1YvD"
      },
      "source": [
        "$\\require{cancel}$\n",
        "\\begin{align*}\n",
        "\\int_{x_0}^{x_1} f'(x) {\\rm d} x \n",
        "&= \\int_{x_0}^{x_1}  \\dfrac{{\\rm d} f(x)}{\\bcancel{{\\rm d}x}} \\bcancel{{\\rm d} x}= \\int_{f(x_0)}^{f(x_1)}  1 \\cdot    {\\rm d} \\left\\{f(x)\\right\\}&\\\\\n",
        "&= \\big[ f(x)\\big|_{f(x_0)}^{f(x_1)}  = f(x_1) - f(x_0)\n",
        "\\end{align*}\n"
      ]
    },
    {
      "cell_type": "markdown",
      "metadata": {
        "id": "B5Cajduf0Kg_"
      },
      "source": [
        "## 数学復習おすすめサイト\n",
        "\n",
        "[KIT数学ナビゲーション 数理工教育センター 金沢工業大学](http://w3e.kanazawa-it.ac.jp/math/)\n",
        "\n",
        "大学1,2年生向けですが, 高専3,4,5年生も充分利用できます.   \n",
        "この講義資料でも時々リンク先として利用しています.\n"
      ]
    },
    {
      "cell_type": "markdown",
      "metadata": {
        "id": "wHXnfsia1k3-"
      },
      "source": [
        "# 質点の力学"
      ]
    },
    {
      "cell_type": "markdown",
      "metadata": {
        "id": "yo2_ztaW1otL"
      },
      "source": [
        "## 位置, 速度, 加速度, "
      ]
    },
    {
      "cell_type": "markdown",
      "metadata": {
        "id": "ENtZw9D81utY"
      },
      "source": [
        "### 直線運動: linear motion\n"
      ]
    },
    {
      "cell_type": "markdown",
      "metadata": {
        "id": "wAZeWHBW-Hhs"
      },
      "source": [
        "物理で扱うもの\n",
        "> **変化の基本** = _後の状態_ - 初めの状態\n",
        "\n",
        "- 注目する物理量の変化を調べ, 法則性を見出す.\n",
        "- 「差」が基準. \b**d**ifference ~ $d$ ~ $\\Delta$\n",
        "\n",
        "この講義で扱う物理量は\n",
        "- 滑らかに変化する\n",
        "- 発散しない: 突然無限大やゼロにならない\n",
        "- 小さな範囲で激しく振動しない: 例 $y(x) \\neq \\frac{\\sin(x)}{x}$\n",
        "\n",
        "ものに限ります.\n"
      ]
    },
    {
      "cell_type": "markdown",
      "metadata": {
        "id": "k4iNGexl2VkP"
      },
      "source": [
        "#### 変位"
      ]
    },
    {
      "cell_type": "markdown",
      "metadata": {
        "id": "AzIReXAsBwUZ"
      },
      "source": [
        "時刻 $t_1 < t_2$ とし, それぞれの時刻での位置(座標)を $x(t_1)=x_1$ 及び $x(t_2)=x_2$ とすると\n",
        "- *時間変化*: $\\quad \\Delta t = t_2 - t_1$\n",
        "- 位置の変化 ~ **変位**: $\\quad \\Delta x = x_2 - x_1$\n",
        "\n",
        "後の状態と初めの状態\n",
        "- $\\quad \\Delta t = t_2 - t_1 > 0$\n",
        "- $\\quad \\Delta x = x_2 - x_1 \\{>,<,=\\} 0$"
      ]
    },
    {
      "cell_type": "markdown",
      "metadata": {
        "id": "Bjxa4bIX1-ue"
      },
      "source": [
        "#### 速度"
      ]
    },
    {
      "cell_type": "markdown",
      "metadata": {
        "id": "9m80KdihD5Je"
      },
      "source": [
        "##### 平均の速度\n",
        "変位を時間変化で割ったもの\n",
        "\\begin{align*}\n",
        "\\overline{v} = v \n",
        "&= \\dfrac{x_2 - x_1}{t_2 - t_1}&\\\\\n",
        "&= \\dfrac{\\Delta x}{\\Delta t}&\n",
        "\\end{align*}\n",
        "\n",
        "$x-t$ グラフで考えれば  \n",
        "> $(x_1, t_1)$ $(x_1, t_1)$ と $(x_2, t_2)$ を結ぶ直線の傾き"
      ]
    },
    {
      "cell_type": "markdown",
      "metadata": {
        "id": "hsou9IL62ClI"
      },
      "source": [
        "#### 加速度"
      ]
    },
    {
      "cell_type": "markdown",
      "metadata": {
        "id": "qKgW3kIpFch8"
      },
      "source": [
        "##### 平均の速度から瞬間の速度へ\n",
        "\n",
        "- $t_2$ を $t_1$ に限りなく近づける\n",
        "- $t_2 = t_1 + \\Delta t$ と置き直す\n",
        "- $x_2 = x_1 + \\Delta x$ と置き直す\n",
        "\n",
        "\\begin{align*}\n",
        "v \n",
        "&= \\dfrac{x_2 - x_1}{t_2 - t_1} \\Big|_{t_2 \\to t_1}\n",
        "\\dfrac{(x_1 + \\Delta x) - x_1}{(t_1 + \\Delta t)- t_1} \\Big|_{\\bcancel{t_1} + \\Delta t\\to \\bcancel{t_1}}&\\\\\n",
        "&= \\dfrac{\\Delta x}{\\Delta t} \\Big|_{\\Delta t \\to 0}&\n",
        "\\end{align*}\n",
        "\n",
        "<!--\n",
        "https://math.meta.stackexchange.com/questions/5020/mathjax-basic-tutorial-and-quick-reference\n",
        "\n",
        "http://memopad.bitter.jp/web/mathjax/TeXSyntax.html\n",
        "-->\n",
        "$\\require{cancel}$"
      ]
    },
    {
      "cell_type": "markdown",
      "metadata": {
        "id": "EXLXe1FfJGX7"
      },
      "source": [
        "時刻 $t$ での瞬間の速度 $v(t)$ は, 上の考え方を拡張して\n",
        "\\begin{align*}\n",
        "v(t) \n",
        "&= \\lim_{t+\\Delta t \\to t} \n",
        "\\dfrac{x\\left(t+\\Delta t\\right) - x\\left(t\\right)}\n",
        "{(t+\\Delta t) - t}\n",
        "=\\lim_{\\Delta t \\to 0} \n",
        "\\dfrac{\\left( \\bcancel{x\\left(t\\right)} + \\Delta x\\right)- \\bcancel{x\\left(t\\right)}}\n",
        "{(\\cancel{t}+\\Delta t) - \\cancel{t}}&\\\\\n",
        "&=\n",
        "\\lim_{\\Delta t \\to 0} \\dfrac{\\Delta x(t)}{\\Delta t}&\\\\\n",
        "v(t)&=\\dfrac{{\\rm d} x(t)}{{\\rm d}t}\n",
        "\\end{align*}"
      ]
    },
    {
      "cell_type": "markdown",
      "metadata": {
        "id": "ofQ7BRIg2H2F"
      },
      "source": [
        "##### 加速度から速度を導出"
      ]
    },
    {
      "cell_type": "markdown",
      "metadata": {
        "id": "n5d2dOU-2NG6"
      },
      "source": [
        "##### 速度から位置を導出"
      ]
    }
  ]
}