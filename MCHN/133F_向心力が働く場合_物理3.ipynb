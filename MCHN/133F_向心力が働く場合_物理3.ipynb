{
  "nbformat": 4,
  "nbformat_minor": 0,
  "metadata": {
    "colab": {
      "name": "133F_向心力が働く場合_物理3.ipynb",
      "provenance": [],
      "toc_visible": true,
      "authorship_tag": "ABX9TyNkqbgt1EoP9tU9nC80LZZv",
      "include_colab_link": true
    },
    "kernelspec": {
      "name": "python3",
      "display_name": "Python 3"
    }
  },
  "cells": [
    {
      "cell_type": "markdown",
      "metadata": {
        "id": "view-in-github",
        "colab_type": "text"
      },
      "source": [
        "<a href=\"https://colab.research.google.com/github/kzhkAKT/Physics3/blob/draft/MCHN/133F_%E5%90%91%E5%BF%83%E5%8A%9B%E3%81%8C%E5%83%8D%E3%81%8F%E5%A0%B4%E5%90%88_%E7%89%A9%E7%90%863.ipynb\" target=\"_parent\"><img src=\"https://colab.research.google.com/assets/colab-badge.svg\" alt=\"Open In Colab\"/></a>"
      ]
    },
    {
      "cell_type": "markdown",
      "metadata": {
        "id": "xnyXynZI5sZ1"
      },
      "source": [
        "# 質点系の力学"
      ]
    },
    {
      "cell_type": "markdown",
      "metadata": {
        "id": "8uMukF_O8Bym"
      },
      "source": [
        "## 運動方程式の具体的な適用例"
      ]
    },
    {
      "cell_type": "markdown",
      "metadata": {
        "id": "v24WgkFjRlrw"
      },
      "source": [
        "### 向心力が働く場合\n",
        "\n",
        "\n"
      ]
    },
    {
      "cell_type": "code",
      "metadata": {
        "id": "RPaZHpI5kqQ1",
        "colab": {
          "base_uri": "https://localhost:8080/",
          "height": 336
        },
        "cellView": "form",
        "outputId": "3a81f1ef-271e-4429-d023-c341ffceca1b"
      },
      "source": [
        "#@title Uniform Circular Motion\n",
        "%%html\n",
        "<iframe width=\"560\" height=\"315\" src=\"https://www.youtube-nocookie.com/embed/ID0R43My4Co\" frameborder=\"0\" allow=\"accelerometer; autoplay; clipboard-write; encrypted-media; gyroscope; picture-in-picture\" allowfullscreen></iframe>"
      ],
      "execution_count": null,
      "outputs": [
        {
          "output_type": "display_data",
          "data": {
            "text/html": [
              "<iframe width=\"560\" height=\"315\" src=\"https://www.youtube-nocookie.com/embed/ID0R43My4Co\" frameborder=\"0\" allow=\"accelerometer; autoplay; clipboard-write; encrypted-media; gyroscope; picture-in-picture\" allowfullscreen></iframe>"
            ],
            "text/plain": [
              "<IPython.core.display.HTML object>"
            ]
          },
          "metadata": {
            "tags": []
          }
        }
      ]
    },
    {
      "cell_type": "code",
      "metadata": {
        "id": "yPO_qtrCrYsW",
        "cellView": "form",
        "colab": {
          "base_uri": "https://localhost:8080/",
          "height": 336
        },
        "outputId": "5c1d49ac-f3d1-4af4-fd83-7b1371510760"
      },
      "source": [
        "#@title Circular Motion\n",
        "%%html\n",
        "<iframe width=\"560\" height=\"315\" src=\"https://www.youtube-nocookie.com/embed/X-Ttbraca0Q\" frameborder=\"0\" allow=\"accelerometer; autoplay; clipboard-write; encrypted-media; gyroscope; picture-in-picture\" allowfullscreen></iframe>"
      ],
      "execution_count": null,
      "outputs": [
        {
          "output_type": "display_data",
          "data": {
            "text/html": [
              "<iframe width=\"560\" height=\"315\" src=\"https://www.youtube-nocookie.com/embed/X-Ttbraca0Q\" frameborder=\"0\" allow=\"accelerometer; autoplay; clipboard-write; encrypted-media; gyroscope; picture-in-picture\" allowfullscreen></iframe>"
            ],
            "text/plain": [
              "<IPython.core.display.HTML object>"
            ]
          },
          "metadata": {
            "tags": []
          }
        }
      ]
    },
    {
      "cell_type": "code",
      "metadata": {
        "id": "00CFr167uMJq",
        "cellView": "form",
        "colab": {
          "base_uri": "https://localhost:8080/",
          "height": 475
        },
        "outputId": "ef7cf0af-d7af-4723-9c53-fb6cfd67d145"
      },
      "source": [
        "#@title 万有引力による等速円運動\n",
        "%%html\n",
        "<iframe src=\"https://phet.colorado.edu/sims/html/gravity-and-orbits/latest/gravity-and-orbits_en.html\" width=\"600\" height=\"450\" scrolling=\"no\" allowfullscreen></iframe>"
      ],
      "execution_count": null,
      "outputs": [
        {
          "output_type": "display_data",
          "data": {
            "text/html": [
              "<iframe src=\"https://phet.colorado.edu/sims/html/gravity-and-orbits/latest/gravity-and-orbits_en.html\" width=\"600\" height=\"450\" scrolling=\"no\" allowfullscreen></iframe>"
            ],
            "text/plain": [
              "<IPython.core.display.HTML object>"
            ]
          },
          "metadata": {
            "tags": []
          }
        }
      ]
    },
    {
      "cell_type": "markdown",
      "metadata": {
        "id": "LCIAt7B-SCkn"
      },
      "source": [
        "### 極座標表示による等速円運動の解析"
      ]
    },
    {
      "cell_type": "markdown",
      "metadata": {
        "id": "OW_69W1dxCSO"
      },
      "source": [
        "向心力(a centripetal force)\n",
        "\n",
        "\\begin{align}\n",
        "m \\vec{a} & = - f \\ \\vec{e}_{r}, \\quad f=\\left| \\vec{F}\\right|:constant\n",
        "\\end{align}\n",
        "\n",
        "さらに最も簡単な等速**円**運動を考えれば,  半径 $r:constant$ となり ${\\rm d}r/{\\rm d}t=0$ となる"
      ]
    },
    {
      "cell_type": "markdown",
      "metadata": {
        "id": "FShStCVN1RK0"
      },
      "source": [
        "等速円運動の位置ベクトル $\\vec{r}$ は\n",
        "\\begin{align}\n",
        "\\vec{r} = r\\ \\vec{e}_{r}\n",
        "\\end{align}"
      ]
    },
    {
      "cell_type": "markdown",
      "metadata": {
        "id": "JbnpunGb2KrX"
      },
      "source": [
        "その速度ベクトル $\\vec{v}$ は"
      ]
    },
    {
      "cell_type": "markdown",
      "metadata": {
        "id": "vfe1pOLvis4_"
      },
      "source": [
        "$\\require{cancel}$\n",
        "\\begin{align*}\n",
        "\\vec{v} \n",
        "&= \\dfrac{{\\rm d}\\vec{r}}{{\\rm d}t} \n",
        "= \\dfrac{{\\rm d} \\left(r \\vec{e}_{r}\\right)}{{\\rm d}t} \\\\\n",
        "&=\n",
        "\\dfrac{{\\rm d} \\ r }{{\\rm d}t}\\ \\vec{e}_{r}\n",
        "+\n",
        "r\\ \\dfrac{{\\rm d}  \\vec{e}_{r}}{{\\rm d}t}\\\\\n",
        "&=\n",
        "\\dfrac{{\\rm d} \\ r }{{\\rm d}t}\\ \\vec{e}_{r}\n",
        "+\n",
        "r\\ \n",
        "\\dfrac{{\\rm d}\\theta}{{\\rm d}t}\n",
        "\\dfrac{{\\rm d} \\vec{e}_{r}}{{\\rm d}\\theta}\n",
        "\\\\\n",
        "&= \n",
        "\\cancelto{0}{\\dfrac{{\\rm d} \\ r }{{\\rm d}t}}\\ \\vec{e}_{r}\n",
        "+\n",
        "r\\ \n",
        "\\dfrac{{\\rm d}\\theta}{{\\rm d}t}\\ \\vec{e}_{\\theta}\\\\\n",
        "\\vec{v} &= r\\ \\dfrac{{\\rm d}\\theta}{{\\rm d}t}\\ \\vec{e}_{\\theta}\n",
        "\\end{align*}"
      ]
    },
    {
      "cell_type": "markdown",
      "metadata": {
        "id": "pfTUH6cb5_mb"
      },
      "source": [
        "また, 加速度ベクトルは"
      ]
    },
    {
      "cell_type": "markdown",
      "metadata": {
        "id": "yubHRWeG6G-A"
      },
      "source": [
        "\\begin{align*}\n",
        "\\vec{a} \n",
        "&= \\dfrac{{\\rm d}\\vec{v}}{{\\rm d}t} \n",
        "= \\dfrac{{\\rm d} }{{\\rm d}t}\n",
        " \\left( r\\ \\dfrac{{\\rm d}\\theta}{{\\rm d}t}\\ \\vec{e}_{\\theta}\\right)\\\\\n",
        "&=\n",
        "\\cancelto{0}{\\dfrac{{\\rm d} \\ r}{{\\rm d}t}} \\dfrac{{\\rm d}\\theta}{{\\rm d}t}\\ \\vec{e}_{\\theta}\n",
        "+\n",
        "r\\ \\dfrac{{\\rm d^2}\\theta}{{\\rm d}t^2}\\ \\vec{e}_{\\theta}\n",
        "+\n",
        "r\\ \\dfrac{{\\rm d}\\theta}{{\\rm d}t}\\ \\dfrac{{\\rm d} \\ \\vec{e}_{\\theta}}{{\\rm d}t}\\\\\n",
        "&=\n",
        "0\n",
        "+\n",
        "r\\ \\dfrac{{\\rm d^2}\\theta}{{\\rm d}t^2}\\ \\vec{e}_{\\theta}\n",
        "+\n",
        "r\\ \\dfrac{{\\rm d}\\theta}{{\\rm d}t}\n",
        "\\ \\dfrac{{\\rm d} \\theta }{{\\rm d}t}\n",
        "\\ \\cancelto{-\\vec{e}_r}{\\dfrac{{\\rm d} \\ \\vec{e}_{\\theta}}{{\\rm d}\\theta}}\\\\\n",
        "\\vec{a} \n",
        "&=\n",
        "-r\\ \\left(\\dfrac{{\\rm d}\\theta}{{\\rm d}t}\\right)^2 \\vec{e}_r\n",
        "+\n",
        "r\\ \\dfrac{{\\rm d^2}\\theta}{{\\rm d}t^2}\\ \\vec{e}_{\\theta}\n",
        "\\end{align*}"
      ]
    },
    {
      "cell_type": "markdown",
      "metadata": {
        "id": "Gk5wBBiG740m"
      },
      "source": [
        "$\\require{color}$\n",
        "これまでの内容を運動方程式に入れて整理すると\n",
        "\\begin{align*}\n",
        "m \\vec{a} &= \\vec{F}\\\\\n",
        "m \\left[ -r\\ \\left(\\dfrac{{\\rm d}\\theta}{{\\rm d}t}\\right)^2 \n",
        "\\ \\textcolor{red}{\\vec{e}_r}\n",
        "+\n",
        "r\\ \\dfrac{{\\rm d^2}\\theta}{{\\rm d}t^2}\n",
        "\\ \\textcolor{blue}{\\vec{e}_{\\theta}}\n",
        "\\right] & = - f\\ \\textcolor{red}{\\vec{e}_r}\n",
        "\\end{align*}"
      ]
    },
    {
      "cell_type": "markdown",
      "metadata": {
        "id": "RPNxnrgC82lm"
      },
      "source": [
        "成分表示された、運動方程式の $\\vec{e}_r$ 成分を比較すると\n",
        "\\begin{align}\n",
        "-mr\\ \\left(\\dfrac{{\\rm d}\\theta}{{\\rm d}t}\\right)^2 &= -f\n",
        "\\end{align}\n",
        "\n"
      ]
    },
    {
      "cell_type": "markdown",
      "metadata": {
        "id": "tZhvKv2R9WrG"
      },
      "source": [
        "同様に $\\vec{e}_\\theta$ 成分 を比較すると\n",
        "\\begin{align}\n",
        "r\\ \\dfrac{{\\rm d^2}\\theta}{{\\rm d}t^2} &=0,\n",
        "\\end{align}\n",
        "これはさらに\n",
        "\\begin{align}\n",
        "\\bcancel{r}\\ \\dfrac{{\\rm d^2}\\theta}{{\\rm d}t^2} &=0\\\\\n",
        "\\dfrac{{\\rm d}}{{\\rm d}t}  \\dfrac{{\\rm d}\\theta}{{\\rm d}t} &=0\\\\\n",
        "\\dfrac{{\\rm d}\\theta}{{\\rm d}t} &= constant\n",
        "\\end{align}\n",
        "微分表記されていますが,  $\\frac{{\\rm d}\\theta}{{\\rm d}t}$ は\n",
        "> 単位時間 [1 s] あたりの回転する角度 [rad] \n",
        "\n",
        "を表しており, **角速度**: $\\omega(t) =\\dfrac{{\\rm d}\\theta}{{\\rm d}t}$ に相当します.\n",
        "\n",
        "このことから\n",
        ">> 向心力のみを考慮し, 半径が一定の運動の角速度は一定になる\n",
        "\n",
        "ということができます.\n",
        "\n",
        "---\n",
        "定義に戻ればはっきりします: $\\dfrac{{\\rm d}\\theta}{{\\rm d}t}= \\lim_{\\Delta t \\to 0} \\dfrac{\\Delta \\theta}{\\Delta t}$ "
      ]
    },
    {
      "cell_type": "markdown",
      "metadata": {
        "id": "NVRg6wsjGJSv"
      },
      "source": [
        "$\\require{cancel}$\n",
        "もう一方の成分をさらに整理すると\n",
        "\\begin{align}\n",
        "\\left(\\dfrac{{\\rm d}\\theta}{{\\rm d}t}\\right)^2 &= \\dfrac{f}{mr}\\\\\n",
        "\\dfrac{{\\rm d}\\theta}{{\\rm d}t} &= \\pm \\sqrt{\\dfrac{f}{mr}}\n",
        "\\end{align}\n",
        "話を簡単にするために $\\frac{{\\rm d}\\theta}{{\\rm d}t}>0$ とすると\n",
        "\\begin{align}\n",
        "\\dfrac{{\\rm d}\\theta}{{\\rm d}t} &=\\omega= \\sqrt{\\dfrac{f}{mr}} \n",
        "\\end{align}\n",
        "\n",
        "$t=0$ で $\\theta(0)=0$ として, 位相 $\\theta$ を時間について解くと\n",
        "\\begin{align}\n",
        "\\int_{\\theta(0)}^{\\theta}\\dfrac{{\\rm d}\\theta}{\\cancel{{\\rm d}t}}\\ \\cancel{{\\rm d}t}\n",
        "&=\\int_{t=0}^{t} \\omega\\ {\\rm d}t\n",
        "=\\int_{t=0}^{t} \\sqrt{\\dfrac{f}{mr}}\\ {\\rm d}t\\\\\n",
        "\\theta &=\\omega\\ t=  \\sqrt{\\dfrac{f}{mr}}\\ t\n",
        "\\end{align}"
      ]
    },
    {
      "cell_type": "markdown",
      "metadata": {
        "id": "bWjSwK-3KvQz"
      },
      "source": [
        "これまでの考察を整理すると, 等速円運動の位置ベクトル $\\vec{r}$は\n",
        "\n",
        "\\begin{align}\n",
        "\\vec{r} \n",
        "&= \\left(\\begin{array}{c} x(t) \\\\ y(t) \\end{array} \\right)\n",
        "= \\left(\\begin{array}{c} r\\cos\\theta(t) \\\\ r\\sin \\theta(t) \\end{array} \\right)\\\\\n",
        "&= \\left(\\begin{array}{c} r\\cos (\\omega\\ t )\\\\\n",
        " r\\sin (\\omega\\ t) \\end{array} \\right)\n",
        "= \\left(\\begin{array}{c} r\\cos (\\sqrt{\\dfrac{f}{mr}}\\ t )\\\\\n",
        " r\\sin (\\sqrt{\\dfrac{f}{mr}}\\ t) \\end{array} \\right)\\\\\n",
        "\\end{align}"
      ]
    },
    {
      "cell_type": "markdown",
      "metadata": {
        "id": "EAVHyPinRb1k"
      },
      "source": [
        "> Q. 教科書 p43 例題7 に取り組んでください."
      ]
    },
    {
      "cell_type": "markdown",
      "metadata": {
        "id": "sWa5Pce1-LHM"
      },
      "source": [
        "##### ベクトルの大きさによる表示"
      ]
    },
    {
      "cell_type": "markdown",
      "metadata": {
        "id": "nyjY-WNO3iLq"
      },
      "source": [
        "この例題は, $r:constant$ に注意し, 極座標表示の等速円運動の$\\vec{r}, \\vec{v},  \\vec{a}$ を計算し,   \n",
        "それぞれの大きさを出していくことでも求めることができます.\n",
        "\n",
        "等速円運動する物体の位置\n",
        "\\begin{align}\n",
        "\\vec{r} \n",
        "&= \\left(\\begin{array}{c} r\\cos\\theta(t) \\\\\n",
        " r\\sin \\theta(t) \\end{array} \\right)\\\\[2mm]\n",
        " r &= \\left|\\vec{r}  \\right| = r \\sqrt{\\cos^2\\theta +\\sin^2\\theta} = r \\quad:constant\n",
        "\\end{align}\n",
        "\n",
        "等速円運動する物体の速度\n",
        "\\begin{align}\n",
        "\\vec{v} = \\dot{\\vec{r}}\n",
        "&= \\left(\\begin{array}{c} - r \\dot{\\theta} \\sin\\theta(t) \\\\\n",
        " r\\dot{\\theta}\\cos \\theta(t) \\end{array} \\right) \n",
        " \\\\[2mm]\n",
        " v &= \\left|\\vec{v}  \\right| = r \\dot{\\theta} \\sqrt{\\cos^2\\theta +\\sin^2\\theta} = r \\dot{\\theta}  = r \\omega\n",
        "\\end{align}\n",
        "\n",
        "\n",
        "等速円運動する物体の加速度($\\dot{\\theta}:constant$)\n",
        "\\begin{align}\n",
        "\\vec{a} = \\dot{\\vec{v}}\n",
        "&= \\left(\\begin{array}{c}\n",
        "- r \\dot{\\theta}^2 \\cos\\theta(t) \\\\\n",
        "- r \\dot{\\theta}^2 \\sin\\theta(t) \n",
        " \\end{array} \\right) = - \\dot{\\theta}^2 \\vec{r}\\\\[2mm]\n",
        " a &= \\left|\\vec{a}  \\right| = r \\dot{\\theta}^2 \\sqrt{\\cos^2\\theta +\\sin^2\\theta} = r \\dot{\\theta}^2 = r \\omega^2 = v \\omega \n",
        "\\end{align}\n",
        "\n"
      ]
    }
  ]
}