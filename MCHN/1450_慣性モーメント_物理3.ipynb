{
  "nbformat": 4,
  "nbformat_minor": 0,
  "metadata": {
    "colab": {
      "name": "1450_慣性モーメント_物理3.ipynb",
      "provenance": [],
      "collapsed_sections": [],
      "authorship_tag": "ABX9TyPp9keIVAVEM6gV2QvW37h4",
      "include_colab_link": true
    },
    "kernelspec": {
      "name": "python3",
      "display_name": "Python 3"
    }
  },
  "cells": [
    {
      "cell_type": "markdown",
      "metadata": {
        "id": "view-in-github",
        "colab_type": "text"
      },
      "source": [
        "<a href=\"https://colab.research.google.com/github/kzhkAKT/Physics3/blob/draft/MCHN/1450_%E6%85%A3%E6%80%A7%E3%83%A2%E3%83%BC%E3%83%A1%E3%83%B3%E3%83%88_%E7%89%A9%E7%90%863.ipynb\" target=\"_parent\"><img src=\"https://colab.research.google.com/assets/colab-badge.svg\" alt=\"Open In Colab\"/></a>"
      ]
    },
    {
      "cell_type": "markdown",
      "metadata": {
        "id": "hmSQjynSCEKc"
      },
      "source": [
        "# 回転に関する運動方程式"
      ]
    },
    {
      "cell_type": "markdown",
      "metadata": {
        "id": "8nZcBANOJuGQ"
      },
      "source": [
        "## 慣性質量\n",
        "moment of inertia\n"
      ]
    },
    {
      "cell_type": "markdown",
      "metadata": {
        "id": "NCFV-WWYbWmq"
      },
      "source": [
        "### (慣性)質量\n",
        "- mass \n",
        "- $m \\vec{a}= m\\ \\dfrac{{\\rm d^2}\\vec{r}}{{\\rm d}t^2} = \\vec{F} \\to \\vec{a} = \\dfrac{\\vec{F}}{m}$\n",
        "  - $m$が物体の **動かしにくさ** を表す量に見えますか?"
      ]
    },
    {
      "cell_type": "markdown",
      "metadata": {
        "id": "Z4jf6ZtjGbGl"
      },
      "source": [
        "## 運動量 $\\vec{p}$\n",
        "\n",
        "- $\\vec{p}=m \\vec{v}　\\to \\vec{v} = \\dfrac{\\vec{p}}{m}$\n",
        "  - $m$が物体の **動かしにくさ** を表す量に見えますか?\n",
        "- $\\dfrac{{\\rm d}}{{\\rm d}t}\\vec{p}=m \\dot{\\vec{v}} = m \\vec{a}$"
      ]
    },
    {
      "cell_type": "code",
      "metadata": {
        "id": "PkgeXw3TByg4",
        "cellView": "form",
        "outputId": "54599405-b007-4243-ff02-6a3b71ab486b",
        "colab": {
          "base_uri": "https://localhost:8080/",
          "height": 475
        }
      },
      "source": [
        "#@title sun and earth / earth and moon: vectors\n",
        "%%html\n",
        "<iframe src=\"https://phet.colorado.edu/sims/html/gravity-and-orbits/latest/gravity-and-orbits_en.html\" width=\"600\" height=\"450\" scrolling=\"no\" allowfullscreen></iframe>"
      ],
      "execution_count": 2,
      "outputs": [
        {
          "output_type": "display_data",
          "data": {
            "text/html": [
              "<iframe src=\"https://phet.colorado.edu/sims/html/gravity-and-orbits/latest/gravity-and-orbits_en.html\" width=\"600\" height=\"450\" scrolling=\"no\" allowfullscreen></iframe>"
            ],
            "text/plain": [
              "<IPython.core.display.HTML object>"
            ]
          },
          "metadata": {
            "tags": []
          }
        }
      ]
    },
    {
      "cell_type": "markdown",
      "metadata": {
        "id": "m31rBMiY_AMR"
      },
      "source": [
        "回転運動に対して, 動かしにくさ, **回転しにくさ** を表す量を\n",
        "**慣性モーメント** といいます.\n",
        "\n",
        "ここから先は, 教科書 p49 図1-34 を利用して考えていきます."
      ]
    },
    {
      "cell_type": "markdown",
      "metadata": {
        "id": "PQuoxgiHAKrw"
      },
      "source": [
        "位置ベクトル $\\vec{r}$ に質量 $m$ が置かれ, $\\vec{r}$ の始点を中心に\n",
        "$x-y$ 平面を回転している物体を _3次元で_ 考えます.\n"
      ]
    },
    {
      "cell_type": "markdown",
      "metadata": {
        "id": "A5fLXpFHAsdl"
      },
      "source": [
        "\\begin{align}\n",
        "\\vec{r}\n",
        "= \\left(\n",
        "  \\begin{array}{c}\n",
        "    x \\\\\n",
        "    y \\\\\n",
        "    z\n",
        "  \\end{array}\n",
        "\\right)\n",
        "= \\left(\n",
        "  \\begin{array}{c}\n",
        "    r \\cos \\theta \\\\\n",
        "    r \\sin \\theta\\\\\n",
        "    0\n",
        "  \\end{array}\n",
        "\\right)\n",
        "= r \\left(\n",
        "  \\begin{array}{c}\n",
        "    \\cos \\theta \\\\\n",
        "    \\sin \\theta\\\\\n",
        "    0\n",
        "  \\end{array}\n",
        "\\right)\n",
        "\\end{align}"
      ]
    },
    {
      "cell_type": "markdown",
      "metadata": {
        "id": "r0Ze97HJBau8"
      },
      "source": [
        "$\\left| \\vec{r} \\right| =r =一定$ を考えているので, 速度ベクトル $\\vec{v}$  は\n",
        "\\begin{align}\n",
        "\\vec{v} = \\dot{\\vec{r}} \n",
        "= \\left(\n",
        "  \\begin{array}{c}\n",
        "    -r \\dot{\\theta}\\sin \\theta \\\\\n",
        "    r \\dot{\\theta}\\cos \\theta\\\\\n",
        "    0\n",
        "  \\end{array}\n",
        "\\right)\n",
        "=   r \\dot{\\theta}\n",
        " \\left(\n",
        "  \\begin{array}{c}\n",
        "    -\\sin \\theta \\\\\n",
        "    \\cos \\theta\\\\\n",
        "    0\n",
        "  \\end{array}\n",
        "  \\right)\n",
        "\\end{align}"
      ]
    },
    {
      "cell_type": "markdown",
      "metadata": {
        "id": "4BQscEi-C5NF"
      },
      "source": [
        "角運動量 $\\vec{L}$ は\n",
        "\\begin{align}\n",
        "  \\vec{L}\n",
        "  &= \\vec{r} \\times \\vec{p} = \\vec{r} \\times \\left( m\\vec{v} \\right)\\\\\n",
        "  &= m r^2 \\theta \\left(\n",
        "  \\begin{array}{c}\n",
        "    \\cos \\theta \\\\\n",
        "    \\sin \\theta\\\\\n",
        "    0\n",
        "  \\end{array}\n",
        "\\right)\\times  \\left(\n",
        "  \\begin{array}{c}\n",
        "    -\\sin \\theta \\\\\n",
        "    \\cos \\theta\\\\\n",
        "    0\n",
        "  \\end{array}\n",
        "  \\right)\n",
        "= m r^2 \\dot{\\theta}  \\left(\n",
        "  \\begin{array}{c}\n",
        "    0\\\\\n",
        "    0\\\\\n",
        "    1\n",
        "  \\end{array}\n",
        "  \\right)\\\\[3mm]\n",
        "\\vec{L} &= m r^2 \\vec{\\omega}, \\qquad \\vec{\\omega} = \\left(\n",
        "  \\begin{array}{c}\n",
        "    0\\\\\n",
        "    0\\\\\n",
        "    \\omega\n",
        "  \\end{array}\n",
        "  \\right), \\quad \\omega = \\dot{\\theta}\n",
        "\\end{align}"
      ]
    },
    {
      "cell_type": "markdown",
      "metadata": {
        "id": "3oCinJoLEnAG"
      },
      "source": [
        "この式を利用し, 運動量と角運動量を併記すると\n",
        "\\begin{align}\n",
        "&\\begin{cases}\n",
        "\\vec{p} &= m \\ \\vec{v}\\\\\n",
        "\\vec{L} &= mr^2 \\ \\vec{\\omega}\n",
        "\\end{cases}\\\\\n",
        "&\\quad L_z = mr^2 \\omega\n",
        "\\end{align}\n"
      ]
    },
    {
      "cell_type": "markdown",
      "metadata": {
        "id": "ZYGTGhwxHcD5"
      },
      "source": [
        "角運動量 $\\vec{L}$ の左辺に現れる $mr^2$ は, 運動量 $\\vec{p}$ の質量に類似しています.\n",
        "\n",
        "そこで\n",
        "\\begin{align}\n",
        "I = m r^2\n",
        "\\end{align}\n",
        "とおいて, これを[等速円運動を行う物体の] **慣性モーメント** と呼びます."
      ]
    },
    {
      "cell_type": "markdown",
      "metadata": {
        "id": "121v5EYyJKUe"
      },
      "source": [
        "運動量 $\\vec{p}$ の時間変化を考えることで, 運動方程式 $m \\vec{a}= \\vec{F}$ が得られました.\n",
        "\n",
        "同じように, 角運動量 $\\vec{L}$ の時間変化を考えると, 回転の運動方程式\n",
        "\\begin{align}\n",
        "\\dfrac{{\\rm d}\\vec{L}}{{\\rm d}t} = \\vec{r} \\times \\vec{F} = \\vec{M}\n",
        "\\end{align}\n",
        "が得られました."
      ]
    },
    {
      "cell_type": "markdown",
      "metadata": {
        "id": "1MIBHTMrK34_"
      },
      "source": [
        "[等速円運動を行う物体の] 角運動量 $\\vec{L}$ をこの回転の運動方程式に形式に当てはめ, $z$ 成分のみに注目すると\n",
        "\\begin{align}\n",
        "mr^2 \\ddot{\\theta} &= M_z\\\\\n",
        "mr^2 \\ddot{\\theta} &= M_z\\\\[3mm]\n",
        "mr^2 \\dfrac{{\\rm d} \\omega}{{\\rm d}t} &= M_z\n",
        "\\end{align}\n",
        "\n",
        "この形を運動方程式と比較すると\n",
        "\\begin{align}\n",
        "m \\dfrac{{\\rm d} {v}}{{\\rm d}t} &= F\n",
        "\\end{align}"
      ]
    },
    {
      "cell_type": "markdown",
      "metadata": {
        "id": "46CSLBhWMWb4"
      },
      "source": [
        "この比較を通じても, 回転のしにくさを表す **慣性モーメント** $I$ は\n",
        "\\begin{align}\n",
        "I = m r^2\n",
        "\\end{align}\n",
        "とおいても, 運動方程式は同じ形式を持つことができます."
      ]
    },
    {
      "cell_type": "markdown",
      "metadata": {
        "id": "JNDLV5h9NNTD"
      },
      "source": [
        "慣性モーメント $I$ を用いた, 回転の運動方程式は形式的に\n",
        "\\begin{align}\n",
        "I \\dfrac{{\\rm d} \\omega}{{\\rm d}t} = M_z\n",
        "\\end{align}\n",
        "と記述することができます."
      ]
    }
  ]
}