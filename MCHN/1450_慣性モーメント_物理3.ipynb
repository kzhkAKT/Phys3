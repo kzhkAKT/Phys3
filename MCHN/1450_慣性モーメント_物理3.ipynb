{
  "nbformat": 4,
  "nbformat_minor": 0,
  "metadata": {
    "colab": {
      "name": "1450_慣性モーメント_物理3.ipynb",
      "provenance": [],
      "authorship_tag": "ABX9TyNgrtDfBihfrL0nY0RNetyD",
      "include_colab_link": true
    },
    "kernelspec": {
      "name": "python3",
      "display_name": "Python 3"
    }
  },
  "cells": [
    {
      "cell_type": "markdown",
      "metadata": {
        "id": "view-in-github",
        "colab_type": "text"
      },
      "source": [
        "<a href=\"https://colab.research.google.com/github/kzhkAKT/Physics3/blob/draft/MCHN/1450_%E6%85%A3%E6%80%A7%E3%83%A2%E3%83%BC%E3%83%A1%E3%83%B3%E3%83%88_%E7%89%A9%E7%90%863.ipynb\" target=\"_parent\"><img src=\"https://colab.research.google.com/assets/colab-badge.svg\" alt=\"Open In Colab\"/></a>"
      ]
    },
    {
      "cell_type": "markdown",
      "metadata": {
        "id": "hmSQjynSCEKc"
      },
      "source": [
        "# 回転に関する運動方程式"
      ]
    },
    {
      "cell_type": "markdown",
      "metadata": {
        "id": "8nZcBANOJuGQ"
      },
      "source": [
        "## 慣性質量\n",
        "moment of inertia\n"
      ]
    },
    {
      "cell_type": "markdown",
      "metadata": {
        "id": "NCFV-WWYbWmq"
      },
      "source": [
        "### 質量\n",
        "- mass \n",
        "- 慣性質量: $m a = F \\to a = \\dfrac{F}{m}$\n",
        "  - 慣性質量が物体の動かしにくさを表す量に見えますか?"
      ]
    },
    {
      "cell_type": "code",
      "metadata": {
        "id": "PkgeXw3TByg4",
        "cellView": "form",
        "outputId": "120f5fd2-1601-4e5e-f5a4-6d3f03c1a5dc",
        "colab": {
          "base_uri": "https://localhost:8080/",
          "height": 625
        }
      },
      "source": [
        "#@title sun and earth / earth and moon: vectors\n",
        "%%html\n",
        "<iframe src=\"https://phet.colorado.edu/sims/html/gravity-and-orbits/latest/gravity-and-orbits_en.html\" width=\"800\" height=\"600\" scrolling=\"no\" allowfullscreen></iframe>"
      ],
      "execution_count": 1,
      "outputs": [
        {
          "output_type": "display_data",
          "data": {
            "text/html": [
              "<iframe src=\"https://phet.colorado.edu/sims/html/gravity-and-orbits/latest/gravity-and-orbits_en.html\" width=\"800\" height=\"600\" scrolling=\"no\" allowfullscreen></iframe>"
            ],
            "text/plain": [
              "<IPython.core.display.HTML object>"
            ]
          },
          "metadata": {
            "tags": []
          }
        }
      ]
    },
    {
      "cell_type": "code",
      "metadata": {
        "id": "WiM-RwJPbEJn"
      },
      "source": [
        ""
      ],
      "execution_count": null,
      "outputs": []
    }
  ]
}