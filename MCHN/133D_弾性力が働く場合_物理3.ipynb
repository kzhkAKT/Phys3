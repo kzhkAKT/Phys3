{
  "nbformat": 4,
  "nbformat_minor": 0,
  "metadata": {
    "colab": {
      "name": "133D_弾性力が働く場合_物理3.ipynb",
      "provenance": [],
      "authorship_tag": "ABX9TyOwer7jVNPA3y8ZHIZ8kysM",
      "include_colab_link": true
    },
    "kernelspec": {
      "name": "python3",
      "display_name": "Python 3"
    }
  },
  "cells": [
    {
      "cell_type": "markdown",
      "metadata": {
        "id": "view-in-github",
        "colab_type": "text"
      },
      "source": [
        "<a href=\"https://colab.research.google.com/github/kzhkAKT/Physics3/blob/draft/MCHN/133D_%E5%BC%BE%E6%80%A7%E5%8A%9B%E3%81%8C%E5%83%8D%E3%81%8F%E5%A0%B4%E5%90%88_%E7%89%A9%E7%90%863.ipynb\" target=\"_parent\"><img src=\"https://colab.research.google.com/assets/colab-badge.svg\" alt=\"Open In Colab\"/></a>"
      ]
    },
    {
      "cell_type": "code",
      "metadata": {
        "id": "34KclFZ3CsOk",
        "outputId": "9a8bd7b9-ce8c-4adc-ae95-c99965e27f59",
        "colab": {
          "base_uri": "https://localhost:8080/",
          "height": 475
        }
      },
      "source": [
        "%%html\n",
        "<iframe src=\"https://phet.colorado.edu/sims/html/hookes-law/latest/hookes-law_en.html\" width=\"600\" height=\"450\" scrolling=\"no\" allowfullscreen></iframe>"
      ],
      "execution_count": 3,
      "outputs": [
        {
          "output_type": "display_data",
          "data": {
            "text/html": [
              "<iframe src=\"https://phet.colorado.edu/sims/html/hookes-law/latest/hookes-law_en.html\" width=\"600\" height=\"450\" scrolling=\"no\" allowfullscreen></iframe>"
            ],
            "text/plain": [
              "<IPython.core.display.HTML object>"
            ]
          },
          "metadata": {
            "tags": []
          }
        }
      ]
    },
    {
      "cell_type": "code",
      "metadata": {
        "id": "SK6qlOFEDWFC",
        "outputId": "4f766a4b-30c2-46bc-c07c-43ec0d396109",
        "colab": {
          "base_uri": "https://localhost:8080/",
          "height": 475
        }
      },
      "source": [
        "%%html\n",
        "<iframe src=\"https://phet.colorado.edu/sims/html/masses-and-springs-basics/latest/masses-and-springs-basics_en.html\" width=\"600\" height=\"450\" scrolling=\"no\" allowfullscreen></iframe>"
      ],
      "execution_count": 2,
      "outputs": [
        {
          "output_type": "display_data",
          "data": {
            "text/html": [
              "<iframe src=\"https://phet.colorado.edu/sims/html/masses-and-springs-basics/latest/masses-and-springs-basics_en.html\" width=\"600\" height=\"450\" scrolling=\"no\" allowfullscreen></iframe>"
            ],
            "text/plain": [
              "<IPython.core.display.HTML object>"
            ]
          },
          "metadata": {
            "tags": []
          }
        }
      ]
    },
    {
      "cell_type": "markdown",
      "metadata": {
        "id": "AZAFKlfvFXv9"
      },
      "source": [
        "教科書 p35 図1-27 を初期条件として利用します:\n",
        "\n",
        " $t=0: \\qquad x(0)=A,\\quad  v(0)=0$"
      ]
    },
    {
      "cell_type": "markdown",
      "metadata": {
        "id": "HCLBhS4YDtX4"
      },
      "source": [
        "\\begin{align*}\n",
        "m a &= - kx\n",
        "&\\begin{cases}\n",
        "ma &= F\\\\\n",
        "F &= - k x\n",
        "\\end{cases}&\\\\\n",
        "a &= \\dfrac{{\\rm d}v}{{\\rm d}t} = \\dfrac{{\\rm d^2}x}{{\\rm d}t^2}\n",
        "\\end{align*}"
      ]
    },
    {
      "cell_type": "markdown",
      "metadata": {
        "id": "0BgvHz9jEUoH"
      },
      "source": [
        "\\begin{align*}\n",
        "m \\dfrac{{\\rm d^2}x}{{\\rm d}t^2} &= - kx\\\\\n",
        " \\dfrac{{\\rm d^2}x}{{\\rm d}t^2} &= - \\dfrac{k}{m}x\n",
        "\\end{align*}"
      ]
    },
    {
      "cell_type": "markdown",
      "metadata": {
        "id": "nYS4HXgxFVV8"
      },
      "source": [
        "$\\omega^2=\\dfrac{k}{m}$ とおくと\n",
        "\n",
        "\\begin{align*}\n",
        "  \\dfrac{{\\rm d^2}x}{{\\rm d}t^2} &= - \\omega^2 x\\\\\n",
        "    \\dfrac{{\\rm d^2}x}{{\\rm d}t^2}+ \\omega^2 x &=0\n",
        "\\end{align*}"
      ]
    },
    {
      "cell_type": "markdown",
      "metadata": {
        "id": "ayDE-ckYFtwO"
      },
      "source": [
        "> Q. 二回微分すると, 元の関数にマイナスが付いたものが得られる関数を探して下さい."
      ]
    }
  ]
}
