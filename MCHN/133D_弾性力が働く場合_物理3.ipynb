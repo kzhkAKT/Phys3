{
  "nbformat": 4,
  "nbformat_minor": 0,
  "metadata": {
    "colab": {
      "name": "133D_弾性力が働く場合_物理3.ipynb",
      "provenance": [],
      "authorship_tag": "ABX9TyNGdKgw96Fn5qMD3ov3HJ9T"
    },
    "kernelspec": {
      "name": "python3",
      "display_name": "Python 3"
    }
  },
  "cells": [
    {
      "cell_type": "markdown",
      "metadata": {
        "id": "xnyXynZI5sZ1"
      },
      "source": [
        "# 質点系の力学"
      ]
    },
    {
      "cell_type": "markdown",
      "metadata": {
        "id": "8uMukF_O8Bym"
      },
      "source": [
        "## 運動方程式の具体的な適用例"
      ]
    },
    {
      "cell_type": "markdown",
      "metadata": {
        "id": "v24WgkFjRlrw"
      },
      "source": [
        "### 弾性力が働く場合(抵抗力がない場合)\n",
        "\n",
        "\n"
      ]
    },
    {
      "cell_type": "code",
      "metadata": {
        "id": "34KclFZ3CsOk",
        "colab": {
          "base_uri": "https://localhost:8080/",
          "height": 625
        },
        "cellView": "form",
        "outputId": "b2e4b1a8-526e-43dd-a72e-87365d47088b"
      },
      "source": [
        "#@title ばねの基本\n",
        "%%html\n",
        "<iframe src=\"https://phet.colorado.edu/sims/html/hookes-law/latest/hookes-law_en.html\"\n",
        "      width=\"800\"\n",
        "      height=\"600\"\n",
        "      scrolling=\"no\"\n",
        "      allowfullscreen>\n",
        "</iframe>"
      ],
      "execution_count": null,
      "outputs": [
        {
          "output_type": "display_data",
          "data": {
            "text/html": [
              "<iframe src=\"https://phet.colorado.edu/sims/html/hookes-law/latest/hookes-law_en.html\"\n",
              "      width=\"800\"\n",
              "      height=\"600\"\n",
              "      scrolling=\"no\"\n",
              "      allowfullscreen>\n",
              "</iframe>"
            ],
            "text/plain": [
              "<IPython.core.display.HTML object>"
            ]
          },
          "metadata": {}
        }
      ]
    },
    {
      "cell_type": "code",
      "metadata": {
        "cellView": "form",
        "id": "Gu29T5uYazhk",
        "colab": {
          "base_uri": "https://localhost:8080/",
          "height": 625
        },
        "outputId": "d9364f95-936a-4c2d-bee9-91d6f64e1962"
      },
      "source": [
        "#@title 単振動\n",
        "%%html\n",
        "<iframe src=\"https://phet.colorado.edu/sims/html/masses-and-springs/latest/masses-and-springs_en.html\"\n",
        "        width=\"800\"\n",
        "        height=\"600\"\n",
        "        allowfullscreen>\n",
        "</iframe>"
      ],
      "execution_count": null,
      "outputs": [
        {
          "output_type": "display_data",
          "data": {
            "text/html": [
              "<iframe src=\"https://phet.colorado.edu/sims/html/masses-and-springs/latest/masses-and-springs_en.html\"\n",
              "        width=\"800\"\n",
              "        height=\"600\"\n",
              "        allowfullscreen>\n",
              "</iframe>"
            ],
            "text/plain": [
              "<IPython.core.display.HTML object>"
            ]
          },
          "metadata": {}
        }
      ]
    },
    {
      "cell_type": "markdown",
      "metadata": {
        "id": "8EGjpKoB-9Rk"
      },
      "source": [
        "![](https://upload.wikimedia.org/wikipedia/commons/2/2b/Muelle.gif)"
      ]
    },
    {
      "cell_type": "markdown",
      "metadata": {
        "id": "I-fSKiECe5jd"
      },
      "source": [
        "\n",
        "- 位置座標 $x=x(t)$\n",
        "  - 速度 $v=v(t)= \\frac{{\\rm d}x}{{\\rm d}t} =\\dot{x}(t) $\n",
        "  - 加速度  $a=a(t)=\\dot{v}(t) = \\frac{{\\rm d}v}{{\\rm d}t}\n",
        "  = \\frac{{\\rm d^2} x}{{\\rm d}t^2} = \\ddot{x}$"
      ]
    },
    {
      "cell_type": "markdown",
      "metadata": {
        "id": "AZAFKlfvFXv9"
      },
      "source": [
        "教科書 p35 図1-27 を初期条件として利用します:\n",
        "\n",
        " $t=0; \\qquad x(0)= + A,\\quad  v(0)=0$"
      ]
    },
    {
      "cell_type": "markdown",
      "metadata": {
        "id": "HCLBhS4YDtX4"
      },
      "source": [
        "\\begin{align*}\n",
        "m a &= - kx\n",
        "&\\begin{cases}\n",
        "ma &= F\\\\\n",
        "F &= - k x\n",
        "\\end{cases}&\\\\\n",
        "a &= \\dfrac{{\\rm d}v}{{\\rm d}t} \n",
        "= \\dfrac{{\\rm d^2}x}{{\\rm d}t^2} = \\ddot{x}\n",
        "\\end{align*}"
      ]
    },
    {
      "cell_type": "markdown",
      "metadata": {
        "id": "0BgvHz9jEUoH"
      },
      "source": [
        "\\begin{align*}\n",
        "m \\dfrac{{\\rm d^2}x}{{\\rm d}t^2} &= - kx\\\\\n",
        " \\dfrac{{\\rm d^2}x}{{\\rm d}t^2} &= - \\dfrac{k}{m}x\n",
        "\\end{align*}"
      ]
    },
    {
      "cell_type": "markdown",
      "metadata": {
        "id": "nYS4HXgxFVV8"
      },
      "source": [
        "$\\omega^2=\\dfrac{k}{m}$ とおくと\n",
        "\n",
        "\\begin{align*}\n",
        "  \\dfrac{{\\rm d^2}x}{{\\rm d}t^2} &= - \\omega^2 x\\\\\n",
        "  \\dfrac{{\\rm d^2}x}{{\\rm d}t^2}+ \\omega^2 x =0\n",
        "   & \\qquad \\left( \\ddot{x} + \\omega^2 x = 0 \\right)\n",
        "\\end{align*}\n",
        "\n",
        "ここで得られた方程式を\n",
        "> 単振動の微分方程式\n",
        "\n",
        "といいます."
      ]
    },
    {
      "cell_type": "markdown",
      "metadata": {
        "id": "6PaIFSj3Bgp4"
      },
      "source": [
        "このように時間微分したものが元の関数と関わりを持ってくるような方程式のことを \n",
        ">> (線形)**微分方程式**\n",
        "\n",
        " といいます. 微分方程式を満たす関数の形を調べることを\n",
        "\n",
        " >>  **微分方程式** を 解く\n",
        "\n",
        "と表現します. 微分方程式を解くには, $t=0$ での条件等の **初期条件** が重要な役割を果たします.\n",
        "\n",
        "---\n",
        "微分方程式の一般的な解き方については, 4年生の数学で取り扱います.\n",
        "\n",
        "この講義では, 初等物理で必要な微分方程式の解を紹介します."
      ]
    },
    {
      "cell_type": "markdown",
      "metadata": {
        "id": "ayDE-ckYFtwO"
      },
      "source": [
        "> Q. 二回微分すると, 元の関数にマイナスが付いたものが得られる関数を探して下さい."
      ]
    },
    {
      "cell_type": "markdown",
      "metadata": {
        "id": "BFC0smUm_mU-"
      },
      "source": [
        "$(\\sin(x))'' = - \\sin x, (\\cos(x))'' = - \\cos x$"
      ]
    },
    {
      "cell_type": "markdown",
      "metadata": {
        "id": "M6IH18v6_0jg"
      },
      "source": [
        "#### 単振動の一般解\n",
        "この性質を利用すると、先ほどの単振動の微分方程式の(一般)解は\n",
        "\\begin{align}\n",
        "x(t) = C_1 \\sin (\\omega t) +  C_2 \\cos(\\omega t).\n",
        "\\end{align}\n",
        "なお, $C_1, C_2$ は(時間に依存しない) _定数_ です."
      ]
    },
    {
      "cell_type": "markdown",
      "metadata": {
        "id": "zAD3jxp2A1Yk"
      },
      "source": [
        "これを確かめるには $\\dot{x}, \\ddot{x}$ を調べれば充分です.\n"
      ]
    },
    {
      "cell_type": "markdown",
      "metadata": {
        "id": "5MVHSwqcBw6u"
      },
      "source": [
        "\\begin{align}\n",
        "\\dot{x}(t) \n",
        "&=\\dfrac{{\\rm d}}{{\\rm d}t}\\left(C_1 \\sin (\\omega t) +  C_2 \\cos(\\omega t)\\right)\\\\\n",
        "&=\\dfrac{{\\rm d}(\\omega t)}{{\\rm d}t} \\dfrac{{\\rm d} } {{\\rm d}(\\omega t)}\n",
        "\\left(C_1 \\sin (\\omega t) +  C_2 \\cos(\\omega t)\\right)\\\\[1mm]\n",
        "&= \\omega\n",
        "\\left( C_1 \\cos (\\omega t) - C_2 \\sin(\\omega t)\\right)\\\\\n",
        "\\ddot{x}(t) \n",
        "&= \\dfrac{{\\rm d}}{{\\rm d}t} \\dot{x}\\\\\n",
        "&= \\dfrac{{\\rm d}}{{\\rm d}t} \\left(\n",
        "  \\omega\n",
        "  \\left( C_1 \\cos (\\omega t) - C_2 \\sin(\\omega t)\\right)\n",
        "  \\right)\\\\\n",
        "&= - \\omega^2 \\left(C_1 \\sin (\\omega t) +  C_2 \\cos(\\omega t)\\right)\\\\[3mm]\n",
        "\\ddot{x}(t) & = - \\omega^2 \\ x(t)\n",
        "\\end{align}"
      ]
    },
    {
      "cell_type": "markdown",
      "metadata": {
        "id": "UiRuREL_DeDg"
      },
      "source": [
        "それではこの解に **初期条件**($t=0; \\quad x(0)=+A,\\quad  v(0)=0$) を適用していきます:"
      ]
    },
    {
      "cell_type": "markdown",
      "metadata": {
        "id": "ZKTQ8PQ2duzB"
      },
      "source": [
        "\\begin{align}\n",
        "\\begin{cases}\n",
        "x(t) &= C_1 \\sin (\\omega t) +  C_2 \\cos(\\omega t).\\\\\n",
        "\\dot{x}(t) = v(t) &= \\omega\n",
        "\\left( C_1 \\cos (\\omega t) - C_2 \\sin(\\omega t)\\right)\n",
        "\\end{cases}\n",
        "\\end{align}"
      ]
    },
    {
      "cell_type": "markdown",
      "metadata": {
        "id": "2oq5pkcVD9fA"
      },
      "source": [
        "$\\require{cancel}$\n",
        "\\begin{align}\n",
        "x(t=0) &= A\\\\\n",
        "&= C_1 \\cancelto{0}{\\sin (\\omega 0 )} +  C_2 \\cos(\\omega 0) = C_2\\\\[1mm]\n",
        "v(t=0) &= 0\\\\\n",
        "&= \\omega\n",
        "\\left( C_1 \\cos (\\omega 0) - C_2 \\cancelto{0}{\\sin(\\omega 0)}\\right) =  \\omega C_1\\\\\n",
        "C_2 = A, &\\quad C_1=0 \\qquad [\\omega\\neq 0]\n",
        "\\end{align}"
      ]
    },
    {
      "cell_type": "markdown",
      "metadata": {
        "id": "DDQ0lpjbTmBA"
      },
      "source": [
        "$\\require{cancel}$\n",
        "これより\n",
        "\\begin{align}\n",
        "x(t) \n",
        "&= \\cancelto{0}{C_1} \\sin (\\omega t) +  \\cancelto{A}{C_2} \\cos(\\omega t)\\\\[3mm]\n",
        "x(t)\n",
        "&= A \\cos(\\omega t)\\\\\n",
        "&= A \\cos(\\sqrt{\\dfrac{k}{m}} \\ t) \n",
        "\\end{align}\n",
        "がこの単振動の位置を表します."
      ]
    },
    {
      "cell_type": "markdown",
      "metadata": {
        "id": "eoc3OkEpUVTR"
      },
      "source": [
        "もちろんこれを利用して速度, 加速度を求めることもできます.\n",
        "\\begin{cases}\n",
        "v(t) &= \\dot{x} = - A \\omega \\cos(\\omega t)\\\\[2mm]\n",
        "a(t) &= \\dot{v} = \\ddot{x}= - A \\omega^2 \\sin(\\omega t).\n",
        "\\end{cases}\n",
        "\n",
        "さらには\n",
        "\\begin{align}\n",
        "a(t) &=  - A \\omega^2 \\sin(\\omega t) = - \\omega x(t) \\\\[1mm]\n",
        "F(t) &= m a(t) = - m \\omega^2 x(t)\\\\[3mm]\n",
        "F &= - k x, \\qquad k = m \\omega^2\n",
        "\\end{align}\n",
        "と **復元力** であることも再確認できます."
      ]
    },
    {
      "cell_type": "markdown",
      "metadata": {
        "id": "ZxV_NC3__TiX"
      },
      "source": [
        "##### 単振動の一般解の合成"
      ]
    },
    {
      "cell_type": "markdown",
      "metadata": {
        "id": "c80ktMYH_kus"
      },
      "source": [
        "- [三角関数の合成公式, KIT](http://w3e.kanazawa-it.ac.jp/math/category/sankakukansuu/kahouteiri/henkan-tex.cgi?target=/math/category/sankakukansuu/kahouteiri/gouseikousiki.html)\n",
        "\n",
        "- [加法定理, KIT](http://w3e.kanazawa-it.ac.jp/math/category/sankakukansuu/kahouteiri/henkan-tex.cgi?target=/math/category/sankakukansuu/kahouteiri/kahouteiri.html)"
      ]
    },
    {
      "cell_type": "markdown",
      "metadata": {
        "id": "ixkvb5Xc_sQL"
      },
      "source": [
        "\\begin{align}\n",
        "x(t)\n",
        "&= C_1 \\sin (\\omega t) +  C_2 \\cos(\\omega t)\\\\\n",
        "&= \\sqrt{C_1^2 + C_2^2}\n",
        "\\left(\n",
        "\\dfrac{C_1}{\\sqrt{C_1^2 + C_2^2}}\\sin (\\omega t) \n",
        "+\n",
        "\\dfrac{C_2}{\\sqrt{C_1^2 + C_2^2}}\\cos(\\omega t)\n",
        "\\right)\\\\\n",
        "&= C \n",
        "\\left(\n",
        "\\cos(\\delta)\\sin (\\omega t) \n",
        "+\n",
        "\\sin(\\delta)\\cos(\\omega t)\n",
        "\\right)\\\\[3mm]\n",
        "&= C \\sin\\left( \\omega t + \\delta \\right) \n",
        "\\end{align}\n",
        "\n",
        "初期条件等を利用し\n",
        "- 合成された振幅 $:\\quad C$\n",
        "- 初期位相 $:\\quad \\delta$\n",
        "\n",
        "を求め運動を決める必要がある\n"
      ]
    }
  ]
}