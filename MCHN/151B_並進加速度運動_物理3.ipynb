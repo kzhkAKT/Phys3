{
  "nbformat": 4,
  "nbformat_minor": 0,
  "metadata": {
    "colab": {
      "name": "151B_並進加速度運動_物理3.ipynb",
      "provenance": [],
      "collapsed_sections": [],
      "toc_visible": true,
      "authorship_tag": "ABX9TyNMH85P6RfVn1q2O3ti8uuC",
      "include_colab_link": true
    },
    "kernelspec": {
      "name": "python3",
      "display_name": "Python 3"
    }
  },
  "cells": [
    {
      "cell_type": "markdown",
      "metadata": {
        "id": "view-in-github",
        "colab_type": "text"
      },
      "source": [
        "<a href=\"https://colab.research.google.com/github/kzhkAKT/Physics3/blob/draft/MCHN/151B_%E4%B8%A6%E9%80%B2%E5%8A%A0%E9%80%9F%E5%BA%A6%E9%81%8B%E5%8B%95_%E7%89%A9%E7%90%863.ipynb\" target=\"_parent\"><img src=\"https://colab.research.google.com/assets/colab-badge.svg\" alt=\"Open In Colab\"/></a>"
      ]
    },
    {
      "cell_type": "markdown",
      "metadata": {
        "id": "f7pTFkDMxp7P"
      },
      "source": [
        "# 座標変換と慣性力"
      ]
    },
    {
      "cell_type": "markdown",
      "metadata": {
        "id": "xboZA5773cyL"
      },
      "source": [
        "## 座標系"
      ]
    },
    {
      "cell_type": "markdown",
      "metadata": {
        "id": "U7W6i9fu3Kdr"
      },
      "source": [
        "## 並進方向に加速度運動している座標系"
      ]
    },
    {
      "cell_type": "markdown",
      "metadata": {
        "id": "1rLmt6b14s0H"
      },
      "source": [
        "並進方向の加速度 $\\vec{A}$ とは\n",
        "- ここでは一般化するため, 加速度 $\\vec{A}$ 時間変化をゆるします.\n",
        "  - $\\vec{A}=\\vec{A}(t)$"
      ]
    },
    {
      "cell_type": "markdown",
      "metadata": {
        "id": "wm-gGsb34WE0"
      },
      "source": [
        "### 座標系"
      ]
    },
    {
      "cell_type": "markdown",
      "metadata": {
        "id": "yewIdtjI3fF7"
      },
      "source": [
        "1. はじめの座標系 $R$ 系\n",
        "  - $R$ 系 の座標系から見た, 物体の位置ベクトルを $\\vec{r}$\n",
        "    - 注目する物体の速度ベクトルは $\\dfrac{{\\rm d}\\vec{r}}{{\\rm d}t}$\n",
        "      - その加速度ベクトルは $\\dfrac{{\\rm d^2}\\vec{r}}{{\\rm d}t^2}$\n",
        "        - この系で, $t=0$ の時点で物体は原点に静止しているとします\n",
        "\n",
        "2. 加速度 $\\vec{A}(t)$ で動く別の座標系 $R''$ 系\n",
        "  - $R''$ 系 の座標系から見た, 物体の位置ベクトルを $\\vec{r''}$\n",
        "    - 注目する物体の速度ベクトルは $\\dfrac{{\\rm d}\\vec{r''}}{{\\rm d}t}$\n",
        "      - その加速度ベクトルは $\\dfrac{{\\rm d^2}\\vec{r''}}{{\\rm d}t^2}$\n",
        "\n"
      ]
    },
    {
      "cell_type": "markdown",
      "metadata": {
        "id": "AL8a0NSmmgSv"
      },
      "source": [
        "#### $R''$系での加速度 $\\frac{{\\rm d^2}\\vec{r''}}{{\\rm d}t^2}$\n",
        "それぞれの座標系について, 時間変化が単純な関数で表される  \n",
        "加速度ベクトルの単純な足しあわせが可能なので\n",
        "\\begin{align}\n",
        "\\dfrac{{\\rm d^2}\\vec{r}}{{\\rm d}t^2} &= \\dfrac{{\\rm d^2}\\vec{r''}}{{\\rm d}t^2} \b+ \\vec{A}(t)\\\\[1mm]\n",
        "\\dfrac{{\\rm d^2}\\vec{r''}}{{\\rm d}t^2}\n",
        "&=\n",
        "\\dfrac{{\\rm d^2}\\vec{r}}{{\\rm d}t^2} - \\vec{A}(t)\n",
        "\\end{align}\n",
        "\n",
        "---\n",
        "教科書 p53 図1-36 で, 次の置き換えをしてください: $\\quad (\\vec{r}, \\vec{r'}, \\vec{V}) \\to (\\frac{{\\rm d^2}\\vec{r}}{{\\rm d}t^2}, \\frac{{\\rm d^2}\\vec{r''}}{{\\rm d}t^2}, \\vec{A})$ "
      ]
    },
    {
      "cell_type": "markdown",
      "metadata": {
        "id": "6qeysTFEufby"
      },
      "source": [
        "#### $R''$系での速度 $\\frac{{\\rm d}\\vec{r''}}{{\\rm d}t}$"
      ]
    },
    {
      "cell_type": "markdown",
      "metadata": {
        "id": "ca8Xkzq1mtrH"
      },
      "source": [
        "$\\require{cancel}$\n",
        "\n",
        "\n",
        "加速度の時間変化を(連続的に)足し合わせることで計算できます:\n",
        "\\begin{align}\n",
        "\\frac{{\\rm d}\\vec{r''}}{{\\rm d}t}\n",
        "&=\\int_{t=0}^{t=t} \\dfrac{{\\rm d^2}\\vec{r''}}{{\\rm d}t^2} {\\rm d}t\\\\\n",
        "&=\\int_{t=0}^{t=t} \n",
        "\\left( \n",
        "\\dfrac{{\\rm d^2}\\vec{r}}{{\\rm d}t^2} - \\vec{A}(t)  \n",
        "\\right) {\\rm d}t\\\\\n",
        "&=\\int_{t=0}^{t=t} \\dfrac{{\\rm d ^2}\\vec{r}}{{\\rm d}t^2} {\\rm d}t\n",
        "-\n",
        "\\int_{t=0}^{t=t} \\vec{A}(t) {\\rm d}t\n",
        "=\n",
        "\\int_{t=0}^{t=t}\n",
        " \\dfrac{{\\rm d}}{\\bcancel{{\\rm d}t}}\n",
        " \\dfrac{{\\rm d }\\vec{r}}{{\\rm d}t} \\bcancel{{\\rm d}t}\n",
        "-\n",
        "\\int_{t=0}^{t=t} \\vec{A}(t) {\\rm d}t\\\\\n",
        "&= \n",
        "\\int_{t=0}^{t=t}\n",
        " {\\rm d}\\left(\\dfrac{{\\rm d }\\vec{r}}{{\\rm d}t} \\right)\n",
        "-\n",
        "\\int_{t=0}^{t=t} \\vec{A}(t) {\\rm d}t\\\\[2mm]\n",
        "%\n",
        "\\frac{{\\rm d}\\vec{r''}}{{\\rm d}t}\n",
        "&=\n",
        "\\dfrac{{\\rm d }\\vec{r}}{{\\rm d}t}\n",
        "-\n",
        "\\int_{0}^{t} \\vec{A}(t_1) {\\rm d}t_1\\\\[2mm]\n",
        "\\end{align}\n",
        "\n",
        "---\n",
        "最後で一部の $t$ を $t_1$ で置き換えています\n"
      ]
    },
    {
      "cell_type": "markdown",
      "metadata": {
        "id": "qceGb4NB05VJ"
      },
      "source": [
        "#### $R''$系での位置 $\\vec{r''}$"
      ]
    },
    {
      "cell_type": "markdown",
      "metadata": {
        "id": "wAB1yf7l1C_8"
      },
      "source": [
        "速度の時間変化を(連続的に)足し合わせることで, 次のように計算できます:\n",
        "\\begin{align}\n",
        "\\vec{r''}\n",
        "&=\n",
        "\\vec{r}\n",
        "-\n",
        "\\int_{0}^{t} \n",
        "\\left\\{\\int_{0}^{t_1}\\vec{A}(t_2) {\\rm d}t_2\\right\\}\n",
        "{\\rm d}t_1\n",
        "\\\\[2mm]\n",
        "\\end{align}"
      ]
    },
    {
      "cell_type": "markdown",
      "metadata": {
        "id": "39RXm3Ix2UOw"
      },
      "source": [
        "### 慣性力"
      ]
    },
    {
      "cell_type": "markdown",
      "metadata": {
        "id": "K4KpclyO2Yj2"
      },
      "source": [
        "$R$系の座標での運動方程式を\n",
        "\\begin{align}\n",
        "m\\dfrac{{\\rm d^2}\\vec{r}}{{\\rm d}t^2} = \\vec{F}\n",
        "\\end{align}\n",
        "とします."
      ]
    },
    {
      "cell_type": "markdown",
      "metadata": {
        "id": "Uk1rJC5B2nmf"
      },
      "source": [
        "$\\require{cancel}$\n",
        "一方, $R''$系の座標での運動方程式の左辺を整理すると\n",
        "\\begin{align}\n",
        "m\\dfrac{{\\rm d^2}\\vec{r''}}{{\\rm d}t^2} \n",
        "&=\n",
        "m \\left(\n",
        "  \\dfrac{{\\rm d^2}\\vec{r}}{{\\rm d}t^2} - \\vec{A}\n",
        "  \\right)\n",
        "  = m \\cancelto{\\vec{F}}{\\dfrac{{\\rm d^2}\\vec{r}}{{\\rm d}t^2}}\n",
        "   - m \\vec{A}\\\\[1mm]\n",
        "  &= \\vec{F} - m \\vec{A}\n",
        "\\end{align}\n",
        "となり, $R$系の座標での運動方程式に\n",
        ">  $\\quad -m\\vec{A}$ で表現される **慣性力** \n",
        "\n",
        "が加加わります.\n",
        "\n",
        "この導出からも慣性力は\n",
        "- $R''$ の加速度$\\vec{A}$と逆向き\n",
        "\n",
        "であることがわかります.\n",
        "\n",
        "---\n",
        "$R''$系の座標での運動方程式は, $R''$系で考えていることを忘れないでください."
      ]
    },
    {
      "cell_type": "code",
      "metadata": {
        "id": "1t5qk9h44UKN",
        "colab": {
          "base_uri": "https://localhost:8080/",
          "height": 336
        },
        "cellView": "form",
        "outputId": "b14639f2-64ff-48f1-b240-1823f30db7f7"
      },
      "source": [
        "#@title 慣性力(真似はしないでください)\n",
        "%%html\n",
        "<iframe width=\"560\" height=\"315\" src=\"https://www.youtube-nocookie.com/embed/uSKxSfZHSkE\" frameborder=\"0\" allow=\"accelerometer; autoplay; clipboard-write; encrypted-media; gyroscope; picture-in-picture\" allowfullscreen></iframe>"
      ],
      "execution_count": 2,
      "outputs": [
        {
          "output_type": "display_data",
          "data": {
            "text/html": [
              "<iframe width=\"560\" height=\"315\" src=\"https://www.youtube-nocookie.com/embed/uSKxSfZHSkE\" frameborder=\"0\" allow=\"accelerometer; autoplay; clipboard-write; encrypted-media; gyroscope; picture-in-picture\" allowfullscreen></iframe>"
            ],
            "text/plain": [
              "<IPython.core.display.HTML object>"
            ]
          },
          "metadata": {
            "tags": []
          }
        }
      ]
    }
  ]
}