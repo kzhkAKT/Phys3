{
  "nbformat": 4,
  "nbformat_minor": 0,
  "metadata": {
    "colab": {
      "name": "1430_力のモーメント_物理3.ipynb",
      "provenance": [],
      "toc_visible": true,
      "authorship_tag": "ABX9TyNsZ9NinLOh2Qw1pwESfz4I",
      "include_colab_link": true
    },
    "kernelspec": {
      "name": "python3",
      "display_name": "Python 3"
    }
  },
  "cells": [
    {
      "cell_type": "markdown",
      "metadata": {
        "id": "view-in-github",
        "colab_type": "text"
      },
      "source": [
        "<a href=\"https://colab.research.google.com/github/kzhkAKT/Physics3/blob/draft/MCHN/1430_%E5%8A%9B%E3%81%AE%E3%83%A2%E3%83%BC%E3%83%A1%E3%83%B3%E3%83%88_%E7%89%A9%E7%90%863.ipynb\" target=\"_parent\"><img src=\"https://colab.research.google.com/assets/colab-badge.svg\" alt=\"Open In Colab\"/></a>"
      ]
    },
    {
      "cell_type": "markdown",
      "metadata": {
        "id": "hmSQjynSCEKc"
      },
      "source": [
        "# 回転に関する運動方程式"
      ]
    },
    {
      "cell_type": "markdown",
      "metadata": {
        "id": "SUmmCFXauxWr"
      },
      "source": [
        "## 力のモーメント\n",
        "- moment of force $:\\quad \\vec{M}$\n",
        "- torque $:\\quad \\vec{\\tau}$"
      ]
    },
    {
      "cell_type": "markdown",
      "metadata": {
        "id": "xcFKEeMeqxpQ"
      },
      "source": [
        "$\\require{cancel}$\n",
        "\n",
        "回転運動する物体の角運動量 $L$ は\n",
        "\\begin{align*}\n",
        "\\vec{L} &= \\vec{r} \\times \\vec{p}\n",
        "\\end{align*}\n",
        "\n",
        "角運動量に対する運動方程式\n",
        "\\begin{align*}\n",
        "\\dfrac{{\\rm d}\\vec{L}}{{\\rm d} t} \n",
        "&= \\vec{r} \\times \\vec{F}\n",
        "\\end{align*}\n",
        "\n",
        "となることを学びました."
      ]
    },
    {
      "cell_type": "markdown",
      "metadata": {
        "id": "ZAUSb8zZwZWI"
      },
      "source": [
        "角運動量に対する運動方程式の\n",
        "- 左辺は、角運動量の時間変化を調べています\n",
        "- 右辺は、$\\vec{r} \\times \\vec{F}$ となっています\n",
        "\n",
        "ここでは、$\\vec{r} \\times \\vec{F}$ の意味づけをします.\n"
      ]
    },
    {
      "cell_type": "markdown",
      "metadata": {
        "id": "qwMMjpj5FoS2"
      },
      "source": [
        "![](https://upload.wikimedia.org/wikipedia/commons/thumb/2/2e/Torque%2C_position%2C_and_force.svg/512px-Torque%2C_position%2C_and_force.svg.png)\n",
        "![](https://upload.wikimedia.org/wikipedia/commons/8/8b/Fysik_vridmoment.png)"
      ]
    },
    {
      "cell_type": "markdown",
      "metadata": {
        "id": "j1MKWNVoF7nr"
      },
      "source": [
        "\n",
        "$\\require{color}$\n",
        "- 上の左図では, 大きさを持つ $\\vec{r}$ の矢印を $\\textcolor{red}{反時計回り}$に回そうとしています.\n",
        "  - Q. 図の中で$\\vec{r}, \\vec{F}$ で作られる平行四辺形を探し, その面積を計算してください.\n",
        "- 上の右図では, 大きさを持つ $\\vec{r}$ の矢印を $\\textcolor{blue}{時計回り}$に回そうとしています.\n",
        "  - Q. 図の中で$\\vec{r}, \\vec{F}$ で作られる長方形を探し, その面積を計算してください."
      ]
    },
    {
      "cell_type": "markdown",
      "metadata": {
        "id": "Yf7l2CjWIgsP"
      },
      "source": [
        "### $\\vec{M}, \\vec{\\tau}$ の組み立て"
      ]
    },
    {
      "cell_type": "markdown",
      "metadata": {
        "id": "suCztC-6HDBi"
      },
      "source": [
        "- ここで計算した$\\vec{r}, \\vec{F}$ で作られる平行四辺形の面積が,   \n",
        "力のモーメント$\\vec{M}$(またはトルク$\\vec{\\tau}$) の **大きさ** になります.\n",
        "- $\\vec{r}$ を |$\\textcolor{blue}{時計}$ に回転させる **方向** 持つことになります."
      ]
    },
    {
      "cell_type": "markdown",
      "metadata": {
        "id": "Eh4IwRIJErpW"
      },
      "source": [
        "\\begin{align}\n",
        "\\vec{M}\n",
        "&= \\vec{r} \\times \\vec{F}\\\\[3mm]\n",
        "\\left| \\vec{M} \\right| \n",
        "&= r\\ F \\sin \\varPhi\n",
        "\\end{align}\n",
        "\n",
        "- $\\varPhi\\ :\\ \\vec{r},\\ \\vec{F}$ がなす角\n",
        "- $\\vec{r}$, $\\vec{F}$ の始点を重ね,  \n",
        "  $\\vec{r}$ を $\\vec{F}$ に重ねるように回転させたとき,   \n",
        "  右ねじが進む方向を $\\textcolor{red}{正}$\n"
      ]
    },
    {
      "cell_type": "markdown",
      "metadata": {
        "id": "zZKp_96hHHVc"
      },
      "source": [
        "![](https://upload.wikimedia.org/wikipedia/commons/0/09/Torque_animation.gif)"
      ]
    },
    {
      "cell_type": "markdown",
      "metadata": {
        "id": "KkkVnNgOHKU4"
      },
      "source": [
        ">> 静止状態にあった物体に対し, 有限なモーメントが働けば, 物体は回転を始めます."
      ]
    },
    {
      "cell_type": "markdown",
      "metadata": {
        "id": "E82_DhyEHgnj"
      },
      "source": [
        "#### 単位"
      ]
    },
    {
      "cell_type": "markdown",
      "metadata": {
        "id": "Qgme1mrWHjIR"
      },
      "source": [
        "\\begin{align}\n",
        "\\left[\\ \\left| \\vec{M} \\right|\\ \\right ]\n",
        "&= \\left[\\  r\\ F \\sin \\theta \\ \\right ] \\\\\n",
        "&=\n",
        "\\left[\\ r\\ \\right ]\n",
        "\\left[\\  F  \\right ] \\left[\\ \\sin \\theta \\ \\right ] = {\\rm m} \\cdot {\\rm N} \\cdot 1 = {\\rm J}\n",
        "\\end{align}"
      ]
    }
  ]
}