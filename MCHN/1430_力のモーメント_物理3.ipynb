{
  "nbformat": 4,
  "nbformat_minor": 0,
  "metadata": {
    "colab": {
      "name": "1430_力のモーメント_物理3.ipynb",
      "provenance": [],
      "authorship_tag": "ABX9TyPUOyaiZ6mt8vcTrUVQ3Sbi",
      "include_colab_link": true
    },
    "kernelspec": {
      "name": "python3",
      "display_name": "Python 3"
    }
  },
  "cells": [
    {
      "cell_type": "markdown",
      "metadata": {
        "id": "view-in-github",
        "colab_type": "text"
      },
      "source": [
        "<a href=\"https://colab.research.google.com/github/kzhkAKT/Physics3/blob/draft/MCHN/1430_%E5%8A%9B%E3%81%AE%E3%83%A2%E3%83%BC%E3%83%A1%E3%83%B3%E3%83%88_%E7%89%A9%E7%90%863.ipynb\" target=\"_parent\"><img src=\"https://colab.research.google.com/assets/colab-badge.svg\" alt=\"Open In Colab\"/></a>"
      ]
    },
    {
      "cell_type": "markdown",
      "metadata": {
        "id": "hmSQjynSCEKc"
      },
      "source": [
        "# 回転に関する運動方程式"
      ]
    },
    {
      "cell_type": "markdown",
      "metadata": {
        "id": "SUmmCFXauxWr"
      },
      "source": [
        "## 力のモーメント\n",
        "moment of force"
      ]
    },
    {
      "cell_type": "markdown",
      "metadata": {
        "id": "xcFKEeMeqxpQ"
      },
      "source": [
        "$\\require{cancel}$\n",
        "\n",
        "回転運動する物体の角運動量 $L$ は\n",
        "\\begin{align*}\n",
        "\\vec{L} &= \\vec{r} \\times \\vec{p}\n",
        "\\end{align*}\n",
        "\n",
        "角運動量に対する運動方程式\n",
        "\\begin{align*}\n",
        "\\dfrac{{\\rm d}\\vec{L}}{{\\rm d} t} \n",
        "&= \\vec{r} \\times \\vec{F}\n",
        "\\end{align*}\n",
        "\n",
        "となることを学びました."
      ]
    },
    {
      "cell_type": "markdown",
      "metadata": {
        "id": "ZAUSb8zZwZWI"
      },
      "source": [
        "角運動量に対する運動方程式の\n",
        "- 左辺は、角運動量の時間変化を調べています\n",
        "- 右辺は、$\\vec{r} \\times \\vec{F}$ となっています\n",
        "\n",
        "ここでは、$\\vec{r} \\times \\vec{F}$ の意味づけをします.\n"
      ]
    }
  ]
}