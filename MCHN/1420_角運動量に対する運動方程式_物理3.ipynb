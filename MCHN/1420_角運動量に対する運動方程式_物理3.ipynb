{
  "nbformat": 4,
  "nbformat_minor": 0,
  "metadata": {
    "colab": {
      "name": "1420_角運動量に対する運動方程式_物理3.ipynb",
      "provenance": [],
      "collapsed_sections": [],
      "toc_visible": true,
      "authorship_tag": "ABX9TyNNgX8A4Ar9yPirerFa9Nn+",
      "include_colab_link": true
    },
    "kernelspec": {
      "name": "python3",
      "display_name": "Python 3"
    }
  },
  "cells": [
    {
      "cell_type": "markdown",
      "metadata": {
        "id": "view-in-github",
        "colab_type": "text"
      },
      "source": [
        "<a href=\"https://colab.research.google.com/github/kzhkAKT/Physics3/blob/draft/MCHN/1420_%E8%A7%92%E9%81%8B%E5%8B%95%E9%87%8F%E3%81%AB%E5%AF%BE%E3%81%99%E3%82%8B%E9%81%8B%E5%8B%95%E6%96%B9%E7%A8%8B%E5%BC%8F_%E7%89%A9%E7%90%863.ipynb\" target=\"_parent\"><img src=\"https://colab.research.google.com/assets/colab-badge.svg\" alt=\"Open In Colab\"/></a>"
      ]
    },
    {
      "cell_type": "markdown",
      "metadata": {
        "id": "hmSQjynSCEKc"
      },
      "source": [
        "# 回転に関する運動方程式"
      ]
    },
    {
      "cell_type": "markdown",
      "metadata": {
        "id": "WXg7lbwPqs5Y"
      },
      "source": [
        "## 運動量 $\\vec{p}$ に対する運動方程式"
      ]
    },
    {
      "cell_type": "markdown",
      "metadata": {
        "id": "jwRlsVwze_hR"
      },
      "source": [
        "\\begin{align*}\n",
        "\\vec{p} &= m \\vec{v}\n",
        "\\end{align*}\n",
        "$\\vec{p}$の時間微分を調べると\n",
        "\\begin{align*}\n",
        "\\dfrac{{\\rm d}\\ \\vec{p}}{{\\rm d} t} \n",
        "&= \\dfrac{{\\rm d}\\ (m \\vec{v})}{{\\rm d} t}\n",
        "= m \\dfrac{{\\rm d} \\vec{v}}{{\\rm d} t} \n",
        "= m \\vec{a}\n",
        "\\end{align*}\n",
        "が得られ, これを運動方程式 $m\\vec{a} = \\vec{F}$ と融合させると\n",
        "\\begin{align*}\n",
        "\\dfrac{{\\rm d}\\ \\vec{p}}{{\\rm d} t} \n",
        "&= \\vec{F}\n",
        "\\end{align*}\n",
        "**運動量に対する運動方程式** が得られます.\n"
      ]
    },
    {
      "cell_type": "markdown",
      "metadata": {
        "id": "TtKx3sA5e7b3"
      },
      "source": [
        "## 角運動量 $\\vec{L}$ に対する運動方程式\n",
        "equation of motion of for angular momentum"
      ]
    },
    {
      "cell_type": "markdown",
      "metadata": {
        "id": "xcFKEeMeqxpQ"
      },
      "source": [
        "$\\require{cancel}$\n",
        "\n",
        "回転運動する物体の角運動量 $L$ は, 一般的に\n",
        "\\begin{align*}\n",
        "\\vec{L} &= \\vec{r} \\times \\vec{p}\n",
        "\\end{align*}\n",
        "と表現できることを学びました.\n",
        "\n",
        "$\\vec{L}$ の時間微分を調べると\n",
        "\n",
        "\\begin{align*}\n",
        "\\dfrac{{\\rm d}\\ \\vec{L}}{{\\rm d} t} \n",
        "&= \\dfrac{{\\rm d}\\ (\\vec{r} \\times \\vec{p})}{{\\rm d} t}\n",
        "=\n",
        "\\dfrac{{\\rm d} \\vec{r}}{{\\rm d} t} \\times \\vec{p}\n",
        "+\n",
        "\\vec{r} \\times \\dfrac{{\\rm d}\\vec{p}}{{\\rm d} t}\\\\[1mm]\n",
        "&= \\vec{v}\\times \\vec{p} + \\vec{r} \\times \\vec{F}\\\\[1mm]\n",
        "\\end{align*}\n",
        "\n",
        "ここでベクトル積の性質\n",
        "\\begin{align*}\n",
        "\\vec{a}\\times \\vec{b} &= - \\vec{b}\\times \\vec{a} \\\\[2mm]\n",
        "&\\vec{v}\\times \\vec{v} + \\vec{v}\\times \\vec{v} =0 \\\\[1mm]\n",
        "&2\\vec{v}\\times \\vec{v}=0 \\\\[1mm]\n",
        "&\\vec{v}\\times \\vec{v}=0\n",
        "\\end{align*}\n",
        "を利用すると\n",
        "\n",
        "\\begin{align*}\n",
        "\\dfrac{{\\rm d}\\ \\vec{L}}{{\\rm d} t} \n",
        "&= \\vec{v}\\times ( m \\vec{v} ) + \\vec{r} \\times \\vec{F}\n",
        "= m \\cancelto{0}{\\vec{v}\\times \\vec{v}} + \\vec{r} \\times \\vec{F}\n",
        "\\\\[1mm] \n",
        "\\end{align*}\n",
        "よって\n",
        "\n",
        "\\begin{align*}\n",
        "\\dfrac{{\\rm d}\\vec{L}}{{\\rm d} t} \n",
        "&= \\vec{r} \\times \\vec{F}\n",
        "\\end{align*}\n",
        "\n",
        "が得られます. この関係を **角運動量に対する運動方程式** といいます.\n",
        "\n"
      ]
    }
  ]
}