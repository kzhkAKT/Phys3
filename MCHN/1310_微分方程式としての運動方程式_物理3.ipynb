{
  "nbformat": 4,
  "nbformat_minor": 0,
  "metadata": {
    "colab": {
      "name": "1310_微分方程式としての運動方程式_物理3.ipynb",
      "provenance": [],
      "authorship_tag": "ABX9TyNauRicP+o3be4M3zqymZbl",
      "include_colab_link": true
    },
    "kernelspec": {
      "name": "python3",
      "display_name": "Python 3"
    }
  },
  "cells": [
    {
      "cell_type": "markdown",
      "metadata": {
        "id": "view-in-github",
        "colab_type": "text"
      },
      "source": [
        "<a href=\"https://colab.research.google.com/github/kzhkAKT/Physics3/blob/draft/MCHN/1310_%E5%BE%AE%E5%88%86%E6%96%B9%E7%A8%8B%E5%BC%8F%E3%81%A8%E3%81%97%E3%81%A6%E3%81%AE%E9%81%8B%E5%8B%95%E6%96%B9%E7%A8%8B%E5%BC%8F_%E7%89%A9%E7%90%863.ipynb\" target=\"_parent\"><img src=\"https://colab.research.google.com/assets/colab-badge.svg\" alt=\"Open In Colab\"/></a>"
      ]
    },
    {
      "cell_type": "markdown",
      "metadata": {
        "id": "xnyXynZI5sZ1"
      },
      "source": [
        "# 質点系の力学"
      ]
    },
    {
      "cell_type": "markdown",
      "metadata": {
        "id": "JRqnLj_z5wiU"
      },
      "source": [
        "## 運動方程式とその適用例"
      ]
    },
    {
      "cell_type": "markdown",
      "metadata": {
        "id": "QBfByrIq50Pz"
      },
      "source": [
        "### 微分方程式としての運動方程式"
      ]
    },
    {
      "cell_type": "markdown",
      "metadata": {
        "id": "yWsHp_yT54V9"
      },
      "source": [
        "\\begin{align*}\n",
        "m \\vec{a} &= \\vec{F}\\\\\n",
        "m \\dfrac{{\\rm d} \\vec{v}}{{\\rm d}t} &= \\vec{F}\\\\\n",
        "m \\dfrac{{\\rm d^2} \\vec{r}}{{\\rm d}t^2} &= \\vec{F}\\\\\n",
        "\\end{align*}"
      ]
    },
    {
      "cell_type": "markdown",
      "metadata": {
        "id": "r3EzhnTt6OZE"
      },
      "source": [
        "定積分を運用すれば $\\vec{r}$ を表現できる.\n",
        "\n",
        "- $\\vec{r}, \\vec{F}$ を調べる骨組み(座標~単位ベクトル)が必要\n",
        "- 定積分を利用するので, 出発点つまり初期値が重要"
      ]
    },
    {
      "cell_type": "markdown",
      "metadata": {
        "id": "AYovI6s_6oMY"
      },
      "source": [
        "##### 運動量を用いた運動方程式の表現\n",
        "\n",
        "運動量: $\\quad \\vec{p} = m \\vec{v}$\n",
        "\n",
        "\\begin{align*}\n",
        "m \\dfrac{{\\rm d} \\vec{v}}{{\\rm d}t} &= \\vec{F}\\\\\n",
        "\\dfrac{{\\rm d} \\left(m\\vec{v}\\right)}{{\\rm d}t} &= \\vec{F}\\\\\n",
        "\\dfrac{{\\rm d} \\vec{p}}{{\\rm d}t} &= \\vec{F}\n",
        "\\end{align*}"
      ]
    }
  ]
}