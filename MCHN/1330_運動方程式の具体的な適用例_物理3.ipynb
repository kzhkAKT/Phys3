{
  "nbformat": 4,
  "nbformat_minor": 0,
  "metadata": {
    "colab": {
      "name": "1330_運動方程式の具体的な適用例_物理3.ipynb",
      "provenance": [],
      "collapsed_sections": [],
      "toc_visible": true,
      "authorship_tag": "ABX9TyNgLttvEgD7LPeShwylCyJH",
      "include_colab_link": true
    },
    "kernelspec": {
      "name": "python3",
      "display_name": "Python 3"
    }
  },
  "cells": [
    {
      "cell_type": "markdown",
      "metadata": {
        "id": "view-in-github",
        "colab_type": "text"
      },
      "source": [
        "<a href=\"https://colab.research.google.com/github/kzhkAKT/Physics3/blob/draft/MCHN/1330_%E9%81%8B%E5%8B%95%E6%96%B9%E7%A8%8B%E5%BC%8F%E3%81%AE%E5%85%B7%E4%BD%93%E7%9A%84%E3%81%AA%E9%81%A9%E7%94%A8%E4%BE%8B_%E7%89%A9%E7%90%863.ipynb\" target=\"_parent\"><img src=\"https://colab.research.google.com/assets/colab-badge.svg\" alt=\"Open In Colab\"/></a>"
      ]
    },
    {
      "cell_type": "markdown",
      "metadata": {
        "id": "xnyXynZI5sZ1"
      },
      "source": [
        "# 質点系の力学"
      ]
    },
    {
      "cell_type": "markdown",
      "metadata": {
        "id": "JRqnLj_z5wiU"
      },
      "source": [
        "## 運動方程式とその適用例"
      ]
    },
    {
      "cell_type": "markdown",
      "metadata": {
        "id": "8uMukF_O8Bym"
      },
      "source": [
        "### 運動方程式の具体的な適用例"
      ]
    },
    {
      "cell_type": "markdown",
      "metadata": {
        "id": "Ebk9tCYJ8HnU"
      },
      "source": [
        "### 一定の外力が働く場合\n",
        "\n",
        "物体の質量 $m$ は一定で, $\\vec{F}$ が一定の場合の運動を考えます.\n",
        "- $\\vec{F}$ の向く方向に座標をとれば, 一次元($x$)の運動: 教科書  p30 図1-23 参照\n",
        "- 定積分の下限を決める初期値に注意して, 運動方程式を解いていく\n",
        "  - $t=0:\\qquad x(0)=x_0, \\quad v(0)=v_0$"
      ]
    },
    {
      "cell_type": "markdown",
      "metadata": {
        "id": "Il-wh6Hj8dtP"
      },
      "source": [
        "#### 運動方程式から任意の時間の速度へ\n",
        "$\\require{cancel}$\n",
        "\\begin{align*}\n",
        "m \\dfrac{{\\rm d} v}{{\\rm d} t} &= F\\\\\n",
        " \\dfrac{{\\rm d} v}{{\\rm d} t} {\\rm d} t &= \\dfrac{F}{m}\\ {\\rm d} t\\\\\n",
        "\\int_{int}^{fin} m \\dfrac{{\\rm d} v}{\\bcancel{{\\rm d} t}} \\bcancel{{\\rm d} t} &= \\int_{int}^{fin} \\dfrac{F}{m}\\ {\\rm d}\\  t\\\\\n",
        "%\\int_{(t=0)}^{(t)}  {{\\rm d} v} &= \\int_{0}^{t} \\dfrac{F}{m}\\ {\\rm d}\\  t\\\\\n",
        "\\int_{v_0}^{v}  {{\\rm d} v} &= \\int_{0}^{t} \\dfrac{F}{m}\\ {\\rm d}\\  t\\\\\n",
        "v - v_0 &= \\dfrac{F}{m} t\\\\\n",
        "v(t) &= v_0 + \\dfrac{F}{m} t\n",
        "\\end{align*}"
      ]
    },
    {
      "cell_type": "markdown",
      "metadata": {
        "id": "2m6No40c-656"
      },
      "source": [
        "##### 速度から位置へ"
      ]
    },
    {
      "cell_type": "markdown",
      "metadata": {
        "id": "rN8Lgw1K-__M"
      },
      "source": [
        "\\begin{align*}\n",
        "v(t)= \\dfrac{{\\rm d} x}{{\\rm d}t} &= v_0 + \\dfrac{F}{m} t\\\\\n",
        "\\dfrac{{\\rm d} x}{{\\rm d}t}\\ {\\rm d}t \n",
        "&= \\left(v_0 + \\dfrac{F}{m} t\\right)\\ {\\rm d}t\\\\\n",
        "\\int_{int}^{fin}\\dfrac{{\\rm d} x}{\\bcancel{{\\rm d}t}}\\ \\bcancel{{\\rm d}t} \n",
        "&= \\int_{int}^{fin} \\left(v_0 + \\dfrac{F}{m} t\\right)\\ {\\rm d}t\\\\\n",
        "\\int_{x_0}^{x} {{\\rm d} x} \n",
        "&= \\int_{0}^{t} \\left(v_0 + \\dfrac{F}{m} t\\right)\\ {\\rm d}t\\\\\n",
        "x - x_0 &= v_0 t + \\dfrac{F}{m}t^2\\\\\n",
        "x &= x_0 + v_0 t + \\dfrac{F}{m}t^2\n",
        "\\end{align*}"
      ]
    },
    {
      "cell_type": "markdown",
      "metadata": {
        "id": "hDZCr2ttAhfh"
      },
      "source": [
        "$F/m=a$ とすれば, 等速直線運動の関係式がえらえれる"
      ]
    },
    {
      "cell_type": "markdown",
      "metadata": {
        "id": "2Lne3WMYAp5w"
      },
      "source": [
        "### 重力が働く場合(空気抵抗が無視できる場合)\n",
        "\n",
        "\n"
      ]
    },
    {
      "cell_type": "markdown",
      "metadata": {
        "id": "CQ9qH1QGBX1u"
      },
      "source": [
        "\\begin{align*}\n",
        "\\begin{cases}\n",
        "m \\vec{a} = \\vec{F}\\\\\n",
        "\\vec{F} \n",
        "= \\left(\n",
        "  \\begin{array}{c} 0\\\\ -W\\end{array}\n",
        "  \\right)\n",
        "= \\left(\n",
        "  \\begin{array}{c} 0\\\\ -mg\\end{array}\n",
        "  \\right)\n",
        "\\end{cases}\n",
        "\\end{align*}\n",
        "このとき(ベクトル表現の)運動方程式を立てながらも, \n",
        "- 直交する単位ベクトル\n",
        "  - 水平右向き正 $:\\quad \\vec{e}_x= \\left(\\begin{array}{c} 1\\\\ 0\\end{array}\\right)$\n",
        "  - 鉛直上むき正 $:\\quad \\vec{e}_y= \\left(\\begin{array}{c} 0\\\\ 1\\end{array}\\right)$\n",
        "- $t=0$ での位置と初速度\n",
        "  - 原点 $: \\quad \\vec{r}(t=0)=\\vec{r}_0=\\left(\n",
        "  \\begin{array}{c} x_0\\\\ y_0\\end{array}\\right)$\n",
        "  - 初速度 $: \\vec{v}(t=0)=\\quad \\vec{v}_{0}=\\left(\n",
        "  \\begin{array}{c} v_{x0}\\\\ v_{y0}\\end{array}\n",
        "  \\right)$ \n",
        "- 重力の大きさ  $\\quad W = mg$\n",
        "\n",
        "を導入しています. この後は成分について分けて定積分を実行するだけです.\n",
        "\n",
        "もちろん座標を持ち込んだので\n",
        "\\begin{align*}\n",
        "\\vec{a}(t)= \\left(\n",
        "  \\begin{array}{c} a_x(t)\\\\ a_y(t)\\end{array} \n",
        "  \\right),\n",
        "\\qquad\n",
        "\\vec{v}(t)= \\left(\n",
        "  \\begin{array}{c} v_x(t)\\\\ v_y(t)\\end{array} \n",
        "  \\right),\n",
        "\\qquad\n",
        "\\vec{r}(t)= \\left(\n",
        "  \\begin{array}{c} x(t)\\\\ y(t)\\end{array} \n",
        "  \\right).\n",
        "\\end{align*}\n",
        "となります.\n",
        "\n"
      ]
    },
    {
      "cell_type": "markdown",
      "metadata": {
        "id": "qUcLNnZSMzI1"
      },
      "source": [
        "#### $x$ 成分\n",
        "\n"
      ]
    },
    {
      "cell_type": "markdown",
      "metadata": {
        "id": "bPdiQ8shOnla"
      },
      "source": [
        "##### 速度 $v_x$"
      ]
    },
    {
      "cell_type": "markdown",
      "metadata": {
        "id": "i70gP9rdNDt_"
      },
      "source": [
        "\n",
        "\\begin{align*}\n",
        "m a_x &= 0\\\\\n",
        "\\dfrac{{\\rm d} v_x}{{\\rm d} t} &= 0\\\\\n",
        "\\int_{int}^{fin}\\dfrac{{\\rm d} v_x}{{\\rm d} t} {{\\rm d} t} \n",
        "&= \\int_{int}^{fin} 0 {{\\rm d} t}\\\\\n",
        "v_x - v_{x0} &=0\\cdot (t-0)\\\\\n",
        "v_x(t) &= v_{x0}\n",
        "\\end{align*}"
      ]
    },
    {
      "cell_type": "markdown",
      "metadata": {
        "id": "9Euna7arOKiI"
      },
      "source": [
        "##### 位置 $x$\n"
      ]
    },
    {
      "cell_type": "markdown",
      "metadata": {
        "id": "Q1rrlTkQOSVc"
      },
      "source": [
        "\\begin{align*}\n",
        "v_x &= v_{x0}\\\\\n",
        "\\dfrac{{\\rm d} x}{{\\rm d} t} &= v_{x0}\\\\\n",
        " \\int_{int}^{fin} \\dfrac{{\\rm d} x}{{\\rm d} t} {{\\rm d} t} \n",
        " &= \\int_{int}^{fin} v_{x0} {{\\rm d} t}\\\\\n",
        "  x - x_0 &=v_{x0}(t-0)\\\\\n",
        "  x(t) &= x_0 + v_{x0}t\n",
        "\\end{align*}"
      ]
    },
    {
      "cell_type": "markdown",
      "metadata": {
        "id": "5MObovS0OrXf"
      },
      "source": [
        "#### $y$ 成分\n",
        "\n"
      ]
    },
    {
      "cell_type": "markdown",
      "metadata": {
        "id": "4_VASQqKOwED"
      },
      "source": [
        "##### 速度 $v_y$"
      ]
    },
    {
      "cell_type": "markdown",
      "metadata": {
        "id": "h6n2ycWWOylO"
      },
      "source": [
        "\\begin{align*}\n",
        "m a_y &= - mg\\\\\n",
        "\\dfrac{{\\rm d} v_y}{{\\rm d} t} &= -g\\\\\n",
        "\\int_{int}^{fin} \\dfrac{{\\rm d} v_y}{{\\rm d} t} {{\\rm d} t} \n",
        "&= \\int_{int}^{fin} (-g) {{\\rm d} t}\\\\\n",
        "v_y - v_{y0} &=-g\\cdot (t-0)\\\\\n",
        "v_y(t) &= v_{y0} - g t\n",
        "\\end{align*}"
      ]
    },
    {
      "cell_type": "markdown",
      "metadata": {
        "id": "BP2Uikr4QS0L"
      },
      "source": [
        "##### 位置 $y$"
      ]
    },
    {
      "cell_type": "markdown",
      "metadata": {
        "id": "VZoUorZtO8pc"
      },
      "source": [
        "\n",
        "\\begin{align*}\n",
        "v_y &= v_{y0} -gt\\\\\n",
        "\\dfrac{{\\rm d} y}{{\\rm d} t} &= v_{y0} - gt\\\\\n",
        "\\int_{int}^{fin} \\dfrac{{\\rm d} y}{{\\rm d} t} {{\\rm d} t} \n",
        "&= \\int_{int}^{fin}(v_{y0} - gt){{\\rm d} t} \\\\\n",
        "y - y_0 &=v_{x0}(t-0)-\\dfrac{1}{2}g (t^2-0^2)\\\\\n",
        "y(t) &= y_0 + v_{y0}t -\\dfrac{1}{2}g t^2\n",
        "\\end{align*}"
      ]
    },
    {
      "cell_type": "markdown",
      "metadata": {
        "id": "X_MyCiobQlEP"
      },
      "source": [
        "#### 加速度 $\\vec{a}, $速度 $\\vec{v}$, 位置 $\\vec{r}$"
      ]
    },
    {
      "cell_type": "markdown",
      "metadata": {
        "id": "UjLGte6pQxsr"
      },
      "source": [
        "\\begin{align*}\n",
        "\\vec{a}(t)= \\left(\n",
        "  \\begin{array}{c} 0 \\\\ -g\\end{array} \n",
        "  \\right),\n",
        "\\qquad\n",
        "\\vec{v}(t)= \\left(\n",
        "  \\begin{array}{c}\n",
        "  v_{x0}\n",
        "  \\\\\n",
        "  v_{y0}-gt\n",
        "  \\end{array} \n",
        "  \\right),\n",
        "\\qquad\n",
        "\\vec{r}(t)= \\left(\n",
        "  \\begin{array}{c}\n",
        "   x_0 + v_{x0}t\n",
        "   \\\\\n",
        "   y_0 + v_{y0}t - \\dfrac{1}{2}gt^2\n",
        "   \\end{array} \n",
        "  \\right).\n",
        "\\end{align*}"
      ]
    },
    {
      "cell_type": "markdown",
      "metadata": {
        "id": "v24WgkFjRlrw"
      },
      "source": [
        "### 重力と空気抵抗が働く場合\n",
        "\n",
        "\n"
      ]
    },
    {
      "cell_type": "markdown",
      "metadata": {
        "id": "kAK0zHqcRzAg"
      },
      "source": [
        "鉛直投げ上げ運動に速度と逆向きの抵抗が働く事を考えます."
      ]
    },
    {
      "cell_type": "markdown",
      "metadata": {
        "id": "4A7wnGJKR-nY"
      },
      "source": [
        "##### 空気抵抗のない鉛直投げ上げ運動"
      ]
    },
    {
      "cell_type": "markdown",
      "metadata": {
        "id": "eUCzLLQSSFLC"
      },
      "source": [
        "$\\require{cancel}$\n",
        "\\begin{align*}\n",
        "\\begin{cases}\n",
        "m \\vec{a} = \\vec{F}\\\\\n",
        "\\vec{F} \n",
        "= \\left(\n",
        "  \\begin{array}{c} 0\\\\ W\\end{array}\n",
        "  \\right)\n",
        "= \\left(\n",
        "  \\begin{array}{c} 0\\\\ -mg\\end{array}\n",
        "  \\right)\n",
        "\\end{cases},\n",
        "\\qquad\n",
        "\\vec{e}_x= \\left(\\begin{array}{c} 1\\\\ 0\\end{array}\\right),\n",
        "\\quad\n",
        "\\vec{e}_y= \\left(\\begin{array}{c} 0\\\\ 1\\end{array}\\right),\n",
        "\\qquad\n",
        "\\vec{v}(t=0)=\\left(\n",
        "  \\begin{array}{c} 0 \\\\ v_0\\end{array}\n",
        "  \\right),\n",
        "\\qquad\n",
        "\\vec{r}(t=0)=\\left(\n",
        "  \\begin{array}{c} 0 \\\\ 0\\end{array}\n",
        "  \\right),  \n",
        "\\end{align*}"
      ]
    },
    {
      "cell_type": "markdown",
      "metadata": {
        "id": "wUCFy7RhTkMZ"
      },
      "source": [
        "ここでは鉛直方向 $y$ のみを考えているので, 一次元に簡略化します:\n"
      ]
    },
    {
      "cell_type": "markdown",
      "metadata": {
        "id": "jiBvuNi6TxY2"
      },
      "source": [
        "\\begin{align*}\n",
        "m a&= - mg, \\quad v(t=0)=v_0, \\quad y(t=0)=0\n",
        "\\end{align*}"
      ]
    },
    {
      "cell_type": "markdown",
      "metadata": {
        "id": "M6e427p5Ub8e"
      },
      "source": [
        "#### 空気抵抗の補正項の追加\n",
        "\n",
        "空気抵抗は物体の速度を変化させるため, 力として加わります.  \n",
        "そこで, 空気抵抗の無い場合の運動方程式を参照して運動方程式を組み立てます."
      ]
    },
    {
      "cell_type": "markdown",
      "metadata": {
        "id": "ZcJQaD8hU_xG"
      },
      "source": [
        "\\begin{align*}\n",
        "m a&= - mg - k v\\\\\n",
        "&= - mg - m \\gamma v\n",
        "\\end{align*}\n",
        "教科書では, 質量に大きさが比例する事を意識して,   \n",
        "抵抗項も質量に依存するとしています.   \n",
        "こうする事で運動方程式が簡潔に解くことができます"
      ]
    },
    {
      "cell_type": "markdown",
      "metadata": {
        "id": "s0YiWcffVwMd"
      },
      "source": [
        "##### 定積分の実行\n",
        "初期条件($t=0$の条件)に注意して下さい."
      ]
    },
    {
      "cell_type": "markdown",
      "metadata": {
        "id": "9VTf49FjV6zx"
      },
      "source": [
        "\\begin{align*}\n",
        " a&= - g - \\gamma v\\\\\n",
        "\\dfrac{{\\rm d} v}{{\\rm d}t}&= - g - \\gamma v\\\\\n",
        "\\end{align*}"
      ]
    },
    {
      "cell_type": "markdown",
      "metadata": {
        "id": "BipHYBtsWaSC"
      },
      "source": [
        "上記の積分を実行する(微分方程式を解く)には, 同じ変数を一つの辺に集中させると解くことができます.  \n",
        "$v$ について積分する事を踏まえて $v$ の係数を簡潔にしておきましょう"
      ]
    },
    {
      "cell_type": "markdown",
      "metadata": {
        "id": "ORT9XR_XW3uH"
      },
      "source": [
        "\\begin{align*}\n",
        "\\dfrac{{\\rm d} v}{{\\rm d}t}&= - \\gamma\\left(\\dfrac{g}{\\gamma} +  v\\right)\\\\\n",
        "\\end{align*}"
      ]
    },
    {
      "cell_type": "markdown",
      "metadata": {
        "id": "NrJzdLBBXNPe"
      },
      "source": [
        "ここで $v_1(t)=\\left( \\frac{g}{\\gamma} + v\\right)$ とすると,  $\\frac{{\\rm d} v_1}{{\\rm d}t}  = \\frac{{\\rm d} v}{{\\rm d}t}$ なので"
      ]
    },
    {
      "cell_type": "markdown",
      "metadata": {
        "id": "VlGEFBVpXuNp"
      },
      "source": [
        "\\begin{align*}\n",
        "\\dfrac{{\\rm d} v_1}{{\\rm d}t}&= - \\gamma v_1\\\\\n",
        "\\dfrac{1}{v_1}\\dfrac{{\\rm d} v_1}{{\\rm d}t}&= - \\gamma \\\\\n",
        "\\int_{int}^{fin} \\dfrac{1}{v_1}\\dfrac{{\\rm d} v_1}{{\\rm d}t}{{\\rm d}t}\n",
        "&= \\int_{int}^{fin}(- \\gamma){{\\rm d}t} \\\\\n",
        "\\Big[ \\ln v_1 \\Big|_{v_{10}}^{v_1} &= -\\gamma\\cdot (t-0)\\\\\n",
        "\\ln v_1(t) &= -\\gamma t + c\\\\\n",
        "v_1(t) &=  e^{- \\gamma t+c} = e^c \\cdot  e^{- \\gamma t}\\\\\n",
        "&= C e^{- \\gamma t}\n",
        "\\end{align*}"
      ]
    },
    {
      "cell_type": "markdown",
      "metadata": {
        "id": "p9uswzFj9URW"
      },
      "source": [
        "---\n",
        "- [KIT STEM: 対数関数の導関数(微分)](http://w3e.kanazawa-it.ac.jp/math/category/sisuu-taisuu/henkan-tex.cgi?target=/math/category/sisuu-taisuu/taisuu-bibun.html)\n",
        "- [KIT STEM: 対数微分法](http://w3e.kanazawa-it.ac.jp/math/category/bibun/henkan-tex.cgi?target=/math/category/bibun/taisuubibunhou.html)"
      ]
    },
    {
      "cell_type": "markdown",
      "metadata": {
        "id": "vV4TNNwWZHG5"
      },
      "source": [
        "元へ戻し"
      ]
    },
    {
      "cell_type": "markdown",
      "metadata": {
        "id": "-VmvVGWJZK2E"
      },
      "source": [
        "\\begin{align*}\n",
        "v(t) &= C e^{- \\gamma t}　- \\dfrac{g}{\\gamma}\n",
        "\\end{align*}"
      ]
    },
    {
      "cell_type": "markdown",
      "metadata": {
        "id": "xLqx-2fqa5BQ"
      },
      "source": [
        "###### 雨粒の速度"
      ]
    },
    {
      "cell_type": "markdown",
      "metadata": {
        "id": "hdEuplDLZy9L"
      },
      "source": [
        "教科書ではここでこの問題を自由落下の問題として, \n",
        "> 初期条件 $\\quad v(t=0)=0$\n",
        "\n",
        "を代入し, 雨粒のように空気抵抗を受けて落下する物体の速度を導出しています.\n",
        "\n",
        "$\\require{cancel}$\n",
        "\\begin{align*}\n",
        "v(0) &= C \\cancelto{1}{e^{- \\gamma 0}}　- \\dfrac{g}{\\gamma}\\\\\n",
        "v(t) &=  \\dfrac{g}{\\gamma}\\left(e^{- \\gamma t}　- 1\\right)\\\\\n",
        "&\\buildrel t \\to \\infty \\over \\longrightarrow - \\dfrac{g}{\\gamma}\n",
        "\\end{align*}"
      ]
    },
    {
      "cell_type": "markdown",
      "metadata": {
        "id": "fyiYKh5748Ap"
      },
      "source": [
        "##### 鉛直投げ上げ + 初速度あり"
      ]
    },
    {
      "cell_type": "markdown",
      "metadata": {
        "id": "EAbYPep45TwU"
      },
      "source": [
        "> 初期条件 $\\quad v(t=0)=v_0 >0$\n",
        "\n",
        "のときには\n",
        "\n"
      ]
    },
    {
      "cell_type": "markdown",
      "metadata": {
        "id": "yQ05KLGl5hgC"
      },
      "source": [
        "\\begin{align*}\n",
        "v(0) &= v_0 = C \\cancelto{1}{e^{- \\gamma 0}}　- \\dfrac{g}{\\gamma}\n",
        "\\end{align*}\n",
        "を用いて\n"
      ]
    },
    {
      "cell_type": "markdown",
      "metadata": {
        "id": "kf2yc0wT51ky"
      },
      "source": [
        "\\begin{align*}\n",
        "v(t) &= \\left(  v_0 + \\dfrac{g}{\\gamma}\\right) e^{- \\gamma t}　- \\dfrac{g}{\\gamma}\n",
        "\\end{align*}\n",
        "となる.\n",
        "\n",
        "この解も極限状態を取ると雨粒の速度と等しくなる\n",
        "\\begin{align*}\n",
        "v(t) &= \\left(  v_0 + \\dfrac{g}{\\gamma}\\right) e^{- \\gamma t}　- \\dfrac{g}{\\gamma}\n",
        "&\\buildrel t \\to \\infty \\over \\longrightarrow - \\dfrac{g}{\\gamma}\n",
        "\\end{align*}\n"
      ]
    },
    {
      "cell_type": "markdown",
      "metadata": {
        "id": "6Bhfmfjs-i2R"
      },
      "source": [
        "###### 一次のマクローリン展開"
      ]
    },
    {
      "cell_type": "markdown",
      "metadata": {
        "id": "ArUZ-VAy-rjM"
      },
      "source": [
        "微分の定義を緩めて考えると\n",
        "\\begin{align*}\n",
        "f'(x) &\\approx \\dfrac{f(x+\\Delta x) - f (x)}{\\Delta x}\\\\\n",
        "f(x+\\Delta x) &\\approx f(x) + f'(x) \\Delta x,\n",
        "\\end{align*}\n",
        "\n",
        "ここで $x\\to 0, \\Delta x \\to x $ と改めて置き直すと\n",
        "\\begin{align*}\n",
        "f(x) &\\approx f(0) + f'(0) x\n",
        "\\end{align*}\n",
        "これは $x$ が充分小さいときに成り立つ近似式です.\n",
        "\n",
        "一次のテーラー展開を原点近傍で調べたものに対応しています. [KIT, テイラー展開](http://w3e.kanazawa-it.ac.jp/math/category/suuretu/suuretu/henkan-tex.cgi?target=/math/category/suuretu/suuretu/taylor.html)\n"
      ]
    },
    {
      "cell_type": "markdown",
      "metadata": {
        "id": "3VUaTA9L8n_a"
      },
      "source": [
        "##### 近似: $\\gamma << 1$ "
      ]
    },
    {
      "cell_type": "markdown",
      "metadata": {
        "id": "JU33i_E18zr1"
      },
      "source": [
        "この条件では, 空気抵抗の影響が小さいことを示しています:\n",
        "\\begin{align*}\n",
        "m a&=- mg - m \\gamma v, \\qquad v(0) = v_0 \n",
        "\\end{align*}\n"
      ]
    },
    {
      "cell_type": "markdown",
      "metadata": {
        "id": "fp7TjRbT-Wzr"
      },
      "source": [
        "$\\require{cancel}$\n",
        "この条件をこれまで求めた解から求めてみましょう:\n",
        "\\begin{align*}\n",
        "v(t) &= \\left(  v_0 + \\dfrac{g}{\\gamma}\\right) e^{- \\gamma t}　- \\dfrac{g}{\\gamma}\n",
        "\\end{align*}\n",
        "\n",
        "\\begin{align*}\n",
        "e^{- \\gamma t}　\\approx 1 +(-\\gamma)e^{-\\gamma\\cdot0}t = 1 - \\gamma t\n",
        "\\end{align*}\n",
        "\n",
        "\\begin{align*}\n",
        "v(t) &\\approx  \\left(  v_0 + \\dfrac{g}{\\gamma}\\right) (1 -\\gamma t)　- \\dfrac{g}{\\gamma}\\\\\n",
        "&= v_0 + \\bcancel{\\dfrac{g}{\\gamma}} - v_0\\gamma t - gt - \\bcancel{\\dfrac{g}{\\gamma}}\\\\\n",
        "&\\approx v_0 - gt\n",
        "\\end{align*}\n"
      ]
    },
    {
      "cell_type": "markdown",
      "metadata": {
        "id": "nJq5Qs_RCKMl"
      },
      "source": [
        "> Q. この近似で得られた関係式はどのような運動に対応するか考えて下さい."
      ]
    }
  ]
}