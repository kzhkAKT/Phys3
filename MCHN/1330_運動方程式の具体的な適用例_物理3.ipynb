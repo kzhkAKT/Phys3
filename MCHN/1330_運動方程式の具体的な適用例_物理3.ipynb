{
  "nbformat": 4,
  "nbformat_minor": 0,
  "metadata": {
    "colab": {
      "name": "1330_運動方程式の具体的な適用例_物理3.ipynb",
      "provenance": [],
      "collapsed_sections": [],
      "toc_visible": true,
      "authorship_tag": "ABX9TyNKKbjCBqsFb6IU6sXhZvAY",
      "include_colab_link": true
    },
    "kernelspec": {
      "name": "python3",
      "display_name": "Python 3"
    }
  },
  "cells": [
    {
      "cell_type": "markdown",
      "metadata": {
        "id": "view-in-github",
        "colab_type": "text"
      },
      "source": [
        "<a href=\"https://colab.research.google.com/github/kzhkAKT/Physics3/blob/draft/MCHN/1330_%E9%81%8B%E5%8B%95%E6%96%B9%E7%A8%8B%E5%BC%8F%E3%81%AE%E5%85%B7%E4%BD%93%E7%9A%84%E3%81%AA%E9%81%A9%E7%94%A8%E4%BE%8B_%E7%89%A9%E7%90%863.ipynb\" target=\"_parent\"><img src=\"https://colab.research.google.com/assets/colab-badge.svg\" alt=\"Open In Colab\"/></a>"
      ]
    },
    {
      "cell_type": "markdown",
      "metadata": {
        "id": "xnyXynZI5sZ1"
      },
      "source": [
        "# 質点系の力学"
      ]
    },
    {
      "cell_type": "markdown",
      "metadata": {
        "id": "JRqnLj_z5wiU"
      },
      "source": [
        "## 運動方程式とその適用例"
      ]
    },
    {
      "cell_type": "markdown",
      "metadata": {
        "id": "8uMukF_O8Bym"
      },
      "source": [
        "### 運動方程式の具体的な適用例"
      ]
    },
    {
      "cell_type": "markdown",
      "metadata": {
        "id": "Ebk9tCYJ8HnU"
      },
      "source": [
        "#### 一定の外力が働く場合\n",
        "\n",
        "物体の質量 $m$ は一定で, $\\vec{F}$ が一定の場合の運動を考えます.\n",
        "- $\\vec{F}$ の向く方向に座標をとれば, 一次元($x$)の運動: 教科書  p30 図1-23 参照\n",
        "- 定積分の下限を決める初期値に注意して, 運動方程式を解いていく\n",
        "  - $t=0:\\qquad x(0)=x_0, \\quad v(0)=v_0$"
      ]
    },
    {
      "cell_type": "markdown",
      "metadata": {
        "id": "Il-wh6Hj8dtP"
      },
      "source": [
        "##### 運動方程式から任意の時間の速度へ\n",
        "$\\require{cancel}$\n",
        "\\begin{align*}\n",
        "m \\dfrac{{\\rm d} v}{{\\rm d} t} &= F\\\\\n",
        " \\dfrac{{\\rm d} v}{{\\rm d} t} {\\rm d} t &= \\dfrac{F}{m}\\ {\\rm d} t\\\\\n",
        "\\int_{int}^{fin} m \\dfrac{{\\rm d} v}{\\bcancel{{\\rm d} t}} \\bcancel{{\\rm d} t} &= \\int_{int}^{fin} \\dfrac{F}{m}\\ {\\rm d}\\  t\\\\\n",
        "%\\int_{(t=0)}^{(t)}  {{\\rm d} v} &= \\int_{0}^{t} \\dfrac{F}{m}\\ {\\rm d}\\  t\\\\\n",
        "\\int_{v_0}^{v}  {{\\rm d} v} &= \\int_{0}^{t} \\dfrac{F}{m}\\ {\\rm d}\\  t\\\\\n",
        "v - v_0 &= \\dfrac{F}{m} t\\\\\n",
        "v(t) &= v_0 + \\dfrac{F}{m} t\n",
        "\\end{align*}"
      ]
    },
    {
      "cell_type": "markdown",
      "metadata": {
        "id": "2m6No40c-656"
      },
      "source": [
        "##### 速度から位置へ"
      ]
    },
    {
      "cell_type": "markdown",
      "metadata": {
        "id": "rN8Lgw1K-__M"
      },
      "source": [
        "\\begin{align*}\n",
        "v(t)= \\dfrac{{\\rm d} x}{{\\rm d}t} &= v_0 + \\dfrac{F}{m} t\\\\\n",
        "\\dfrac{{\\rm d} x}{{\\rm d}t}\\ {\\rm d}t \n",
        "&= \\left(v_0 + \\dfrac{F}{m} t\\right)\\ {\\rm d}t\\\\\n",
        "\\int_{int}^{fin}\\dfrac{{\\rm d} x}{\\bcancel{{\\rm d}t}}\\ \\bcancel{{\\rm d}t} \n",
        "&= \\int_{int}^{fin} \\left(v_0 + \\dfrac{F}{m} t\\right)\\ {\\rm d}t\\\\\n",
        "\\int_{x_0}^{x} {{\\rm d} x} \n",
        "&= \\int_{0}^{t} \\left(v_0 + \\dfrac{F}{m} t\\right)\\ {\\rm d}t\\\\\n",
        "x - x_0 &= v_0 t + \\dfrac{F}{m}t^2\\\\\n",
        "x &= x_0 + v_0 t + \\dfrac{F}{m}t^2\n",
        "\\end{align*}"
      ]
    },
    {
      "cell_type": "markdown",
      "metadata": {
        "id": "hDZCr2ttAhfh"
      },
      "source": [
        "$F/m=a$ とすれば, 等速直線運動の関係式がえらえれる"
      ]
    },
    {
      "cell_type": "markdown",
      "metadata": {
        "id": "2Lne3WMYAp5w"
      },
      "source": [
        "#### 重力が働く場合(空気抵抗が無視できる場合)\n",
        "\n",
        "\n"
      ]
    },
    {
      "cell_type": "markdown",
      "metadata": {
        "id": "CQ9qH1QGBX1u"
      },
      "source": [
        "\\begin{align*}\n",
        "\\begin{cases}\n",
        "m \\vec{a} = \\vec{F}\\\\\n",
        "\\vec{F} = (0 , - W) = ( 0 , - mg)\n",
        "\\end{cases}\n",
        "\\end{align*}"
      ]
    }
  ]
}