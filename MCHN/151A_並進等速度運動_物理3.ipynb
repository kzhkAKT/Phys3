{
  "nbformat": 4,
  "nbformat_minor": 0,
  "metadata": {
    "colab": {
      "name": "151A_座標系_物理3.ipynb",
      "provenance": [],
      "collapsed_sections": [],
      "toc_visible": true,
      "authorship_tag": "ABX9TyNIGpCTZNLDXKZb/lWGMJn5",
      "include_colab_link": true
    },
    "kernelspec": {
      "name": "python3",
      "display_name": "Python 3"
    }
  },
  "cells": [
    {
      "cell_type": "markdown",
      "metadata": {
        "id": "view-in-github",
        "colab_type": "text"
      },
      "source": [
        "<a href=\"https://colab.research.google.com/github/kzhkAKT/Physics3/blob/draft/MCHN/151A_%E5%BA%A7%E6%A8%99%E7%B3%BB_%E7%89%A9%E7%90%863.ipynb\" target=\"_parent\"><img src=\"https://colab.research.google.com/assets/colab-badge.svg\" alt=\"Open In Colab\"/></a>"
      ]
    },
    {
      "cell_type": "markdown",
      "metadata": {
        "id": "f7pTFkDMxp7P"
      },
      "source": [
        "# 座標変換と慣性力"
      ]
    },
    {
      "cell_type": "markdown",
      "metadata": {
        "id": "U7W6i9fu3Kdr"
      },
      "source": [
        "## 並進方向に等速度運動している座標系"
      ]
    },
    {
      "cell_type": "markdown",
      "metadata": {
        "id": "yewIdtjI3fF7"
      },
      "source": [
        "1. はじめの reference system / $R$ 系\n",
        "  - $R$ 系 での原点 ${\\rm O}$ に注目し, (絶対静止系から見た)その等速度を $\\vec{V}_{{\\rm O}:r}$ とします\n",
        "\n",
        "2. $R$ 系にからみて等速度 $\\vec{V}$ で動いている 別の reference system / $R'$ 系\n",
        "  - $R'$ 系 での原点 ${\\rm O'}$ に注目, その等速度を $\\vec{V}_{{\\rm O'}:r}$\n",
        "\n",
        "\n",
        "($R$系に対する)$R'$ 系の相対速度 は\n",
        ">\\begin{align}\n",
        "\\vec{V} = \\vec{V}_{{\\rm O'}:r}- \\vec{V}_{{\\rm O}:r}\n",
        "\\end{align}\n",
        "\n",
        "これが教科書 p53 (1-130) に相当します.\n",
        "\n"
      ]
    },
    {
      "cell_type": "markdown",
      "metadata": {
        "id": "JYq_QH2agiMP"
      },
      "source": [
        "$R$系 から見た $R'$系が等速度 $\\vec{V}$ で動くとします.\n",
        "\n",
        "- 時間が $t$ 進むと, $R$ 系 で原点 $O$ が$\\vec{V}t$ だけ並進運動し,  $O'$ に移動します\n",
        "\n",
        "- それぞれの座標系から, 一つの質点の運動観察します\n",
        "\n",
        "  物体の運動を\n",
        "  - $R$ 系から見た位置ベクトルを $\\vec{r}$\n",
        "  - $R'$ 系から見た位置ベクトルを $\\vec{r'}$\n",
        "\n",
        "---\n",
        "物体は一つで, $R$系 と $R'$系 の二つの座標系から観察しています\n"
      ]
    },
    {
      "cell_type": "markdown",
      "metadata": {
        "id": "Sllh0-Rq8VCg"
      },
      "source": [
        "$\\vec{r}, \\vec{r'}, \\vec{V}t$ の関係を整理すると(教科書 p53 図1-36 参照)\n",
        "\\begin{align}\n",
        "\\vec{r} &= \\vec{r'} + \\vec{V} t\n",
        "\\end{align}\n",
        "これを等速度運動している $R'$系 で捉え直すと\n",
        "\\begin{align}\n",
        "\\vec{r'} &= \\vec{r} - \\vec{V} t\n",
        "\\end{align}"
      ]
    },
    {
      "cell_type": "markdown",
      "metadata": {
        "id": "H6Hsm8SN9jfm"
      },
      "source": [
        "### $R'$系 での 速度 $\\vec{v'}=\\frac{{\\rm d}\\vec{r'}}{{\\rm d}t}$\n",
        "\n",
        "\\begin{align}\n",
        "\\dfrac{{\\rm d}\\vec{r'}}{{\\rm d}t}\n",
        "&= \\dfrac{{\\rm d}}{{\\rm d}t} \\left( \\vec{r} - V t\\right)\n",
        "= \\dfrac{{\\rm d}\\vec{r}}{{\\rm d}t}\n",
        "-\n",
        "\\dfrac{{\\rm d}(V t)}{{\\rm d}t}\\\\[2mm]\n",
        "\\dfrac{{\\rm d}\\vec{r'}}{{\\rm d}t}&= \\dfrac{{\\rm d}\\vec{r}}{{\\rm d}t} - \\vec{V}\n",
        "\\end{align}\n",
        "\n",
        "---\n",
        "(簡単のために)時間の経過は, $R,R'$系で等しいとしています."
      ]
    },
    {
      "cell_type": "markdown",
      "metadata": {
        "id": "Vol0f-qi-2oO"
      },
      "source": [
        "### $R'$系 での 加速度 $\\vec{a'}$\n",
        "\\begin{align}\n",
        "\\dfrac{{\\rm d}\\vec{r'}}{{\\rm d}t}\n",
        "&= \\dfrac{{\\rm d}\\vec{r}}{{\\rm d}t} - \\vec{V}\n",
        "\\end{align}\n",
        "$R'$系で観測した物体の加速度を求めるために, 上式をさらに時間で微分すると\n",
        "\\begin{align}\n",
        "\\dfrac{{\\rm d^2}\\vec{r'}}{{\\rm d}t^2}\n",
        "&= \\dfrac{{\\rm d^2}\\vec{r}}{{\\rm d}t^2} - 0\\\\[2mm]\n",
        "\\dfrac{{\\rm d^2}\\vec{r'}}{{\\rm d}t^2}\n",
        "&= \\dfrac{{\\rm d^2}\\vec{r}}{{\\rm d}t^2}\n",
        "\\end{align}\n"
      ]
    },
    {
      "cell_type": "markdown",
      "metadata": {
        "id": "orzgflbX1iNu"
      },
      "source": [
        "### $R, R'$ 系での運動方程式\n",
        "\n",
        "運動方程式によって, 物体の運動を追跡することができました.\n",
        "\n",
        "これまでの考察を整理すると\n",
        "\n",
        "> (静止を含む)**等速度運動**する $R'$ 系で物体の運動を観測しても, 運動方程式は影響を受けないことがわかります\n",
        "\\begin{align}\n",
        "m \\dfrac{{\\rm d^2}\\vec{r'}}{{\\rm d}t^2}\n",
        "&= m \\dfrac{{\\rm d^2}\\vec{r}}{{\\rm d}t^2} = \\vec{F}\\\\[1mm]\n",
        "m \\vec{a'} & = m \\vec{a} = \\vec{F}\n",
        "\\end{align}\n",
        "\n",
        "---\n",
        "(簡単のために)時間の経過は, $R,R'$系で等しいとしています."
      ]
    }
  ]
}
