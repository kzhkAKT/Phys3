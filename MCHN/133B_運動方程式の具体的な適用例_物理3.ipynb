{
  "nbformat": 4,
  "nbformat_minor": 0,
  "metadata": {
    "colab": {
      "name": "133B_運動方程式の具体的な適用例_物理3.ipynb",
      "provenance": [],
      "collapsed_sections": [],
      "authorship_tag": "ABX9TyOeMahooa67QbHcM92ZUKZB",
      "include_colab_link": true
    },
    "kernelspec": {
      "name": "python3",
      "display_name": "Python 3"
    }
  },
  "cells": [
    {
      "cell_type": "markdown",
      "metadata": {
        "id": "view-in-github",
        "colab_type": "text"
      },
      "source": [
        "<a href=\"https://colab.research.google.com/github/kzhkAKT/Physics3/blob/draft/MCHN/133B_%E9%81%8B%E5%8B%95%E6%96%B9%E7%A8%8B%E5%BC%8F%E3%81%AE%E5%85%B7%E4%BD%93%E7%9A%84%E3%81%AA%E9%81%A9%E7%94%A8%E4%BE%8B_%E7%89%A9%E7%90%863.ipynb\" target=\"_parent\"><img src=\"https://colab.research.google.com/assets/colab-badge.svg\" alt=\"Open In Colab\"/></a>"
      ]
    },
    {
      "cell_type": "markdown",
      "metadata": {
        "id": "xnyXynZI5sZ1"
      },
      "source": [
        "# 質点系の力学"
      ]
    },
    {
      "cell_type": "markdown",
      "metadata": {
        "id": "JRqnLj_z5wiU"
      },
      "source": [
        "## 運動方程式とその適用例"
      ]
    },
    {
      "cell_type": "markdown",
      "metadata": {
        "id": "8uMukF_O8Bym"
      },
      "source": [
        "### 運動方程式の具体的な適用例"
      ]
    },
    {
      "cell_type": "markdown",
      "metadata": {
        "id": "2Lne3WMYAp5w"
      },
      "source": [
        "### 重力が働く場合(空気抵抗が無視できる場合)\n",
        "\n",
        "教科書 p31 図 1-24 を参照し, 初期条件と軌跡を確認\n",
        "\n",
        "\n"
      ]
    },
    {
      "cell_type": "code",
      "metadata": {
        "id": "LDTC8i1w4NWQ",
        "cellView": "form",
        "outputId": "8d14dc3a-38a5-4948-d088-3e1af6cef44a",
        "colab": {
          "base_uri": "https://localhost:8080/",
          "height": 475
        }
      },
      "source": [
        "#@title 平面運動の典型的な例:斜め投げ上げ運動\n",
        "%%html\n",
        "<iframe src=\"https://phet.colorado.edu/sims/html/projectile-motion/latest/projectile-motion_en.html\" width=\"600\" height=\"450\" scrolling=\"no\" allowfullscreen></iframe>"
      ],
      "execution_count": null,
      "outputs": [
        {
          "output_type": "display_data",
          "data": {
            "text/html": [
              "<iframe src=\"https://phet.colorado.edu/sims/html/projectile-motion/latest/projectile-motion_en.html\" width=\"600\" height=\"450\" scrolling=\"no\" allowfullscreen></iframe>"
            ],
            "text/plain": [
              "<IPython.core.display.HTML object>"
            ]
          },
          "metadata": {
            "tags": []
          }
        }
      ]
    },
    {
      "cell_type": "markdown",
      "metadata": {
        "id": "CQ9qH1QGBX1u"
      },
      "source": [
        "\\begin{align*}\n",
        "\\begin{cases}\n",
        "m \\vec{a} = \\vec{F}\\\\\n",
        "\\vec{F} \n",
        "= \\left(\n",
        "  \\begin{array}{c} 0\\\\ -W\\end{array}\n",
        "  \\right)\n",
        "= \\left(\n",
        "  \\begin{array}{c} 0\\\\ -mg\\end{array}\n",
        "  \\right)\n",
        "\\end{cases}\n",
        "\\end{align*}\n",
        "このとき(ベクトル表現の)運動方程式を立てながらも, \n",
        "- 直交する単位ベクトル\n",
        "  - 水平右向き正 $:\\quad \\vec{e}_x= \\left(\\begin{array}{c} 1\\\\ 0\\end{array}\\right)$\n",
        "  - 鉛直上むき正 $:\\quad \\vec{e}_y= \\left(\\begin{array}{c} 0\\\\ 1\\end{array}\\right)$\n",
        "- $t=0$ での位置と初速度\n",
        "  - 原点 $: \\quad \\vec{r}(t=0)=\\vec{r}_0=\\left(\n",
        "  \\begin{array}{c} x_0\\\\ y_0\\end{array}\\right)$\n",
        "  - 初速度 $: \\vec{v}(t=0)=\\quad \\vec{v}_{0}=\\left(\n",
        "  \\begin{array}{c} v_{x0}\\\\ v_{y0}\\end{array}\n",
        "  \\right)$ \n",
        "- 重力の大きさ  $\\quad W = mg$\n",
        "\n",
        "を導入しています. この後は成分について分けて定積分を実行するだけです.\n",
        "\n",
        "もちろん座標を持ち込んだので\n",
        "\\begin{align*}\n",
        "\\vec{a}(t)= \\left(\n",
        "  \\begin{array}{c} a_x(t)\\\\ a_y(t)\\end{array} \n",
        "  \\right),\n",
        "\\qquad\n",
        "\\vec{v}(t)= \\left(\n",
        "  \\begin{array}{c} v_x(t)\\\\ v_y(t)\\end{array} \n",
        "  \\right),\n",
        "\\qquad\n",
        "\\vec{r}(t)= \\left(\n",
        "  \\begin{array}{c} x(t)\\\\ y(t)\\end{array} \n",
        "  \\right).\n",
        "\\end{align*}\n",
        "となります.\n",
        "\n"
      ]
    },
    {
      "cell_type": "markdown",
      "metadata": {
        "id": "qUcLNnZSMzI1"
      },
      "source": [
        "#### $x$ 成分\n",
        "\n"
      ]
    },
    {
      "cell_type": "markdown",
      "metadata": {
        "id": "bPdiQ8shOnla"
      },
      "source": [
        "##### 速度 $v_x$"
      ]
    },
    {
      "cell_type": "markdown",
      "metadata": {
        "id": "i70gP9rdNDt_"
      },
      "source": [
        "\n",
        "\\begin{align*}\n",
        "m a_x &= 0\\\\\n",
        "\\dfrac{{\\rm d} v_x}{{\\rm d} t} &= 0\\\\\n",
        "\\int_{int}^{fin}\\dfrac{{\\rm d} v_x}{{\\rm d} t} {{\\rm d} t} \n",
        "&= \\int_{int}^{fin} 0 {{\\rm d} t}\\\\\n",
        "v_x - v_{x0} &=0\\cdot (t-0)\\\\\n",
        "v_x(t) &= v_{x0}\n",
        "\\end{align*}"
      ]
    },
    {
      "cell_type": "markdown",
      "metadata": {
        "id": "9Euna7arOKiI"
      },
      "source": [
        "##### 位置 $x$\n"
      ]
    },
    {
      "cell_type": "markdown",
      "metadata": {
        "id": "Q1rrlTkQOSVc"
      },
      "source": [
        "\\begin{align*}\n",
        "v_x &= v_{x0}\\\\\n",
        "\\dfrac{{\\rm d} x}{{\\rm d} t} &= v_{x0}\\\\\n",
        " \\int_{int}^{fin} \\dfrac{{\\rm d} x}{{\\rm d} t} {{\\rm d} t} \n",
        " &= \\int_{int}^{fin} v_{x0} {{\\rm d} t}\\\\\n",
        "  x - x_0 &=v_{x0}(t-0)\\\\\n",
        "  x(t) &= x_0 + v_{x0}t\n",
        "\\end{align*}"
      ]
    },
    {
      "cell_type": "markdown",
      "metadata": {
        "id": "5MObovS0OrXf"
      },
      "source": [
        "#### $y$ 成分\n",
        "\n"
      ]
    },
    {
      "cell_type": "markdown",
      "metadata": {
        "id": "4_VASQqKOwED"
      },
      "source": [
        "##### 速度 $v_y$"
      ]
    },
    {
      "cell_type": "markdown",
      "metadata": {
        "id": "h6n2ycWWOylO"
      },
      "source": [
        "\\begin{align*}\n",
        "m a_y &= - mg\\\\\n",
        "\\dfrac{{\\rm d} v_y}{{\\rm d} t} &= -g\\\\\n",
        "\\int_{int}^{fin} \\dfrac{{\\rm d} v_y}{{\\rm d} t} {{\\rm d} t} \n",
        "&= \\int_{int}^{fin} (-g) {{\\rm d} t}\\\\\n",
        "v_y - v_{y0} &=-g\\cdot (t-0)\\\\\n",
        "v_y(t) &= v_{y0} - g t\n",
        "\\end{align*}"
      ]
    },
    {
      "cell_type": "markdown",
      "metadata": {
        "id": "BP2Uikr4QS0L"
      },
      "source": [
        "##### 位置 $y$"
      ]
    },
    {
      "cell_type": "markdown",
      "metadata": {
        "id": "VZoUorZtO8pc"
      },
      "source": [
        "\n",
        "\\begin{align*}\n",
        "v_y &= v_{y0} -gt\\\\\n",
        "\\dfrac{{\\rm d} y}{{\\rm d} t} &= v_{y0} - gt\\\\\n",
        "\\int_{int}^{fin} \\dfrac{{\\rm d} y}{{\\rm d} t} {{\\rm d} t} \n",
        "&= \\int_{int}^{fin}(v_{y0} - gt){{\\rm d} t} \\\\\n",
        "y - y_0 &=v_{x0}(t-0)-\\dfrac{1}{2}g (t^2-0^2)\\\\\n",
        "y(t) &= y_0 + v_{y0}t -\\dfrac{1}{2}g t^2\n",
        "\\end{align*}"
      ]
    },
    {
      "cell_type": "markdown",
      "metadata": {
        "id": "X_MyCiobQlEP"
      },
      "source": [
        "#### 加速度 $\\vec{a}, $速度 $\\vec{v}$, 位置 $\\vec{r}$"
      ]
    },
    {
      "cell_type": "markdown",
      "metadata": {
        "id": "UjLGte6pQxsr"
      },
      "source": [
        "\\begin{align*}\n",
        "\\vec{a}(t)= \\left(\n",
        "  \\begin{array}{c} 0 \\\\ -g\\end{array} \n",
        "  \\right),\n",
        "\\qquad\n",
        "\\vec{v}(t)= \\left(\n",
        "  \\begin{array}{c}\n",
        "  v_{x0}\n",
        "  \\\\\n",
        "  v_{y0}-gt\n",
        "  \\end{array} \n",
        "  \\right),\n",
        "\\qquad\n",
        "\\vec{r}(t)= \\left(\n",
        "  \\begin{array}{c}\n",
        "   x_0 + v_{x0}t\n",
        "   \\\\\n",
        "   y_0 + v_{y0}t - \\dfrac{1}{2}gt^2\n",
        "   \\end{array} \n",
        "  \\right).\n",
        "\\end{align*}"
      ]
    },
    {
      "cell_type": "code",
      "metadata": {
        "cellView": "form",
        "id": "z-n1WVt_u6zI",
        "outputId": "8d14dc3a-38a5-4948-d088-3e1af6cef44a",
        "colab": {
          "base_uri": "https://localhost:8080/",
          "height": 475
        }
      },
      "source": [
        "#@title 斜め投げ上げ運動: 各種ベクトル確認\n",
        "%%html\n",
        "<iframe src=\"https://phet.colorado.edu/sims/html/projectile-motion/latest/projectile-motion_en.html\" width=\"600\" height=\"450\" scrolling=\"no\" allowfullscreen></iframe>"
      ],
      "execution_count": null,
      "outputs": [
        {
          "output_type": "display_data",
          "data": {
            "text/html": [
              "<iframe src=\"https://phet.colorado.edu/sims/html/projectile-motion/latest/projectile-motion_en.html\" width=\"600\" height=\"450\" scrolling=\"no\" allowfullscreen></iframe>"
            ],
            "text/plain": [
              "<IPython.core.display.HTML object>"
            ]
          },
          "metadata": {
            "tags": []
          }
        }
      ]
    },
    {
      "cell_type": "markdown",
      "metadata": {
        "id": "404XnZG93NTk"
      },
      "source": [
        "### ベクトルで一度に考える\n",
        "\n",
        "$\\require{cancel}$\n",
        "\\begin{align*}\n",
        "m \\dfrac{{\\rm d} \\vec{v}}{ {\\rm d} t}\n",
        "&= \\vec{F}\n",
        " = \\left(\n",
        "  \\begin{array}{c} 0 \\\\ -mg\\end{array} \n",
        "  \\right)\\\\\n",
        "%\n",
        "\\dfrac{{\\rm d} \\vec{v}}{ {\\rm d} t} \n",
        "&= \\dfrac{\\vec{F}}{m}\n",
        " = \\left(\n",
        "  \\begin{array}{c} 0 \\\\ -g\\end{array} \n",
        "  \\right)=\\vec{a}\\\\\n",
        "\\int_{init}^{fin} \\dfrac{{\\rm d} \\vec{v}}{ \\bcancel{{\\rm d} t}}  {\\bcancel{ {\\rm d} t}} \n",
        "&=\n",
        "\\int_{init}^{fin} \\vec{a}\\ { {\\rm d} t} \\\\\n",
        "\\int_{v(0)}^{v} {{\\rm d} \\vec{v}}\n",
        "&=\n",
        "\\int_{t=0}^{t} \\vec{a}\\ { {\\rm d} t} \\\\\n",
        "%\n",
        "\\vec{v} - \\vec{v}(0) & = \\int_{t=0}^{t} \\vec{a}\\ { {\\rm d} t} \n",
        "=  \\Big[ \\left(\n",
        "  \\begin{array}{c} 0 \\\\ -gt\\end{array} \n",
        "  \\right) \\Big|_{0}^{t}\n",
        "= \\left(\n",
        "  \\begin{array}{c} 0 \\\\ -gt\\end{array} \n",
        "  \\right)\\\\\n",
        "\\vec{v}\n",
        "&= \\left(\n",
        "  \\begin{array}{c} v_{x0} \\\\ v_{y0}-gt\\end{array} \n",
        "  \\right)\n",
        "\\end{align*}"
      ]
    },
    {
      "cell_type": "markdown",
      "metadata": {
        "id": "FvzMb0_C5ZUf"
      },
      "source": [
        "\\begin{align}\n",
        "\\dfrac{{\\rm d} \\vec{r}}{ {\\rm d} t} &= \\vec{v}\\\\\n",
        "%\n",
        "\\int_{init}^{fin}\\dfrac{{\\rm d} \\vec{r}}{ {\\rm d} t} \\ { {\\rm d} t}\n",
        "&=\n",
        "\\int_{init}^{fin} \\vec{v}\\ { {\\rm d} t}  \\\\\n",
        "%\n",
        "\\int_{\\vec{r}(0)}^{\\vec{r}} {\\rm d} \\vec{r}\n",
        "&=\n",
        "\\int_{t=0}^{t} \\vec{v}\\ { {\\rm d} t} \\\\\n",
        "%\n",
        "\\vec{r} - \\vec{r}(0)\n",
        "&=\n",
        "\\int_{t=0}^{t} \\vec{v}\\ { {\\rm d} t}\n",
        "= \\Big[ \\left(\n",
        "  \\begin{array}{c} v_{x0}t \\\\ v_{y0}t -\\frac{1}{2} gt^2\\end{array} \n",
        "  \\right) \\Big|_{0}^{t}\n",
        "  =\n",
        "  \\left(\n",
        "  \\begin{array}{c} v_{x0}t \\\\ v_{y0}t -\\frac{1}{2} gt^2\\end{array} \n",
        "  \\right)\\\\\n",
        "%  \n",
        "\\vec{r}\n",
        "&=\n",
        "  \\left(\n",
        "  \\begin{array}{c} x_0 + v_{x0}t \\\\ y_0 + v_{y0}t -\\frac{1}{2} gt^2\\end{array} \n",
        "  \\right)\\\\\n",
        "\\end{align}"
      ]
    },
    {
      "cell_type": "markdown",
      "metadata": {
        "id": "7EYAY7re63AE"
      },
      "source": [
        "#### 注意\n",
        "考え方によっては,\n",
        "次のように[重積分で学ぶ]体積積分/\b面積積\b分を表すことがあるので,  \n",
        "自分がどの方法を使っているか意識して利用してください.\n",
        "- ${\\rm d} \\vec{r} = {\\rm d}x\\ {\\rm d}y\\ {\\rm d}z$\n",
        "- ${\\rm d} \\vec{v} = {\\rm d}v_x\\ {\\rm d}v_y\\ {\\rm d}v_z$"
      ]
    }
  ]
}