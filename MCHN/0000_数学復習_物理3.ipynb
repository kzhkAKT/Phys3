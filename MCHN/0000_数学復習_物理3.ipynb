{
  "nbformat": 4,
  "nbformat_minor": 0,
  "metadata": {
    "colab": {
      "name": "0000_数学復習_物理3.ipynb",
      "provenance": [],
      "toc_visible": true,
      "include_colab_link": true
    },
    "kernelspec": {
      "display_name": "Python 3",
      "language": "python",
      "name": "python3"
    },
    "language_info": {
      "codemirror_mode": {
        "name": "ipython",
        "version": 3
      },
      "file_extension": ".py",
      "mimetype": "text/x-python",
      "name": "python",
      "nbconvert_exporter": "python",
      "pygments_lexer": "ipython3",
      "version": "3.8.5"
    }
  },
  "cells": [
    {
      "cell_type": "markdown",
      "metadata": {
        "id": "view-in-github",
        "colab_type": "text"
      },
      "source": [
        "<a href=\"https://colab.research.google.com/github/kzhkAKT/Physics3/blob/draft/MCHN/0000_%E6%95%B0%E5%AD%A6%E5%BE%A9%E7%BF%92_%E7%89%A9%E7%90%863.ipynb\" target=\"_parent\"><img src=\"https://colab.research.google.com/assets/colab-badge.svg\" alt=\"Open In Colab\"/></a>"
      ]
    },
    {
      "cell_type": "markdown",
      "metadata": {
        "id": "IpTh8Sow0uIh"
      },
      "source": [
        "# 数学の復習"
      ]
    },
    {
      "cell_type": "markdown",
      "metadata": {
        "id": "jQT8w08sOO00"
      },
      "source": [
        "## 約分\n",
        "\n",
        "次の分数を計算し最も簡単な分すにしてください.\n",
        "\n",
        "1. $\\quad \\dfrac{5}{3} \\cdot \\dfrac{3}{2}$\n",
        "1. $\\quad \\dfrac{5}{10^{20}} \\cdot \\dfrac{10^{20}}{2}$"
      ]
    },
    {
      "cell_type": "markdown",
      "metadata": {
        "id": "5wtZWGlK3Jg9"
      },
      "source": [
        "## 関数\n",
        "\n",
        "$y = 3 x + 2, y = e^{x^2}, y = 8 \\sin \\left(5x\\right)$ といった関数は\n",
        "> $\\quad y\\left(x\\right)$\n",
        "\n",
        "と一般化される\n",
        "\n",
        "### 時間の関数\n",
        "\n",
        "$x = v_0 t + \\dfrac{1}{2} a t^2,  y = A \\sin \\left( \\omega t \\right)$ といった関数は,$v_0, a, A, \\omega $ が定数であれば\n",
        "\n",
        "> $\\quad x\\left(t\\right)$ または $y\\left(t\\right)$\n",
        "\n",
        "と一般化される.\n",
        "\n",
        "加速度や速度のように時間依存することが顕な場合や定数の場合は  \n",
        "$(t)$ が省略されることがあります\n"
      ]
    },
    {
      "cell_type": "markdown",
      "metadata": {
        "id": "wO3PvtAI16U2"
      },
      "source": [
        "## 微分"
      ]
    },
    {
      "cell_type": "markdown",
      "metadata": {
        "id": "NxxRX-gk-88Y"
      },
      "source": [
        "$\\require{cancel}$\n",
        "\b\\begin{align*}\n",
        "y'=\\dfrac{{\\rm d} y}{{\\rm d}x}\n",
        "= \\lim_{\\Delta x \\to 0} \\dfrac{\\Delta y}{\\Delta x}\n",
        "= \\lim_{\\Delta x \\to 0} \\dfrac{y(x+\\Delta x) - y(x)}{\\Delta x}\n",
        "\\end{align*}\n",
        "\n",
        "- $\\Delta$ \b\b~ $d$ ~ **d**ifference:\n",
        "  - $\\Delta x = (\\cancel{x}+\\Delta x) - \\cancel{x} = (x+ \\Delta x) - x$\n",
        "  - $\\Delta y =  y(x+ \\Delta x) - y(x) $\n",
        "\n",
        "- 極限操作 $\\Delta x \\to 0$ を取る前は,\n",
        "$y-x$グラフの傾き: $\\quad \\dfrac{\\Delta y}{\\Delta x}$\n",
        "- 極限操作 $\\Delta x \\to 0$ を行えば,\n",
        "$y(x)$グラフの接線: $\\quad \\dfrac{{\\rm d} y}{{\\rm d}x}$\n",
        "- 極限操作 $\\Delta x \\to 0$ を行ってしまえば,  **機械的に微分の計算が利用できる.**\n",
        "\n",
        "> 微分は瞬間の傾きと考えて構いません\n",
        "\n",
        "---\n",
        "\n",
        "[微分に関する基本式](http://w3e.kanazawa-it.ac.jp/math/category/bibun/henkan-tex.cgi?target=/math/category/bibun/bibun-ni-kansuru-kihonsiki.html)"
      ]
    },
    {
      "cell_type": "markdown",
      "metadata": {
        "id": "OPF64_WLy8OE"
      },
      "source": [
        "### 一階微分 $y'$ と 二階微分 $y''$\n",
        "\\begin{align*}\n",
        "y'&= \\dfrac{{\\rm d} y}{{\\rm d}x}&\\\\\n",
        "y''&= \\dfrac{{\\rm d} y'}{{\\rm d}x} \n",
        "= \\dfrac{{\\rm d}}{{\\rm d}x}  \\left( \\dfrac{{\\rm d} y}{{\\rm d}x} \\right)\n",
        "= \\dfrac{{\\rm d^2} y}{{\\rm d}x^2} \n",
        "\\end{align*}"
      ]
    },
    {
      "cell_type": "markdown",
      "metadata": {
        "id": "AMnBeb-wzojm"
      },
      "source": [
        "### 時間による一階微分 $\\dot{y}$ と 二階微分 $\\ddot{y}$\n",
        "\n",
        "\\begin{align*}\n",
        "\\dot{y}  &= \\dfrac{{\\rm d} y}{{\\rm d}t}&\\\\\n",
        "\\ddot{y} &= \\dfrac{{\\rm d} \\dot{y}}{{\\rm d}t} \n",
        "= \\dfrac{{\\rm d}}{{\\rm d}t}  \\left(\\dfrac{{\\rm d} y}{{\\rm d}t}\\right)\n",
        "= \\dfrac{{\\rm d^2} y}{{\\rm d}t^2} \n",
        "\\end{align*}\n",
        "\n",
        "> Q. 零階微分はどんなものでしょうか？"
      ]
    },
    {
      "cell_type": "markdown",
      "metadata": {
        "id": "JN8AVxZ_2a_v"
      },
      "source": [
        "## 定積分"
      ]
    },
    {
      "cell_type": "markdown",
      "metadata": {
        "id": "ddlklKXR8ayo"
      },
      "source": [
        "### 傾きから面積へ\n",
        "\n",
        "局所的な傾きに注目すると\n",
        "\b\\begin{align*}\n",
        "y'\\approx \\dfrac{\\Delta y}{\\Delta x}\n",
        "\\end{align*}\n",
        "となります. この式に $\\Delta x$ を掛け合わせて, 両辺を入れ換えると\n",
        "\b\\begin{align*}\n",
        "\\Delta y \\approx y' \\cdot \\Delta x\n",
        "\\end{align*}\n",
        "となります. これは\n",
        "\n",
        ">> 関数の変化$($\\Delta y)$ は, 傾き$(y')$ が高さとなり, 変数の変化 $(\\Delta x)$ が幅に対応する, $x-y$ グラフの **面積**  で与えられる\n",
        "\n",
        "と読むことができます.\n",
        "\n"
      ]
    },
    {
      "cell_type": "markdown",
      "metadata": {
        "id": "94RjdudTIRuU"
      },
      "source": [
        "### 短冊の足し算から定積分へ\n",
        "さらに近接する $\\Delta y $ を  $\\Delta y= y_1 - y_0$  とおけば\n",
        "\b\\begin{align*}\n",
        "y_1 - y_0 \\approx y'_{0,1} \\cdot \\Delta x.\n",
        "\\end{align*}\n",
        "これを, 観察する区間 $x$ の区間について\n",
        "\n",
        "- $x$ が出発点$(initial$の $y$ を $y_0$\n",
        "- $x$ が終着点$(final:\\ y_n)$ $y$ を $y_n$\n",
        "\n",
        "として繰り返し観察します(簡単のために$\\Delta x$は一定とします).\n",
        "\n",
        "その上で、上下の左辺と右辺をそれぞれ加えると\n",
        "\b\\begin{align*}\n",
        "y_n - \\cancel{y_{n-1}} &\\approx y'_{n-1,n} \\cdot \\Delta x.&\\\\\n",
        "\\cancel{y_{n-1}} - \\cancel{y_{n-2}} &\\approx y'_{n-2,n-1} \\cdot \\Delta x.&\\\\\n",
        "&\\cdots&\\\\\n",
        "\\cancel{y_1} - y_0 &\\approx y'_{0,1} \\cdot \\Delta x.&\n",
        "\\end{align*}\n",
        "よって\n",
        "\b\\begin{align*}\n",
        "y_n - y_0 \\approx \\sum_{k=1}^{n} y'_{k-1,k} \\cdot \\Delta x.\n",
        "\\end{align*}\n",
        "この操作について $\\Delta x \\to 0$ としたものが\n",
        "\b\\begin{align*}\n",
        "y_n - y_0 \n",
        "&= \\lim_{\\Delta x \\to 0} \\sum_{k=1}^{n} y'_{k-1,k} \\cdot \\Delta x&\\\\\n",
        "&= \\int_{int}^{fin} y' {\\rm d} x\n",
        "\\end{align*}\n",
        "定積分に対応します."
      ]
    },
    {
      "cell_type": "markdown",
      "metadata": {
        "id": "9uAdVBGg1YvD"
      },
      "source": [
        "### 定積分と約分\n",
        "\n",
        "$\\require{cancel}$\n",
        "\\begin{align*}\n",
        "\\int_{int}^{fin} y' {\\rm d} x \n",
        "&= \\int_{int}^{fin}  \\dfrac{{\\rm d} y}{\\bcancel{{\\rm d}x}} \\bcancel{{\\rm d} x}\n",
        "= \\int_{int}^{fin}  1 \\cdot {\\rm d} y\n",
        "&= \\big[ y \\  \\big|_{int}^{fin}  = y_{fin} - y_{ini} = y_n - y_0\n",
        "\\end{align*}\n",
        "\n",
        "\n",
        "この関係は $y'=x$ と $y=\\dfrac{1}{2}x^2$ として図を書くとよく分かります.\n"
      ]
    },
    {
      "cell_type": "markdown",
      "metadata": {
        "id": "B5Cajduf0Kg_"
      },
      "source": [
        "## 数学復習おすすめサイト\n",
        "\n",
        "[KIT数学ナビゲーション 数理工教育センター 金沢工業大学](http://w3e.kanazawa-it.ac.jp/math/)\n",
        "\n",
        "大学1,2年生向けですが, 高専3,4,5年生も充分利用できます.   \n",
        "この講義資料でも時々リンク先として利用します.\n"
      ]
    }
  ]
}