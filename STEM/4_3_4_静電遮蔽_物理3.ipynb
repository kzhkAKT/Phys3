{
  "nbformat": 4,
  "nbformat_minor": 0,
  "metadata": {
    "colab": {
      "name": "4_3_4_静電遮蔽_物理3.ipynb",
      "provenance": [],
      "authorship_tag": "ABX9TyOtVyVpQLDBv97X4RZqvuNI",
      "include_colab_link": true
    },
    "kernelspec": {
      "name": "python3",
      "display_name": "Python 3"
    }
  },
  "cells": [
    {
      "cell_type": "markdown",
      "metadata": {
        "id": "view-in-github",
        "colab_type": "text"
      },
      "source": [
        "<a href=\"https://colab.research.google.com/github/kzhkAKT/Physics3/blob/draft/STEM/4_3_4_%E9%9D%99%E9%9B%BB%E9%81%AE%E8%94%BD_%E7%89%A9%E7%90%863.ipynb\" target=\"_parent\"><img src=\"https://colab.research.google.com/assets/colab-badge.svg\" alt=\"Open In Colab\"/></a>"
      ]
    },
    {
      "cell_type": "markdown",
      "metadata": {
        "id": "J0GToMRgLCsM"
      },
      "source": [
        "# 電位"
      ]
    },
    {
      "cell_type": "markdown",
      "metadata": {
        "id": "5pJZHpzsXsEA"
      },
      "source": [
        "## 静電遮蔽"
      ]
    },
    {
      "cell_type": "markdown",
      "metadata": {
        "id": "QffG6blCchXq"
      },
      "source": [
        "静電シールド"
      ]
    },
    {
      "cell_type": "code",
      "metadata": {
        "colab": {
          "base_uri": "https://localhost:8080/",
          "height": 336
        },
        "cellView": "form",
        "id": "b0i0kgNobYVM",
        "outputId": "d8bc375b-c4d2-4912-8530-d46775dddccd"
      },
      "source": [
        "#@title 実演(短縮版)\n",
        "%%html\n",
        "<iframe width=\"560\" height=\"315\" src=\"https://www.youtube-nocookie.com/embed/xPotDyFmu_Q\" frameborder=\"0\" allow=\"accelerometer; autoplay; clipboard-write; encrypted-media; gyroscope; picture-in-picture\" allowfullscreen></iframe>"
      ],
      "execution_count": null,
      "outputs": [
        {
          "output_type": "display_data",
          "data": {
            "text/html": [
              "<iframe width=\"560\" height=\"315\" src=\"https://www.youtube-nocookie.com/embed/xPotDyFmu_Q\" frameborder=\"0\" allow=\"accelerometer; autoplay; clipboard-write; encrypted-media; gyroscope; picture-in-picture\" allowfullscreen></iframe>"
            ],
            "text/plain": [
              "<IPython.core.display.HTML object>"
            ]
          },
          "metadata": {
            "tags": []
          }
        }
      ]
    },
    {
      "cell_type": "code",
      "metadata": {
        "colab": {
          "base_uri": "https://localhost:8080/",
          "height": 336
        },
        "cellView": "form",
        "id": "lSqxesu1b5kH",
        "outputId": "567df7f3-127e-48dc-a9e5-94ec84cbe906"
      },
      "source": [
        "#@title 実演(長尺版)\n",
        "%%html\n",
        "<iframe width=\"560\" height=\"315\" src=\"https://www.youtube-nocookie.com/embed/qxyfIVWezFo?start=1517\" frameborder=\"0\" allow=\"accelerometer; autoplay; clipboard-write; encrypted-media; gyroscope; picture-in-picture\" allowfullscreen></iframe>"
      ],
      "execution_count": null,
      "outputs": [
        {
          "output_type": "display_data",
          "data": {
            "text/html": [
              "<iframe width=\"560\" height=\"315\" src=\"https://www.youtube-nocookie.com/embed/qxyfIVWezFo?start=1517\" frameborder=\"0\" allow=\"accelerometer; autoplay; clipboard-write; encrypted-media; gyroscope; picture-in-picture\" allowfullscreen></iframe>"
            ],
            "text/plain": [
              "<IPython.core.display.HTML object>"
            ]
          },
          "metadata": {
            "tags": []
          }
        }
      ]
    },
    {
      "cell_type": "code",
      "metadata": {
        "colab": {
          "base_uri": "https://localhost:8080/",
          "height": 336
        },
        "id": "0K0wi7vFbHt6",
        "outputId": "c352c399-2002-43ed-abbb-39269bf9b501",
        "cellView": "form"
      },
      "source": [
        "#@title 静電遮蔽の実験\n",
        "%%html\n",
        "<iframe width=\"560\" height=\"315\" src=\"https://www.youtube-nocookie.com/embed/HofGN9tySJ0\" frameborder=\"0\" allow=\"accelerometer; autoplay; clipboard-write; encrypted-media; gyroscope; picture-in-picture\" allowfullscreen></iframe>"
      ],
      "execution_count": null,
      "outputs": [
        {
          "output_type": "display_data",
          "data": {
            "text/html": [
              "<iframe width=\"560\" height=\"315\" src=\"https://www.youtube-nocookie.com/embed/HofGN9tySJ0\" frameborder=\"0\" allow=\"accelerometer; autoplay; clipboard-write; encrypted-media; gyroscope; picture-in-picture\" allowfullscreen></iframe>"
            ],
            "text/plain": [
              "<IPython.core.display.HTML object>"
            ]
          },
          "metadata": {
            "tags": []
          }
        }
      ]
    },
    {
      "cell_type": "markdown",
      "metadata": {
        "id": "vDOCl28GcnQi"
      },
      "source": [
        "### 静電誘導と静電遮蔽の比較"
      ]
    },
    {
      "cell_type": "markdown",
      "metadata": {
        "id": "dEeTp62cc04D"
      },
      "source": [
        "\n",
        "#### 静電誘導\n",
        "![静電遮蔽](https://upload.wikimedia.org/wikipedia/commons/thumb/2/2d/Electrostatic_induction.png/320px-Electrostatic_induction.png)\n",
        "\n",
        "#### 静電遮蔽\n",
        "![静電誘導](https://upload.wikimedia.org/wikipedia/commons/thumb/b/b7/Electrostatic_shielding.png/320px-Electrostatic_shielding.png)\n",
        "\n",
        "\n",
        "---\n",
        "下段の図で下方へ伸びた線は、アース線を示す。\n"
      ]
    },
    {
      "cell_type": "markdown",
      "metadata": {
        "id": "-DFKBTP_a7JM"
      },
      "source": [
        "### 導体の内部について"
      ]
    },
    {
      "cell_type": "markdown",
      "metadata": {
        "id": "9AUm8HTednqA"
      },
      "source": [
        "\n",
        "電子が自由に動ける導体については、\n",
        "1. 導体内部には電界は存在しない\n",
        "2. (注目する)導体内は等電位である\n",
        "3. 導体内(内側)には電荷存在せず、電荷ができるのは(導体の)表面だけである"
      ]
    }
  ]
}