{
  "nbformat": 4,
  "nbformat_minor": 0,
  "metadata": {
    "colab": {
      "name": "4_2_2_電気力線_静電気力.ipynb",
      "provenance": [],
      "toc_visible": true,
      "authorship_tag": "ABX9TyMbZNdejrdGbhoXshrKuiMB",
      "include_colab_link": true
    },
    "kernelspec": {
      "name": "python3",
      "display_name": "Python 3"
    }
  },
  "cells": [
    {
      "cell_type": "markdown",
      "metadata": {
        "id": "view-in-github",
        "colab_type": "text"
      },
      "source": [
        "<a href=\"https://colab.research.google.com/github/kzhkAKT/Physics3/blob/draft/STEM/4_2_2_%E9%9B%BB%E6%B0%97%E5%8A%9B%E7%B7%9A_%E9%9D%99%E9%9B%BB%E6%B0%97%E5%8A%9B.ipynb\" target=\"_parent\"><img src=\"https://colab.research.google.com/assets/colab-badge.svg\" alt=\"Open In Colab\"/></a>"
      ]
    },
    {
      "cell_type": "markdown",
      "metadata": {
        "id": "J0GToMRgLCsM"
      },
      "source": [
        "# 静電気力"
      ]
    },
    {
      "cell_type": "markdown",
      "metadata": {
        "id": "hWdeaBpiLHVx"
      },
      "source": [
        "## 電界とガウスの法則"
      ]
    },
    {
      "cell_type": "markdown",
      "metadata": {
        "id": "gAx6a0-Xb1jb"
      },
      "source": [
        "### 電気力線\n",
        "\n",
        "Line of force"
      ]
    },
    {
      "cell_type": "code",
      "metadata": {
        "colab": {
          "base_uri": "https://localhost:8080/",
          "height": 475
        },
        "id": "GFQIzK2ALfsb",
        "cellView": "form",
        "outputId": "0809a655-cbd8-4993-c32c-e19606129501"
      },
      "source": [
        "#@title 教科書 下巻 p56 図4.11 を作ってみよう\n",
        "\n",
        "%%html\n",
        "<iframe src=\"https://phet.colorado.edu/sims/html/charges-and-fields/latest/charges-and-fields_en.html\" width=\"600\" height=\"450\" scrolling=\"no\" allowfullscreen></iframe>"
      ],
      "execution_count": 1,
      "outputs": [
        {
          "output_type": "display_data",
          "data": {
            "text/html": [
              "<iframe src=\"https://phet.colorado.edu/sims/html/charges-and-fields/latest/charges-and-fields_en.html\" width=\"600\" height=\"450\" scrolling=\"no\" allowfullscreen></iframe>"
            ],
            "text/plain": [
              "<IPython.core.display.HTML object>"
            ]
          },
          "metadata": {
            "tags": []
          }
        }
      ]
    },
    {
      "cell_type": "markdown",
      "metadata": {
        "id": "nB9lzzModCZ2"
      },
      "source": [
        "> Q. 教科書 下巻 p56 図4.11 (b,d) のような仮想的な流線の存在を上のシミュレターで確認してください.\n",
        "\n",
        "---\n",
        "\n",
        "より詳しいシミュレターは次のリンクで\n",
        "- [電気力線シミュレータ,若杉誠氏](http://www2.kobe-u.ac.jp/~wakasugi/mats/elecflux/)"
      ]
    },
    {
      "cell_type": "code",
      "metadata": {
        "colab": {
          "base_uri": "https://localhost:8080/",
          "height": 336
        },
        "cellView": "form",
        "id": "_vgYMswPe4tp",
        "outputId": "97284fca-8f87-49ec-954a-e753baba350c"
      },
      "source": [
        "#@title 電気力線の3次元描画: Van de Graaff generator\n",
        "%%html\n",
        "<iframe width=\"560\" height=\"315\" src=\"https://www.youtube-nocookie.com/embed/3Ptu07enIsY\" frameborder=\"0\" allow=\"accelerometer; autoplay; clipboard-write; encrypted-media; gyroscope; picture-in-picture\" allowfullscreen></iframe>"
      ],
      "execution_count": 3,
      "outputs": [
        {
          "output_type": "display_data",
          "data": {
            "text/html": [
              "<iframe width=\"560\" height=\"315\" src=\"https://www.youtube-nocookie.com/embed/3Ptu07enIsY\" frameborder=\"0\" allow=\"accelerometer; autoplay; clipboard-write; encrypted-media; gyroscope; picture-in-picture\" allowfullscreen></iframe>"
            ],
            "text/plain": [
              "<IPython.core.display.HTML object>"
            ]
          },
          "metadata": {
            "tags": []
          }
        }
      ]
    },
    {
      "cell_type": "markdown",
      "metadata": {
        "id": "dinCLs2Uf1pE"
      },
      "source": [
        "> "
      ]
    },
    {
      "cell_type": "code",
      "metadata": {
        "colab": {
          "base_uri": "https://localhost:8080/",
          "height": 475
        },
        "cellView": "form",
        "id": "po3RjJ4vf4Nf",
        "outputId": "0809a655-cbd8-4993-c32c-e19606129501"
      },
      "source": [
        "#@title 教科書 下巻 p57 の4つの項目を確認してください。\n",
        "\n",
        "%%html\n",
        "<iframe src=\"https://phet.colorado.edu/sims/html/charges-and-fields/latest/charges-and-fields_en.html\" width=\"600\" height=\"450\" scrolling=\"no\" allowfullscreen></iframe>"
      ],
      "execution_count": null,
      "outputs": [
        {
          "output_type": "display_data",
          "data": {
            "text/html": [
              "<iframe src=\"https://phet.colorado.edu/sims/html/charges-and-fields/latest/charges-and-fields_en.html\" width=\"600\" height=\"450\" scrolling=\"no\" allowfullscreen></iframe>"
            ],
            "text/plain": [
              "<IPython.core.display.HTML object>"
            ]
          },
          "metadata": {
            "tags": []
          }
        }
      ]
    }
  ]
}