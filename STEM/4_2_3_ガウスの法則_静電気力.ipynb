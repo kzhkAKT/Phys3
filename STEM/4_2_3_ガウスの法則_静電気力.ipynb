{
  "nbformat": 4,
  "nbformat_minor": 0,
  "metadata": {
    "colab": {
      "name": "4_2_3_ガウスの法則_静電気力.ipynb",
      "provenance": [],
      "collapsed_sections": [],
      "toc_visible": true,
      "authorship_tag": "ABX9TyMJiNC+QY8iEXJuVjxo3QkV",
      "include_colab_link": true
    },
    "kernelspec": {
      "name": "python3",
      "display_name": "Python 3"
    }
  },
  "cells": [
    {
      "cell_type": "markdown",
      "metadata": {
        "id": "view-in-github",
        "colab_type": "text"
      },
      "source": [
        "<a href=\"https://colab.research.google.com/github/kzhkAKT/Physics3/blob/draft/STEM/4_2_3_%E3%82%AC%E3%82%A6%E3%82%B9%E3%81%AE%E6%B3%95%E5%89%87_%E9%9D%99%E9%9B%BB%E6%B0%97%E5%8A%9B.ipynb\" target=\"_parent\"><img src=\"https://colab.research.google.com/assets/colab-badge.svg\" alt=\"Open In Colab\"/></a>"
      ]
    },
    {
      "cell_type": "markdown",
      "metadata": {
        "id": "J0GToMRgLCsM"
      },
      "source": [
        "# 静電気力"
      ]
    },
    {
      "cell_type": "markdown",
      "metadata": {
        "id": "hWdeaBpiLHVx"
      },
      "source": [
        "## 電界とガウスの法則"
      ]
    },
    {
      "cell_type": "markdown",
      "metadata": {
        "id": "ZfK3x_kUiJKL"
      },
      "source": [
        "### ガウスの法則"
      ]
    },
    {
      "cell_type": "markdown",
      "metadata": {
        "id": "xN49ifCih8VT"
      },
      "source": [
        "![](https://upload.wikimedia.org/wikipedia/commons/thumb/e/ec/Carl_Friedrich_Gauss_1840_by_Jensen.jpg/377px-Carl_Friedrich_Gauss_1840_by_Jensen.jpg)![](https://upload.wikimedia.org/wikipedia/commons/thumb/e/ed/President_Jimmy_Carter_in_Oak_Ridge_%287071648945%29_%282%29.jpg/481px-President_Jimmy_Carter_in_Oak_Ridge_%287071648945%29_%282%29.jpg)"
      ]
    },
    {
      "cell_type": "code",
      "metadata": {
        "colab": {
          "base_uri": "https://localhost:8080/",
          "height": 336
        },
        "id": "YCxdIzhSLikk",
        "cellView": "form",
        "outputId": "6deb608b-8f97-4f65-b04c-67f3d70a3523"
      },
      "source": [
        "#@title アナロジー: 水の湧き出し Q>0\n",
        "%%html\n",
        "<iframe width=\"560\" height=\"315\" src=\"https://www.youtube-nocookie.com/embed/YtSy1yUkDE0\" frameborder=\"0\" allow=\"accelerometer; autoplay; clipboard-write; encrypted-media; gyroscope; picture-in-picture\" allowfullscreen></iframe>"
      ],
      "execution_count": 2,
      "outputs": [
        {
          "output_type": "display_data",
          "data": {
            "text/html": [
              "<iframe width=\"560\" height=\"315\" src=\"https://www.youtube-nocookie.com/embed/YtSy1yUkDE0\" frameborder=\"0\" allow=\"accelerometer; autoplay; clipboard-write; encrypted-media; gyroscope; picture-in-picture\" allowfullscreen></iframe>"
            ],
            "text/plain": [
              "<IPython.core.display.HTML object>"
            ]
          },
          "metadata": {
            "tags": []
          }
        }
      ]
    },
    {
      "cell_type": "code",
      "metadata": {
        "colab": {
          "base_uri": "https://localhost:8080/",
          "height": 336
        },
        "id": "AtMLj9nbNFSW",
        "cellView": "form",
        "outputId": "b0be2549-a721-47fc-c1ea-baf8fa388d0e"
      },
      "source": [
        "#@title アナロジー: 水の吸い込み (Q<0)\n",
        "%%html\n",
        "<iframe width=\"560\" height=\"315\" src=\"https://www.youtube-nocookie.com/embed/m4yy0U_fHNk\" frameborder=\"0\" allow=\"accelerometer; autoplay; clipboard-write; encrypted-media; gyroscope; picture-in-picture\" allowfullscreen></iframe>"
      ],
      "execution_count": null,
      "outputs": [
        {
          "output_type": "display_data",
          "data": {
            "text/html": [
              "<iframe width=\"560\" height=\"315\" src=\"https://www.youtube-nocookie.com/embed/m4yy0U_fHNk\" frameborder=\"0\" allow=\"accelerometer; autoplay; clipboard-write; encrypted-media; gyroscope; picture-in-picture\" allowfullscreen></iframe>"
            ],
            "text/plain": [
              "<IPython.core.display.HTML object>"
            ]
          },
          "metadata": {
            "tags": []
          }
        }
      ]
    },
    {
      "cell_type": "markdown",
      "metadata": {
        "id": "38VxjOEnq3MX"
      },
      "source": [
        "## クーロンの法則"
      ]
    },
    {
      "cell_type": "markdown",
      "metadata": {
        "id": "LlOejIqFq4En"
      },
      "source": [
        "### 力として\n",
        "\\begin{align}\n",
        "\\vec{F}\n",
        "&=  k \\dfrac{qQ}{r^2} \\vec{e_r}\\\\[1mm]\n",
        "&=  \\dfrac{1}{4\\pi \\epsilon_0} \\dfrac{qQ}{r^2} \\vec{e_r}\\\\[3mm]\n",
        "\\end{align}\n",
        "\n",
        "ここで, $\\epsilon_0$ は, 真空の誘電率でした.\n"
      ]
    },
    {
      "cell_type": "markdown",
      "metadata": {
        "id": "EQ09H-tKq8z_"
      },
      "source": [
        "### 電場として\n",
        "\\begin{align}\n",
        "\\vec{E}\n",
        "&= \\dfrac{\\vec{F}}{q} = \\dfrac{1}{4\\pi\\epsilon_0} \\dfrac{Q}{ r^2} \\vec{e_r}\\\\[3mm]\n",
        "\\end{align}"
      ]
    },
    {
      "cell_type": "markdown",
      "metadata": {
        "id": "AVZuUhkUq9cG"
      },
      "source": [
        "#### 電気力線の面密度として\n",
        "\n",
        "簡単のために $Q>0$ (湧き出し) として考えます.\n",
        "\\begin{align}\n",
        "%\n",
        "{4\\pi r^2} \\vec{E}\n",
        "&=\n",
        "\\dfrac{Q}{\\epsilon_0}\\vec{e_r}\\\\[1mm]\n",
        "%\n",
        "\\left| {4\\pi r^2} \\vec{E} \\right|\n",
        "&=\n",
        "\\dfrac{Q}{\\epsilon_0}\\left| \\vec{e_r} \\right|\\\\[2mm]\n",
        "%\n",
        "%\n",
        "{4\\pi r^2} {E} \n",
        "&=\n",
        "\\dfrac{Q}{\\epsilon_0}\\\\[2mm]\n",
        "\\end{align}\n",
        "\n",
        "ここで, 左辺の積の各項を以下のように考えます:\n",
        "- $4\\pi r^2$ が半径 $r$ の球の表面積\n",
        "- $E$ は単位面積当たり貫く電気力線の本数"
      ]
    },
    {
      "cell_type": "code",
      "metadata": {
        "colab": {
          "base_uri": "https://localhost:8080/",
          "height": 340
        },
        "id": "mNihkWmvQSh6",
        "cellView": "form",
        "outputId": "b6caae80-d37b-499f-e6ad-9099b31e098b"
      },
      "source": [
        "#@title Source(S) から出た矢印の密度は変わるが, 総本数は半径が変わっても同じ\n",
        "%%svg\n",
        "https://upload.wikimedia.org/wikipedia/commons/2/28/Inverse_square_law.svg"
      ],
      "execution_count": 4,
      "outputs": [
        {
          "output_type": "display_data",
          "data": {
            "text/plain": [
              "<IPython.core.display.SVG object>"
            ],
            "image/svg+xml": "<svg height=\"319.20819\" id=\"svg2\" inkscape:output_extension=\"org.inkscape.output.svg.inkscape\" inkscape:version=\"0.48.1 r9760\" sodipodi:docname=\"Inverse_square_law.svg\" sodipodi:version=\"0.32\" version=\"1.0\" width=\"478.81232\" xmlns=\"http://www.w3.org/2000/svg\" xmlns:cc=\"http://creativecommons.org/ns#\" xmlns:dc=\"http://purl.org/dc/elements/1.1/\" xmlns:inkscape=\"http://www.inkscape.org/namespaces/inkscape\" xmlns:rdf=\"http://www.w3.org/1999/02/22-rdf-syntax-ns#\" xmlns:sodipodi=\"http://sodipodi.sourceforge.net/DTD/sodipodi-0.dtd\" xmlns:svg=\"http://www.w3.org/2000/svg\" xmlns:xlink=\"http://www.w3.org/1999/xlink\">\n  <sodipodi:namedview bordercolor=\"#666666\" borderopacity=\"1.0\" gridtolerance=\"10000\" guidetolerance=\"10\" id=\"base\" inkscape:current-layer=\"layer11\" inkscape:cx=\"254.27747\" inkscape:cy=\"176.98009\" inkscape:document-units=\"px\" inkscape:pageopacity=\"1\" inkscape:pageshadow=\"2\" inkscape:window-height=\"952\" inkscape:window-maximized=\"1\" inkscape:window-width=\"1280\" inkscape:window-x=\"0\" inkscape:window-y=\"24\" inkscape:zoom=\"1.979899\" objecttolerance=\"10\" pagecolor=\"#ffffff\" showgrid=\"false\"/>\n  <defs id=\"defs4\">\n    <marker id=\"Arrow2Mend\" inkscape:stockid=\"Arrow2Mend\" orient=\"auto\" refX=\"0.0\" refY=\"0.0\" style=\"overflow:visible;\">\n      <path d=\"M 8.7185878,4.0337352 L -2.2072895,0.016013256 L 8.7185884,-4.0017078 C 6.9730900,-1.6296469 6.9831476,1.6157441 8.7185878,4.0337352 z \" id=\"path4834\" style=\"font-size:12.0;fill-rule:evenodd;stroke-width:0.62500000;stroke-linejoin:round;\" transform=\"scale(0.6) rotate(180) translate(0,0)\"/>\n    </marker>\n    <marker id=\"Arrow2Lend\" inkscape:stockid=\"Arrow2Lend\" orient=\"auto\" refX=\"0.0\" refY=\"0.0\" style=\"overflow:visible;\">\n      <path d=\"M 8.7185878,4.0337352 L -2.2072895,0.016013256 L 8.7185884,-4.0017078 C 6.9730900,-1.6296469 6.9831476,1.6157441 8.7185878,4.0337352 z \" id=\"path4828\" style=\"font-size:12.0;fill-rule:evenodd;stroke-width:0.62500000;stroke-linejoin:round;\" transform=\"scale(1.1) rotate(180) translate(1,0)\"/>\n    </marker>\n    <marker id=\"Arrow1Lend\" inkscape:stockid=\"Arrow1Lend\" orient=\"auto\" refX=\"0.0\" refY=\"0.0\" style=\"overflow:visible;\">\n      <path d=\"M 0.0,0.0 L 5.0,-5.0 L -12.5,0.0 L 5.0,5.0 L 0.0,0.0 z \" id=\"path4810\" style=\"fill-rule:evenodd;stroke:#000000;stroke-width:1.0pt;marker-start:none;\" transform=\"scale(0.8) rotate(180) translate(12.5,0)\"/>\n    </marker>\n    <linearGradient id=\"linearGradient4066\" inkscape:collect=\"always\">\n      <stop id=\"stop4068\" offset=\"0\" style=\"stop-color:#ff2a2a;stop-opacity:1;\"/>\n      <stop id=\"stop4070\" offset=\"1\" style=\"stop-color:#ff2a2a;stop-opacity:0;\"/>\n    </linearGradient>\n    <linearGradient id=\"linearGradient3237\">\n      <stop id=\"stop3239\" offset=\"0\" style=\"stop-color:#6798ff;stop-opacity:1;\"/>\n      <stop id=\"stop3241\" offset=\"1\" style=\"stop-color:#6798ff;stop-opacity:0;\"/>\n    </linearGradient>\n    <radialGradient cx=\"148.9975\" cy=\"111.91016\" fx=\"148.9975\" fy=\"111.91016\" gradientUnits=\"userSpaceOnUse\" id=\"radialGradient3243\" inkscape:collect=\"always\" r=\"31.31473\" xlink:href=\"#linearGradient3237\"/>\n    <radialGradient cx=\"247.32143\" cy=\"262.89789\" fx=\"247.32143\" fy=\"262.89789\" gradientTransform=\"matrix(1,0,0,1.4486573,0,-117.95105)\" gradientUnits=\"userSpaceOnUse\" id=\"radialGradient4072\" inkscape:collect=\"always\" r=\"3.0816715\" xlink:href=\"#linearGradient4066\"/>\n    <radialGradient cx=\"247.32143\" cy=\"262.89789\" fx=\"247.32143\" fy=\"262.89789\" gradientTransform=\"matrix(1,0,0,1.4486573,0,-117.95105)\" gradientUnits=\"userSpaceOnUse\" id=\"radialGradient4076\" inkscape:collect=\"always\" r=\"3.0816715\" xlink:href=\"#linearGradient4066\"/>\n    <radialGradient cx=\"247.32143\" cy=\"262.89789\" fx=\"247.32143\" fy=\"262.89789\" gradientTransform=\"matrix(1,0,0,1.4486573,0,-117.95105)\" gradientUnits=\"userSpaceOnUse\" id=\"radialGradient4080\" inkscape:collect=\"always\" r=\"3.0816715\" xlink:href=\"#linearGradient4066\"/>\n    <radialGradient cx=\"247.32143\" cy=\"262.89789\" fx=\"247.32143\" fy=\"262.89789\" gradientTransform=\"matrix(1,0,0,1.4486573,0,-117.95105)\" gradientUnits=\"userSpaceOnUse\" id=\"radialGradient4084\" inkscape:collect=\"always\" r=\"3.0816715\" xlink:href=\"#linearGradient4066\"/>\n    <radialGradient cx=\"247.32143\" cy=\"262.89789\" fx=\"247.32143\" fy=\"262.89789\" gradientTransform=\"matrix(1,0,0,1.4486573,0,-117.95105)\" gradientUnits=\"userSpaceOnUse\" id=\"radialGradient4088\" inkscape:collect=\"always\" r=\"3.0816715\" xlink:href=\"#linearGradient4066\"/>\n    <radialGradient cx=\"247.32143\" cy=\"262.89789\" fx=\"247.32143\" fy=\"262.89789\" gradientTransform=\"matrix(1,0,0,1.4486573,0,-117.95105)\" gradientUnits=\"userSpaceOnUse\" id=\"radialGradient4092\" inkscape:collect=\"always\" r=\"3.0816715\" xlink:href=\"#linearGradient4066\"/>\n    <radialGradient cx=\"247.32143\" cy=\"262.89789\" fx=\"247.32143\" fy=\"262.89789\" gradientTransform=\"matrix(1,0,0,1.4486573,0,-117.95105)\" gradientUnits=\"userSpaceOnUse\" id=\"radialGradient4096\" inkscape:collect=\"always\" r=\"3.0816715\" xlink:href=\"#linearGradient4066\"/>\n    <radialGradient cx=\"247.32143\" cy=\"262.89789\" fx=\"247.32143\" fy=\"262.89789\" gradientTransform=\"matrix(1,0,0,1.4486573,0,-117.95105)\" gradientUnits=\"userSpaceOnUse\" id=\"radialGradient4100\" inkscape:collect=\"always\" r=\"3.0816715\" xlink:href=\"#linearGradient4066\"/>\n    <radialGradient cx=\"247.32143\" cy=\"262.89789\" fx=\"247.32143\" fy=\"262.89789\" gradientTransform=\"matrix(1,0,0,1.4486573,0,-117.95105)\" gradientUnits=\"userSpaceOnUse\" id=\"radialGradient4104\" inkscape:collect=\"always\" r=\"3.0816715\" xlink:href=\"#linearGradient4066\"/>\n    <radialGradient cx=\"247.32143\" cy=\"262.89789\" fx=\"247.32143\" fy=\"262.89789\" gradientTransform=\"matrix(1,0,0,1.4486573,0,-117.95105)\" gradientUnits=\"userSpaceOnUse\" id=\"radialGradient4108\" inkscape:collect=\"always\" r=\"3.0816715\" xlink:href=\"#linearGradient4066\"/>\n    <radialGradient cx=\"247.32143\" cy=\"262.89789\" fx=\"247.32143\" fy=\"262.89789\" gradientTransform=\"matrix(1,0,0,1.4486573,0,-117.95105)\" gradientUnits=\"userSpaceOnUse\" id=\"radialGradient4112\" inkscape:collect=\"always\" r=\"3.0816715\" xlink:href=\"#linearGradient4066\"/>\n    <radialGradient cx=\"247.32143\" cy=\"262.89789\" fx=\"247.32143\" fy=\"262.89789\" gradientTransform=\"matrix(1,0,0,1.4486573,0,-117.95105)\" gradientUnits=\"userSpaceOnUse\" id=\"radialGradient4116\" inkscape:collect=\"always\" r=\"3.0816715\" xlink:href=\"#linearGradient4066\"/>\n    <radialGradient cx=\"247.32143\" cy=\"262.89789\" fx=\"247.32143\" fy=\"262.89789\" gradientTransform=\"matrix(1,0,0,1.4486573,0,-117.95105)\" gradientUnits=\"userSpaceOnUse\" id=\"radialGradient4120\" inkscape:collect=\"always\" r=\"3.0816715\" xlink:href=\"#linearGradient4066\"/>\n    <radialGradient cx=\"247.32143\" cy=\"262.89789\" fx=\"247.32143\" fy=\"262.89789\" gradientTransform=\"matrix(1,0,0,1.4486573,0,-117.95105)\" gradientUnits=\"userSpaceOnUse\" id=\"radialGradient4124\" inkscape:collect=\"always\" r=\"3.0816715\" xlink:href=\"#linearGradient4066\"/>\n    <radialGradient cx=\"247.32143\" cy=\"262.89789\" fx=\"247.32143\" fy=\"262.89789\" gradientTransform=\"matrix(1,0,0,1.4486573,0,-117.95105)\" gradientUnits=\"userSpaceOnUse\" id=\"radialGradient4128\" inkscape:collect=\"always\" r=\"3.0816715\" xlink:href=\"#linearGradient4066\"/>\n    <radialGradient cx=\"247.32143\" cy=\"262.89789\" fx=\"247.32143\" fy=\"262.89789\" gradientTransform=\"matrix(1,0,0,1.4486573,0,-117.95105)\" gradientUnits=\"userSpaceOnUse\" id=\"radialGradient4132\" inkscape:collect=\"always\" r=\"3.0816715\" xlink:href=\"#linearGradient4066\"/>\n    <radialGradient cx=\"247.32143\" cy=\"262.89789\" fx=\"247.32143\" fy=\"262.89789\" gradientTransform=\"matrix(1,0,0,1.4486573,0,-117.95105)\" gradientUnits=\"userSpaceOnUse\" id=\"radialGradient4136\" inkscape:collect=\"always\" r=\"3.0816715\" xlink:href=\"#linearGradient4066\"/>\n    <radialGradient cx=\"247.32143\" cy=\"262.89789\" fx=\"247.32143\" fy=\"262.89789\" gradientTransform=\"matrix(1,0,0,1.4486573,0,-117.95105)\" gradientUnits=\"userSpaceOnUse\" id=\"radialGradient4140\" inkscape:collect=\"always\" r=\"3.0816715\" xlink:href=\"#linearGradient4066\"/>\n    <radialGradient cx=\"247.32143\" cy=\"262.89789\" fx=\"247.32143\" fy=\"262.89789\" gradientTransform=\"matrix(1,0,0,1.4486573,0,-117.95105)\" gradientUnits=\"userSpaceOnUse\" id=\"radialGradient4148\" inkscape:collect=\"always\" r=\"3.0816715\" xlink:href=\"#linearGradient4066\"/>\n    <radialGradient cx=\"247.32143\" cy=\"262.89789\" fx=\"247.32143\" fy=\"262.89789\" gradientTransform=\"matrix(1,0,0,1.4486573,0,-117.95105)\" gradientUnits=\"userSpaceOnUse\" id=\"radialGradient4152\" inkscape:collect=\"always\" r=\"3.0816715\" xlink:href=\"#linearGradient4066\"/>\n    <radialGradient cx=\"247.32143\" cy=\"262.89789\" fx=\"247.32143\" fy=\"262.89789\" gradientTransform=\"matrix(1,0,0,1.4486573,0,-117.95105)\" gradientUnits=\"userSpaceOnUse\" id=\"radialGradient4156\" inkscape:collect=\"always\" r=\"3.0816715\" xlink:href=\"#linearGradient4066\"/>\n    <radialGradient cx=\"247.32143\" cy=\"262.89789\" fx=\"247.32143\" fy=\"262.89789\" gradientTransform=\"matrix(1,0,0,1.4486573,0,-117.95105)\" gradientUnits=\"userSpaceOnUse\" id=\"radialGradient4160\" inkscape:collect=\"always\" r=\"3.0816715\" xlink:href=\"#linearGradient4066\"/>\n    <radialGradient cx=\"247.32143\" cy=\"262.89789\" fx=\"247.32143\" fy=\"262.89789\" gradientTransform=\"matrix(1,0,0,1.4486573,0,-117.95105)\" gradientUnits=\"userSpaceOnUse\" id=\"radialGradient4168\" inkscape:collect=\"always\" r=\"3.0816715\" xlink:href=\"#linearGradient4066\"/>\n    <radialGradient cx=\"247.32143\" cy=\"262.89789\" fx=\"247.32143\" fy=\"262.89789\" gradientTransform=\"matrix(1,0,0,1.4486573,0,-117.95105)\" gradientUnits=\"userSpaceOnUse\" id=\"radialGradient4172\" inkscape:collect=\"always\" r=\"3.0816715\" xlink:href=\"#linearGradient4066\"/>\n    <radialGradient cx=\"247.32143\" cy=\"262.89789\" fx=\"247.32143\" fy=\"262.89789\" gradientTransform=\"matrix(1,0,0,1.4486573,0,-117.95105)\" gradientUnits=\"userSpaceOnUse\" id=\"radialGradient4176\" inkscape:collect=\"always\" r=\"3.0816715\" xlink:href=\"#linearGradient4066\"/>\n    <radialGradient cx=\"247.32143\" cy=\"262.89789\" fx=\"247.32143\" fy=\"262.89789\" gradientTransform=\"matrix(1,0,0,1.4486573,0,-117.95105)\" gradientUnits=\"userSpaceOnUse\" id=\"radialGradient4800\" inkscape:collect=\"always\" r=\"3.0816715\" xlink:href=\"#linearGradient4066\"/>\n    <radialGradient cx=\"247.32143\" cy=\"262.89789\" fx=\"247.32143\" fy=\"262.89789\" gradientTransform=\"matrix(1,0,0,1.4486573,0,-117.95105)\" gradientUnits=\"userSpaceOnUse\" id=\"radialGradient4802\" inkscape:collect=\"always\" r=\"3.0816715\" xlink:href=\"#linearGradient4066\"/>\n    <marker id=\"Arrow2Mende\" inkscape:stockid=\"Arrow2Mende\" orient=\"auto\" refX=\"0.0\" refY=\"0.0\" style=\"overflow:visible;\">\n      <path d=\"M 8.7185878,4.0337352 L -2.2072895,0.016013256 L 8.7185884,-4.0017078 C 6.9730900,-1.6296469 6.9831476,1.6157441 8.7185878,4.0337352 z \" id=\"path3168\" style=\"stroke-linejoin:round;font-size:12.0;fill-rule:evenodd;stroke:#ff0000;stroke-width:0.62500000;fill:#ff0000\" transform=\"scale(0.6) rotate(180) translate(0,0)\"/>\n    </marker>\n    <marker id=\"Arrow2Mendeh\" inkscape:stockid=\"Arrow2Mendeh\" orient=\"auto\" refX=\"0.0\" refY=\"0.0\" style=\"overflow:visible;\">\n      <path d=\"M 8.7185878,4.0337352 L -2.2072895,0.016013256 L 8.7185884,-4.0017078 C 6.9730900,-1.6296469 6.9831476,1.6157441 8.7185878,4.0337352 z \" id=\"path3470\" style=\"stroke-linejoin:round;font-size:12.0;fill-rule:evenodd;stroke:#ff0000;stroke-width:0.62500000;fill:#ff0000\" transform=\"scale(0.6) rotate(180) translate(0,0)\"/>\n    </marker>\n    <marker id=\"Arrow2MendX\" inkscape:stockid=\"Arrow2MendX\" orient=\"auto\" refX=\"0.0\" refY=\"0.0\" style=\"overflow:visible;\">\n      <path d=\"M 8.7185878,4.0337352 L -2.2072895,0.016013256 L 8.7185884,-4.0017078 C 6.9730900,-1.6296469 6.9831476,1.6157441 8.7185878,4.0337352 z \" id=\"path3775\" style=\"stroke-linejoin:round;font-size:12.0;fill-rule:evenodd;stroke:#ff0000;stroke-width:0.62500000;fill:#ff0000\" transform=\"scale(0.6) rotate(180) translate(0,0)\"/>\n    </marker>\n    <marker id=\"Arrow2MendS\" inkscape:stockid=\"Arrow2MendS\" orient=\"auto\" refX=\"0.0\" refY=\"0.0\" style=\"overflow:visible;\">\n      <path d=\"M 8.7185878,4.0337352 L -2.2072895,0.016013256 L 8.7185884,-4.0017078 C 6.9730900,-1.6296469 6.9831476,1.6157441 8.7185878,4.0337352 z \" id=\"path4084\" style=\"stroke-linejoin:round;font-size:12.0;fill-rule:evenodd;stroke:#ff0000;stroke-width:0.62500000;fill:#ff0000\" transform=\"scale(0.6) rotate(180) translate(0,0)\"/>\n    </marker>\n    <marker id=\"Arrow2Mendf\" inkscape:stockid=\"Arrow2Mendf\" orient=\"auto\" refX=\"0.0\" refY=\"0.0\" style=\"overflow:visible;\">\n      <path d=\"M 8.7185878,4.0337352 L -2.2072895,0.016013256 L 8.7185884,-4.0017078 C 6.9730900,-1.6296469 6.9831476,1.6157441 8.7185878,4.0337352 z \" id=\"path4397\" style=\"stroke-linejoin:round;font-size:12.0;fill-rule:evenodd;stroke:#ff0000;stroke-width:0.62500000;fill:#ff0000\" transform=\"scale(0.6) rotate(180) translate(0,0)\"/>\n    </marker>\n    <marker id=\"Arrow2Mendr\" inkscape:stockid=\"Arrow2Mendr\" orient=\"auto\" refX=\"0.0\" refY=\"0.0\" style=\"overflow:visible;\">\n      <path d=\"M 8.7185878,4.0337352 L -2.2072895,0.016013256 L 8.7185884,-4.0017078 C 6.9730900,-1.6296469 6.9831476,1.6157441 8.7185878,4.0337352 z \" id=\"path4714\" style=\"stroke-linejoin:round;font-size:12.0;fill-rule:evenodd;stroke:#ff0000;stroke-width:0.62500000;fill:#ff0000\" transform=\"scale(0.6) rotate(180) translate(0,0)\"/>\n    </marker>\n    <marker id=\"Arrow2Mendx\" inkscape:stockid=\"Arrow2Mendx\" orient=\"auto\" refX=\"0.0\" refY=\"0.0\" style=\"overflow:visible;\">\n      <path d=\"M 8.7185878,4.0337352 L -2.2072895,0.016013256 L 8.7185884,-4.0017078 C 6.9730900,-1.6296469 6.9831476,1.6157441 8.7185878,4.0337352 z \" id=\"path5035\" style=\"stroke-linejoin:round;font-size:12.0;fill-rule:evenodd;stroke:#ff0000;stroke-width:0.62500000;fill:#ff0000\" transform=\"scale(0.6) rotate(180) translate(0,0)\"/>\n    </marker>\n    <marker id=\"Arrow2MendD\" inkscape:stockid=\"Arrow2MendD\" orient=\"auto\" refX=\"0.0\" refY=\"0.0\" style=\"overflow:visible;\">\n      <path d=\"M 8.7185878,4.0337352 L -2.2072895,0.016013256 L 8.7185884,-4.0017078 C 6.9730900,-1.6296469 6.9831476,1.6157441 8.7185878,4.0337352 z \" id=\"path5360\" style=\"stroke-linejoin:round;font-size:12.0;fill-rule:evenodd;stroke:#ff0000;stroke-width:0.62500000;fill:#ff0000\" transform=\"scale(0.6) rotate(180) translate(0,0)\"/>\n    </marker>\n    <marker id=\"Arrow2Mendm\" inkscape:stockid=\"Arrow2Mendm\" orient=\"auto\" refX=\"0.0\" refY=\"0.0\" style=\"overflow:visible;\">\n      <path d=\"M 8.7185878,4.0337352 L -2.2072895,0.016013256 L 8.7185884,-4.0017078 C 6.9730900,-1.6296469 6.9831476,1.6157441 8.7185878,4.0337352 z \" id=\"path5689\" style=\"stroke-linejoin:round;font-size:12.0;fill-rule:evenodd;stroke:#ff0000;stroke-width:0.62500000;fill:#ff0000\" transform=\"scale(0.6) rotate(180) translate(0,0)\"/>\n    </marker>\n  </defs>\n  <metadata id=\"metadata7\">\n    <rdf:RDF>\n      <cc:Work rdf:about=\"\">\n        <dc:format>image/svg+xml</dc:format>\n        <dc:type rdf:resource=\"http://purl.org/dc/dcmitype/StillImage\"/>\n        <dc:title/>\n      </cc:Work>\n    </rdf:RDF>\n  </metadata>\n  <g id=\"layer4\" inkscape:groupmode=\"layer\" inkscape:label=\"Background\" sodipodi:insensitive=\"true\" style=\"display:inline\" transform=\"translate(-91.923882,-63.42284)\">\n    <rect height=\"319.20819\" id=\"rect4256\" style=\"fill:#ffffff;fill-opacity:1;stroke:none\" width=\"478.81232\" x=\"91.923882\" y=\"63.42284\"/>\n  </g>\n  <g id=\"layer15\" inkscape:groupmode=\"layer\" inkscape:label=\"Source\" sodipodi:insensitive=\"true\">\n    <path d=\"m 180.31223,111.91016 a 31.31473,31.31473 0 1 1 -62.62946,0 31.31473,31.31473 0 1 1 62.62946,0 z\" id=\"path3235\" sodipodi:cx=\"148.9975\" sodipodi:cy=\"111.91016\" sodipodi:rx=\"31.31473\" sodipodi:ry=\"31.31473\" sodipodi:type=\"arc\" style=\"fill:url(#radialGradient3243);fill-opacity:1;stroke:none;display:inline\" transform=\"translate(-89.082828,-69.168083)\"/>\n  </g>\n  <g id=\"layer12\" inkscape:groupmode=\"layer\" inkscape:label=\"Casing 1\" sodipodi:insensitive=\"true\">\n    <path d=\"m 264.45879,170.25207 49.80202,28.28873 m 67.85916,32.98978 23.70882,13.46718 m -254.40061,-138.89598 75.41713,42.78494\" id=\"path3219\" inkscape:connector-curvature=\"0\" sodipodi:nodetypes=\"cccccc\" style=\"fill:none;stroke:#000000;stroke-width:1px;stroke-linecap:butt;stroke-linejoin:miter;stroke-opacity:1;display:inline\" transform=\"translate(-91.923882,-63.42284)\"/>\n  </g>\n  <g id=\"layer8\" inkscape:groupmode=\"layer\" inkscape:label=\"Rays 1\">\n    <path d=\"m 152.23214,106.46932 100.00592,12.45236\" id=\"path3258\" inkscape:connector-curvature=\"0\" style=\"fill:none;stroke:#ff0000;stroke-width:1px;stroke-linecap:round;stroke-linejoin:miter;stroke-opacity:1;display:inline\" transform=\"translate(-91.923882,-63.42284)\"/>\n    <path d=\"m 152.23214,106.46932 71.80436,19.21606\" id=\"path3260\" inkscape:connector-curvature=\"0\" style=\"fill:none;stroke:#ff0000;stroke-width:1px;stroke-linecap:round;stroke-linejoin:miter;stroke-opacity:1;display:inline\" transform=\"translate(-91.923882,-63.42284)\"/>\n    <path d=\"m 152.23214,106.46932 72.33872,23.87619\" id=\"path3262\" inkscape:connector-curvature=\"0\" style=\"fill:none;stroke:#ff0000;stroke-width:1px;stroke-linecap:round;stroke-linejoin:miter;stroke-opacity:1;display:inline\" transform=\"translate(-91.923882,-63.42284)\"/>\n    <path d=\"m 152.23214,106.46932 73.05639,29.05515\" id=\"path3264\" inkscape:connector-curvature=\"0\" style=\"fill:none;stroke:#ff0000;stroke-width:1px;stroke-linecap:round;stroke-linejoin:miter;stroke-opacity:1;display:inline\" transform=\"translate(-91.923882,-63.42284)\"/>\n    <path d=\"m 152.23214,106.46932 73.88253,35.63119\" id=\"path3266\" inkscape:connector-curvature=\"0\" style=\"fill:none;stroke:#ff0000;stroke-width:1px;stroke-linecap:round;stroke-linejoin:miter;stroke-opacity:1;display:inline\" transform=\"translate(-91.923882,-63.42284)\"/>\n    <path d=\"m 152.23214,106.46932 74.6083,43.74594\" id=\"path3268\" inkscape:connector-curvature=\"0\" style=\"fill:none;stroke:#ff0000;stroke-width:1px;stroke-linecap:round;stroke-linejoin:miter;stroke-opacity:1;display:inline\" transform=\"translate(-91.923882,-63.42284)\"/>\n    <path d=\"m 152.23214,106.46932 75.47558,52.01127\" id=\"path3270\" inkscape:connector-curvature=\"0\" style=\"fill:none;stroke:#ff0000;stroke-width:1px;stroke-linecap:round;stroke-linejoin:miter;stroke-opacity:1;display:inline\" transform=\"translate(-91.923882,-63.42284)\"/>\n    <path d=\"m 152.23214,106.46932 76.11089,61.55835\" id=\"path3272\" inkscape:connector-curvature=\"0\" style=\"fill:none;stroke:#ff0000;stroke-width:1px;stroke-linecap:round;stroke-linejoin:miter;stroke-opacity:1;display:inline\" transform=\"translate(-91.923882,-63.42284)\"/>\n    <path d=\"m 152.23214,106.46932 81.43484,15.86071\" id=\"path3274\" inkscape:connector-curvature=\"0\" style=\"fill:none;stroke:#ff0000;stroke-width:1px;stroke-linecap:round;stroke-linejoin:miter;stroke-opacity:1;display:inline\" transform=\"translate(-91.923882,-63.42284)\"/>\n  </g>\n  <g id=\"layer5\" inkscape:groupmode=\"layer\" inkscape:label=\"Squares 1\" sodipodi:insensitive=\"true\">\n    <path d=\"m 228.94499,181.28614 c 12.30695,-3.1537 23.84415,-6.73277 35.81629,-11.06211 -0.61127,-17.68877 -1.65291,-35.292 -3.17118,-53.16349 -12.62869,2.88004 -25.22844,4.89484 -37.82819,7.02221 2.83156,18.97897 4.48536,38.03043 5.18308,57.20339 z\" id=\"path3189\" inkscape:connector-curvature=\"0\" sodipodi:nodetypes=\"ccccc\" style=\"fill:#ffffdc;fill-opacity:1;stroke:#000000;stroke-width:1;stroke-linecap:square;stroke-linejoin:miter;stroke-miterlimit:4;stroke-opacity:1;stroke-dashoffset:0;display:inline\" transform=\"translate(-91.923882,-63.42284)\"/>\n    <switch style=\"font-size:36.47678375px;font-style:normal;font-weight:bold;text-align:start;text-anchor:start;fill:#fafa6f;fill-opacity:1;stroke:none;font-family:Bitstream Vera Sans\"><text id=\"text4178-simple\" style=\"font-size:36.47678375px;font-style:normal;font-weight:bold;text-align:start;text-anchor:start;fill:#fafa6f;fill-opacity:1;stroke:none;font-family:Bitstream Vera Sans\" systemLanguage=\"simple\" transform=\"matrix(0.9385893,-0.3442784,0,1.0654287,-91.923882,-63.42284)\" x=\"248.04738\" xml:space=\"preserve\" y=\"236.57108\"><tspan id=\"tspan4180-simple\" sodipodi:role=\"line\" x=\"248.04738\" y=\"236.57108\">A</tspan></text><text id=\"text4178\" style=\"font-size:36.47678375px;font-style:normal;font-weight:bold;text-align:start;text-anchor:start;fill:#fafa6f;fill-opacity:1;stroke:none;font-family:Bitstream Vera Sans\" transform=\"matrix(0.9385893,-0.3442784,0,1.0654287,-91.923882,-63.42284)\" x=\"248.04738\" xml:space=\"preserve\" y=\"236.57108\"><tspan id=\"tspan4180\" sodipodi:role=\"line\" x=\"248.04738\" y=\"236.57108\">A</tspan></text></switch>\n  </g>\n  <g id=\"layer9\" inkscape:groupmode=\"layer\" inkscape:label=\"Rays 2\">\n    <path d=\"m 258.68892,119.72491 107.49311,13.38463\" id=\"path3314\" inkscape:connector-curvature=\"0\" style=\"fill:none;stroke:#ff0000;stroke-width:1px;stroke-linecap:round;stroke-linejoin:miter;stroke-opacity:1;display:inline\" transform=\"translate(-91.923882,-63.42284)\"/>\n    <path d=\"m 232.50919,127.95282 77.05641,20.6216\" id=\"path3330\" inkscape:connector-curvature=\"0\" style=\"fill:none;stroke:#ff0000;stroke-width:1px;stroke-linecap:round;stroke-linejoin:miter;stroke-opacity:1;display:inline\" transform=\"translate(-91.923882,-63.42284)\"/>\n    <path d=\"m 258.08561,141.40742 52.99426,17.49133\" id=\"path3338\" inkscape:connector-curvature=\"0\" style=\"fill:none;stroke:#ff0000;stroke-width:1px;stroke-linecap:round;stroke-linejoin:miter;stroke-opacity:1;display:inline\" transform=\"translate(-91.923882,-63.42284)\"/>\n    <path d=\"m 240.00658,141.37796 72.43326,28.80734\" id=\"path3346\" inkscape:connector-curvature=\"0\" style=\"fill:none;stroke:#ff0000;stroke-width:1px;stroke-linecap:round;stroke-linejoin:miter;stroke-opacity:1;display:inline\" transform=\"translate(-91.923882,-63.42284)\"/>\n    <path d=\"M 244.86368,151.14256 313.42603,184.208\" id=\"path3354\" inkscape:connector-curvature=\"0\" style=\"fill:none;stroke:#ff0000;stroke-width:1px;stroke-linecap:round;stroke-linejoin:miter;stroke-opacity:1;display:inline\" transform=\"translate(-91.923882,-63.42284)\"/>\n    <path d=\"m 258.28122,168.65029 56.16775,32.93348\" id=\"path3362\" inkscape:connector-curvature=\"0\" style=\"fill:none;stroke:#ff0000;stroke-width:1px;stroke-linecap:round;stroke-linejoin:miter;stroke-opacity:1;display:inline\" transform=\"translate(-91.923882,-63.42284)\"/>\n    <path d=\"M 247.60921,172.19497 314.844,218.5274\" id=\"path3370\" inkscape:connector-curvature=\"0\" style=\"fill:none;stroke:#ff0000;stroke-width:1px;stroke-linecap:round;stroke-linejoin:miter;stroke-opacity:1;display:inline\" transform=\"translate(-91.923882,-63.42284)\"/>\n    <path d=\"m 232.10076,171.0669 82.55568,66.77089\" id=\"path3378\" inkscape:connector-curvature=\"0\" style=\"fill:none;stroke:#ff0000;stroke-width:1px;stroke-linecap:round;stroke-linejoin:miter;stroke-opacity:1;display:inline\" transform=\"translate(-91.923882,-63.42284)\"/>\n    <path d=\"m 247.08974,124.94432 84.99004,16.55314\" id=\"path3322\" inkscape:connector-curvature=\"0\" style=\"fill:none;stroke:#ff0000;stroke-width:1px;stroke-linecap:round;stroke-linejoin:miter;stroke-opacity:1;display:inline\" transform=\"translate(-91.923882,-63.42284)\"/>\n    <path d=\"m 250.4031,262.89789 a 3.0816715,4.4642859 0 1 1 -6.16335,0 3.0816715,4.4642859 0 1 1 6.16335,0 z\" id=\"path4074\" sodipodi:cx=\"247.32143\" sodipodi:cy=\"262.89789\" sodipodi:rx=\"3.0816715\" sodipodi:ry=\"4.4642859\" sodipodi:type=\"arc\" style=\"fill:url(#radialGradient4076);fill-opacity:1;stroke:none;display:inline;stroke-linecap:round\" transform=\"translate(-81.120386,-184.8187)\"/>\n    <path d=\"m 250.4031,262.89789 a 3.0816715,4.4642859 0 1 1 -6.16335,0 3.0816715,4.4642859 0 1 1 6.16335,0 z\" id=\"path4078\" sodipodi:cx=\"247.32143\" sodipodi:cy=\"262.89789\" sodipodi:rx=\"3.0816715\" sodipodi:ry=\"4.4642859\" sodipodi:type=\"arc\" style=\"fill:url(#radialGradient4080);fill-opacity:1;stroke:none;display:inline;stroke-linecap:round\" transform=\"translate(-99.072895,-184.88587)\"/>\n    <path d=\"m 250.4031,262.89789 a 3.0816715,4.4642859 0 1 1 -6.16335,0 3.0816715,4.4642859 0 1 1 6.16335,0 z\" id=\"path4082\" sodipodi:cx=\"247.32143\" sodipodi:cy=\"262.89789\" sodipodi:rx=\"3.0816715\" sodipodi:ry=\"4.4642859\" sodipodi:type=\"arc\" style=\"fill:url(#radialGradient4084);fill-opacity:1;stroke:none;display:inline;stroke-linecap:round\" transform=\"translate(-94.267237,-175.2925)\"/>\n    <path d=\"m 250.4031,262.89789 a 3.0816715,4.4642859 0 1 1 -6.16335,0 3.0816715,4.4642859 0 1 1 6.16335,0 z\" id=\"path4086\" sodipodi:cx=\"247.32143\" sodipodi:cy=\"262.89789\" sodipodi:rx=\"3.0816715\" sodipodi:ry=\"4.4642859\" sodipodi:type=\"arc\" style=\"fill:url(#radialGradient4088);fill-opacity:1;stroke:none;display:inline;stroke-linecap:round\" transform=\"translate(-91.984781,-201.40264)\"/>\n    <path d=\"m 250.4031,262.89789 a 3.0816715,4.4642859 0 1 1 -6.16335,0 3.0816715,4.4642859 0 1 1 6.16335,0 z\" id=\"path4090\" sodipodi:cx=\"247.32143\" sodipodi:cy=\"262.89789\" sodipodi:rx=\"3.0816715\" sodipodi:ry=\"4.4642859\" sodipodi:type=\"arc\" style=\"fill:url(#radialGradient4092);fill-opacity:1;stroke:none;display:inline;stroke-linecap:round\" transform=\"translate(-91.498929,-154.20339)\"/>\n    <path d=\"m 250.4031,262.89789 a 3.0816715,4.4642859 0 1 1 -6.16335,0 3.0816715,4.4642859 0 1 1 6.16335,0 z\" id=\"path4094\" sodipodi:cx=\"247.32143\" sodipodi:cy=\"262.89789\" sodipodi:rx=\"3.0816715\" sodipodi:ry=\"4.4642859\" sodipodi:type=\"arc\" style=\"fill:url(#radialGradient4096);fill-opacity:1;stroke:none;display:inline;stroke-linecap:round\" transform=\"translate(-106.93471,-155.0517)\"/>\n    <path d=\"m 250.4031,262.89789 a 3.0816715,4.4642859 0 1 1 -6.16335,0 3.0816715,4.4642859 0 1 1 6.16335,0 z\" id=\"path4098\" sodipodi:cx=\"247.32143\" sodipodi:cy=\"262.89789\" sodipodi:rx=\"3.0816715\" sodipodi:ry=\"4.4642859\" sodipodi:type=\"arc\" style=\"fill:url(#radialGradient4100);fill-opacity:1;stroke:none;display:inline;stroke-linecap:round\" transform=\"translate(-106.4324,-198.3759)\"/>\n    <path d=\"m 250.4031,262.89789 a 3.0816715,4.4642859 0 1 1 -6.16335,0 3.0816715,4.4642859 0 1 1 6.16335,0 z\" id=\"path4102\" sodipodi:cx=\"247.32143\" sodipodi:cy=\"262.89789\" sodipodi:rx=\"3.0816715\" sodipodi:ry=\"4.4642859\" sodipodi:type=\"arc\" style=\"fill:url(#radialGradient4104);fill-opacity:1;stroke:none;display:inline;stroke-linecap:round\" transform=\"translate(-80.952965,-157.49844)\"/>\n    <path d=\"m 250.4031,262.89789 a 3.0816715,4.4642859 0 1 1 -6.16335,0 3.0816715,4.4642859 0 1 1 6.16335,0 z\" id=\"path4106\" sodipodi:cx=\"247.32143\" sodipodi:cy=\"262.89789\" sodipodi:rx=\"3.0816715\" sodipodi:ry=\"4.4642859\" sodipodi:type=\"arc\" style=\"fill:url(#radialGradient4108);fill-opacity:1;stroke:none;display:inline;stroke-linecap:round\" transform=\"translate(-80.407639,-206.69107)\"/>\n  </g>\n  <g id=\"layer6\" inkscape:groupmode=\"layer\" inkscape:label=\"Squares 2\" sodipodi:insensitive=\"true\">\n    <path d=\"m 286.34993,65.50492 c 4.81978,33.41864 6.03898,67.66244 4.1611,102.47499 -21.54791,14.8872 -44.86058,23.52136 -68.40616,31.93237 1.83143,-39.39159 1.13521,-78.89462 -4.68887,-117.93148 23.14346,-3.9076 45.79048,-7.02351 68.93393,-16.47588 z\" id=\"path4631\" inkscape:connector-curvature=\"0\" style=\"fill:#ffffdc;fill-opacity:1;stroke:#000000;stroke-width:1;stroke-linecap:square;stroke-linejoin:miter;stroke-miterlimit:4;stroke-opacity:1;stroke-dashoffset:0;display:inline\"/>\n    <path d=\"m 255.27313,75.03479 c 3.1395,37.58962 4.2896,73.89748 3.12945,110.62717\" id=\"path4629\" inkscape:connector-curvature=\"0\" style=\"fill:none;stroke:#000000;stroke-width:1;stroke-linecap:square;stroke-linejoin:miter;stroke-miterlimit:4;stroke-opacity:1;stroke-dashoffset:0;display:inline\"/>\n    <path d=\"m 222.7298,138.9679 c 23.75472,-6.08723 45.58588,-13.44018 67.97554,-24.98765\" id=\"path3177\" inkscape:connector-curvature=\"0\" style=\"fill:none;stroke:#000000;stroke-width:1;stroke-linecap:square;stroke-linejoin:miter;stroke-miterlimit:4;stroke-opacity:1;stroke-dashoffset:0;display:inline\"/>\n    <switch style=\"font-size:36.47678375px;font-style:normal;font-weight:bold;text-align:start;text-anchor:start;fill:#fafa6f;fill-opacity:1;stroke:none;font-family:Bitstream Vera Sans\"><text id=\"text4193-simple\" style=\"font-size:36.47678375px;font-style:normal;font-weight:bold;text-align:start;text-anchor:start;fill:#fafa6f;fill-opacity:1;stroke:none;font-family:Bitstream Vera Sans\" systemLanguage=\"simple\" transform=\"matrix(0.9385893,-0.3442784,0,1.0654287,-91.923882,-63.42284)\" x=\"338.99835\" xml:space=\"preserve\" y=\"286.15994\"><tspan id=\"tspan4195-simple\" sodipodi:role=\"line\" x=\"338.99835\" y=\"286.15994\">A</tspan></text><text id=\"text4193\" style=\"font-size:36.47678375px;font-style:normal;font-weight:bold;text-align:start;text-anchor:start;fill:#fafa6f;fill-opacity:1;stroke:none;font-family:Bitstream Vera Sans\" transform=\"matrix(0.9385893,-0.3442784,0,1.0654287,-91.923882,-63.42284)\" x=\"338.99835\" xml:space=\"preserve\" y=\"286.15994\"><tspan id=\"tspan4195\" sodipodi:role=\"line\" x=\"338.99835\" y=\"286.15994\">A</tspan></text></switch>\n  </g>\n  <g id=\"layer10\" inkscape:groupmode=\"layer\" inkscape:label=\"Rays 3\">\n    <path d=\"M 375.75581,134.30163 478.9329,147.14885\" id=\"path3316\" inkscape:connector-curvature=\"0\" style=\"fill:none;stroke:#ff0000;stroke-width:1px;stroke-linecap:round;stroke-linejoin:miter;stroke-opacity:1;display:inline\" transform=\"translate(-91.923882,-63.42284)\"/>\n    <path d=\"m 322.56181,152.05243 78.32405,20.96084\" id=\"path3332\" inkscape:connector-curvature=\"0\" style=\"fill:none;stroke:#ff0000;stroke-width:1px;stroke-linecap:round;stroke-linejoin:miter;stroke-opacity:1;display:inline\" transform=\"translate(-91.923882,-63.42284)\"/>\n    <path d=\"m 366.54758,177.20648 36.10918,11.91823\" id=\"path3340\" inkscape:connector-curvature=\"0\" style=\"fill:none;stroke:#ff0000;stroke-width:1px;stroke-linecap:round;stroke-linejoin:miter;stroke-opacity:1;display:inline\" transform=\"translate(-91.923882,-63.42284)\"/>\n    <path d=\"m 336.94788,179.93235 67.34608,26.78412\" id=\"path3348\" inkscape:connector-curvature=\"0\" style=\"fill:none;stroke:#ff0000;stroke-width:1px;stroke-linecap:round;stroke-linejoin:miter;stroke-opacity:1;display:inline\" transform=\"translate(-91.923882,-63.42284)\"/>\n    <path d=\"m 345.97155,199.90366 59.41505,28.65399\" id=\"path3356\" inkscape:connector-curvature=\"0\" style=\"fill:none;stroke:#ff0000;stroke-width:1px;stroke-linecap:round;stroke-linejoin:miter;stroke-opacity:1;display:inline\" transform=\"translate(-91.923882,-63.42284)\"/>\n    <path d=\"m 371.27812,234.90506 34.41189,20.17712\" id=\"path3364\" inkscape:connector-curvature=\"0\" style=\"fill:none;stroke:#ff0000;stroke-width:1px;stroke-linecap:round;stroke-linejoin:miter;stroke-opacity:1;display:inline\" transform=\"translate(-91.923882,-63.42284)\"/>\n    <path d=\"m 352.36557,244.38403 52.66229,36.29031\" id=\"path3372\" inkscape:connector-curvature=\"0\" style=\"fill:none;stroke:#ff0000;stroke-width:1px;stroke-linecap:round;stroke-linejoin:miter;stroke-opacity:1;display:inline\" transform=\"translate(-91.923882,-63.42284)\"/>\n    <path d=\"m 322.97005,244.56182 80.41629,65.04055\" id=\"path3380\" inkscape:connector-curvature=\"0\" style=\"fill:none;stroke:#ff0000;stroke-width:1px;stroke-linecap:round;stroke-linejoin:miter;stroke-opacity:1;display:inline\" transform=\"translate(-91.923882,-63.42284)\"/>\n    <path d=\"m 342.87957,143.60089 92.5535,18.02624\" id=\"path3324\" inkscape:connector-curvature=\"0\" style=\"fill:none;stroke:#ff0000;stroke-width:1px;stroke-linecap:round;stroke-linejoin:miter;stroke-opacity:1;display:inline\" transform=\"translate(-91.923882,-63.42284)\"/>\n    <path d=\"m 250.4031,262.89789 a 3.0816715,4.4642859 0 1 1 -6.16335,0 3.0816715,4.4642859 0 1 1 6.16335,0 z\" id=\"path4054\" sodipodi:cx=\"247.32143\" sodipodi:cy=\"262.89789\" sodipodi:rx=\"3.0816715\" sodipodi:ry=\"4.4642859\" sodipodi:type=\"arc\" style=\"fill:url(#radialGradient4072);fill-opacity:1;stroke:none;display:inline;stroke-linecap:round\" transform=\"translate(-16.005192,-81.603035)\"/>\n    <path d=\"m 250.4031,262.89789 a 3.0816715,4.4642859 0 1 1 -6.16335,0 3.0816715,4.4642859 0 1 1 6.16335,0 z\" id=\"path4110\" sodipodi:cx=\"247.32143\" sodipodi:cy=\"262.89789\" sodipodi:rx=\"3.0816715\" sodipodi:ry=\"4.4642859\" sodipodi:type=\"arc\" style=\"fill:url(#radialGradient4112);fill-opacity:1;stroke:none;display:inline;stroke-linecap:round\" transform=\"translate(32.026468,-91.418408)\"/>\n    <path d=\"m 250.4031,262.89789 a 3.0816715,4.4642859 0 1 1 -6.16335,0 3.0816715,4.4642859 0 1 1 6.16335,0 z\" id=\"path4114\" sodipodi:cx=\"247.32143\" sodipodi:cy=\"262.89789\" sodipodi:rx=\"3.0816715\" sodipodi:ry=\"4.4642859\" sodipodi:type=\"arc\" style=\"fill:url(#radialGradient4116);fill-opacity:1;stroke:none;display:inline;stroke-linecap:round\" transform=\"translate(13.107128,-81.883234)\"/>\n    <path d=\"m 250.4031,262.89789 a 3.0816715,4.4642859 0 1 1 -6.16335,0 3.0816715,4.4642859 0 1 1 6.16335,0 z\" id=\"path4118\" sodipodi:cx=\"247.32143\" sodipodi:cy=\"262.89789\" sodipodi:rx=\"3.0816715\" sodipodi:ry=\"4.4642859\" sodipodi:type=\"arc\" style=\"fill:url(#radialGradient4120);fill-opacity:1;stroke:none;display:inline;stroke-linecap:round\" transform=\"translate(27.466548,-148.98223)\"/>\n    <path d=\"m 250.4031,262.89789 a 3.0816715,4.4642859 0 1 1 -6.16335,0 3.0816715,4.4642859 0 1 1 6.16335,0 z\" id=\"path4122\" sodipodi:cx=\"247.32143\" sodipodi:cy=\"262.89789\" sodipodi:rx=\"3.0816715\" sodipodi:ry=\"4.4642859\" sodipodi:type=\"arc\" style=\"fill:url(#radialGradient4124);fill-opacity:1;stroke:none;display:inline;stroke-linecap:round\" transform=\"translate(-2.193353,-146.26251)\"/>\n    <path d=\"m 250.4031,262.89789 a 3.0816715,4.4642859 0 1 1 -6.16335,0 3.0816715,4.4642859 0 1 1 6.16335,0 z\" id=\"path4126\" sodipodi:cx=\"247.32143\" sodipodi:cy=\"262.89789\" sodipodi:rx=\"3.0816715\" sodipodi:ry=\"4.4642859\" sodipodi:type=\"arc\" style=\"fill:url(#radialGradient4128);fill-opacity:1;stroke:none;display:inline;stroke-linecap:round\" transform=\"translate(-16.400481,-174.1658)\"/>\n    <path d=\"m 250.4031,262.89789 a 3.0816715,4.4642859 0 1 1 -6.16335,0 3.0816715,4.4642859 0 1 1 6.16335,0 z\" id=\"path4130\" sodipodi:cx=\"247.32143\" sodipodi:cy=\"262.89789\" sodipodi:rx=\"3.0816715\" sodipodi:ry=\"4.4642859\" sodipodi:type=\"arc\" style=\"fill:url(#radialGradient4132);fill-opacity:1;stroke:none;display:inline;stroke-linecap:round\" transform=\"translate(3.851794,-182.77095)\"/>\n    <path d=\"m 250.4031,262.89789 a 3.0816715,4.4642859 0 1 1 -6.16335,0 3.0816715,4.4642859 0 1 1 6.16335,0 z\" id=\"path4134\" sodipodi:cx=\"247.32143\" sodipodi:cy=\"262.89789\" sodipodi:rx=\"3.0816715\" sodipodi:ry=\"4.4642859\" sodipodi:type=\"arc\" style=\"fill:url(#radialGradient4136);fill-opacity:1;stroke:none;display:inline;stroke-linecap:round\" transform=\"translate(36.442808,-192.06255)\"/>\n    <path d=\"m 250.4031,262.89789 a 3.0816715,4.4642859 0 1 1 -6.16335,0 3.0816715,4.4642859 0 1 1 6.16335,0 z\" id=\"path4138\" sodipodi:cx=\"247.32143\" sodipodi:cy=\"262.89789\" sodipodi:rx=\"3.0816715\" sodipodi:ry=\"4.4642859\" sodipodi:type=\"arc\" style=\"fill:url(#radialGradient4140);fill-opacity:1;stroke:none;display:inline;stroke-linecap:round\" transform=\"translate(6.837646,-126.38315)\"/>\n  </g>\n  <g id=\"layer7\" inkscape:groupmode=\"layer\" inkscape:label=\"Squares 3\" sodipodi:insensitive=\"true\">\n    <path d=\"m 308.22841,104.81207 c 30.47619,-5.145674 60.95237,-9.632772 91.42856,-27.857144 5.53833,39.223584 9.08944,80.434374 0,134.285724 -26.57819,36.95421 -59.78734,52.35778 -91.42856,72.85714 5.89506,-60.29782 8.79683,-120.32352 0,-179.28572 z\" id=\"rect2383\" inkscape:connector-curvature=\"0\" sodipodi:nodetypes=\"ccccc\" style=\"fill:#ffffdc;fill-opacity:1;stroke:#000000;stroke-width:1;stroke-linecap:square;stroke-linejoin:miter;stroke-miterlimit:4;stroke-opacity:1;stroke-dashoffset:0\"/>\n    <path d=\"m 346.08554,97.866054 c 4.59321,54.995146 4.92816,109.138646 0,162.229516\" id=\"path3160\" inkscape:connector-curvature=\"0\" sodipodi:nodetypes=\"cc\" style=\"fill:none;stroke:#000000;stroke-width:1px;stroke-linecap:butt;stroke-linejoin:miter;stroke-opacity:1\"/>\n    <path d=\"m 377.15698,88.390936 c 6.89804,47.828614 6.43193,97.235264 0,147.920294\" id=\"path3162\" inkscape:connector-curvature=\"0\" sodipodi:nodetypes=\"cc\" style=\"fill:none;stroke:#000000;stroke-width:1px;stroke-linecap:butt;stroke-linejoin:miter;stroke-opacity:1\"/>\n    <path d=\"m 312.99118,222.39561 c 32.13035,-11.03753 63.96344,-23.14522 91.4188,-51.01271\" id=\"path3164\" inkscape:connector-curvature=\"0\" sodipodi:nodetypes=\"cc\" style=\"fill:none;stroke:#000000;stroke-width:1px;stroke-linecap:butt;stroke-linejoin:miter;stroke-opacity:1\"/>\n    <path d=\"m 312.73864,161.97774 c 31.80272,-8.14955 62.95826,-18.88784 91.92388,-38.3858\" id=\"path3166\" inkscape:connector-curvature=\"0\" sodipodi:nodetypes=\"cc\" style=\"fill:none;stroke:#000000;stroke-width:1px;stroke-linecap:butt;stroke-linejoin:miter;stroke-opacity:1\"/>\n    <switch style=\"font-size:36.47678375px;font-style:normal;font-weight:bold;text-align:start;text-anchor:start;fill:#fafa6f;fill-opacity:1;stroke:none;font-family:Bitstream Vera Sans\"><text id=\"text4197-simple\" style=\"font-size:36.47678375px;font-style:normal;font-weight:bold;text-align:start;text-anchor:start;fill:#fafa6f;fill-opacity:1;stroke:none;font-family:Bitstream Vera Sans\" systemLanguage=\"simple\" transform=\"matrix(0.9385893,-0.3442784,0,1.0654287,-91.923882,-63.42284)\" x=\"436.02847\" xml:space=\"preserve\" y=\"339.63779\"><tspan id=\"tspan4199-simple\" sodipodi:role=\"line\" x=\"436.02847\" y=\"339.63779\">A</tspan></text><text id=\"text4197\" style=\"font-size:36.47678375px;font-style:normal;font-weight:bold;text-align:start;text-anchor:start;fill:#fafa6f;fill-opacity:1;stroke:none;font-family:Bitstream Vera Sans\" transform=\"matrix(0.9385893,-0.3442784,0,1.0654287,-91.923882,-63.42284)\" x=\"436.02847\" xml:space=\"preserve\" y=\"339.63779\"><tspan id=\"tspan4199\" sodipodi:role=\"line\" x=\"436.02847\" y=\"339.63779\">A</tspan></text></switch>\n  </g>\n  <g id=\"layer11\" inkscape:groupmode=\"layer\" inkscape:label=\"Rays 4\" sodipodi:insensitive=\"true\" style=\"display:inline\">\n    <path d=\"m 487.21884,148.18058 53.25986,6.63171\" id=\"path3312\" inkscape:connector-curvature=\"0\" style=\"fill:none;stroke:#ff0000;stroke-width:1px;stroke-linecap:round;stroke-linejoin:miter;stroke-opacity:1;marker-end:url(#Arrow2Mendm);display:inline\" transform=\"translate(-91.923882,-63.42284)\"/>\n    <path d=\"m 428.27663,180.3435 50.687,13.5647\" id=\"path3328\" inkscape:connector-curvature=\"0\" style=\"fill:none;stroke:#ff0000;stroke-width:1px;stroke-linecap:round;stroke-linejoin:miter;stroke-opacity:1;marker-end:url(#Arrow2Mendx);display:inline\" transform=\"translate(-91.923882,-63.42284)\"/>\n    <path d=\"m 478.17378,214.04992 56.5142,18.65313\" id=\"path3336\" inkscape:connector-curvature=\"0\" sodipodi:nodetypes=\"cc\" style=\"fill:none;stroke:#ff0000;stroke-width:1px;stroke-linecap:round;stroke-linejoin:miter;stroke-opacity:1;marker-end:url(#Arrow2Mendr);display:inline\" transform=\"translate(-91.923882,-63.42284)\"/>\n    <path d=\"m 434.16633,218.59697 55.06825,21.90111\" id=\"path3344\" inkscape:connector-curvature=\"0\" sodipodi:nodetypes=\"cc\" style=\"fill:none;stroke:#ff0000;stroke-width:1px;stroke-linecap:round;stroke-linejoin:miter;stroke-opacity:1;marker-end:url(#Arrow2Mendf);display:inline\" transform=\"translate(-91.923882,-63.42284)\"/>\n    <path d=\"m 444.55546,247.44754 48.86704,23.56703\" id=\"path3352\" inkscape:connector-curvature=\"0\" sodipodi:nodetypes=\"cc\" style=\"fill:none;stroke:#ff0000;stroke-width:1px;stroke-linecap:round;stroke-linejoin:miter;stroke-opacity:1;marker-end:url(#Arrow2MendS);display:inline\" transform=\"translate(-91.923882,-63.42284)\"/>\n    <path d=\"m 472.18721,294.07224 33.11578,19.41715\" id=\"path3360\" inkscape:connector-curvature=\"0\" style=\"fill:none;stroke:#ff0000;stroke-width:1px;stroke-linecap:round;stroke-linejoin:miter;stroke-opacity:1;marker-end:url(#Arrow2Mende);display:inline\" transform=\"translate(-91.923882,-63.42284)\"/>\n    <path d=\"m 445.8264,308.78918 34.22139,23.58244\" id=\"path3368\" inkscape:connector-curvature=\"0\" style=\"fill:none;stroke:#ff0000;stroke-width:1px;stroke-linecap:round;stroke-linejoin:miter;stroke-opacity:1;marker-end:url(#Arrow2Mendeh);display:inline\" transform=\"translate(-91.923882,-63.42284)\"/>\n    <path d=\"m 413.87991,318.08955 38.25283,30.93881\" id=\"path3376\" inkscape:connector-curvature=\"0\" style=\"fill:none;stroke:#ff0000;stroke-width:1px;stroke-linecap:round;stroke-linejoin:miter;stroke-opacity:1;marker-end:url(#Arrow2MendX);display:inline\" transform=\"translate(-91.923882,-63.42284)\"/>\n    <path d=\"m 446.71284,163.82405 72.1732,14.05685\" id=\"path3320\" inkscape:connector-curvature=\"0\" style=\"fill:none;stroke:#ff0000;stroke-width:1px;stroke-linecap:round;stroke-linejoin:miter;stroke-opacity:1;marker-end:url(#Arrow2MendD);display:inline\" transform=\"translate(-91.923882,-63.42284)\"/>\n    <path d=\"m 250.4031,262.89789 a 3.0816715,4.4642859 0 1 1 -6.16335,0 3.0816715,4.4642859 0 1 1 6.16335,0 z\" id=\"path4142\" sodipodi:cx=\"247.32143\" sodipodi:cy=\"262.89789\" sodipodi:rx=\"3.0816715\" sodipodi:ry=\"4.4642859\" sodipodi:type=\"arc\" style=\"fill:url(#radialGradient4802);fill-opacity:1;stroke:none;display:inline\" transform=\"translate(105.10771,-78.964126)\"/>\n    <path d=\"m 250.4031,262.89789 a 3.0816715,4.4642859 0 1 1 -6.16335,0 3.0816715,4.4642859 0 1 1 6.16335,0 z\" id=\"path4146\" sodipodi:cx=\"247.32143\" sodipodi:cy=\"262.89789\" sodipodi:rx=\"3.0816715\" sodipodi:ry=\"4.4642859\" sodipodi:type=\"arc\" style=\"fill:url(#radialGradient4148);fill-opacity:1;stroke:none;display:inline\" transform=\"translate(107.49708,-162.58555)\"/>\n    <path d=\"m 250.4031,262.89789 a 3.0816715,4.4642859 0 1 1 -6.16335,0 3.0816715,4.4642859 0 1 1 6.16335,0 z\" id=\"path4150\" sodipodi:cx=\"247.32143\" sodipodi:cy=\"262.89789\" sodipodi:rx=\"3.0816715\" sodipodi:ry=\"4.4642859\" sodipodi:type=\"arc\" style=\"fill:url(#radialGradient4152);fill-opacity:1;stroke:none;display:inline\" transform=\"translate(89.058268,-146.01212)\"/>\n    <path d=\"m 250.4031,262.89789 a 3.0816715,4.4642859 0 1 1 -6.16335,0 3.0816715,4.4642859 0 1 1 6.16335,0 z\" id=\"path4154\" sodipodi:cx=\"247.32143\" sodipodi:cy=\"262.89789\" sodipodi:rx=\"3.0816715\" sodipodi:ry=\"4.4642859\" sodipodi:type=\"arc\" style=\"fill:url(#radialGradient4156);fill-opacity:1;stroke:none;display:inline\" transform=\"translate(148.09778,-178.31823)\"/>\n    <path d=\"m 250.4031,262.89789 a 3.0816715,4.4642859 0 1 1 -6.16335,0 3.0816715,4.4642859 0 1 1 6.16335,0 z\" id=\"path4158\" sodipodi:cx=\"247.32143\" sodipodi:cy=\"262.89789\" sodipodi:rx=\"3.0816715\" sodipodi:ry=\"4.4642859\" sodipodi:type=\"arc\" style=\"fill:url(#radialGradient4160);fill-opacity:1;stroke:none;display:inline\" transform=\"translate(138.90553,-112.35511)\"/>\n    <path d=\"m 250.4031,262.89789 a 3.0816715,4.4642859 0 1 1 -6.16335,0 3.0816715,4.4642859 0 1 1 6.16335,0 z\" id=\"path4162\" sodipodi:cx=\"247.32143\" sodipodi:cy=\"262.89789\" sodipodi:rx=\"3.0816715\" sodipodi:ry=\"4.4642859\" sodipodi:type=\"arc\" style=\"fill:url(#radialGradient4800);fill-opacity:1;stroke:none;display:inline\" transform=\"translate(95.218973,-107.44069)\"/>\n    <path d=\"m 250.4031,262.89789 a 3.0816715,4.4642859 0 1 1 -6.16335,0 3.0816715,4.4642859 0 1 1 6.16335,0 z\" id=\"path4166\" sodipodi:cx=\"247.32143\" sodipodi:cy=\"262.89789\" sodipodi:rx=\"3.0816715\" sodipodi:ry=\"4.4642859\" sodipodi:type=\"arc\" style=\"fill:url(#radialGradient4168);fill-opacity:1;stroke:none;display:inline\" transform=\"translate(132.89755,-32.351405)\"/>\n    <path d=\"m 250.4031,262.89789 a 3.0816715,4.4642859 0 1 1 -6.16335,0 3.0816715,4.4642859 0 1 1 6.16335,0 z\" id=\"path4170\" sodipodi:cx=\"247.32143\" sodipodi:cy=\"262.89789\" sodipodi:rx=\"3.0816715\" sodipodi:ry=\"4.4642859\" sodipodi:type=\"arc\" style=\"fill:url(#radialGradient4172);fill-opacity:1;stroke:none;display:inline\" transform=\"translate(106.46898,-17.52998)\"/>\n    <path d=\"m 250.4031,262.89789 a 3.0816715,4.4642859 0 1 1 -6.16335,0 3.0816715,4.4642859 0 1 1 6.16335,0 z\" id=\"path4174\" sodipodi:cx=\"247.32143\" sodipodi:cy=\"262.89789\" sodipodi:rx=\"3.0816715\" sodipodi:ry=\"4.4642859\" sodipodi:type=\"arc\" style=\"fill:url(#radialGradient4176);fill-opacity:1;stroke:none;display:inline\" transform=\"translate(74.593968,-8.154974)\"/>\n  </g>\n  <g id=\"layer13\" inkscape:groupmode=\"layer\" inkscape:label=\"Casing 2\" sodipodi:insensitive=\"true\">\n    <path d=\"M 399.75788,347.42417 151.31867,105.9471\" id=\"path3211\" inkscape:connector-curvature=\"0\" sodipodi:nodetypes=\"cc\" style=\"fill:none;stroke:#000000;stroke-width:1px;stroke-linecap:butt;stroke-linejoin:miter;stroke-opacity:1;display:inline\" transform=\"translate(-91.923882,-63.42284)\"/>\n    <path d=\"m 151.46652,106.10624 248.86434,62.12867\" id=\"path3215\" inkscape:connector-curvature=\"0\" sodipodi:nodetypes=\"cc\" style=\"fill:none;stroke:#000000;stroke-width:1px;stroke-linecap:butt;stroke-linejoin:miter;stroke-opacity:1;display:inline\" transform=\"translate(-91.923882,-63.42284)\"/>\n    <path d=\"m 151.40457,106.11075 340.02466,33.97961\" id=\"path3213\" inkscape:connector-curvature=\"0\" sodipodi:nodetypes=\"cc\" style=\"fill:none;stroke:#000000;stroke-width:1px;stroke-linecap:butt;stroke-linejoin:miter;stroke-opacity:1;display:inline\" transform=\"translate(-91.923882,-63.42284)\"/>\n  </g>\n  <g id=\"layer14\" inkscape:groupmode=\"layer\" inkscape:label=\"Labels\" sodipodi:insensitive=\"true\">\n    <switch style=\"font-size:16px;font-style:normal;font-weight:normal;text-align:start;text-anchor:start;fill:#000000;fill-opacity:1;stroke:none;display:inline;font-family:Bitstream Vera Sans\"><text id=\"text3245-simple\" style=\"font-size:16px;font-style:normal;font-weight:normal;text-align:start;text-anchor:start;fill:#000000;fill-opacity:1;stroke:none;display:inline;font-family:Bitstream Vera Sans\" systemLanguage=\"simple\" transform=\"translate(-91.923882,-63.42284)\" x=\"222.85713\" xml:space=\"preserve\" y=\"193.07648\"><tspan id=\"tspan3247-simple\" sodipodi:role=\"line\" x=\"222.85713\" y=\"193.07648\">d</tspan></text><text id=\"text3245\" style=\"font-size:16px;font-style:normal;font-weight:normal;text-align:start;text-anchor:start;fill:#000000;fill-opacity:1;stroke:none;display:inline;font-family:Bitstream Vera Sans\" transform=\"translate(-91.923882,-63.42284)\" x=\"222.85713\" xml:space=\"preserve\" y=\"193.07648\"><tspan id=\"tspan3247\" sodipodi:role=\"line\" x=\"222.85713\" y=\"193.07648\">r</tspan></text></switch>\n    <switch style=\"font-size:16px;font-style:normal;font-weight:normal;text-align:start;text-anchor:start;fill:#000000;fill-opacity:1;stroke:none;display:inline;font-family:Bitstream Vera Sans\"><text id=\"text3249-simple\" style=\"font-size:16px;font-style:normal;font-weight:normal;text-align:start;text-anchor:start;fill:#000000;fill-opacity:1;stroke:none;display:inline;font-family:Bitstream Vera Sans\" systemLanguage=\"simple\" transform=\"translate(-91.923882,-63.42284)\" x=\"300.98438\" xml:space=\"preserve\" y=\"279.69977\"><tspan id=\"tspan3251-simple\" sodipodi:role=\"line\" x=\"300.98438\" y=\"279.69977\">2d</tspan></text><text id=\"text3249\" style=\"font-size:16px;font-style:normal;font-weight:normal;text-align:start;text-anchor:start;fill:#000000;fill-opacity:1;stroke:none;display:inline;font-family:Bitstream Vera Sans\" transform=\"translate(-91.923882,-63.42284)\" x=\"300.98438\" xml:space=\"preserve\" y=\"279.69977\"><tspan id=\"tspan3251\" sodipodi:role=\"line\" x=\"300.98438\" y=\"279.69977\">2r</tspan></text></switch>\n    <switch style=\"font-size:16px;font-style:normal;font-weight:normal;text-align:start;text-anchor:start;fill:#000000;fill-opacity:1;stroke:none;display:inline;font-family:Bitstream Vera Sans\"><text id=\"text4201-simple\" style=\"font-size:16px;font-style:normal;font-weight:normal;text-align:start;text-anchor:start;fill:#000000;fill-opacity:1;stroke:none;display:inline;font-family:Bitstream Vera Sans\" systemLanguage=\"simple\" transform=\"translate(-91.923882,-63.42284)\" x=\"141.42136\" xml:space=\"preserve\" y=\"111.91016\"><tspan id=\"tspan4203-simple\" sodipodi:role=\"line\" x=\"141.42136\" y=\"111.91016\">S</tspan></text><text id=\"text4201\" style=\"font-size:16px;font-style:normal;font-weight:normal;text-align:start;text-anchor:start;fill:#000000;fill-opacity:1;stroke:none;display:inline;font-family:Bitstream Vera Sans\" transform=\"translate(-91.923882,-63.42284)\" x=\"141.42136\" xml:space=\"preserve\" y=\"111.91016\"><tspan id=\"tspan4203\" sodipodi:role=\"line\" x=\"141.42136\" y=\"111.91016\">S</tspan></text></switch>\n    <switch style=\"font-size:16px;font-style:normal;font-weight:normal;text-align:start;text-anchor:start;fill:#000000;fill-opacity:1;stroke:none;display:inline;font-family:Bitstream Vera Sans\"><text id=\"text3253-simple\" style=\"font-size:16px;font-style:normal;font-weight:normal;text-align:start;text-anchor:start;fill:#000000;fill-opacity:1;stroke:none;display:inline;font-family:Bitstream Vera Sans\" systemLanguage=\"simple\" transform=\"translate(-91.923882,-63.42284)\" x=\"390.27008\" xml:space=\"preserve\" y=\"361.12836\"><tspan id=\"tspan3255-simple\" sodipodi:role=\"line\" x=\"390.27008\" y=\"361.12836\">3d</tspan></text><text id=\"text3253\" style=\"font-size:16px;font-style:normal;font-weight:normal;text-align:start;text-anchor:start;fill:#000000;fill-opacity:1;stroke:none;display:inline;font-family:Bitstream Vera Sans\" transform=\"translate(-91.923882,-63.42284)\" x=\"390.27008\" xml:space=\"preserve\" y=\"361.12836\"><tspan id=\"tspan3255\" sodipodi:role=\"line\" x=\"390.27008\" y=\"361.12836\">3r</tspan></text></switch>\n  </g>\n</svg>"
          },
          "metadata": {
            "tags": []
          }
        }
      ]
    },
    {
      "cell_type": "markdown",
      "metadata": {
        "id": "zqEoXaf5rknG"
      },
      "source": [
        "## ガウスの法則と $\\epsilon_0$"
      ]
    },
    {
      "cell_type": "markdown",
      "metadata": {
        "id": "H8bVQPOGrod5"
      },
      "source": [
        "電荷 $Q(>0)$ による電気力線の本数 $N$ とすると, これまでの考察より\n",
        "\n",
        "\\begin{align}\n",
        "N = \\dfrac{Q}{\\epsilon_0}\n",
        "\\end{align}\n",
        "\n",
        "このように考えれば, 真空の誘電率 $\\epsilon_0$ は,\n",
        "> **仮想敵には**, 電気力線の最小単位\n",
        "\n",
        "として考えることができます.\n",
        "\n"
      ]
    },
    {
      "cell_type": "markdown",
      "metadata": {
        "id": "sZiAmcP1ss_r"
      },
      "source": [
        "点電荷 $Q(>0)$ のみを考えれば\n",
        "\\begin{align}\n",
        "N = 4 \\pi r^2 E = \\dfrac{Q}{\\epsilon_0}\n",
        "\\end{align}\n",
        "となり, 電界の強さ $E$ は, 点電荷 $Q(>0)$ から距離 $r$ 離れた地点ではどこでも\n",
        "\\begin{align}\n",
        "E = \\dfrac{Q}{4\\pi r^2\\epsilon_0} \n",
        "= \\dfrac{1}{4\\pi \\epsilon_0} \\dfrac{Q}{r^2}= k \\dfrac{Q}{r^2}\n",
        "\\end{align}\n",
        "となることも表現することができます.\n"
      ]
    },
    {
      "cell_type": "markdown",
      "metadata": {
        "id": "DT9QUX1ptrUy"
      },
      "source": [
        "#### 教科書のガウスの法則"
      ]
    },
    {
      "cell_type": "markdown",
      "metadata": {
        "id": "YaW7qAlutwZm"
      },
      "source": [
        "\\begin{align}\n",
        "k &= \\dfrac{1}{4 \\pi \\epsilon_0}\n",
        "\\end{align}\n",
        "であることを利用すると\n",
        "\\begin{align}\n",
        "N = \\dfrac{Q}{\\epsilon_0} = 4 \\pi k\\ Q\n",
        "\\end{align}\n",
        "となります."
      ]
    },
    {
      "cell_type": "markdown",
      "metadata": {
        "id": "yghK5uUnuUMu"
      },
      "source": [
        "### 一般的なガウスの法則"
      ]
    },
    {
      "cell_type": "markdown",
      "metadata": {
        "id": "gIYHUu4_uaU3"
      },
      "source": [
        "\\begin{align}\n",
        "N \n",
        "&= 4 \\pi r^2 E = \\dfrac{Q}{\\epsilon_0},\n",
        "\\end{align}\n",
        "半径 $r$ の 球の表面積が $S=4\\pi r^2$ であったことを利用して\n",
        "\\begin{align}\n",
        "N &= S \\cdot  E = \\dfrac{Q}{\\epsilon_0},\n",
        "\\end{align}\n",
        "とすることができます.\n",
        "\n",
        "> このときの **表面積 $S$** は電気力線の4つの性質を考慮すれば,  \n",
        "どのような表面積であっても成立することが, 数学的に証明することができます."
      ]
    },
    {
      "cell_type": "markdown",
      "metadata": {
        "id": "4bRG-GPjvZOJ"
      },
      "source": [
        "> 教科書 下巻 p58 例題4.5, p59 例題4.6 に取り組んでください."
      ]
    }
  ]
}