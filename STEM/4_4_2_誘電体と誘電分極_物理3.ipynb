{
  "nbformat": 4,
  "nbformat_minor": 0,
  "metadata": {
    "colab": {
      "name": "4_4_2_誘電体と誘電分極_物理3.ipynb",
      "provenance": [],
      "authorship_tag": "ABX9TyNTYkM43rBkbjxFjMtd1kaa",
      "include_colab_link": true
    },
    "kernelspec": {
      "name": "python3",
      "display_name": "Python 3"
    }
  },
  "cells": [
    {
      "cell_type": "markdown",
      "metadata": {
        "id": "view-in-github",
        "colab_type": "text"
      },
      "source": [
        "<a href=\"https://colab.research.google.com/github/kzhkAKT/Physics3/blob/draft/STEM/4_4_2_%E8%AA%98%E9%9B%BB%E4%BD%93%E3%81%A8%E8%AA%98%E9%9B%BB%E5%88%86%E6%A5%B5_%E7%89%A9%E7%90%863.ipynb\" target=\"_parent\"><img src=\"https://colab.research.google.com/assets/colab-badge.svg\" alt=\"Open In Colab\"/></a>"
      ]
    },
    {
      "cell_type": "markdown",
      "metadata": {
        "id": "A5xsDzDKfE95"
      },
      "source": [
        "# コンデンサー"
      ]
    },
    {
      "cell_type": "markdown",
      "metadata": {
        "id": "4Buq2xyLAskk"
      },
      "source": [
        "## 誘電体と誘電分極"
      ]
    },
    {
      "cell_type": "markdown",
      "metadata": {
        "id": "vL-PTKTupmG1"
      },
      "source": [
        "### 平行板の極板間が真空のコンデンサ\n",
        "\n",
        "![](https://upload.wikimedia.org/wikipedia/commons/b/b5/Capacitor.png)\n",
        "\n",
        "---\n",
        "\n",
        "以下では極板の面積 $A$ を $S$ と置き換えて下さい."
      ]
    },
    {
      "cell_type": "markdown",
      "metadata": {
        "id": "L7EfN2xZNYKl"
      },
      "source": [
        "平行板の間が真空の場合の電極間の電界 $E_0$ は,  \n",
        "ガウスの法則をより\n",
        "\\begin{align}\n",
        "N = E S &= \\dfrac{Q}{\\epsilon_0}\\\\[1mm]\n",
        "E &= \\dfrac{Q}{\\epsilon_0 S}\n",
        "\\end{align}"
      ]
    },
    {
      "cell_type": "markdown",
      "metadata": {
        "id": "ONQW9ct7Z8gY"
      },
      "source": [
        "$\\require{cancel}$\n",
        "これに、真空極板間の電圧 $V$ と 電気容量 $C$ の関係\n",
        "\\begin{align}\n",
        "E &= \\dfrac{V}{d}\\\\\n",
        "Q &= C V\n",
        "\\end{align}\n",
        "を代入して整理すると\n",
        "\\begin{align}\n",
        "\\dfrac{\\cancel{V}}{d} &=\\dfrac{C\\cancel{V}}{\\epsilon_0 S}\\\\[2mm]\n",
        "C & = \\epsilon_0 \\dfrac{S}{d}\n",
        "\\end{align}\n",
        "\n",
        "と、平行板コンデンサの寸法によって電気容量 $C$ が求まります."
      ]
    },
    {
      "cell_type": "code",
      "metadata": {
        "colab": {
          "base_uri": "https://localhost:8080/",
          "height": 336
        },
        "cellView": "form",
        "id": "d-CKW-vs5DoR",
        "outputId": "676cd06a-bd6a-4aaf-8795-450ac88e3fbb"
      },
      "source": [
        "#@title 電界による電荷の移動\n",
        "%%html\n",
        "<iframe width=\"560\" height=\"315\" src=\"https://www.youtube-nocookie.com/embed/XN7MHDu9tO0\" frameborder=\"0\" allow=\"accelerometer; autoplay; clipboard-write; encrypted-media; gyroscope; picture-in-picture\" allowfullscreen></iframe>"
      ],
      "execution_count": null,
      "outputs": [
        {
          "output_type": "display_data",
          "data": {
            "text/html": [
              "<iframe width=\"560\" height=\"315\" src=\"https://www.youtube-nocookie.com/embed/XN7MHDu9tO0\" frameborder=\"0\" allow=\"accelerometer; autoplay; clipboard-write; encrypted-media; gyroscope; picture-in-picture\" allowfullscreen></iframe>"
            ],
            "text/plain": [
              "<IPython.core.display.HTML object>"
            ]
          },
          "metadata": {
            "tags": []
          }
        }
      ]
    },
    {
      "cell_type": "code",
      "metadata": {
        "colab": {
          "base_uri": "https://localhost:8080/",
          "height": 336
        },
        "id": "IFk7YspBNSmp",
        "outputId": "8424d5a7-b405-4e68-ec32-c690a3fc24b1",
        "cellView": "form"
      },
      "source": [
        "#@title 分極\n",
        "%%html\n",
        "<iframe width=\"560\" height=\"315\" src=\"https://www.youtube-nocookie.com/embed/YKTZ6oWdSnI\" frameborder=\"0\" allow=\"accelerometer; autoplay; clipboard-write; encrypted-media; gyroscope; picture-in-picture\" allowfullscreen></iframe>"
      ],
      "execution_count": null,
      "outputs": [
        {
          "output_type": "display_data",
          "data": {
            "text/html": [
              "<iframe width=\"560\" height=\"315\" src=\"https://www.youtube-nocookie.com/embed/YKTZ6oWdSnI\" frameborder=\"0\" allow=\"accelerometer; autoplay; clipboard-write; encrypted-media; gyroscope; picture-in-picture\" allowfullscreen></iframe>"
            ],
            "text/plain": [
              "<IPython.core.display.HTML object>"
            ]
          },
          "metadata": {
            "tags": []
          }
        }
      ]
    },
    {
      "cell_type": "markdown",
      "metadata": {
        "id": "1Ag9-2A6KUR7"
      },
      "source": [
        "### 平行板の極板間に誘電体を挟んだコンデンサ\n",
        "\n",
        "真空であった極板間に不導体である誘電体を挟みます.\n",
        "- コンデンサは孤立しており、蓄えらえた 電荷 $Q$ は変化しない\n",
        "\n",
        "![](https://upload.wikimedia.org/wikipedia/commons/thumb/c/cd/Capacitor_schematic_with_dielectric.svg/436px-Capacitor_schematic_with_dielectric.svg.png)\n",
        "\n",
        "---\n",
        "\n",
        "以下では極板の面積 $A$ を $S$ と置き換えて下さい."
      ]
    },
    {
      "cell_type": "markdown",
      "metadata": {
        "id": "ZY9LpVp6S1E-"
      },
      "source": [
        "極板間が真空であれば\n",
        "\\begin{align}\n",
        "E &= \\dfrac{Q}{\\epsilon_0 S}\n",
        "\\end{align}\n",
        "でした。しかし、極板間に不導体を挿入した場合  \n",
        "不導体の**誘電分極**によって作られる分極電荷によって  \n",
        "逆向きのわずかな電界 $E_{\\delta}$ が生じます。\n",
        "\n",
        "その結果、誘電体である不導体を挟んだ極板間の電界 $E'$ は\n",
        "\\begin{align}\n",
        "E' = E +\\left( -E_{\\delta} \\right) < E\n",
        "\\end{align}\n",
        "となり、真空の電界よりも弱くなります。"
      ]
    },
    {
      "cell_type": "markdown",
      "metadata": {
        "id": "f-KXVDRHU_Nn"
      },
      "source": [
        "$\\require{cancel}$\n",
        "真空(誘電率 $\\epsilon_0$_が、不導体である誘電体に  \n",
        "置き換わったので、**誘電体の誘電率を $\\epsilon$** として  \n",
        "$E'$ を真空の物を真似て表現すると\n",
        "\\begin{align}\n",
        "E' &= \\dfrac{Q}{\\epsilon S}\n",
        "\\end{align}\n",
        "\n",
        "いま、誘電体を挟んだ状態の\n",
        "- 電圧 $V'$\n",
        "- 電気容量 $C'$\n",
        "とすると、極板間$d$の変化はないとすると\n",
        "\\begin{align}\n",
        "E' &= \\dfrac{V'}{d}\\\\\n",
        "Q &= C' V'\n",
        "\\end{align}\n",
        "\n",
        "これを真似作った式に代入すると\n",
        "\\begin{align}\n",
        "E' &= \\dfrac{Q}{\\epsilon S}\\\\[1mm]\n",
        "\\dfrac{\\cancel{V'}}{d}\n",
        "&=  \\dfrac{C' \\cancel{V'}}{\\epsilon S}\\\\[1mm]\n",
        "C' &= \\epsilon \\dfrac{S}{d}\n",
        "\\end{align}\n",
        "と、電気容量 $C$ についても、真空と似たような式が導出されました。"
      ]
    },
    {
      "cell_type": "markdown",
      "metadata": {
        "id": "HfPvY_-nYruR"
      },
      "source": [
        "真空の誘電率 $\\epsilon_0$ を基準に $C'$ を表現してみましょう。\n",
        "\\begin{align}\n",
        "C' &= \\epsilon \\dfrac{S}{d} = \\dfrac{\\epsilon}{\\epsilon_0}\\ \\epsilon_0 \\dfrac{S}{d} \\\\[1mm]\n",
        "&= \\dfrac{\\epsilon}{\\epsilon_0} C\n",
        "\\end{align}\n",
        "\n",
        "ここで、真空の誘電率と誘電体の誘電率の比として\n",
        "\\begin{align}\n",
        "\\epsilon_r = \\dfrac{\\epsilon}{\\epsilon_0} \n",
        "\\end{align}\n",
        "を定めます。 $\\epsilon_r$ を **比誘電率** と言います\n",
        "\n",
        "これを用いると\n",
        "\\begin{align}\n",
        "C' &=  \\dfrac{\\epsilon}{\\epsilon_0} C\n",
        "= \\epsilon_r C\n",
        "\\end{align}\n",
        "と整理されます。\n",
        "\n",
        "真空が一番敏感に分極する物質であると考えれば\n",
        "> 比誘電率 $\\epsilon_r$ は必ず **1よりおおきく** なります。\n",
        "\n",
        "このことから 誘電率 $\\epsilon$ の誘電体を平行版コンデンサに挟むことで\n",
        "> \\begin{align}\n",
        "C' = \\epsilon_r C > 1\\cdot C\n",
        "\\end{align}\n",
        "\n",
        "となり、電気容量を増加させることができます。"
      ]
    },
    {
      "cell_type": "markdown",
      "metadata": {
        "id": "I6TOhG_4_kBu"
      },
      "source": [
        "> Q. 教科書 下巻 p70 の 表4.1でさまざまな物質の比誘電率 $\\epsilon_r$ を確認して下さい。"
      ]
    }
  ]
}