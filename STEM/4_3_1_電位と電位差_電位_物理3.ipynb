{
  "nbformat": 4,
  "nbformat_minor": 0,
  "metadata": {
    "colab": {
      "name": "4_3_1_電位と電位差_電位_物理3.ipynb",
      "provenance": [],
      "toc_visible": true,
      "authorship_tag": "ABX9TyN2TKOlzGI2go7gFlVEpmZD",
      "include_colab_link": true
    },
    "kernelspec": {
      "name": "python3",
      "display_name": "Python 3"
    }
  },
  "cells": [
    {
      "cell_type": "markdown",
      "metadata": {
        "id": "view-in-github",
        "colab_type": "text"
      },
      "source": [
        "<a href=\"https://colab.research.google.com/github/kzhkAKT/Physics3/blob/draft/STEM/4_3_1_%E9%9B%BB%E4%BD%8D%E3%81%A8%E9%9B%BB%E4%BD%8D%E5%B7%AE_%E9%9B%BB%E4%BD%8D_%E7%89%A9%E7%90%863.ipynb\" target=\"_parent\"><img src=\"https://colab.research.google.com/assets/colab-badge.svg\" alt=\"Open In Colab\"/></a>"
      ]
    },
    {
      "cell_type": "markdown",
      "metadata": {
        "id": "J0GToMRgLCsM"
      },
      "source": [
        "# 電位"
      ]
    },
    {
      "cell_type": "markdown",
      "metadata": {
        "id": "5pJZHpzsXsEA"
      },
      "source": [
        "## 電位と電位差"
      ]
    },
    {
      "cell_type": "code",
      "metadata": {
        "colab": {
          "base_uri": "https://localhost:8080/",
          "height": 475
        },
        "id": "DaqG0dzuYc6x",
        "outputId": "7716b6c0-6d68-4bfc-842e-82cfa590a6d2"
      },
      "source": [
        "%%html\n",
        "<iframe src=\"https://phet.colorado.edu/sims/html/energy-skate-park/latest/energy-skate-park_en.html\" width=\"600\" height=\"450\" scrolling=\"no\" allowfullscreen></iframe>"
      ],
      "execution_count": 3,
      "outputs": [
        {
          "output_type": "display_data",
          "data": {
            "text/html": [
              "<iframe src=\"https://phet.colorado.edu/sims/html/energy-skate-park/latest/energy-skate-park_en.html\" width=\"600\" height=\"450\" scrolling=\"no\" allowfullscreen></iframe>"
            ],
            "text/plain": [
              "<IPython.core.display.HTML object>"
            ]
          },
          "metadata": {
            "tags": []
          }
        }
      ]
    },
    {
      "cell_type": "code",
      "metadata": {
        "colab": {
          "base_uri": "https://localhost:8080/",
          "height": 475
        },
        "id": "m9NlkAhXXt1v",
        "outputId": "771c6f9e-b8f6-4df5-869f-888df4826e1d"
      },
      "source": [
        "%%html\n",
        "<iframe src=\"https://phet.colorado.edu/sims/html/charges-and-fields/latest/charges-and-fields_en.html\" width=\"600\" height=\"450\" scrolling=\"no\" allowfullscreen></iframe>"
      ],
      "execution_count": 5,
      "outputs": [
        {
          "output_type": "display_data",
          "data": {
            "text/html": [
              "<iframe src=\"https://phet.colorado.edu/sims/html/charges-and-fields/latest/charges-and-fields_en.html\" width=\"600\" height=\"450\" scrolling=\"no\" allowfullscreen></iframe>"
            ],
            "text/plain": [
              "<IPython.core.display.HTML object>"
            ]
          },
          "metadata": {
            "tags": []
          }
        }
      ]
    },
    {
      "cell_type": "markdown",
      "metadata": {
        "id": "WkgdMEPlZZBN"
      },
      "source": [
        "### 仕事"
      ]
    },
    {
      "cell_type": "markdown",
      "metadata": {
        "id": "SyrIQHc_Zk19"
      },
      "source": [
        "最も簡単な定義\n",
        "\\begin{align}\n",
        "W &= F \\cdot  d\n",
        "\\end{align}\n",
        "\n",
        "微少変化を伴う定義\n",
        "\\begin{align}\n",
        "\\Delta W &= F \\cdot \\Delta r\n",
        "\\end{align}\n"
      ]
    },
    {
      "cell_type": "markdown",
      "metadata": {
        "id": "LWNp2dEFbHA2"
      },
      "source": [
        "#### 一様電界 $E$ で, 点電荷 $q$ が受ける仕事"
      ]
    },
    {
      "cell_type": "markdown",
      "metadata": {
        "id": "meg3BXTHbUVP"
      },
      "source": [
        "\\begin{align}\n",
        "W &= \\left( q E \\right) d\\\\\n",
        "&= q \\left( E d \\right)\n",
        "\\end{align}\n"
      ]
    },
    {
      "cell_type": "markdown",
      "metadata": {
        "id": "qFB7mt-vbu_n"
      },
      "source": [
        "### 位置エネルギー\n",
        "\n"
      ]
    },
    {
      "cell_type": "markdown",
      "metadata": {
        "id": "TPiomIwhdkVM"
      },
      "source": [
        "#### 重力による位置エネルギー"
      ]
    },
    {
      "cell_type": "markdown",
      "metadata": {
        "id": "_T9bk0uwdOUD"
      },
      "source": [
        "\\begin{align}\n",
        "U = mg \\cdot h\n",
        "\\end{align}"
      ]
    },
    {
      "cell_type": "markdown",
      "metadata": {
        "id": "i1i2eZmWdN1o"
      },
      "source": [
        "変位の方向とは, 逆向きに働く重力に逆らって仕事をした分が,   \n",
        "位置エネルギーとして蓄えられます.\n",
        "\\begin{align}\n",
        "U = \\int_{r=0}^{r=h} \\left\\{ - \\left( - mg \\right) \\right\\} {\\rm d} r\n",
        "\\end{align}"
      ]
    },
    {
      "cell_type": "markdown",
      "metadata": {
        "id": "36g47-jeZdkx"
      },
      "source": [
        "#### 電位 = 単位電荷あたりの位置エネルギー"
      ]
    }
  ]
}