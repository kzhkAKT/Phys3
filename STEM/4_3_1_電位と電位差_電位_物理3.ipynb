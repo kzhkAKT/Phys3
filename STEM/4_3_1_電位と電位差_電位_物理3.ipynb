{
  "nbformat": 4,
  "nbformat_minor": 0,
  "metadata": {
    "colab": {
      "name": "4_3_1_電位と電位差_電位_物理3.ipynb",
      "provenance": [],
      "toc_visible": true,
      "authorship_tag": "ABX9TyP+40PbiP1T8T/ihzvPAisv",
      "include_colab_link": true
    },
    "kernelspec": {
      "name": "python3",
      "display_name": "Python 3"
    }
  },
  "cells": [
    {
      "cell_type": "markdown",
      "metadata": {
        "id": "view-in-github",
        "colab_type": "text"
      },
      "source": [
        "<a href=\"https://colab.research.google.com/github/kzhkAKT/Physics3/blob/draft/STEM/4_3_1_%E9%9B%BB%E4%BD%8D%E3%81%A8%E9%9B%BB%E4%BD%8D%E5%B7%AE_%E9%9B%BB%E4%BD%8D_%E7%89%A9%E7%90%863.ipynb\" target=\"_parent\"><img src=\"https://colab.research.google.com/assets/colab-badge.svg\" alt=\"Open In Colab\"/></a>"
      ]
    },
    {
      "cell_type": "markdown",
      "metadata": {
        "id": "J0GToMRgLCsM"
      },
      "source": [
        "# 電位"
      ]
    },
    {
      "cell_type": "markdown",
      "metadata": {
        "id": "5pJZHpzsXsEA"
      },
      "source": [
        "## 電位と電位差"
      ]
    },
    {
      "cell_type": "code",
      "metadata": {
        "colab": {
          "base_uri": "https://localhost:8080/",
          "height": 475
        },
        "id": "DaqG0dzuYc6x",
        "cellView": "form",
        "outputId": "4ac362ea-d934-4e47-a5b1-fde7869718d6"
      },
      "source": [
        "#@title 重力による位置エネルギー~等高線\n",
        "%%html\n",
        "<iframe src=\"https://phet.colorado.edu/sims/html/energy-skate-park/latest/energy-skate-park_en.html\" width=\"600\" height=\"450\" scrolling=\"no\" allowfullscreen></iframe>"
      ],
      "execution_count": 1,
      "outputs": [
        {
          "output_type": "display_data",
          "data": {
            "text/html": [
              "<iframe src=\"https://phet.colorado.edu/sims/html/energy-skate-park/latest/energy-skate-park_en.html\" width=\"600\" height=\"450\" scrolling=\"no\" allowfullscreen></iframe>"
            ],
            "text/plain": [
              "<IPython.core.display.HTML object>"
            ]
          },
          "metadata": {
            "tags": []
          }
        }
      ]
    },
    {
      "cell_type": "code",
      "metadata": {
        "colab": {
          "base_uri": "https://localhost:8080/",
          "height": 475
        },
        "id": "m9NlkAhXXt1v",
        "cellView": "form",
        "outputId": "771c6f9e-b8f6-4df5-869f-888df4826e1d"
      },
      "source": [
        "#@title クーロン力/電界~等高線\n",
        "%%html\n",
        "<iframe src=\"https://phet.colorado.edu/sims/html/charges-and-fields/latest/charges-and-fields_en.html\" width=\"600\" height=\"450\" scrolling=\"no\" allowfullscreen></iframe>"
      ],
      "execution_count": null,
      "outputs": [
        {
          "output_type": "display_data",
          "data": {
            "text/html": [
              "<iframe src=\"https://phet.colorado.edu/sims/html/charges-and-fields/latest/charges-and-fields_en.html\" width=\"600\" height=\"450\" scrolling=\"no\" allowfullscreen></iframe>"
            ],
            "text/plain": [
              "<IPython.core.display.HTML object>"
            ]
          },
          "metadata": {
            "tags": []
          }
        }
      ]
    },
    {
      "cell_type": "markdown",
      "metadata": {
        "id": "WkgdMEPlZZBN"
      },
      "source": [
        "### 仕事"
      ]
    },
    {
      "cell_type": "markdown",
      "metadata": {
        "id": "SyrIQHc_Zk19"
      },
      "source": [
        "最も簡単な定義\n",
        "\\begin{align}\n",
        "W &= F \\cdot  d\n",
        "\\end{align}\n",
        "\n",
        "微少変化を伴う定義\n",
        "\\begin{align}\n",
        "\\Delta W &= F \\cdot \\Delta r\n",
        "\\end{align}\n"
      ]
    },
    {
      "cell_type": "markdown",
      "metadata": {
        "id": "LWNp2dEFbHA2"
      },
      "source": [
        "#### 一様電界 $E$ で, 点電荷 $q$ が受ける仕事"
      ]
    },
    {
      "cell_type": "markdown",
      "metadata": {
        "id": "meg3BXTHbUVP"
      },
      "source": [
        "\\begin{align}\n",
        "W &= \\left( q E \\right) d\\\\\n",
        "&= q \\left( E d \\right)\n",
        "\\end{align}\n"
      ]
    },
    {
      "cell_type": "markdown",
      "metadata": {
        "id": "qFB7mt-vbu_n"
      },
      "source": [
        "### 位置エネルギー\n",
        "\n"
      ]
    },
    {
      "cell_type": "markdown",
      "metadata": {
        "id": "--IFyoCpygeq"
      },
      "source": [
        "変位の方向とは, 逆向きに働く重力に逆らって仕事をした分が,   \n",
        "位置エネルギーとして蓄えられます.\n",
        "\\begin{align}\n",
        "U \n",
        "&= \\int_{r_0}^{r} \\left\\{ - F_{\\rm ext} \\right\\} {\\rm d} r\n",
        "\\end{align}\n",
        "\n",
        "$r_0$ については, 一般に自由に取ることができますが, 簡素化して考えるときは\n",
        "> $r_0$ は, 物体に力が加わらなく静止(または等速運動)している点とする\n",
        "\n",
        "とかなり見渡しよく整理することができます.\n",
        "\n"
      ]
    },
    {
      "cell_type": "markdown",
      "metadata": {
        "id": "TPiomIwhdkVM"
      },
      "source": [
        "#### 重力による位置エネルギー"
      ]
    },
    {
      "cell_type": "markdown",
      "metadata": {
        "id": "i1i2eZmWdN1o"
      },
      "source": [
        "変位の方向とは, 逆向きに働く重力に逆らって仕事をした分が,   \n",
        "位置エネルギーとして蓄えられます.\n",
        "\\begin{align}\n",
        "U \n",
        "&= \\int_{r_0=0}^{r=h} \\left\\{ - F_{\\rm ext} \\right\\} {\\rm d} r\\\\\n",
        "&= \\int_{0}^{h} \\left\\{ - \\left( - mg \\right) \\right\\} {\\rm d} r\\\\\n",
        "&= m g \\int_{0}^{h} {\\rm d} r = mg\\cdot h\n",
        "\\end{align}\n",
        "\n",
        "---\n",
        "ここで $r_0=0$ としたのは, 基準となる地表では何もしなければ, 質量 $m$ の物体は静止できるとしています."
      ]
    },
    {
      "cell_type": "code",
      "metadata": {
        "id": "EIBTBJnL1JdX"
      },
      "source": [
        ""
      ],
      "execution_count": null,
      "outputs": []
    },
    {
      "cell_type": "markdown",
      "metadata": {
        "id": "Dsk3EuhEyDY5"
      },
      "source": [
        "#### 一様電界 $E$ による, 電荷 $q$ が受ける位置エネルギー"
      ]
    },
    {
      "cell_type": "markdown",
      "metadata": {
        "id": "DDSRT4HeyKON"
      },
      "source": [
        "\\begin{align}\n",
        "U &= \\int_{r=0}^{r=d} \n",
        "\\left\\{ - \\left( - q E\\right) \\right\\} \n",
        "{\\rm d} r\\\\\n",
        "&= q E d\n",
        "\\end{align}\n",
        "\n",
        "---\n",
        "ここで $r_0=0$ としたのは, 基準となる下位の電極では何もしなければ, 電荷 $q$ の物体は静止しているとしています."
      ]
    },
    {
      "cell_type": "markdown",
      "metadata": {
        "id": "36g47-jeZdkx"
      },
      "source": [
        "#### 電位 = 単位電荷あたりの位置エネルギー"
      ]
    },
    {
      "cell_type": "markdown",
      "metadata": {
        "id": "zMNqR00C2jq9"
      },
      "source": [
        "クーロン力から電界を考慮したとき, 単位電荷 ${\\rm + 1 \\ C}$ を基準に考えました.\n",
        "\n",
        "電荷が持つ位置エネルギーについても, 単位電荷 ${\\rm + 1 \\ C}$ あたりに換算したものが, **電位**になります\n",
        "\n",
        "---\n",
        "単位**電**荷による**位**置エネルギーから, **電位**と考えると良いかも知れません"
      ]
    },
    {
      "cell_type": "code",
      "metadata": {
        "id": "Cz4jdrcQyH94"
      },
      "source": [
        ""
      ],
      "execution_count": null,
      "outputs": []
    }
  ]
}