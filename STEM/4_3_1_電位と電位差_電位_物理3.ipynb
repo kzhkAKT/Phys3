{
  "nbformat": 4,
  "nbformat_minor": 0,
  "metadata": {
    "colab": {
      "name": "4_3_1_電位と電位差_電位_物理3.ipynb",
      "provenance": [],
      "toc_visible": true,
      "authorship_tag": "ABX9TyPQOa+iq3V9+Z8sMuvxin0b",
      "include_colab_link": true
    },
    "kernelspec": {
      "name": "python3",
      "display_name": "Python 3"
    }
  },
  "cells": [
    {
      "cell_type": "markdown",
      "metadata": {
        "id": "view-in-github",
        "colab_type": "text"
      },
      "source": [
        "<a href=\"https://colab.research.google.com/github/kzhkAKT/Physics3/blob/draft/STEM/4_3_1_%E9%9B%BB%E4%BD%8D%E3%81%A8%E9%9B%BB%E4%BD%8D%E5%B7%AE_%E9%9B%BB%E4%BD%8D_%E7%89%A9%E7%90%863.ipynb\" target=\"_parent\"><img src=\"https://colab.research.google.com/assets/colab-badge.svg\" alt=\"Open In Colab\"/></a>"
      ]
    },
    {
      "cell_type": "markdown",
      "metadata": {
        "id": "J0GToMRgLCsM"
      },
      "source": [
        "# 電位"
      ]
    },
    {
      "cell_type": "markdown",
      "metadata": {
        "id": "5pJZHpzsXsEA"
      },
      "source": [
        "## 電位と電位差"
      ]
    },
    {
      "cell_type": "code",
      "metadata": {
        "colab": {
          "base_uri": "https://localhost:8080/",
          "height": 475
        },
        "id": "DaqG0dzuYc6x",
        "cellView": "form",
        "outputId": "4ac362ea-d934-4e47-a5b1-fde7869718d6"
      },
      "source": [
        "#@title 重力による位置エネルギー~等高線\n",
        "%%html\n",
        "<iframe src=\"https://phet.colorado.edu/sims/html/energy-skate-park/latest/energy-skate-park_en.html\" width=\"600\" height=\"450\" scrolling=\"no\" allowfullscreen></iframe>"
      ],
      "execution_count": null,
      "outputs": [
        {
          "output_type": "display_data",
          "data": {
            "text/html": [
              "<iframe src=\"https://phet.colorado.edu/sims/html/energy-skate-park/latest/energy-skate-park_en.html\" width=\"600\" height=\"450\" scrolling=\"no\" allowfullscreen></iframe>"
            ],
            "text/plain": [
              "<IPython.core.display.HTML object>"
            ]
          },
          "metadata": {
            "tags": []
          }
        }
      ]
    },
    {
      "cell_type": "code",
      "metadata": {
        "colab": {
          "base_uri": "https://localhost:8080/",
          "height": 475
        },
        "id": "m9NlkAhXXt1v",
        "cellView": "form",
        "outputId": "771c6f9e-b8f6-4df5-869f-888df4826e1d"
      },
      "source": [
        "#@title クーロン力/電界~等高線\n",
        "%%html\n",
        "<iframe src=\"https://phet.colorado.edu/sims/html/charges-and-fields/latest/charges-and-fields_en.html\" width=\"600\" height=\"450\" scrolling=\"no\" allowfullscreen></iframe>"
      ],
      "execution_count": null,
      "outputs": [
        {
          "output_type": "display_data",
          "data": {
            "text/html": [
              "<iframe src=\"https://phet.colorado.edu/sims/html/charges-and-fields/latest/charges-and-fields_en.html\" width=\"600\" height=\"450\" scrolling=\"no\" allowfullscreen></iframe>"
            ],
            "text/plain": [
              "<IPython.core.display.HTML object>"
            ]
          },
          "metadata": {
            "tags": []
          }
        }
      ]
    },
    {
      "cell_type": "markdown",
      "metadata": {
        "id": "WkgdMEPlZZBN"
      },
      "source": [
        "### 仕事"
      ]
    },
    {
      "cell_type": "markdown",
      "metadata": {
        "id": "SyrIQHc_Zk19"
      },
      "source": [
        "最も簡単な定義\n",
        "\\begin{align}\n",
        "W &= F \\cdot  d\n",
        "\\end{align}\n",
        "\n",
        "微少変化を伴う定義\n",
        "\\begin{align}\n",
        "\\Delta W &= F \\cdot \\Delta r\n",
        "\\end{align}\n"
      ]
    },
    {
      "cell_type": "markdown",
      "metadata": {
        "id": "LWNp2dEFbHA2"
      },
      "source": [
        "#### 一様電界 $E$ で, 点電荷 $q$ が受ける仕事"
      ]
    },
    {
      "cell_type": "markdown",
      "metadata": {
        "id": "meg3BXTHbUVP"
      },
      "source": [
        "\\begin{align}\n",
        "W &= \\left( q E \\right) d\\\\\n",
        "&= q \\left( E d \\right)\n",
        "\\end{align}\n"
      ]
    },
    {
      "cell_type": "markdown",
      "metadata": {
        "id": "qFB7mt-vbu_n"
      },
      "source": [
        "### 位置エネルギー\n",
        "\n"
      ]
    },
    {
      "cell_type": "markdown",
      "metadata": {
        "id": "--IFyoCpygeq"
      },
      "source": [
        "変位の方向とは, 逆向きに働く重力に逆らって仕事をした分が,   \n",
        "位置エネルギーとして蓄えられます.\n",
        "\\begin{align}\n",
        "U \n",
        "&= \\int_{r_0}^{r}  F_{\\rm ext} \\  {\\rm d} r\n",
        "\\end{align}\n",
        "\n",
        "$r_0$ については, 一般に自由に取ることができますが, 簡素化して考えるときは\n",
        "> $r_0$ は, 物体に力が加わらなく静止(または等速運動)している点とする\n",
        "\n",
        "とかなり見渡しよく整理することができます.\n",
        "\n"
      ]
    },
    {
      "cell_type": "markdown",
      "metadata": {
        "id": "TPiomIwhdkVM"
      },
      "source": [
        "#### 重力による位置エネルギー"
      ]
    },
    {
      "cell_type": "markdown",
      "metadata": {
        "id": "i1i2eZmWdN1o"
      },
      "source": [
        "外力によって得られる変位から生じる仕事が\n",
        "位置エネルギーとして蓄えられます.\n",
        "\\begin{align}\n",
        "U \n",
        "&= \\int_{r_0=0}^{r=h} F_{\\rm ext} {\\rm d} r\\\\\n",
        "&= \\int_{0}^{h}  \\left( mg \\right)  {\\rm d} r\\\\\n",
        "&= m g \\int_{0}^{h} {\\rm d} r = mg\\cdot h\n",
        "\\end{align}\n",
        "\n",
        "---\n",
        "ここで $r_0=0$ としたのは, 基準となる地表では何もしなければ, 質量 $m$ の物体は静止できるとしています."
      ]
    },
    {
      "cell_type": "markdown",
      "metadata": {
        "id": "Dsk3EuhEyDY5"
      },
      "source": [
        "#### 一様電界 $E$ による, 電荷 $q$ が受ける位置エネルギー"
      ]
    },
    {
      "cell_type": "markdown",
      "metadata": {
        "id": "DDSRT4HeyKON"
      },
      "source": [
        "一様電界 $E$ については, 教科書 下巻 p61 図4.18(a) を参考にして下さい\n",
        "\\begin{align}\n",
        "U\n",
        "&= \\int_{r=0}^{r=d} \n",
        "\\left( q E\\right) {\\rm d} r\n",
        "= q E\\int_{r=0}^{r=d} \n",
        "{\\rm d} r\\\\[2mm]\n",
        "&= q E d\n",
        "\\end{align}\n",
        "\n",
        "---\n",
        "ここで $r_0=0$ としたのは, 基準となる下位の電極では何もしなければ, 電荷 $q$ の物体は静止しているとしています."
      ]
    },
    {
      "cell_type": "markdown",
      "metadata": {
        "id": "36g47-jeZdkx"
      },
      "source": [
        "#### 電位 = 単位電荷あたりの位置エネルギー"
      ]
    },
    {
      "cell_type": "markdown",
      "metadata": {
        "id": "zMNqR00C2jq9"
      },
      "source": [
        "クーロン力から電界を考慮したとき, 単位電荷 ${\\rm + 1 \\ C}$ を基準に考えました.\n",
        "\n",
        "電荷が持つ位置エネルギーについても,   \n",
        "単位電荷 ${\\rm + 1 \\ C}$ あたりに換算したものが,   **電位** (voltage)になります\n",
        "\n",
        "\\begin{align}\n",
        "U &= q E d\\\\\n",
        "V &= \\dfrac{U}{q} = Ed \\qquad \\text{}\n",
        "\\end{align}\n",
        "\n",
        "電位の単位は ${\\rm V = {J}/{C}}$ と変換できます.\n",
        "\n",
        "---\n",
        "単位**電**荷による**位**置エネルギーから, **電位**と考えると良いかも知れません.   \n",
        "\n",
        "電位の単位は [V] で「ボルト/voltage」でイタリアの物理学者 [Pila di Volta](https://it.wikipedia.org/wiki/Pila_di_Volta) にちなんで命名されています"
      ]
    },
    {
      "cell_type": "markdown",
      "metadata": {
        "id": "91USt-vIUoEB"
      },
      "source": [
        "このことから電界 $E$ の単位は, 電位 $V$ (単位 [V]) を踏まえ,\n",
        "\n",
        "\\begin{align}\n",
        "V &= E d \\\\[2mm]\n",
        "E &=\\dfrac{V}{d}\n",
        "\\end{align}\n",
        "> $\\qquad {\\rm V/m}$\n",
        "\n",
        "また, 単位電荷あたりの力として\n",
        "\\begin{align}\n",
        "E &=\\dfrac{F}{q}\n",
        "\\end{align}\n",
        "> $\\qquad {\\rm N/C}$\n",
        "\n",
        "と二つの表記が可能になります\n"
      ]
    },
    {
      "cell_type": "markdown",
      "metadata": {
        "id": "t_MBi_5rVoWQ"
      },
      "source": [
        "#### 電位= 単位長さ ${\\rm 1\\ m}$ あたりの勾配(傾き)\n"
      ]
    },
    {
      "cell_type": "markdown",
      "metadata": {
        "id": "RTcl7nVMWFg8"
      },
      "source": [
        "電位の単位は\n",
        "\\begin{align}\n",
        "V &= E d \\\\[2mm]\n",
        "E &=\\dfrac{V}{d}\n",
        "\\end{align}\n",
        "より\n",
        "> $\\qquad {\\rm V/m \\quad = \\dfrac{V}{1 m}}$\n",
        "\n",
        "と見ることができます. また\n",
        "\n",
        "> $\\qquad {\\rm V}$\n",
        "\n",
        "は, 単位電荷あたりの位置エネルギーでした."
      ]
    },
    {
      "cell_type": "markdown",
      "metadata": {
        "id": "6QC80qf-W0n1"
      },
      "source": [
        "> Q. 下記のアプリで正負の点電荷をそれぞれ平行に隔てて並べ,  \n",
        "両平行電荷間の電圧を測定し, 電圧の変化を確認してください."
      ]
    },
    {
      "cell_type": "code",
      "metadata": {
        "colab": {
          "base_uri": "https://localhost:8080/",
          "height": 475
        },
        "cellView": "form",
        "id": "iBjXjmXaWhYw",
        "outputId": "c2cfdba6-1797-41fd-97a8-d2039985a006"
      },
      "source": [
        "#@title クーロン力/電界~等高線\b: 平行電極\n",
        "%%html\n",
        "<iframe src=\"https://phet.colorado.edu/sims/html/charges-and-fields/latest/charges-and-fields_en.html\" width=\"600\" height=\"450\" scrolling=\"no\" allowfullscreen></iframe>"
      ],
      "execution_count": 2,
      "outputs": [
        {
          "output_type": "display_data",
          "data": {
            "text/html": [
              "<iframe src=\"https://phet.colorado.edu/sims/html/charges-and-fields/latest/charges-and-fields_en.html\" width=\"600\" height=\"450\" scrolling=\"no\" allowfullscreen></iframe>"
            ],
            "text/plain": [
              "<IPython.core.display.HTML object>"
            ]
          },
          "metadata": {
            "tags": []
          }
        }
      ]
    },
    {
      "cell_type": "markdown",
      "metadata": {
        "id": "p8TPk-wpZIOx"
      },
      "source": [
        "### 電位と電位差"
      ]
    },
    {
      "cell_type": "markdown",
      "metadata": {
        "id": "tLkSK8JyZw21"
      },
      "source": [
        "空間内の点Aと点Bの電位をそれぞれ $V_{\\rm A}, V_{\\rm B}$  とする.  \n",
        "(教科書に話を合わせるため $V_{\\rm A}>V_{\\rm B}$ とします)\n",
        "\n",
        "この2点間の電位の差 **電位差**(電圧) $V_{\\rm B:A}$ は\n",
        "\\begin{align}\n",
        "V_{\\rm B:A} = V_{\\rm A} - V_{\\rm B}\n",
        "\\end{align}\n",
        "となります.\n",
        "\n",
        "---\n",
        "電位差は相対的なもので, どこを基準にするかで決まります.    \n",
        "この場合は相対的な電位が低い B を基準にしました"
      ]
    },
    {
      "cell_type": "markdown",
      "metadata": {
        "id": "cgDcDe48YeV2"
      },
      "source": [
        "## 点電荷が作る電位"
      ]
    },
    {
      "cell_type": "code",
      "metadata": {
        "colab": {
          "base_uri": "https://localhost:8080/",
          "height": 475
        },
        "cellView": "form",
        "id": "2PO2d4oDYpIv",
        "outputId": "3edfed50-c6bb-40b3-b38f-a60a3dffa7a8"
      },
      "source": [
        "#@title 試験電荷を点電荷の半径 r まで近づける仕事\n",
        "%%html\n",
        "<iframe src=\"https://phet.colorado.edu/sims/html/charges-and-fields/latest/charges-and-fields_en.html\" width=\"600\" height=\"450\" scrolling=\"no\" allowfullscreen></iframe>"
      ],
      "execution_count": 4,
      "outputs": [
        {
          "output_type": "display_data",
          "data": {
            "text/html": [
              "<iframe src=\"https://phet.colorado.edu/sims/html/charges-and-fields/latest/charges-and-fields_en.html\" width=\"600\" height=\"450\" scrolling=\"no\" allowfullscreen></iframe>"
            ],
            "text/plain": [
              "<IPython.core.display.HTML object>"
            ]
          },
          "metadata": {
            "tags": []
          }
        }
      ]
    },
    {
      "cell_type": "markdown",
      "metadata": {
        "id": "uE4ZOKAhY9sb"
      },
      "source": [
        "$\\require{cancel}$\n",
        "\n",
        "電荷 $q(>0)$ を, 点電荷 $Q$ の半径 $r$ の位置まで,  \n",
        "近づけるために外力$(F_{\\rm ext})$が行った仕事を求めます\n",
        "  - 調べる方向は点電荷と試験電荷を結ぶ直線上だけ考えれば十分です\n",
        "    - 電位が同じ場所では仕事が必要ありません\n",
        "\\begin{align}\n",
        "U= W\n",
        "&= \\int_{\\cancelto{\\infty}{r_0}}^{r} F_{\\rm ext} {\\rm d}r\\\\\n",
        "&= \\int_{\\infty}^{r} \n",
        "\\left( - \\dfrac{1}{4\\pi\\epsilon_0} \n",
        "\\dfrac{qQ}{r^2} \\right)\n",
        "{\\rm d}r\\\\[2mm]\n",
        "U &= \\dfrac{1}{4\\pi\\epsilon_0} \n",
        "\\dfrac{qQ}{r}\n",
        "\\end{align}\n",
        "\n",
        "---\n",
        "無限遠方では, 外力が必要ないのでそこを基準としました"
      ]
    },
    {
      "cell_type": "markdown",
      "metadata": {
        "id": "PdiVEIZlk4iu"
      },
      "source": [
        "> Q. 上記の積分を実行し, 計算を確認して下さい"
      ]
    },
    {
      "cell_type": "markdown",
      "metadata": {
        "id": "ZB02GkqClXSg"
      },
      "source": [
        "### 電位=単位電荷あたりの仕事"
      ]
    },
    {
      "cell_type": "markdown",
      "metadata": {
        "id": "v18i_Ydij_97"
      },
      "source": [
        "試験電荷が受ける力に逆らって行った仕事が,   \n",
        "位置エネルギーとして蓄えられることを利用して整理します\n",
        "\n",
        "\\begin{align}\n",
        "V = \\dfrac{U}{q} = \\dfrac{1}{4\\pi\\epsilon_0} \\dfrac{Q}{r}\n",
        "\\end{align}"
      ]
    },
    {
      "cell_type": "markdown",
      "metadata": {
        "id": "80NJZCMGn03M"
      },
      "source": [
        "### 複数の点電荷が作る電位"
      ]
    },
    {
      "cell_type": "markdown",
      "metadata": {
        "id": "a4CXrcSnpWhK"
      },
      "source": [
        "点電荷による電位は, 電界の重ね合わせを踏襲し,複数の電荷($Q_1, Q_2, \\cdots, Q_n$  )によって作られるある点の合成電位は, 注目する点の $Q_k$ による電位を $V_k$ とすると\n",
        "\n",
        "\\begin{align}\n",
        "V = V_1 + V_2 + \\cdots + V_n\n",
        "\\end{align}\n",
        "\n",
        "となります.\n",
        "\n",
        "---\n",
        "4年生で学習する(はずの) ベクトル表現の**線積分**を利用すると,  \n",
        "電界の合成から導くことができます\n",
        "\n",
        "\n"
      ]
    },
    {
      "cell_type": "markdown",
      "metadata": {
        "id": "dSpX5qqmssG6"
      },
      "source": [
        "> Q. 教科書 下巻 p63 例題4.8 に取り組んでください."
      ]
    }
  ]
}