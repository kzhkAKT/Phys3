{
  "nbformat": 4,
  "nbformat_minor": 0,
  "metadata": {
    "colab": {
      "name": "4_3_3_導体と静電誘導_電位_物理3.ipynb",
      "provenance": [],
      "authorship_tag": "ABX9TyMS29kSS1ZMThuPY0eQnVel",
      "include_colab_link": true
    },
    "kernelspec": {
      "name": "python3",
      "display_name": "Python 3"
    }
  },
  "cells": [
    {
      "cell_type": "markdown",
      "metadata": {
        "id": "view-in-github",
        "colab_type": "text"
      },
      "source": [
        "<a href=\"https://colab.research.google.com/github/kzhkAKT/Physics3/blob/draft/STEM/4_3_3_%E5%B0%8E%E4%BD%93%E3%81%A8%E9%9D%99%E9%9B%BB%E8%AA%98%E5%B0%8E_%E9%9B%BB%E4%BD%8D_%E7%89%A9%E7%90%863.ipynb\" target=\"_parent\"><img src=\"https://colab.research.google.com/assets/colab-badge.svg\" alt=\"Open In Colab\"/></a>"
      ]
    },
    {
      "cell_type": "markdown",
      "metadata": {
        "id": "J0GToMRgLCsM"
      },
      "source": [
        "# 電位"
      ]
    },
    {
      "cell_type": "markdown",
      "metadata": {
        "id": "5pJZHpzsXsEA"
      },
      "source": [
        "## 導体と静電誘導"
      ]
    },
    {
      "cell_type": "markdown",
      "metadata": {
        "id": "cmgpItut61R1"
      },
      "source": [
        "### 導体\n",
        "\n",
        "- 導体:: 電気を伝えやすい物質\n",
        "  - 電界がかかっていないときは、電荷保存の法則から、ニュートラル\n",
        "  - 自由電子:: (金属)導体内を自由に動ける荷電粒子\n",
        "    - 自由電子が金属原子と金属原子をつなぐ役割を果たしている\n",
        "  - キャリア:: 正負にかかわらない荷電粒子"
      ]
    },
    {
      "cell_type": "code",
      "metadata": {
        "colab": {
          "base_uri": "https://localhost:8080/",
          "height": 336
        },
        "cellView": "form",
        "id": "d-CKW-vs5DoR",
        "outputId": "676cd06a-bd6a-4aaf-8795-450ac88e3fbb"
      },
      "source": [
        "#@title 電界による電荷の移動\n",
        "%%html\n",
        "<iframe width=\"560\" height=\"315\" src=\"https://www.youtube-nocookie.com/embed/XN7MHDu9tO0\" frameborder=\"0\" allow=\"accelerometer; autoplay; clipboard-write; encrypted-media; gyroscope; picture-in-picture\" allowfullscreen></iframe>"
      ],
      "execution_count": 3,
      "outputs": [
        {
          "output_type": "display_data",
          "data": {
            "text/html": [
              "<iframe width=\"560\" height=\"315\" src=\"https://www.youtube-nocookie.com/embed/XN7MHDu9tO0\" frameborder=\"0\" allow=\"accelerometer; autoplay; clipboard-write; encrypted-media; gyroscope; picture-in-picture\" allowfullscreen></iframe>"
            ],
            "text/plain": [
              "<IPython.core.display.HTML object>"
            ]
          },
          "metadata": {
            "tags": []
          }
        }
      ]
    },
    {
      "cell_type": "markdown",
      "metadata": {
        "id": "SvvSFzxc6oiD"
      },
      "source": [
        "[静電誘導と電場(電界)](http://physics7.starfree.jp/phy/ele/denba-seiden-yuudou-m/index.html)\n",
        "\n",
        "---\n",
        "出典 [中村加津雄 氏](http://physics7.starfree.jp/)"
      ]
    },
    {
      "cell_type": "code",
      "metadata": {
        "colab": {
          "base_uri": "https://localhost:8080/",
          "height": 336
        },
        "cellView": "form",
        "id": "pvxAR4m45FCX",
        "outputId": "d0bd9ebf-4278-4970-c1e0-3881e28f87bb"
      },
      "source": [
        "#@title 静電誘導による箔検電器の実験\n",
        "%%html\n",
        "<iframe width=\"560\" height=\"315\" src=\"https://www.youtube-nocookie.com/embed/kneBXlsyfGQ\" frameborder=\"0\" allow=\"accelerometer; autoplay; clipboard-write; encrypted-media; gyroscope; picture-in-picture\" allowfullscreen></iframe>"
      ],
      "execution_count": 4,
      "outputs": [
        {
          "output_type": "display_data",
          "data": {
            "text/html": [
              "<iframe width=\"560\" height=\"315\" src=\"https://www.youtube-nocookie.com/embed/kneBXlsyfGQ\" frameborder=\"0\" allow=\"accelerometer; autoplay; clipboard-write; encrypted-media; gyroscope; picture-in-picture\" allowfullscreen></iframe>"
            ],
            "text/plain": [
              "<IPython.core.display.HTML object>"
            ]
          },
          "metadata": {
            "tags": []
          }
        }
      ]
    },
    {
      "cell_type": "markdown",
      "metadata": {
        "id": "VdH8OiWl6mCd"
      },
      "source": [
        "> Q. 教科書 下巻 p65 図4.23 の (b) で、静電誘導により生じた導体内の電解によって、外部電界の等電位面が変形していることを確認して下さい。"
      ]
    }
  ]
}