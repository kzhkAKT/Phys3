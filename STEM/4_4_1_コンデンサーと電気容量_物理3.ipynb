{
  "nbformat": 4,
  "nbformat_minor": 0,
  "metadata": {
    "colab": {
      "name": "4_4_1_コンデンサーと電気容量_物理3.ipynb",
      "provenance": [],
      "collapsed_sections": [],
      "authorship_tag": "ABX9TyN/Yjse7WOqhghRVWi/lNx5",
      "include_colab_link": true
    },
    "kernelspec": {
      "name": "python3",
      "display_name": "Python 3"
    }
  },
  "cells": [
    {
      "cell_type": "markdown",
      "metadata": {
        "id": "view-in-github",
        "colab_type": "text"
      },
      "source": [
        "<a href=\"https://colab.research.google.com/github/kzhkAKT/Physics3/blob/draft/STEM/4_4_1_%E3%82%B3%E3%83%B3%E3%83%87%E3%83%B3%E3%82%B5%E3%83%BC%E3%81%A8%E9%9B%BB%E6%B0%97%E5%AE%B9%E9%87%8F_%E7%89%A9%E7%90%863.ipynb\" target=\"_parent\"><img src=\"https://colab.research.google.com/assets/colab-badge.svg\" alt=\"Open In Colab\"/></a>"
      ]
    },
    {
      "cell_type": "markdown",
      "metadata": {
        "id": "A5xsDzDKfE95"
      },
      "source": [
        "# コンデンサー"
      ]
    },
    {
      "cell_type": "markdown",
      "metadata": {
        "id": "_uOPXsg0fI2n"
      },
      "source": [
        "## コンデンサーと電気容量"
      ]
    },
    {
      "cell_type": "code",
      "metadata": {
        "colab": {
          "base_uri": "https://localhost:8080/",
          "height": 475
        },
        "cellView": "form",
        "id": "RnFTI8ZMe9hC",
        "outputId": "fbb0619f-ceba-461a-a5c8-a4642386df64"
      },
      "source": [
        "#@title コンデンサー/Capacitor の動作確認\n",
        "%%html\n",
        "<iframe src=\"https://phet.colorado.edu/sims/html/capacitor-lab-basics/latest/capacitor-lab-basics_en.html\" width=\"600\" height=\"450\" scrolling=\"no\" allowfullscreen></iframe>"
      ],
      "execution_count": null,
      "outputs": [
        {
          "output_type": "display_data",
          "data": {
            "text/html": [
              "<iframe src=\"https://phet.colorado.edu/sims/html/capacitor-lab-basics/latest/capacitor-lab-basics_en.html\" width=\"600\" height=\"450\" scrolling=\"no\" allowfullscreen></iframe>"
            ],
            "text/plain": [
              "<IPython.core.display.HTML object>"
            ]
          },
          "metadata": {
            "tags": []
          }
        }
      ]
    },
    {
      "cell_type": "markdown",
      "metadata": {
        "id": "PF7KumPmgB6y"
      },
      "source": [
        "- コンデンサー\n",
        "  - 平行板コンデンサー\n",
        "    - (正の/負の)極版\n",
        "    - 充電/放電\n",
        "      - 電荷を蓄える/電荷を放出する\n",
        "\n",
        "---\n",
        "これから考える、平行板コンデンサーの極版間隔は小さく、  \n",
        "電気力線の極板外への漏れは無視できるものとします。"
      ]
    },
    {
      "cell_type": "markdown",
      "metadata": {
        "id": "5SFzXaleo4cc"
      },
      "source": [
        "![https://ja.wikipedia.org/wiki/%E3%82%B3%E3%83%B3%E3%83%87%E3%83%B3%E3%82%B5](https://upload.wikimedia.org/wikipedia/commons/thumb/b/b9/Capacitors_%287189597135%29.jpg/320px-Capacitors_%287189597135%29.jpg)"
      ]
    },
    {
      "cell_type": "markdown",
      "metadata": {
        "id": "XQhmNFykjBSo"
      },
      "source": [
        "正負の極版が、それぞれ $\\pm Q$ の電荷に帯電したとき\n",
        "> 「コンデンサーに電荷 $Q$ が蓄えられた」\n"
      ]
    },
    {
      "cell_type": "markdown",
      "metadata": {
        "id": "SYCGnO6ljofJ"
      },
      "source": [
        "$\\require{cancel}$\n",
        "シミュレーションで確かめたように\n",
        ">> コンデンサーに蓄えられた電荷 $Q$ は 極板間の電位差 $V$ に比例する\n",
        "\n",
        "\\begin{align}\n",
        "Q &\\propto V\\\\[2mm]\n",
        "Q &= C V \n",
        "\\end{align}\n",
        "\n",
        "- 比例係数 $C$:: 電気容量\n",
        "  - 電気容量 $C$ の単位: ${\\rm [C/V] \\to [F] }$ (ファラッド)\n",
        "    - ${\\rm [F] = [C/V] = \\dfrac{C}{1 V}}$\n",
        "\n",
        "    "
      ]
    },
    {
      "cell_type": "markdown",
      "metadata": {
        "id": "vL-PTKTupmG1"
      },
      "source": [
        "### 電気容量と平行板コンデンサの寸法\n",
        "\n",
        "![](https://upload.wikimedia.org/wikipedia/commons/b/b5/Capacitor.png)\n",
        "\n",
        "---\n",
        "\n",
        "以下では極板の面積 $A$ を $S$ と置き換えて下さい."
      ]
    },
    {
      "cell_type": "markdown",
      "metadata": {
        "id": "m7QgoVU3pzRT"
      },
      "source": [
        "教科書 p59 の例題4.6 より、電荷 $Q=(\\sigma S)$ が蓄えられた極板間[面積$S$]の(一様)電界 $E$ は、  \n",
        "極板の電荷(面)密度 $\\sigma$ とすると、ガウスの法則より\n",
        "\\begin{align}\n",
        "\bN = E S &= \\dfrac{Q}{\\epsilon_0} \\\\[1mm]\n",
        "\\end{align}\n",
        "\n",
        "$\\require{cancel}$\n",
        "\\begin{align}\n",
        "E S &= \\dfrac{Q}{\\epsilon_0} = \\dfrac{\\sigma S}{\\epsilon_0}\\\\[2mm]\n",
        "E &= \\dfrac{\\sigma}{\\epsilon_0} = 4 \\pi k \\sigma\n",
        "\\end{align}\n",
        "\n",
        "---\n",
        "ここで $\\epsilon_0$ は **真空の誘電率**."
      ]
    },
    {
      "cell_type": "markdown",
      "metadata": {
        "id": "YiZXoyYesRYN"
      },
      "source": [
        "極板の寸法\n",
        "- 極板の面積 $S$\n",
        "- 極板間の距離 $d$\n",
        "\n",
        "を用いると，極板の電荷(面)密度 $\\sigma$ と極板間[面積$S$]の(一様)電界 $E$ は\n",
        "\n",
        "\\begin{align}\n",
        "\\sigma &= \\dfrac{Q}{S}\\\\[1mm]\n",
        "E &= \\dfrac{V}{d}\n",
        "\\end{align}"
      ]
    },
    {
      "cell_type": "markdown",
      "metadata": {
        "id": "9X8OWy-84DZr"
      },
      "source": [
        "これらを一様電界に代入すると\n",
        "\\begin{align}\n",
        "E &= \\dfrac{\\sigma}{\\epsilon_0}\\\\\n",
        "\\dfrac{V}{d} =E \n",
        "&= \\dfrac{\\sigma}{\\epsilon_0} = \\dfrac{\\dfrac{Q}{S}}{\\epsilon_0}\\\\\n",
        "\\dfrac{V}{d} & = \\dfrac{Q}{S}\\dfrac{1}{\\epsilon_0}\n",
        "\\end{align}\n",
        "\n",
        "さらに電荷 $Q$ を中心に整理すると\n",
        "\\begin{align}\n",
        "Q &= \\left( \\epsilon_0 \\dfrac{S}{d}\\right) V\n",
        "\\end{align}\n",
        "これを電気容量 $C$ の定義 $Q=CV$と比較すると\n",
        "\\begin{align}\n",
        "C &= \\epsilon_0 \\dfrac{S}{d}\n",
        "\\end{align}\n",
        "\n",
        "\n"
      ]
    },
    {
      "cell_type": "markdown",
      "metadata": {
        "id": "4kVQ86i85XyY"
      },
      "source": [
        "なお、**真空の誘電率** の値は\n",
        "\n",
        "> \\begin{align}\n",
        "\\epsilon_0 = 8.85 \\times 10^{-12} {\\rm [F/m]}\n",
        "\\end{align}"
      ]
    }
  ]
}