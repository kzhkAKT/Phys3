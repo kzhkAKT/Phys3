{
  "nbformat": 4,
  "nbformat_minor": 0,
  "metadata": {
    "colab": {
      "name": "4_4_3_コンデンサーの接続_物理3.ipynb",
      "provenance": [],
      "toc_visible": true,
      "authorship_tag": "ABX9TyP4DbvnMhiZYtzNqKQFNQng",
      "include_colab_link": true
    },
    "kernelspec": {
      "name": "python3",
      "display_name": "Python 3"
    }
  },
  "cells": [
    {
      "cell_type": "markdown",
      "metadata": {
        "id": "view-in-github",
        "colab_type": "text"
      },
      "source": [
        "<a href=\"https://colab.research.google.com/github/kzhkAKT/Physics3/blob/draft/STEM/4_4_3_%E3%82%B3%E3%83%B3%E3%83%87%E3%83%B3%E3%82%B5%E3%83%BC%E3%81%AE%E6%8E%A5%E7%B6%9A_%E7%89%A9%E7%90%863.ipynb\" target=\"_parent\"><img src=\"https://colab.research.google.com/assets/colab-badge.svg\" alt=\"Open In Colab\"/></a>"
      ]
    },
    {
      "cell_type": "markdown",
      "metadata": {
        "id": "A5xsDzDKfE95"
      },
      "source": [
        "# コンデンサー"
      ]
    },
    {
      "cell_type": "markdown",
      "metadata": {
        "id": "zcco8f7iciFF"
      },
      "source": [
        "## コンデンサーの接続\n",
        "\n",
        "複数の(平行板)コンデンサーの接続し、  \n",
        "一つのコンデンサーとみなしたとき  \n",
        "合成(電気)容量の基礎を学びます。\n",
        "\n"
      ]
    },
    {
      "cell_type": "markdown",
      "metadata": {
        "id": "JtHrARLTdisB"
      },
      "source": [
        "回路に加わる電圧 $V$ が一定ならば\n",
        "- 向かい合った(平行板)コンデンサーには、正負は異なるが、同量の電荷が蓄えられる\n",
        "  - この講義では、自由電子の移動が完全に済んだ状態を考えます。\n",
        "- 電圧は、低い電位(一般には負極)に対して、電位 $V$ だけ高くなる\n",
        "  - 電池、抵抗、コンデンサーなどがない限り、同じ導線上は同じ電位/電圧\n",
        "- 電荷保存の法則を意識する\n",
        "  - 回路が開かれる(offになる)ときは、荷電粒子の供給源が無くなります。"
      ]
    },
    {
      "cell_type": "code",
      "metadata": {
        "cellView": "form",
        "id": "JCdVETX79y4Y",
        "outputId": "11b0a81a-81e9-45bc-b9c1-221246a04a09",
        "colab": {
          "base_uri": "https://localhost:8080/",
          "height": 475
        }
      },
      "source": [
        "#@title コンデンサの基本動作の確認\n",
        "%%html\n",
        "<iframe src=\"https://phet.colorado.edu/sims/html/capacitor-lab-basics/latest/capacitor-lab-basics_en.html\" width=\"600\" height=\"450\" scrolling=\"no\" allowfullscreen></iframe>"
      ],
      "execution_count": 3,
      "outputs": [
        {
          "output_type": "display_data",
          "data": {
            "text/html": [
              "<iframe src=\"https://phet.colorado.edu/sims/html/capacitor-lab-basics/latest/capacitor-lab-basics_en.html\" width=\"600\" height=\"450\" scrolling=\"no\" allowfullscreen></iframe>"
            ],
            "text/plain": [
              "<IPython.core.display.HTML object>"
            ]
          },
          "metadata": {
            "tags": []
          }
        }
      ]
    },
    {
      "cell_type": "markdown",
      "metadata": {
        "id": "h4Zca_WGdlGL"
      },
      "source": [
        "### 並列接続"
      ]
    },
    {
      "cell_type": "markdown",
      "metadata": {
        "id": "XQuoJ-3G9WQ6"
      },
      "source": [
        "ここでは、電池の電圧は $V$ とします。"
      ]
    },
    {
      "cell_type": "markdown",
      "metadata": {
        "id": "yVXo3PN3eNl8"
      },
      "source": [
        "![](https://www.allaboutcircuits.com/uploads/articles/capacitors-connected-in-parallel.png)\n",
        "---\n",
        "出典: [All About Circuits](https://www.allaboutcircuits.com/textbook/direct-current/chpt-13/series-and-parallel-capacitors/)"
      ]
    },
    {
      "cell_type": "markdown",
      "metadata": {
        "id": "PkKVVa7Wfgot"
      },
      "source": [
        "電池の電圧 $V$ は、並列コンデンサーでは等電位であることを利用します。\n",
        "\n",
        "それぞれのコンデンサー二蓄えられる電荷を\n",
        "- $C_1;\\quad Q_1$\n",
        "- $C_2;\\quad Q_2$\n",
        "\n",
        "とします。\n",
        "\n",
        "電気容量と定義を利用して整理すると\n",
        "\\begin{align}\n",
        "&\\begin{cases}\n",
        "Q_1 &= C_1 V\\\\\n",
        "Q_2 &= C_2 V\n",
        "\\end{cases}\\\\\n",
        "Q &= C_{\\rm total;P} V\n",
        "\\end{align}\n",
        "\n",
        "左右の図を比較し、電荷保存則を考えれば\n",
        "\\begin{align}\n",
        "Q &=Q_1 + Q_2\n",
        "\\end{align}\n",
        "これに最初の考察の式を代入すると\n",
        "\\begin{align}\n",
        "C_{\\rm total;P}V  &=C_1 V + C_2 V = \\left( C_1 + C+2 \\right)V\\\\[2mm]\n",
        "C_{\\rm total;P} &= C_1 + C_2\n",
        "\\end{align}\n"
      ]
    },
    {
      "cell_type": "markdown",
      "metadata": {
        "id": "f6vxayWbgrXT"
      },
      "source": [
        "### 直列接続"
      ]
    },
    {
      "cell_type": "markdown",
      "metadata": {
        "id": "fegMv0LK9eeV"
      },
      "source": [
        "ここでは、電池の電圧は $V$ とします。"
      ]
    },
    {
      "cell_type": "markdown",
      "metadata": {
        "id": "YZpWkRwSgzhD"
      },
      "source": [
        "![](https://www.allaboutcircuits.com/uploads/articles/capacitors-connected-in-series.png)\n",
        "---\n",
        "出典: [All About Circuits](https://www.allaboutcircuits.com/textbook/direct-current/chpt-13/series-and-parallel-capacitors/)"
      ]
    },
    {
      "cell_type": "markdown",
      "metadata": {
        "id": "vL7mKQ9qhdNq"
      },
      "source": [
        "$\\require{cancel}$\n",
        "電池の電圧 $V$ は、直列ではコンデンサーを通ることに下がるので\n",
        "- $C_1$ の区間を $V_1$\n",
        "- $C_2$ の区間を $V_2$\n",
        "とします。もちろん\n",
        "\\begin{align}\n",
        "V &= V_1 + V_2\n",
        "\\end{align}\n",
        "\n",
        "$C_1$\bの電位の高い方に電荷 $Q$ が蓄えられたとすると\n",
        "- $C_1$ と $C_2$ のあいだでは、静電誘導が起こり\n",
        "  - $C_2$の電位の高い方に電荷 $Q$ が蓄えられます\n",
        "\n",
        "これらを整理すると\n",
        "\\begin{align}\n",
        "Q &= C_1 V_1 = C_2 V_2\\\\[1mm]\n",
        "&= C_{\\rm total;s} V\n",
        "\\end{align}\n",
        "\n",
        "これを電池の電圧 $V$ の関係式に入れて整理すると\n",
        "\\begin{align}\n",
        "V &= V_1 + V_2\\\\[1mm]\n",
        "\\dfrac{Q}{C_{\\rm total;s}}\n",
        "&= \\dfrac{Q}{C_1} + \\dfrac{Q}{C_2}\\\\[2mm]\n",
        "\\dfrac{1}{C_{\\rm total;s}}\n",
        "&= \\dfrac{1}{C_1} + \\dfrac{1}{C_2}\n",
        "\\end{align}"
      ]
    },
    {
      "cell_type": "markdown",
      "metadata": {
        "id": "DRyrIobnkIBn"
      },
      "source": [
        "> Q. 教科書 p72,73 の例題4.11,12 に取り組んで下さい。"
      ]
    }
  ]
}