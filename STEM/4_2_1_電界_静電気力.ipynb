{
  "nbformat": 4,
  "nbformat_minor": 0,
  "metadata": {
    "colab": {
      "name": "4_2_1_電界_静電気力.ipynb",
      "provenance": [],
      "toc_visible": true,
      "authorship_tag": "ABX9TyPAxUJgAmz+Gih5K9GIPeNg",
      "include_colab_link": true
    },
    "kernelspec": {
      "name": "python3",
      "display_name": "Python 3"
    }
  },
  "cells": [
    {
      "cell_type": "markdown",
      "metadata": {
        "id": "view-in-github",
        "colab_type": "text"
      },
      "source": [
        "<a href=\"https://colab.research.google.com/github/kzhkAKT/Physics3/blob/draft/STEM/4_2_1_%E9%9B%BB%E7%95%8C_%E9%9D%99%E9%9B%BB%E6%B0%97%E5%8A%9B.ipynb\" target=\"_parent\"><img src=\"https://colab.research.google.com/assets/colab-badge.svg\" alt=\"Open In Colab\"/></a>"
      ]
    },
    {
      "cell_type": "markdown",
      "metadata": {
        "id": "J0GToMRgLCsM"
      },
      "source": [
        "# 静電気力"
      ]
    },
    {
      "cell_type": "markdown",
      "metadata": {
        "id": "hWdeaBpiLHVx"
      },
      "source": [
        "## 電界とガウスの法則"
      ]
    },
    {
      "cell_type": "markdown",
      "metadata": {
        "id": "z_PZVxtyQbNL"
      },
      "source": [
        "電界(工学系)\b|電場(理学系) ~ [Electric field](https://en.wikipedia.org/wiki/Electric_field)"
      ]
    },
    {
      "cell_type": "markdown",
      "metadata": {
        "id": "72iMv7-RTMWc"
      },
      "source": [
        "### 場(Field)の概念"
      ]
    },
    {
      "cell_type": "code",
      "metadata": {
        "colab": {
          "base_uri": "https://localhost:8080/",
          "height": 475
        },
        "cellView": "form",
        "id": "GFQIzK2ALfsb",
        "outputId": "6ec59e45-2cea-4f58-9854-f4184fed77c9"
      },
      "source": [
        "#@title 電界シミュレーション\n",
        "\n",
        "%%html\n",
        "<iframe src=\"https://phet.colorado.edu/sims/html/charges-and-fields/latest/charges-and-fields_en.html\" width=\"600\" height=\"450\" scrolling=\"no\" allowfullscreen></iframe>"
      ],
      "execution_count": 1,
      "outputs": [
        {
          "output_type": "display_data",
          "data": {
            "text/html": [
              "<iframe src=\"https://phet.colorado.edu/sims/html/charges-and-fields/latest/charges-and-fields_en.html\" width=\"600\" height=\"450\" scrolling=\"no\" allowfullscreen></iframe>"
            ],
            "text/plain": [
              "<IPython.core.display.HTML object>"
            ]
          },
          "metadata": {
            "tags": []
          }
        }
      ]
    },
    {
      "cell_type": "code",
      "metadata": {
        "colab": {
          "base_uri": "https://localhost:8080/",
          "height": 336
        },
        "cellView": "form",
        "id": "YCxdIzhSLikk",
        "outputId": "a1a7df7e-9c82-410e-ab34-1febfe6b12c0"
      },
      "source": [
        "#@title アナロジー: 水の湧き出し (qQ>0)\n",
        "%%html\n",
        "<iframe width=\"560\" height=\"315\" src=\"https://www.youtube-nocookie.com/embed/YtSy1yUkDE0\" frameborder=\"0\" allow=\"accelerometer; autoplay; clipboard-write; encrypted-media; gyroscope; picture-in-picture\" allowfullscreen></iframe>"
      ],
      "execution_count": 8,
      "outputs": [
        {
          "output_type": "display_data",
          "data": {
            "text/html": [
              "<iframe width=\"560\" height=\"315\" src=\"https://www.youtube-nocookie.com/embed/YtSy1yUkDE0\" frameborder=\"0\" allow=\"accelerometer; autoplay; clipboard-write; encrypted-media; gyroscope; picture-in-picture\" allowfullscreen></iframe>"
            ],
            "text/plain": [
              "<IPython.core.display.HTML object>"
            ]
          },
          "metadata": {
            "tags": []
          }
        }
      ]
    },
    {
      "cell_type": "code",
      "metadata": {
        "colab": {
          "base_uri": "https://localhost:8080/",
          "height": 336
        },
        "cellView": "form",
        "id": "AtMLj9nbNFSW",
        "outputId": "b0be2549-a721-47fc-c1ea-baf8fa388d0e"
      },
      "source": [
        "#@title アナロジー: 水の吸い込み (qQ<0)\n",
        "%%html\n",
        "<iframe width=\"560\" height=\"315\" src=\"https://www.youtube-nocookie.com/embed/m4yy0U_fHNk\" frameborder=\"0\" allow=\"accelerometer; autoplay; clipboard-write; encrypted-media; gyroscope; picture-in-picture\" allowfullscreen></iframe>"
      ],
      "execution_count": 9,
      "outputs": [
        {
          "output_type": "display_data",
          "data": {
            "text/html": [
              "<iframe width=\"560\" height=\"315\" src=\"https://www.youtube-nocookie.com/embed/m4yy0U_fHNk\" frameborder=\"0\" allow=\"accelerometer; autoplay; clipboard-write; encrypted-media; gyroscope; picture-in-picture\" allowfullscreen></iframe>"
            ],
            "text/plain": [
              "<IPython.core.display.HTML object>"
            ]
          },
          "metadata": {
            "tags": []
          }
        }
      ]
    },
    {
      "cell_type": "code",
      "metadata": {
        "colab": {
          "base_uri": "https://localhost:8080/",
          "height": 336
        },
        "cellView": "form",
        "id": "Fn3iqZi2MPgi",
        "outputId": "76fa38d0-4f9d-4cd6-f8d6-a42618e23de1"
      },
      "source": [
        "#@title 番外編: コリオリの力\n",
        "%%html\n",
        "<iframe width=\"560\" height=\"315\" src=\"https://www.youtube-nocookie.com/embed/cLUXALnzSZI?start=132\" frameborder=\"0\" allow=\"accelerometer; autoplay; clipboard-write; encrypted-media; gyroscope; picture-in-picture\" allowfullscreen></iframe>"
      ],
      "execution_count": 4,
      "outputs": [
        {
          "output_type": "display_data",
          "data": {
            "text/html": [
              "<iframe width=\"560\" height=\"315\" src=\"https://www.youtube-nocookie.com/embed/cLUXALnzSZI?start=132\" frameborder=\"0\" allow=\"accelerometer; autoplay; clipboard-write; encrypted-media; gyroscope; picture-in-picture\" allowfullscreen></iframe>"
            ],
            "text/plain": [
              "<IPython.core.display.HTML object>"
            ]
          },
          "metadata": {
            "tags": []
          }
        }
      ]
    },
    {
      "cell_type": "markdown",
      "metadata": {
        "id": "ce4LQcysTAZb"
      },
      "source": [
        "### クーロンの法則から電界へ"
      ]
    },
    {
      "cell_type": "code",
      "metadata": {
        "colab": {
          "base_uri": "https://localhost:8080/",
          "height": 475
        },
        "cellView": "form",
        "id": "gvHCyvIkSyjq",
        "outputId": "b5d77d16-ab83-49f9-a502-c1f08c9074e7"
      },
      "source": [
        "#@title 試験電荷(+1C)による力の表現\n",
        "\n",
        "%%html\n",
        "<iframe src=\"https://phet.colorado.edu/sims/html/charges-and-fields/latest/charges-and-fields_en.html\" width=\"600\" height=\"450\" scrolling=\"no\" allowfullscreen></iframe>"
      ],
      "execution_count": 12,
      "outputs": [
        {
          "output_type": "display_data",
          "data": {
            "text/html": [
              "<iframe src=\"https://phet.colorado.edu/sims/html/charges-and-fields/latest/charges-and-fields_en.html\" width=\"600\" height=\"450\" scrolling=\"no\" allowfullscreen></iframe>"
            ],
            "text/plain": [
              "<IPython.core.display.HTML object>"
            ]
          },
          "metadata": {
            "tags": []
          }
        }
      ]
    },
    {
      "cell_type": "markdown",
      "metadata": {
        "id": "n0ixjkRkT3W4"
      },
      "source": [
        "#### クーロンの法則\n",
        "\n",
        "\\begin{align}\n",
        "\\vec{F} \b&= k \\dfrac{qQ}{r^2}\\  \\vec{e}_{r}\\\\\n",
        "\\left| \\vec{F} \\right| = F \b&= k \\dfrac{\\left| qQ\\right|}{r^2}\\  \n",
        "\\end{align}"
      ]
    },
    {
      "cell_type": "markdown",
      "metadata": {
        "id": "cLeYEUWcUpMb"
      },
      "source": [
        "電荷 $Q$ によって, 電荷 $q$ に作用する力を調べると\n",
        "\\begin{align}\n",
        "\\vec{F}\n",
        "\b&= \bq \\left( k \\dfrac{Q}{r^2}\\  \\vec{e}_{r} \\right)\n",
        "\\end{align}\n",
        "ここで, 括弧の中を\n",
        "> 電荷 $Q$ によって作り出された場として, $\\vec{E}$\n",
        "\n",
        "とおくと\n",
        "\\begin{align}\n",
        "\\vec{F}\b &= \bq \\vec{E}\\\\\n",
        "\\vec{E} &= \\dfrac{\\vec{F}}{q}\b, \n",
        "\\qquad \\left( \\vec{E} = k \\dfrac{Q}{r^2}\\  \\vec{e}_{r} \\right)\n",
        "\\end{align}\n",
        "\n",
        "ここで現れた $\\vec{E}$ を **電界(ベクトル)** といいます.\n",
        "\n",
        "この表現から, \n",
        "- $\\vec{E}$ の単位は ${\\rm [N/C]}$\n",
        "- $\\vec{E}$ は, 単位から考える[${\\rm N/C= \\frac{N}{+ 1 C}}$]と試験電荷$({\\rm + 1 C})$に働く力\n",
        "\n",
        "と解釈することができます.\n",
        "\n"
      ]
    },
    {
      "cell_type": "markdown",
      "metadata": {
        "id": "0Hq5dOYVXtcq"
      },
      "source": [
        "ここまでをまとめると, 電荷 $Q$ によって作られる $\\vec{E}$ は\n",
        "\\begin{align}\n",
        "\\vec{E} \n",
        "&=\\begin{cases}\n",
        "\\left| \\vec{E} \\right| = E  = k \\dfrac{|Q|}{r^2} \\qquad \\text{:試験電荷(${\\rm + 1 C}$)にはたらく, 電界の強さ}\\\\[2mm]\n",
        "\\vec{e}_{r} \\qquad \\text{:試験電荷$({\\rm + 1 C})$にはたらく,電界の向き}\n",
        "\\end{cases}\n",
        "\\end{align}\n",
        "と表現できます."
      ]
    },
    {
      "cell_type": "code",
      "metadata": {
        "colab": {
          "base_uri": "https://localhost:8080/",
          "height": 475
        },
        "cellView": "form",
        "id": "j4a34m99X4pM",
        "outputId": "79d4f68c-9a7e-42d0-d382-4e5febccef86"
      },
      "source": [
        "#@title Q の正負による 電界ベクトル\n",
        "\n",
        "%%html\n",
        "<iframe src=\"https://phet.colorado.edu/sims/html/charges-and-fields/latest/charges-and-fields_en.html\" width=\"600\" height=\"450\" scrolling=\"no\" allowfullscreen></iframe>"
      ],
      "execution_count": 11,
      "outputs": [
        {
          "output_type": "display_data",
          "data": {
            "text/html": [
              "<iframe src=\"https://phet.colorado.edu/sims/html/charges-and-fields/latest/charges-and-fields_en.html\" width=\"600\" height=\"450\" scrolling=\"no\" allowfullscreen></iframe>"
            ],
            "text/plain": [
              "<IPython.core.display.HTML object>"
            ]
          },
          "metadata": {
            "tags": []
          }
        }
      ]
    },
    {
      "cell_type": "markdown",
      "metadata": {
        "id": "yJv-dRksZJ3c"
      },
      "source": [
        "試験電荷(${\\rm + 1 C}$) に働く力を電場と定義したので,   \n",
        " 複数の電荷($Q_1:\\vec{E_1}, Q_2:\\vec{E_2}, \\cdots, Q_n:\\vec{E_n}$  )によって作られる合成電場は, 力の合成を利用して次のように求めることができます.\n",
        "\\begin{align*}\n",
        "\\vec{E} &= \\dfrac{\\vec{F}}{q}\n",
        "= \\dfrac{1}{q} \\left(\\vec{F_1} + \\vec{F_2} + \\cdots + \\vec{F_n}\\right)\\\\[2mm]\n",
        "&= \\left(\\vec{E_1} + \\vec{E_2} + \\cdots + \\vec{E_n}\\right)\n",
        "\\end{align*}"
      ]
    },
    {
      "cell_type": "markdown",
      "metadata": {
        "id": "lZhvq4Tlal4r"
      },
      "source": [
        "> Q.  教科書 下巻 p55 例題4.4 に取り組んでください."
      ]
    }
  ]
}