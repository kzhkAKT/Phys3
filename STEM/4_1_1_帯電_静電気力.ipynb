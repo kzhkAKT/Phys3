{
  "nbformat": 4,
  "nbformat_minor": 0,
  "metadata": {
    "colab": {
      "name": "4_1_1_帯電_静電気力.ipynb",
      "provenance": [],
      "collapsed_sections": [],
      "authorship_tag": "ABX9TyMMa+iuzl9lOwfcBxyBB649",
      "include_colab_link": true
    },
    "kernelspec": {
      "name": "python3",
      "display_name": "Python 3"
    }
  },
  "cells": [
    {
      "cell_type": "markdown",
      "metadata": {
        "id": "view-in-github",
        "colab_type": "text"
      },
      "source": [
        "<a href=\"https://colab.research.google.com/github/kzhkAKT/Physics3/blob/draft/STEM/4_1_1_%E5%B8%AF%E9%9B%BB_%E9%9D%99%E9%9B%BB%E6%B0%97%E5%8A%9B.ipynb\" target=\"_parent\"><img src=\"https://colab.research.google.com/assets/colab-badge.svg\" alt=\"Open In Colab\"/></a>"
      ]
    },
    {
      "cell_type": "markdown",
      "metadata": {
        "id": "jQVZGRYDo2dD"
      },
      "source": [
        "# 静電気力"
      ]
    },
    {
      "cell_type": "markdown",
      "metadata": {
        "id": "QMG1avM4GgMv"
      },
      "source": [
        "## 帯電"
      ]
    },
    {
      "cell_type": "markdown",
      "metadata": {
        "id": "F0f9_uAiHJ6E"
      },
      "source": [
        "### 原子構造\n",
        "![https://en.wikipedia.org/wiki/Rutherford_model](https://upload.wikimedia.org/wikipedia/commons/5/5b/Atome_de_Rutherford.png)"
      ]
    },
    {
      "cell_type": "code",
      "metadata": {
        "colab": {
          "base_uri": "https://localhost:8080/",
          "height": 471
        },
        "cellView": "form",
        "id": "GmoFW4rUHoUO",
        "outputId": "8e339e98-d2ea-4e36-c95b-e82acf5d77fe"
      },
      "source": [
        "#@title Rutherford model\n",
        "%%html\n",
        "<iframe src=\"//commons.wikimedia.org/wiki/File:3D_anamation_of_the_Rutherford_atom.ogv?embedplayer=yes\" width=\"800\" height=\"450\" frameborder=\"0\" webkitAllowFullScreen mozallowfullscreen allowFullScreen></iframe>"
      ],
      "execution_count": null,
      "outputs": [
        {
          "output_type": "display_data",
          "data": {
            "text/html": [
              "<iframe src=\"//commons.wikimedia.org/wiki/File:3D_anamation_of_the_Rutherford_atom.ogv?embedplayer=yes\" width=\"800\" height=\"450\" frameborder=\"0\" webkitAllowFullScreen mozallowfullscreen allowFullScreen></iframe>"
            ],
            "text/plain": [
              "<IPython.core.display.HTML object>"
            ]
          },
          "metadata": {
            "tags": []
          }
        }
      ]
    },
    {
      "cell_type": "markdown",
      "source": [
        "[ラザフォード散乱](https://ja.wikipedia.org/wiki/%E3%83%A9%E3%82%B6%E3%83%95%E3%82%A9%E3%83%BC%E3%83%89%E6%95%A3%E4%B9%B1)\n",
        "\n",
        "![](https://upload.wikimedia.org/wikipedia/commons/f/f8/RutherfordScattering.png)"
      ],
      "metadata": {
        "id": "05ng0hKqXili"
      }
    },
    {
      "cell_type": "code",
      "metadata": {
        "id": "BfPtVlKvpGAh",
        "colab": {
          "base_uri": "https://localhost:8080/",
          "height": 688
        },
        "cellView": "form",
        "outputId": "c21c15ba-66cf-41d0-a3fd-4350006f0cca"
      },
      "source": [
        "#@title An illustration of the helium atom: electron and Nucleus\n",
        "%%svg\n",
        "https://upload.wikimedia.org/wikipedia/commons/2/23/Helium_atom_QM.svg"
      ],
      "execution_count": null,
      "outputs": [
        {
          "output_type": "display_data",
          "data": {
            "text/plain": [
              "<IPython.core.display.SVG object>"
            ],
            "image/svg+xml": "<svg height=\"666.95447\" id=\"svg2\" inkscape:version=\"0.44\" sodipodi:docbase=\"C:\\Documents and Settings\\Jonas\\Skrivbord\" sodipodi:docname=\"Helium_atom_QM.svg\" sodipodi:version=\"0.32\" version=\"1.0\" width=\"664.77698\" xmlns=\"http://www.w3.org/2000/svg\" xmlns:cc=\"http://web.resource.org/cc/\" xmlns:dc=\"http://purl.org/dc/elements/1.1/\" xmlns:inkscape=\"http://www.inkscape.org/namespaces/inkscape\" xmlns:rdf=\"http://www.w3.org/1999/02/22-rdf-syntax-ns#\" xmlns:sodipodi=\"http://sodipodi.sourceforge.net/DTD/sodipodi-0.dtd\" xmlns:svg=\"http://www.w3.org/2000/svg\" xmlns:xlink=\"http://www.w3.org/1999/xlink\">\n  <metadata id=\"metadata46\">\n    <rdf:RDF>\n      <cc:Work rdf:about=\"\">\n        <dc:format>image/svg+xml</dc:format>\n        <dc:type rdf:resource=\"http://purl.org/dc/dcmitype/StillImage\"/>\n      </cc:Work>\n    </rdf:RDF>\n  </metadata>\n  <sodipodi:namedview bordercolor=\"#666666\" borderopacity=\"1.0\" gridtolerance=\"10.0\" guidetolerance=\"10.0\" id=\"base\" inkscape:current-layer=\"layer1\" inkscape:cx=\"332.38849\" inkscape:cy=\"150.97969\" inkscape:pageopacity=\"0.0\" inkscape:pageshadow=\"2\" inkscape:window-height=\"594\" inkscape:window-width=\"909\" inkscape:window-x=\"102\" inkscape:window-y=\"-5\" inkscape:zoom=\"0.80151308\" objecttolerance=\"10.0\" pagecolor=\"#ffffff\"/>\n  <defs id=\"defs4\">\n    <linearGradient id=\"linearGradient13392\">\n      <stop id=\"stop13394\" offset=\"0\" style=\"stop-color:#7f2aff;stop-opacity:1\"/>\n      <stop id=\"stop13396\" offset=\"1\" style=\"stop-color:#7f2aff;stop-opacity:0\"/>\n    </linearGradient>\n    <linearGradient id=\"linearGradient12413\">\n      <stop id=\"stop12415\" offset=\"0\" style=\"stop-color:#ff0000;stop-opacity:1\"/>\n      <stop id=\"stop12417\" offset=\"1\" style=\"stop-color:#ff0000;stop-opacity:0\"/>\n    </linearGradient>\n    <linearGradient id=\"linearGradient3149\">\n      <stop id=\"stop3151\" offset=\"0\" style=\"stop-color:#ff1cff;stop-opacity:1\"/>\n      <stop id=\"stop4234\" offset=\"0.03\" style=\"stop-color:#000000;stop-opacity:1\"/>\n      <stop id=\"stop4236\" offset=\"0.19\" style=\"stop-color:#241c1c;stop-opacity:1\"/>\n      <stop id=\"stop3153\" offset=\"1\" style=\"stop-color:#241c1c;stop-opacity:0\"/>\n    </linearGradient>\n    <radialGradient cx=\"374.95667\" cy=\"545.91376\" fx=\"374.95667\" fy=\"545.91376\" gradientUnits=\"userSpaceOnUse\" id=\"radialGradient3155\" r=\"227.14285\" xlink:href=\"#linearGradient3149\"/>\n    <radialGradient cx=\"657.5\" cy=\"274.86218\" fx=\"657.5\" fy=\"274.86218\" gradientUnits=\"userSpaceOnUse\" id=\"radialGradient12419\" r=\"37.5\" xlink:href=\"#linearGradient12413\"/>\n    <radialGradient cx=\"657.5\" cy=\"274.86218\" fx=\"657.5\" fy=\"274.86218\" gradientUnits=\"userSpaceOnUse\" id=\"radialGradient12421\" r=\"37.5\" xlink:href=\"#linearGradient12413\"/>\n    <radialGradient cx=\"590\" cy=\"297.36218\" fx=\"590\" fy=\"297.36218\" gradientUnits=\"userSpaceOnUse\" id=\"radialGradient13398\" r=\"30\" xlink:href=\"#linearGradient13392\"/>\n    <radialGradient cx=\"590\" cy=\"297.36218\" fx=\"590\" fy=\"297.36218\" gradientUnits=\"userSpaceOnUse\" id=\"radialGradient13400\" r=\"30\" xlink:href=\"#linearGradient13392\"/>\n    <radialGradient cx=\"657.5\" cy=\"274.86218\" fx=\"657.5\" fy=\"274.86218\" gradientUnits=\"userSpaceOnUse\" id=\"radialGradient13408\" r=\"37.5\" xlink:href=\"#linearGradient12413\"/>\n    <radialGradient cx=\"657.5\" cy=\"274.86218\" fx=\"657.5\" fy=\"274.86218\" gradientUnits=\"userSpaceOnUse\" id=\"radialGradient13410\" r=\"37.5\" xlink:href=\"#linearGradient12413\"/>\n    <radialGradient cx=\"590\" cy=\"297.36218\" fx=\"590\" fy=\"297.36218\" gradientUnits=\"userSpaceOnUse\" id=\"radialGradient13412\" r=\"30\" xlink:href=\"#linearGradient13392\"/>\n    <radialGradient cx=\"590\" cy=\"297.36218\" fx=\"590\" fy=\"297.36218\" gradientUnits=\"userSpaceOnUse\" id=\"radialGradient13414\" r=\"30\" xlink:href=\"#linearGradient13392\"/>\n  </defs>\n  <g id=\"layer1\" transform=\"translate(-76.820312,-185.40774)\">\n    <path d=\"M 602.85715 545.2193 A 227.14285 227.14285 0 1 1  148.57144,545.2193 A 227.14285 227.14285 0 1 1  602.85715 545.2193 z\" id=\"path2168\" style=\"opacity:1;fill:url(#radialGradient3155);fill-opacity:1;stroke-width:13.19999981;stroke-linecap:butt;stroke-linejoin:round;stroke-miterlimit:4;stroke-dasharray:none\" transform=\"translate(-4.4335938e-6,1.4286007)\"/>\n    <path d=\"M 535.14287,186.6479 L 739.85713,186.6479 C 740.13414,186.6479 740.35713,186.8709 740.35713,187.1479 L 740.35713,391.86218 C 740.35713,392.13918 740.13414,392.36218 739.85713,392.36218 L 535.14287,392.36218 C 534.86586,392.36218 534.64287,392.13918 534.64287,391.86218 L 534.64287,187.1479 C 534.64287,186.8709 534.86586,186.6479 535.14287,186.6479 z \" id=\"rect5225\" style=\"fill:#241c1c;fill-opacity:1;stroke:#920000;stroke-width:2.48031497;stroke-linecap:butt;stroke-linejoin:round;stroke-miterlimit:4;stroke-opacity:1\"/>\n    <a id=\"a8146\" style=\"fill:#ff0000\" transform=\"translate(-0.5,0.6428526)\">\n      <g id=\"g6202\" style=\"fill:#ff0000;stroke:#000000;stroke-opacity:1\">\n        <path d=\"M 375.5,546.71933 L 380.34271,544.66856 L 740.46235,391.70833\" id=\"path6196\" style=\"fill:#ff0000;fill-rule:evenodd;stroke:#000000;stroke-width:1px;stroke-linecap:butt;stroke-linejoin:miter;stroke-opacity:1\"/>\n        <path d=\"M 535.5,391.71933 L 375.71429,546.6479\" id=\"path6198\" style=\"fill:#ff0000;fill-rule:evenodd;stroke:#000000;stroke-width:1px;stroke-linecap:butt;stroke-linejoin:miter;stroke-opacity:1\"/>\n        <path d=\"M 535.5,186.71933 L 375.5,546.71933\" id=\"path6200\" style=\"fill:#ff0000;fill-rule:evenodd;stroke:#000000;stroke-width:1px;stroke-linecap:butt;stroke-linejoin:miter;stroke-opacity:1\"/>\n      </g>\n    </a>\n    <g id=\"g13402\" transform=\"translate(-2.5,-0.3571426)\">\n      <path d=\"M 695 274.86218 A 37.5 37.5 0 1 1  620,274.86218 A 37.5 37.5 0 1 1  695 274.86218 z\" id=\"path10111\" style=\"opacity:1;fill:url(#radialGradient13408);fill-opacity:1;stroke:none;stroke-width:2.48031497;stroke-linecap:butt;stroke-linejoin:round;stroke-miterlimit:4;stroke-dasharray:none;stroke-opacity:1\" transform=\"translate(-16.5,-20)\"/>\n      <path d=\"M 695 274.86218 A 37.5 37.5 0 1 1  620,274.86218 A 37.5 37.5 0 1 1  695 274.86218 z\" id=\"path10117\" style=\"opacity:1;fill:url(#radialGradient13410);fill-opacity:1;stroke:none;stroke-width:2.48031497;stroke-linecap:butt;stroke-linejoin:round;stroke-miterlimit:4;stroke-dasharray:none;stroke-opacity:1\" transform=\"translate(-16.5,50)\"/>\n      <path d=\"M 620 297.36218 A 30 30 0 1 1  560,297.36218 A 30 30 0 1 1  620 297.36218 z\" id=\"path10119\" style=\"opacity:1;fill:url(#radialGradient13412);fill-opacity:1;stroke:none;stroke-width:2.48031497;stroke-linecap:butt;stroke-linejoin:round;stroke-miterlimit:4;stroke-dasharray:none;stroke-opacity:1\" transform=\"translate(15,-10)\"/>\n      <path d=\"M 620 297.36218 A 30 30 0 1 1  560,297.36218 A 30 30 0 1 1  620 297.36218 z\" id=\"path10121\" style=\"opacity:1;fill:url(#radialGradient13414);fill-opacity:1;stroke:none;stroke-width:2.48031497;stroke-linecap:butt;stroke-linejoin:round;stroke-miterlimit:4;stroke-dasharray:none;stroke-opacity:1\" transform=\"translate(85,-10)\"/>\n    </g>\n    <rect height=\"30\" id=\"rect11300\" rx=\"0.49999997\" ry=\"1.5\" style=\"opacity:1;fill:#221c24;fill-opacity:1;stroke:none;stroke-width:2.48031497;stroke-linecap:butt;stroke-linejoin:round;stroke-miterlimit:4;stroke-dasharray:none;stroke-opacity:1\" width=\"360\" x=\"80\" y=\"822.36218\"/>\n    <text id=\"text11302\" style=\"font-size:12px;font-style:normal;font-weight:normal;fill:black;fill-opacity:1;stroke:none;stroke-width:1px;stroke-linecap:butt;stroke-linejoin:miter;stroke-opacity:1;font-family:Century Gothic\" x=\"79.981125\" xml:space=\"preserve\" y=\"811.12396\"><tspan id=\"tspan11304\" style=\"font-size:36px\" x=\"79.981125\" y=\"811.12396\">1 Å = 100 pm</tspan></text>\n    <rect height=\"5\" id=\"rect11310\" rx=\"0.54166663\" ry=\"0.5\" style=\"opacity:1;fill:#eed7f4;fill-opacity:1;stroke:none;stroke-width:2.48031497;stroke-linecap:butt;stroke-linejoin:round;stroke-miterlimit:4;stroke-dasharray:none;stroke-opacity:1\" width=\"130\" x=\"540\" y=\"382.36218\"/>\n    <text id=\"text11312\" style=\"font-size:20px;font-style:normal;font-weight:normal;fill:#e5d5ff;fill-opacity:1;stroke:none;stroke-width:1px;stroke-linecap:butt;stroke-linejoin:miter;stroke-opacity:1;font-family:Century Gothic\" x=\"540\" xml:space=\"preserve\" y=\"377.36218\"><tspan id=\"tspan11314\" x=\"540\" y=\"377.36218\">1 fm</tspan></text>\n  </g>\n</svg>"
          },
          "metadata": {
            "tags": []
          }
        }
      ]
    },
    {
      "cell_type": "markdown",
      "metadata": {
        "id": "HzceFj9pIb0m"
      },
      "source": [
        "- 物質\n",
        "  - 原子\n",
        "    - 陽子: +_e_\n",
        "    - 中性子\n",
        "    - 電子: -_e_"
      ]
    },
    {
      "cell_type": "markdown",
      "metadata": {
        "id": "95JwibsiIUC_"
      },
      "source": [
        "### $e$ : 電気素量\n",
        "\n",
        "\\begin{align}\n",
        "e : {\\rm 1.602176634\\times 10^{-19} C} \\sim  {\\rm 1.60\\times 10^{-19} C}\n",
        "\\end{align}"
      ]
    },
    {
      "cell_type": "code",
      "metadata": {
        "colab": {
          "base_uri": "https://localhost:8080/",
          "height": 336
        },
        "id": "Zdp2RFQzouH4",
        "cellView": "form",
        "outputId": "b2010f27-a464-4a9b-e3d5-2b7d78b07fc0"
      },
      "source": [
        "#@title 帯電の実演\n",
        "%%html\n",
        "<iframe width=\"560\" height=\"315\" src=\"https://www.youtube-nocookie.com/embed/qsAMiWHlazE\" frameborder=\"0\" allow=\"accelerometer; autoplay; clipboard-write; encrypted-media; gyroscope; picture-in-picture\" allowfullscreen></iframe>"
      ],
      "execution_count": null,
      "outputs": [
        {
          "output_type": "display_data",
          "data": {
            "text/html": [
              "<iframe width=\"560\" height=\"315\" src=\"https://www.youtube-nocookie.com/embed/qsAMiWHlazE\" frameborder=\"0\" allow=\"accelerometer; autoplay; clipboard-write; encrypted-media; gyroscope; picture-in-picture\" allowfullscreen></iframe>"
            ],
            "text/plain": [
              "<IPython.core.display.HTML object>"
            ]
          },
          "metadata": {
            "tags": []
          }
        }
      ]
    },
    {
      "cell_type": "code",
      "metadata": {
        "colab": {
          "base_uri": "https://localhost:8080/",
          "height": 475
        },
        "cellView": "form",
        "id": "KP2YJ7CEN7fV",
        "outputId": "23b03f4b-9f42-4338-af96-5f2a0ee19cfd"
      },
      "source": [
        "#@title 摩擦による帯電\n",
        "%%html\n",
        "<iframe src=\"https://phet.colorado.edu/sims/html/balloons-and-static-electricity/latest/balloons-and-static-electricity_en.html\" width=\"600\" height=\"450\" scrolling=\"no\" allowfullscreen></iframe>"
      ],
      "execution_count": null,
      "outputs": [
        {
          "output_type": "display_data",
          "data": {
            "text/html": [
              "<iframe src=\"https://phet.colorado.edu/sims/html/balloons-and-static-electricity/latest/balloons-and-static-electricity_en.html\" width=\"600\" height=\"450\" scrolling=\"no\" allowfullscreen></iframe>"
            ],
            "text/plain": [
              "<IPython.core.display.HTML object>"
            ]
          },
          "metadata": {
            "tags": []
          }
        }
      ]
    },
    {
      "cell_type": "code",
      "metadata": {
        "cellView": "form",
        "id": "K6GVsQhJVWRE",
        "outputId": "80e29897-d3d2-4c39-e906-3cee55c3927c",
        "colab": {
          "base_uri": "https://localhost:8080/",
          "height": 475
        }
      },
      "source": [
        "#@title 冬場の静電気\n",
        "%%html\n",
        "<iframe src=\"https://phet.colorado.edu/sims/html/john-travoltage/latest/john-travoltage_en.html\" width=\"600\" height=\"450\" scrolling=\"no\" allowfullscreen></iframe>"
      ],
      "execution_count": null,
      "outputs": [
        {
          "output_type": "display_data",
          "data": {
            "text/html": [
              "<iframe src=\"https://phet.colorado.edu/sims/html/john-travoltage/latest/john-travoltage_en.html\" width=\"600\" height=\"450\" scrolling=\"no\" allowfullscreen></iframe>"
            ],
            "text/plain": [
              "<IPython.core.display.HTML object>"
            ]
          },
          "metadata": {
            "tags": []
          }
        }
      ]
    },
    {
      "cell_type": "markdown",
      "metadata": {
        "id": "ghOmLrcXVrDb"
      },
      "source": [
        "[冬になると、毎年、静電気に悩まされます。体質によって静電気が起きやすい人もいると聞きますが、防止策はないでしょうか？,東京電気管理技術者協会](http://www.eme-tokyo.or.jp/consultation/faq/answer15.php)"
      ]
    },
    {
      "cell_type": "markdown",
      "metadata": {
        "id": "4Zgo_Wn6Kq7l"
      },
      "source": [
        "### 電荷保存の法則"
      ]
    },
    {
      "cell_type": "code",
      "metadata": {
        "cellView": "form",
        "colab": {
          "base_uri": "https://localhost:8080/",
          "height": 336
        },
        "id": "TzIFIeOyLbwb",
        "outputId": "41fc5383-fb00-45aa-929a-567446651234"
      },
      "source": [
        "#@title 静電誘導における電荷保存則: 離れると元に戻ることに注目\n",
        "%%html\n",
        "<iframe width=\"560\" height=\"315\" src=\"https://www.youtube-nocookie.com/embed/kneBXlsyfGQ\" frameborder=\"0\" allow=\"accelerometer; autoplay; clipboard-write; encrypted-media; gyroscope; picture-in-picture\" allowfullscreen></iframe>"
      ],
      "execution_count": null,
      "outputs": [
        {
          "output_type": "display_data",
          "data": {
            "text/html": [
              "<iframe width=\"560\" height=\"315\" src=\"https://www.youtube-nocookie.com/embed/kneBXlsyfGQ\" frameborder=\"0\" allow=\"accelerometer; autoplay; clipboard-write; encrypted-media; gyroscope; picture-in-picture\" allowfullscreen></iframe>"
            ],
            "text/plain": [
              "<IPython.core.display.HTML object>"
            ]
          },
          "metadata": {
            "tags": []
          }
        }
      ]
    },
    {
      "cell_type": "markdown",
      "metadata": {
        "id": "d8YcyzGxKtu5"
      },
      "source": [
        "### 静電気力\n",
        "\n",
        "蓄えられた電荷間に働く力. 力で表現されるので, 単位は ${\\rm N}$ .\n",
        "\n",
        "- 斥力\n",
        "- 引力"
      ]
    }
  ]
}