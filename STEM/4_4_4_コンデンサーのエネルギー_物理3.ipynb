{
  "nbformat": 4,
  "nbformat_minor": 0,
  "metadata": {
    "colab": {
      "name": "4_4_4_コンデンサーのエネルギー_物理3.ipynb",
      "provenance": [],
      "authorship_tag": "ABX9TyO/SQx8yuf9RTzYAyNL0qLD",
      "include_colab_link": true
    },
    "kernelspec": {
      "name": "python3",
      "display_name": "Python 3"
    }
  },
  "cells": [
    {
      "cell_type": "markdown",
      "metadata": {
        "id": "view-in-github",
        "colab_type": "text"
      },
      "source": [
        "<a href=\"https://colab.research.google.com/github/kzhkAKT/Physics3/blob/draft/STEM/4_4_4_%E3%82%B3%E3%83%B3%E3%83%87%E3%83%B3%E3%82%B5%E3%83%BC%E3%81%AE%E3%82%A8%E3%83%8D%E3%83%AB%E3%82%AE%E3%83%BC_%E7%89%A9%E7%90%863.ipynb\" target=\"_parent\"><img src=\"https://colab.research.google.com/assets/colab-badge.svg\" alt=\"Open In Colab\"/></a>"
      ]
    },
    {
      "cell_type": "markdown",
      "metadata": {
        "id": "A5xsDzDKfE95"
      },
      "source": [
        "# コンデンサー"
      ]
    },
    {
      "cell_type": "markdown",
      "metadata": {
        "id": "zcco8f7iciFF"
      },
      "source": [
        "## コンデンサーのエネルギー\n"
      ]
    },
    {
      "cell_type": "code",
      "metadata": {
        "colab": {
          "base_uri": "https://localhost:8080/",
          "height": 475
        },
        "cellView": "form",
        "id": "47-JF7QFBTHa",
        "outputId": "6bbe29f8-add8-4591-ed3a-8e416197fcc8"
      },
      "source": [
        "#@title Light Bulb: 電池の電圧を 0-1.5 V ゆっくりあげると\n",
        "%%html\n",
        "<iframe src=\"https://phet.colorado.edu/sims/html/capacitor-lab-basics/latest/capacitor-lab-basics_en.html\" width=\"600\" height=\"450\" scrolling=\"no\" allowfullscreen></iframe>"
      ],
      "execution_count": null,
      "outputs": [
        {
          "output_type": "display_data",
          "data": {
            "text/html": [
              "<iframe src=\"https://phet.colorado.edu/sims/html/capacitor-lab-basics/latest/capacitor-lab-basics_en.html\" width=\"600\" height=\"450\" scrolling=\"no\" allowfullscreen></iframe>"
            ],
            "text/plain": [
              "<IPython.core.display.HTML object>"
            ]
          },
          "metadata": {
            "tags": []
          }
        }
      ]
    },
    {
      "cell_type": "markdown",
      "metadata": {
        "id": "K2hYJIBKBKFb"
      },
      "source": [
        "1. 電荷が少しずつ($\\Delta q$)増えていることがわかります。\n",
        "2. 電池に繋がった回路を、ランプの方に移動させて下さい。\n",
        "\n",
        "このことから、電極間には(電気)エネルギーが蓄えられていることが分かります。\n"
      ]
    },
    {
      "cell_type": "markdown",
      "metadata": {
        "id": "nCy7hYjZB0Am"
      },
      "source": [
        "このシミュレーションの様に、電圧を徐々に上げたときの仕事 $\\Delta W$ は\n",
        "- 少しの電荷$\\Delta q$の移動の間は、電圧はほぼ一定で $v$ とすれば\n",
        "  \\begin{align}\n",
        "  \\quad \\Delta W = \\Delta q \\ v\n",
        "  \\end{align}\n",
        "\n",
        "$\\Delta q$ 移動する前にすでに $q$ の電荷があるとするれば、\n",
        "  - その電荷 $q$ は、電気容量 $C$ を用いると\n",
        "  \\begin{align}\n",
        "  q = C\\ v\n",
        "  \\end{align}  \n",
        "\n",
        "よって\n",
        "\\begin{align}\n",
        "  \\Delta W = \\Delta q \\ v = \\dfrac{q}{C} \\Delta q  \n",
        "\\end{align}\n",
        "\n",
        "この変化を、\u0002初期状態(initial) $q=0$ から終状態(final) $q=Q$ まで  \n",
        "足し合わせたものが、コンデンサに電荷 $Q$ を蓄えるまでにした仕事となり  \n",
        "これがコンデンサ内に蓄えられた(電気)エネルギー $U$に相当する。\n",
        "\\begin{align}\n",
        "\\sum_{initial}^{final}\\Delta W \n",
        "= \\sum_{initial}^{final}\\dfrac{q}{C} \\Delta q\n",
        "\\end{align}\n",
        "\n",
        "$\\Delta q \\to 0$ にすると、これは定積分に他ならないので\n",
        "\\begin{align}\n",
        "\\sum_{initial}^{final}\\Delta W \n",
        "&= \\sum_{initial}^{final}\\dfrac{q}{C} \\Delta q\\\\[1mm]  \n",
        "W &= \\int_{q=0}^{q=Q} \\dfrac{q}{C}\\ {\\rm d}q\\\\[2mm]\n",
        "&= \\dfrac{Q^2}{2C} \\\\[1mm]\n",
        "&= \\dfrac{Q\\cdot C V}{2C}  = \\dfrac{QV}{2}\\\\[1mm]\n",
        "&=\\dfrac{(CV)^2}{2C} = \\dfrac{CV^2}{2}\\\\[1mm]\n",
        "\\end{align}\n",
        "\n",
        "ここで\b、最終できな電池の電圧は $V$ としました。"
      ]
    },
    {
      "cell_type": "markdown",
      "metadata": {
        "id": "HL3OsnEKF6Ha"
      },
      "source": [
        "これらをまとめると平行板コンデンサに蓄えられる(電気)エネルギー $U$ は\n",
        "\\begin{align}\n",
        "U &=\\dfrac{1}{2} QV= \\dfrac{Q^2}{2C} = \\dfrac{1}{2}CV^2\n",
        "\\end{align}\n",
        "となる"
      ]
    },
    {
      "cell_type": "markdown",
      "metadata": {
        "id": "DWavjvnvFXFm"
      },
      "source": [
        "> Q. 教科書 p74 図4.33(b) のグラフの面積が上式と同じ形になることを確認して下さい。"
      ]
    }
  ]
}