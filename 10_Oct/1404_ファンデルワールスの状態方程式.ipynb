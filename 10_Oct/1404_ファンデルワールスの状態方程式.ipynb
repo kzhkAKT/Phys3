{
  "nbformat": 4,
  "nbformat_minor": 0,
  "metadata": {
    "colab": {
      "name": "1404_ファンデルワールスの状態方程式.ipynb",
      "provenance": [],
      "authorship_tag": "ABX9TyOqBrE5NQTELHW0fNnOR26Q",
      "include_colab_link": true
    },
    "kernelspec": {
      "name": "python3",
      "display_name": "Python 3"
    }
  },
  "cells": [
    {
      "cell_type": "markdown",
      "metadata": {
        "id": "view-in-github",
        "colab_type": "text"
      },
      "source": [
        "<a href=\"https://colab.research.google.com/github/kzhkAKT/Physics3/blob/draft/10_Oct/1404_%E3%83%95%E3%82%A1%E3%83%B3%E3%83%87%E3%83%AB%E3%83%AF%E3%83%BC%E3%83%AB%E3%82%B9%E3%81%AE%E7%8A%B6%E6%85%8B%E6%96%B9%E7%A8%8B%E5%BC%8F.ipynb\" target=\"_parent\"><img src=\"https://colab.research.google.com/assets/colab-badge.svg\" alt=\"Open In Colab\"/></a>"
      ]
    },
    {
      "cell_type": "code",
      "metadata": {
        "id": "9Amj3g2bgo6m",
        "outputId": "19554be5-dae6-4db2-b0e7-dd60d6350735",
        "colab": {
          "base_uri": "https://localhost:8080/",
          "height": 512
        }
      },
      "source": [
        "%%svg\n",
        "https://upload.wikimedia.org/wikipedia/commons/f/f1/MaxwellEqArea.svg"
      ],
      "execution_count": 1,
      "outputs": [
        {
          "output_type": "display_data",
          "data": {
            "text/plain": [
              "<IPython.core.display.SVG object>"
            ],
            "image/svg+xml": "<svg height=\"490.68\" width=\"579.61\" xmlns=\"http://www.w3.org/2000/svg\">\n <path d=\"m404.33 285.57-.526 130.05\" fill=\"#7f7f7f\" stroke=\"#7f7f7f\" stroke-width=\"5\"/>\n <path d=\"m163.33 286.57-.527 130.05\" fill=\"#7f7f7f\" stroke=\"#7f7f7f\" stroke-width=\"5\"/>\n <path d=\"m210.98 287.64c12.67-12.04 28.81-22.79 49.624-24.284 2.393-.172 4.835-.272 7.329-.306 32.49-.438 73.94 10.49 134.5 23.783\" fill=\"#dbdb70\" opacity=\".7\"/>\n <g stroke-width=\"4.62\">\n  <path d=\"m163.33 286.57c2.904 27.85 6.423 37.57 11.788 37.33 7.38-.328 18.25-19.5 35.813-36.208\" fill=\"#70dbdb\" opacity=\".7\" stroke=\"#000\"/>\n  <g fill=\"none\">\n   <path d=\"m163.33 286.57c2.904 27.85 6.423 37.57 11.788 37.33\" stroke=\"#00f\"/>\n   <path d=\"m151.27 37.611c5.093 134.3 7.964 209.7 12.059 248.96\" stroke=\"#000\"/>\n  </g>\n </g>\n <path d=\"m93.943 17.102h15\" fill=\"#999\" stroke=\"#999\" stroke-linecap=\"square\" stroke-linejoin=\"round\" stroke-width=\".36\"/>\n <switch>\n  <text transform=\"matrix(1.0001 0 0 1 145.03 291.85)\"><tspan font-family=\"ArialMT\" font-size=\"21.83\" x=\"0\" y=\"0\">a</tspan></text>\n </switch>\n <switch>\n  <text transform=\"matrix(1.0001 0 0 1 213.45 307.6)\"><tspan font-family=\"ArialMT\" font-size=\"21.83\" x=\"0\" y=\"0\">b</tspan></text>\n </switch>\n <switch>\n  <text transform=\"matrix(1.0001 0 0 1 404.14 281.21)\"><tspan font-family=\"ArialMT\" font-size=\"21.83\" x=\"0\" y=\"0\">c</tspan></text>\n </switch>\n <switch>\n  <text transform=\"matrix(1.0001 0 0 1 167.69 345.48)\"><tspan font-family=\"ArialMT\" font-size=\"21.83\" x=\"0\" y=\"0\">d</tspan></text>\n </switch>\n <switch>\n  <text transform=\"matrix(1.0001 0 0 1 263.45 257.6)\"><tspan font-family=\"ArialMT\" font-size=\"21.83\" x=\"0\" y=\"0\">e</tspan></text>\n </switch>\n <switch>\n  <text transform=\"translate(319.12 477.95)\"><tspan font-family=\"ArialMT\" font-size=\"39.2\" x=\"0\" y=\"0\">V</tspan></text>\n </switch>\n <switch>\n  <text transform=\"translate(0 209.05)\"><tspan font-family=\"ArialMT\" font-size=\"39.2\" x=\"0\" y=\"0\">P</tspan></text>\n </switch>\n <g fill=\"#999\" stroke=\"#999\" stroke-linecap=\"square\" stroke-linejoin=\"round\" stroke-width=\".36\">\n  <path d=\"m213.94 417.11v-15\"/>\n  <path d=\"m93.943 217.11h15\"/>\n  <path d=\"m93.943 288.11h15\"/>\n  <path d=\"m333.95 417.11v-15\"/>\n  <path d=\"m453.94 417.11v-15\"/>\n  <path d=\"m573.94 417.11v-15\"/>\n </g>\n <g fill=\"none\" stroke-width=\"4.62\">\n  <path d=\"m175.12 323.9c12.7-.563 35.76-56.97 85.486-60.538 2.393-.172 4.835-.272 7.329-.306\" stroke=\"red\"/>\n  <path d=\"m267.94 263.05c32.49-.438 73.94 10.49 134.5 23.783\" stroke=\"#0f0\"/>\n  <path d=\"m402.44 286.84c40.66 8.927 89.94 18.92 150.92 27.266\" stroke=\"#000\"/>\n </g>\n <switch>\n  <text transform=\"translate(206.38 440.27)\"><tspan font-family=\"ArialMT\" font-size=\"25.2\" x=\"0\" y=\"0\">1</tspan></text>\n </switch>\n <switch>\n  <text transform=\"translate(326.59 440.27)\"><tspan font-family=\"ArialMT\" font-size=\"25.2\" x=\"0\" y=\"0\">2</tspan></text>\n </switch>\n <switch>\n  <text transform=\"translate(446.8 440.27)\"><tspan font-family=\"ArialMT\" font-size=\"25.2\" x=\"0\" y=\"0\">3</tspan></text>\n </switch>\n <switch>\n  <text transform=\"translate(565.59 440.27)\"><tspan font-family=\"ArialMT\" font-size=\"25.2\" x=\"0\" y=\"0\">4</tspan></text>\n </switch>\n <path d=\"m93.945 417.1h480\" fill=\"none\" stroke=\"#000\" stroke-linecap=\"square\" stroke-linejoin=\"round\" stroke-width=\".56\"/>\n <switch>\n  <text transform=\"translate(72.74 440.27)\"><tspan font-family=\"ArialMT\" font-size=\"25.2\" x=\"0\" y=\"0\">0</tspan></text>\n </switch>\n <switch>\n  <text font-family=\"ArialMT\" transform=\"translate(22.68 290.13)\"><tspan font-size=\"24\" x=\"0\" y=\"0\">P</tspan>\n   <tspan font-size=\"18\" x=\"16.01\" y=\"5\">V</tspan></text>\n </switch>\n <switch>\n  <text transform=\"translate(65.73 224.6)\"><tspan font-family=\"ArialMT\" font-size=\"25.2\" x=\"0\" y=\"0\">1</tspan></text>\n </switch>\n <switch>\n  <text transform=\"translate(65.73 25.2)\"><tspan font-family=\"ArialMT\" font-size=\"25.2\" x=\"0\" y=\"0\">2</tspan></text>\n </switch>\n <path d=\"m93.943 417.1v-400\" fill=\"none\" stroke=\"#000\" stroke-linecap=\"square\" stroke-linejoin=\"round\" stroke-width=\".57\"/>\n <path d=\"m160.86 288.1h245.96\" fill=\"none\" stroke=\"#999\" stroke-dasharray=\"18.46,4.62\" stroke-width=\"4.62\"/>\n <switch>\n  <text transform=\"translate(150.12 454.95)\"><tspan font-family=\"ArialMT\" font-size=\"24\" x=\"0\" y=\"0\">V</tspan></text>\n </switch>\n <switch>\n  <text transform=\"translate(166.13 459.95)\"><tspan font-family=\"ArialMT\" font-size=\"18\" x=\"0\" y=\"0\">L</tspan></text>\n </switch>\n <switch>\n  <text transform=\"translate(393.12 454.95)\"><tspan font-family=\"ArialMT\" font-size=\"24\" x=\"0\" y=\"0\">V</tspan></text>\n </switch>\n <switch>\n  <text transform=\"translate(409.13 459.95)\"><tspan font-family=\"ArialMT\" font-size=\"18\" x=\"0\" y=\"0\">G</tspan></text>\n </switch>\n</svg>"
          },
          "metadata": {
            "tags": []
          }
        }
      ]
    },
    {
      "cell_type": "markdown",
      "metadata": {
        "id": "xVnsVvg2hWWk"
      },
      "source": [
        "\\begin{align*}\n",
        "pV &= nRT\\\\\n",
        "p &= \\dfrac{nRT}{V}\\\\\n",
        "&\\begin{cases}\n",
        "V &\\to V - n  b\\\\\n",
        "p &\\to p' - a \\dfrac{n}{V} \\dfrac{n}{V}\\\\\n",
        "\\end{cases}\\\\\n",
        "p & = \\dfrac{nRT}{V-nb} - a \\dfrac{n^2}{V^2}\n",
        "\\end{align*}\n",
        "\n",
        "\\begin{align*}\n",
        "\\left( p + a \\dfrac{n^2}{V^2} \\right) \\left( V - nb\\right)& = nRT\n",
        "\\end{align*}"
      ]
    },
    {
      "cell_type": "markdown",
      "metadata": {
        "id": "7XyQEqsFhKLB"
      },
      "source": [
        "![](https://upload.wikimedia.org/wikipedia/commons/e/e2/Van_der_Waals_Isotherms.PNG)"
      ]
    }
  ]
}